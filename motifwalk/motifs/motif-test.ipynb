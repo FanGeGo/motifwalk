{
 "cells": [
  {
   "cell_type": "code",
   "execution_count": 1,
   "metadata": {},
   "outputs": [
    {
     "name": "stderr",
     "output_type": "stream",
     "text": [
      "/home/gear/anaconda3/envs/network/lib/python3.6/site-packages/graph_tool/draw/cairo_draw.py:1480: RuntimeWarning: Error importing Gtk module: No module named 'gi'; GTK+ drawing will not work.\n",
      "  warnings.warn(msg, RuntimeWarning)\n"
     ]
    }
   ],
   "source": [
    "import graph_tool as gt\n",
    "from graph_tool.all import *\n",
    "import motifwalk as mw"
   ]
  },
  {
   "cell_type": "code",
   "execution_count": 8,
   "metadata": {},
   "outputs": [],
   "source": [
    "from motifwalk import utils as u"
   ]
  },
  {
   "cell_type": "code",
   "execution_count": 12,
   "metadata": {},
   "outputs": [],
   "source": [
    "from motifwalk.motifs import Motif"
   ]
  },
  {
   "cell_type": "code",
   "execution_count": 13,
   "metadata": {
    "collapsed": true
   },
   "outputs": [],
   "source": [
    "from motifwalk.motifs import *"
   ]
  },
  {
   "cell_type": "code",
   "execution_count": 14,
   "metadata": {},
   "outputs": [],
   "source": [
    "from motifwalk.motifs import analysis"
   ]
  },
  {
   "cell_type": "code",
   "execution_count": null,
   "metadata": {
    "collapsed": true
   },
   "outputs": [],
   "source": [
    "analysis.count_motif()"
   ]
  },
  {
   "cell_type": "code",
   "execution_count": 144,
   "metadata": {},
   "outputs": [
    {
     "ename": "TypeError",
     "evalue": "'Graph' object is not callable",
     "output_type": "error",
     "traceback": [
      "\u001b[0;31m---------------------------------------------------------------------------\u001b[0m",
      "\u001b[0;31mTypeError\u001b[0m                                 Traceback (most recent call last)",
      "\u001b[0;32m<ipython-input-144-fb7c023aa771>\u001b[0m in \u001b[0;36m<module>\u001b[0;34m()\u001b[0m\n\u001b[1;32m      1\u001b[0m \u001b[0mg\u001b[0m \u001b[0;34m=\u001b[0m \u001b[0mrandom_graph\u001b[0m\u001b[0;34m(\u001b[0m\u001b[0;36m1000\u001b[0m\u001b[0;34m,\u001b[0m \u001b[0;32mlambda\u001b[0m\u001b[0;34m:\u001b[0m \u001b[0;34m(\u001b[0m\u001b[0;36m5\u001b[0m\u001b[0;34m,\u001b[0m\u001b[0;36m5\u001b[0m\u001b[0;34m)\u001b[0m\u001b[0;34m)\u001b[0m\u001b[0;34m\u001b[0m\u001b[0m\n\u001b[0;32m----> 2\u001b[0;31m \u001b[0mresult\u001b[0m \u001b[0;34m=\u001b[0m \u001b[0mmotifs\u001b[0m\u001b[0;34m(\u001b[0m\u001b[0mg\u001b[0m\u001b[0;34m,\u001b[0m \u001b[0mm\u001b[0m\u001b[0;34m.\u001b[0m\u001b[0mnum_vertices\u001b[0m\u001b[0;34m(\u001b[0m\u001b[0;34m)\u001b[0m\u001b[0;34m,\u001b[0m \u001b[0mmotif_list\u001b[0m\u001b[0;34m=\u001b[0m\u001b[0;34m[\u001b[0m\u001b[0mm\u001b[0m\u001b[0;34m]\u001b[0m\u001b[0;34m,\u001b[0m \u001b[0mreturn_maps\u001b[0m\u001b[0;34m=\u001b[0m\u001b[0;32mTrue\u001b[0m\u001b[0;34m)\u001b[0m\u001b[0;34m\u001b[0m\u001b[0m\n\u001b[0m",
      "\u001b[0;31mTypeError\u001b[0m: 'Graph' object is not callable"
     ]
    }
   ],
   "source": [
    "g = random_graph(1000, lambda: (5,5))\n",
    "result = motifs(g, m.num_vertices(), motif_list=[m], return_maps=True)"
   ]
  },
  {
   "cell_type": "code",
   "execution_count": 12,
   "metadata": {
    "collapsed": true
   },
   "outputs": [],
   "source": [
    "mo, count, vmap = result"
   ]
  },
  {
   "cell_type": "code",
   "execution_count": 15,
   "metadata": {},
   "outputs": [
    {
     "data": {
      "text/plain": [
       "72"
      ]
     },
     "execution_count": 15,
     "metadata": {},
     "output_type": "execute_result"
    }
   ],
   "source": [
    "len(vmap[0])"
   ]
  },
  {
   "cell_type": "code",
   "execution_count": 25,
   "metadata": {
    "collapsed": true
   },
   "outputs": [],
   "source": [
    "p = vmap[0][15]"
   ]
  },
  {
   "cell_type": "code",
   "execution_count": 39,
   "metadata": {
    "collapsed": true
   },
   "outputs": [],
   "source": [
    "graph = p.get_graph()"
   ]
  },
  {
   "cell_type": "code",
   "execution_count": 71,
   "metadata": {},
   "outputs": [
    {
     "data": {
      "image/png": "[encoded data removed]",
      "text/plain": [
       "<IPython.core.display.Image object>"
      ]
     },
     "metadata": {},
     "output_type": "display_data"
    },
    {
     "data": {
      "text/plain": [
       "<PropertyMap object with key type 'Vertex' and value type 'vector<double>', for Graph 0x7f00ac222fd0, at 0x7f00aa8fb898>"
      ]
     },
     "execution_count": 71,
     "metadata": {},
     "output_type": "execute_result"
    }
   ],
   "source": [
    "gt.draw.graph_draw(graph, output_size=(100,100))"
   ]
  },
  {
   "cell_type": "code",
   "execution_count": 44,
   "metadata": {},
   "outputs": [
    {
     "data": {
      "text/plain": [
       "151"
      ]
     },
     "execution_count": 44,
     "metadata": {},
     "output_type": "execute_result"
    }
   ],
   "source": [
    "p[0]"
   ]
  },
  {
   "cell_type": "code",
   "execution_count": 45,
   "metadata": {},
   "outputs": [
    {
     "data": {
      "text/plain": [
       "383"
      ]
     },
     "execution_count": 45,
     "metadata": {},
     "output_type": "execute_result"
    }
   ],
   "source": [
    "p[1]"
   ]
  },
  {
   "cell_type": "code",
   "execution_count": 46,
   "metadata": {},
   "outputs": [
    {
     "data": {
      "text/plain": [
       "562"
      ]
     },
     "execution_count": 46,
     "metadata": {},
     "output_type": "execute_result"
    }
   ],
   "source": [
    "p[2]"
   ]
  },
  {
   "cell_type": "code",
   "execution_count": 70,
   "metadata": {},
   "outputs": [
    {
     "data": {
      "text/plain": [
       "array([[ 151,  881, 2828],\n",
       "       [ 151,  523, 2829],\n",
       "       [ 151,  183, 2826],\n",
       "       [ 151,  154, 2827],\n",
       "       [ 151,  585, 2825]], dtype=uint64)"
      ]
     },
     "execution_count": 70,
     "metadata": {},
     "output_type": "execute_result"
    }
   ],
   "source": [
    "g.get_out_edges(151)"
   ]
  },
  {
   "cell_type": "code",
   "execution_count": 72,
   "metadata": {},
   "outputs": [
    {
     "data": {
      "text/plain": [
       "array([[ 383,  603, 4511],\n",
       "       [ 383,   55, 4510],\n",
       "       [ 383,  562, 4513],\n",
       "       [ 383,  955, 4512],\n",
       "       [ 383,   22, 4514]], dtype=uint64)"
      ]
     },
     "execution_count": 72,
     "metadata": {},
     "output_type": "execute_result"
    }
   ],
   "source": [
    "g.get_out_edges(383)"
   ]
  },
  {
   "cell_type": "code",
   "execution_count": 74,
   "metadata": {},
   "outputs": [
    {
     "data": {
      "text/plain": [
       "array([[562, 480, 365],\n",
       "       [562, 337, 367],\n",
       "       [562, 383, 366],\n",
       "       [562, 690, 368],\n",
       "       [562, 151, 369]], dtype=uint64)"
      ]
     },
     "execution_count": 74,
     "metadata": {},
     "output_type": "execute_result"
    }
   ],
   "source": [
    "\n",
    "g.get_out_edges(562)"
   ]
  },
  {
   "cell_type": "code",
   "execution_count": 75,
   "metadata": {},
   "outputs": [
    {
     "data": {
      "text/plain": [
       "array([[0, 1, 0],\n",
       "       [0, 2, 1],\n",
       "       [1, 0, 2]], dtype=uint64)"
      ]
     },
     "execution_count": 75,
     "metadata": {},
     "output_type": "execute_result"
    }
   ],
   "source": [
    "m3_7.gt_motif.get_edges()"
   ]
  },
  {
   "cell_type": "code",
   "execution_count": 76,
   "metadata": {},
   "outputs": [
    {
     "data": {
      "text/plain": [
       "array([[0, 1, 0],\n",
       "       [0, 2, 1],\n",
       "       [1, 0, 2]], dtype=uint64)"
      ]
     },
     "execution_count": 76,
     "metadata": {},
     "output_type": "execute_result"
    }
   ],
   "source": [
    "p.get_graph().get_edges()"
   ]
  },
  {
   "cell_type": "code",
   "execution_count": 77,
   "metadata": {},
   "outputs": [
    {
     "data": {
      "text/plain": [
       "151"
      ]
     },
     "execution_count": 77,
     "metadata": {},
     "output_type": "execute_result"
    }
   ],
   "source": [
    "p[0]"
   ]
  },
  {
   "cell_type": "code",
   "execution_count": 79,
   "metadata": {},
   "outputs": [
    {
     "data": {
      "text/plain": [
       "array([[ 151,  881, 2828],\n",
       "       [ 151,  523, 2829],\n",
       "       [ 151,  183, 2826],\n",
       "       [ 151,  154, 2827],\n",
       "       [ 151,  585, 2825]], dtype=uint64)"
      ]
     },
     "execution_count": 79,
     "metadata": {},
     "output_type": "execute_result"
    }
   ],
   "source": [
    "g.get_out_edges(151)"
   ]
  },
  {
   "cell_type": "code",
   "execution_count": 82,
   "metadata": {},
   "outputs": [
    {
     "data": {
      "text/plain": [
       "PropertyArray([151, 383, 562], dtype=int32)"
      ]
     },
     "execution_count": 82,
     "metadata": {},
     "output_type": "execute_result"
    }
   ],
   "source": [
    "p.get_array()"
   ]
  },
  {
   "cell_type": "code",
   "execution_count": 83,
   "metadata": {},
   "outputs": [
    {
     "data": {
      "image/png": "[encoded data removed]",
      "text/plain": [
       "<IPython.core.display.Image object>"
      ]
     },
     "metadata": {},
     "output_type": "display_data"
    },
    {
     "data": {
      "text/plain": [
       "<PropertyMap object with key type 'Vertex' and value type 'vector<double>', for Graph 0x7f00ac209828, at 0x7f00aa902358>"
      ]
     },
     "execution_count": 83,
     "metadata": {},
     "output_type": "execute_result"
    }
   ],
   "source": [
    "m = m3_9.gt_motif\n",
    "gt.draw.graph_draw(m, output_size=(200,200))"
   ]
  },
  {
   "cell_type": "code",
   "execution_count": 84,
   "metadata": {
    "collapsed": true
   },
   "outputs": [],
   "source": [
    "result = motifs(g, m.num_vertices(), motif_list=[m], return_maps=True)"
   ]
  },
  {
   "cell_type": "code",
   "execution_count": 85,
   "metadata": {
    "collapsed": true
   },
   "outputs": [],
   "source": [
    "mo, count, vmap = result"
   ]
  },
  {
   "cell_type": "code",
   "execution_count": 86,
   "metadata": {
    "collapsed": true
   },
   "outputs": [],
   "source": [
    "p = vmap[0][39]"
   ]
  },
  {
   "cell_type": "code",
   "execution_count": 87,
   "metadata": {},
   "outputs": [
    {
     "data": {
      "text/plain": [
       "PropertyArray([303, 344, 994], dtype=int32)"
      ]
     },
     "execution_count": 87,
     "metadata": {},
     "output_type": "execute_result"
    }
   ],
   "source": [
    "p.get_array()"
   ]
  },
  {
   "cell_type": "code",
   "execution_count": 89,
   "metadata": {},
   "outputs": [
    {
     "data": {
      "text/plain": [
       "array([[0, 1, 0],\n",
       "       [2, 1, 1],\n",
       "       [2, 0, 2]], dtype=uint64)"
      ]
     },
     "execution_count": 89,
     "metadata": {},
     "output_type": "execute_result"
    }
   ],
   "source": [
    "m.get_edges()"
   ]
  },
  {
   "cell_type": "code",
   "execution_count": 148,
   "metadata": {
    "collapsed": true
   },
   "outputs": [],
   "source": [
    "re = motifs(g, k=4, return_maps=True)"
   ]
  },
  {
   "cell_type": "code",
   "execution_count": 149,
   "metadata": {},
   "outputs": [
    {
     "data": {
      "text/plain": [
       "3"
      ]
     },
     "execution_count": 149,
     "metadata": {},
     "output_type": "execute_result"
    }
   ],
   "source": [
    "len(re)"
   ]
  },
  {
   "cell_type": "code",
   "execution_count": 115,
   "metadata": {},
   "outputs": [
    {
     "data": {
      "text/plain": [
       "44"
      ]
     },
     "execution_count": 115,
     "metadata": {},
     "output_type": "execute_result"
    }
   ],
   "source": [
    "len(re[1])"
   ]
  },
  {
   "cell_type": "code",
   "execution_count": 123,
   "metadata": {},
   "outputs": [
    {
     "data": {
      "image/png": "[encoded data removed]",
      "text/plain": [
       "<IPython.core.display.Image object>"
      ]
     },
     "metadata": {},
     "output_type": "display_data"
    },
    {
     "data": {
      "image/png": "[encoded data removed]",
      "text/plain": [
       "<IPython.core.display.Image object>"
      ]
     },
     "metadata": {},
     "output_type": "display_data"
    },
    {
     "data": {
      "image/png": "[encoded data removed]",
      "text/plain": [
       "<IPython.core.display.Image object>"
      ]
     },
     "metadata": {},
     "output_type": "display_data"
    },
    {
     "data": {
      "image/png": "[encoded data removed]",
      "text/plain": [
       "<IPython.core.display.Image object>"
      ]
     },
     "metadata": {},
     "output_type": "display_data"
    },
    {
     "data": {
      "text/plain": [
       "<PropertyMap object with key type 'Vertex' and value type 'vector<double>', for Graph 0x7f00aa8b5358, at 0x7f00aa8c5c50>"
      ]
     },
     "execution_count": 123,
     "metadata": {},
     "output_type": "execute_result"
    }
   ],
   "source": [
    "gt.draw.graph_draw(re[0][43], output_size=(100,200))\n",
    "gt.draw.graph_draw(re[0][42], output_size=(100,200))\n",
    "gt.draw.graph_draw(re[0][40], output_size=(100,200))\n",
    "gt.draw.graph_draw(re[0][41], output_size=(100,200))"
   ]
  },
  {
   "cell_type": "code",
   "execution_count": 111,
   "metadata": {},
   "outputs": [
    {
     "data": {
      "text/plain": [
       "array([[2, 3],\n",
       "       [3, 1],\n",
       "       [3, 0]], dtype=uint64)"
      ]
     },
     "execution_count": 111,
     "metadata": {},
     "output_type": "execute_result"
    }
   ],
   "source": [
    "re[0][3].get_edges()[:,0:2]"
   ]
  },
  {
   "cell_type": "code",
   "execution_count": 112,
   "metadata": {},
   "outputs": [
    {
     "data": {
      "text/plain": [
       "[(2, 3), (3, 1), (3, 0)]"
      ]
     },
     "execution_count": 112,
     "metadata": {},
     "output_type": "execute_result"
    }
   ],
   "source": [
    "[i for i in map(tuple, re[0][3].get_edges()[:,0:2])]"
   ]
  },
  {
   "cell_type": "code",
   "execution_count": 120,
   "metadata": {},
   "outputs": [
    {
     "name": "stdout",
     "output_type": "stream",
     "text": [
      "m4_0 = Motif([(1, 3), (1, 2), (1, 0)], is_directed=True, name='m4_0')\n",
      "m4_1 = Motif([(0, 1), (0, 2), (3, 1)], is_directed=True, name='m4_1')\n",
      "m4_2 = Motif([(0, 3), (2, 1), (2, 0)], is_directed=True, name='m4_2')\n",
      "m4_3 = Motif([(2, 3), (3, 1), (3, 0)], is_directed=True, name='m4_3')\n",
      "m4_4 = Motif([(0, 3), (1, 3), (2, 3)], is_directed=True, name='m4_4')\n",
      "m4_5 = Motif([(0, 3), (1, 0), (2, 0)], is_directed=True, name='m4_5')\n",
      "m4_6 = Motif([(1, 0), (2, 3), (3, 0)], is_directed=True, name='m4_6')\n",
      "m4_7 = Motif([(0, 3), (1, 2), (2, 0)], is_directed=True, name='m4_7')\n",
      "m4_8 = Motif([(1, 0), (1, 2), (1, 3), (2, 3)], is_directed=True, name='m4_8')\n",
      "m4_9 = Motif([(2, 3), (3, 0), (3, 2), (3, 1)], is_directed=True, name='m4_9')\n",
      "m4_10 = Motif([(0, 3), (0, 2), (1, 3), (1, 2)], is_directed=True, name='m4_10')\n",
      "m4_11 = Motif([(0, 1), (0, 3), (3, 2), (3, 1)], is_directed=True, name='m4_11')\n",
      "m4_12 = Motif([(1, 2), (1, 3), (3, 0), (3, 1)], is_directed=True, name='m4_12')\n",
      "m4_13 = Motif([(0, 1), (0, 3), (2, 1), (3, 1)], is_directed=True, name='m4_13')\n",
      "m4_14 = Motif([(0, 2), (1, 3), (1, 2), (2, 3)], is_directed=True, name='m4_14')\n",
      "m4_15 = Motif([(0, 1), (1, 3), (2, 3), (2, 0)], is_directed=True, name='m4_15')\n",
      "m4_16 = Motif([(0, 2), (2, 1), (2, 3), (3, 1)], is_directed=True, name='m4_16')\n",
      "m4_17 = Motif([(0, 3), (1, 3), (2, 0), (2, 1)], is_directed=True, name='m4_17')\n",
      "m4_18 = Motif([(0, 3), (1, 2), (1, 3), (2, 1)], is_directed=True, name='m4_18')\n",
      "m4_19 = Motif([(1, 2), (2, 1), (3, 2), (3, 0)], is_directed=True, name='m4_19')\n",
      "m4_20 = Motif([(1, 3), (1, 2), (2, 0), (3, 2)], is_directed=True, name='m4_20')\n",
      "m4_21 = Motif([(0, 1), (1, 2), (1, 3), (3, 1)], is_directed=True, name='m4_21')\n",
      "m4_22 = Motif([(0, 1), (0, 2), (2, 0), (3, 2)], is_directed=True, name='m4_22')\n",
      "m4_23 = Motif([(0, 3), (0, 1), (1, 2), (2, 0)], is_directed=True, name='m4_23')\n",
      "m4_24 = Motif([(1, 3), (2, 0), (3, 2), (3, 1)], is_directed=True, name='m4_24')\n",
      "m4_25 = Motif([(0, 1), (1, 2), (2, 1), (3, 1)], is_directed=True, name='m4_25')\n",
      "m4_26 = Motif([(0, 1), (1, 2), (2, 1), (3, 2)], is_directed=True, name='m4_26')\n",
      "m4_27 = Motif([(0, 1), (1, 2), (2, 0), (3, 0)], is_directed=True, name='m4_27')\n",
      "m4_28 = Motif([(0, 3), (1, 2), (2, 1), (3, 1)], is_directed=True, name='m4_28')\n",
      "m4_29 = Motif([(0, 3), (1, 2), (2, 0), (3, 1)], is_directed=True, name='m4_29')\n",
      "m4_30 = Motif([(2, 1), (2, 0), (3, 2), (3, 0), (3, 1)], is_directed=True, name='m4_30')\n",
      "m4_31 = Motif([(1, 3), (1, 0), (1, 2), (2, 3), (3, 0)], is_directed=True, name='m4_31')\n",
      "m4_32 = Motif([(0, 1), (0, 2), (2, 3), (2, 1), (3, 1)], is_directed=True, name='m4_32')\n",
      "m4_33 = Motif([(0, 3), (2, 1), (2, 3), (3, 0), (3, 1)], is_directed=True, name='m4_33')\n",
      "m4_34 = Motif([(1, 0), (2, 3), (2, 1), (3, 1), (3, 0)], is_directed=True, name='m4_34')\n",
      "m4_35 = Motif([(0, 3), (1, 0), (1, 2), (3, 2), (3, 1)], is_directed=True, name='m4_35')\n",
      "m4_36 = Motif([(0, 1), (2, 3), (2, 1), (3, 2), (3, 0)], is_directed=True, name='m4_36')\n",
      "m4_37 = Motif([(0, 2), (1, 2), (1, 0), (2, 3), (3, 2)], is_directed=True, name='m4_37')\n",
      "m4_38 = Motif([(0, 2), (1, 0), (2, 1), (3, 1), (3, 2)], is_directed=True, name='m4_38')\n",
      "m4_39 = Motif([(0, 3), (1, 2), (2, 0), (2, 1), (3, 1)], is_directed=True, name='m4_39')\n",
      "m4_40 = Motif([(0, 2), (1, 3), (2, 1), (2, 0), (3, 1)], is_directed=True, name='m4_40')\n",
      "m4_41 = Motif([(0, 2), (0, 1), (1, 3), (2, 3), (3, 0)], is_directed=True, name='m4_41')\n",
      "m4_42 = Motif([(0, 3), (1, 0), (1, 2), (2, 0), (3, 1)], is_directed=True, name='m4_42')\n",
      "m4_43 = Motif([(0, 2), (1, 2), (2, 3), (2, 0), (3, 1)], is_directed=True, name='m4_43')\n"
     ]
    }
   ],
   "source": [
    "for i, motifs in enumerate(re[0]):\n",
    "    arr = str([i for i in map(tuple, motifs.get_edges()[:,0:2])])\n",
    "    s = \"m4_{} = Motif({}, is_directed=True, name='m4_{}')\".format(i, arr, i)\n",
    "    print(s)"
   ]
  },
  {
   "cell_type": "code",
   "execution_count": 128,
   "metadata": {
    "collapsed": true
   },
   "outputs": [],
   "source": [
    "la = Graph()"
   ]
  },
  {
   "cell_type": "code",
   "execution_count": 129,
   "metadata": {
    "collapsed": true
   },
   "outputs": [],
   "source": [
    "na = nx.Graph()"
   ]
  },
  {
   "cell_type": "code",
   "execution_count": 130,
   "metadata": {},
   "outputs": [
    {
     "data": {
      "text/plain": [
       "0"
      ]
     },
     "execution_count": 130,
     "metadata": {},
     "output_type": "execute_result"
    }
   ],
   "source": [
    "na.size()"
   ]
  },
  {
   "cell_type": "code",
   "execution_count": 134,
   "metadata": {
    "collapsed": true
   },
   "outputs": [],
   "source": [
    "from itertools import combinations"
   ]
  },
  {
   "cell_type": "code",
   "execution_count": 137,
   "metadata": {},
   "outputs": [
    {
     "data": {
      "text/plain": [
       "[(303, 344), (303, 994), (344, 994)]"
      ]
     },
     "execution_count": 137,
     "metadata": {},
     "output_type": "execute_result"
    }
   ],
   "source": [
    "[i for i in combinations(p.get_array(), 2)]"
   ]
  },
  {
   "cell_type": "code",
   "execution_count": 158,
   "metadata": {
    "collapsed": true
   },
   "outputs": [],
   "source": [
    "def construct_motif_graph(graph_container, vertex_maps=None, motif=None):\n",
    "    \"\"\"Construct and return a undirected gt graph containing\n",
    "    motif relationship. TODO: Add anchors nodes\n",
    "\n",
    "    Parameters:\n",
    "    graph_container - GraphContainer - Store the original network\n",
    "    vertex_map - list - contains PropertyMap that maps to vertices in motif\n",
    "\n",
    "    Returns:\n",
    "    m_graph - gt.Graph - Undirected graph for motif cooccurence\n",
    "    \"\"\"\n",
    "    if motif is not None and motif.anchors is not None:\n",
    "        print(\"Warning: TODO refactor anchor code.\")\n",
    "    # graph_tool.Graph\n",
    "    m_graph = Graph(directed=False)\n",
    "    if vertex_maps is None:\n",
    "        _, _, vertex_maps = count_motif(graph_container, motif)\n",
    "    for prop in vertex_maps:\n",
    "        edges = [i for i in combinations(prop.get_array(), 2)]\n",
    "        m_graph.add_edge_listadd_edges_from(edges)\n",
    "    return m_graph"
   ]
  },
  {
   "cell_type": "code",
   "execution_count": 159,
   "metadata": {
    "collapsed": true
   },
   "outputs": [],
   "source": [
    "la = construct_motif_graph(None, vertex_maps=re[2][0])"
   ]
  },
  {
   "cell_type": "code",
   "execution_count": 176,
   "metadata": {},
   "outputs": [
    {
     "data": {
      "image/png": "[encoded data removed]",
      "text/plain": [
       "<IPython.core.display.Image object>"
      ]
     },
     "metadata": {},
     "output_type": "display_data"
    },
    {
     "data": {
      "text/plain": [
       "<PropertyMap object with key type 'Vertex' and value type 'vector<double>', for Graph 0x7f00ac217f60, at 0x7f00aa9156d8>"
      ]
     },
     "execution_count": 176,
     "metadata": {},
     "output_type": "execute_result"
    }
   ],
   "source": [
    "graph_draw(m4_0.gt_motif, output_size=(100,100))"
   ]
  },
  {
   "cell_type": "code",
   "execution_count": 177,
   "metadata": {},
   "outputs": [
    {
     "data": {
      "image/png": "[encoded data removed]",
      "text/plain": [
       "<IPython.core.display.Image object>"
      ]
     },
     "metadata": {},
     "output_type": "display_data"
    },
    {
     "data": {
      "text/plain": [
       "<PropertyMap object with key type 'Vertex' and value type 'vector<double>', for Graph 0x7f00ac1d4f98, at 0x7f00aa915f28>"
      ]
     },
     "execution_count": 177,
     "metadata": {},
     "output_type": "execute_result"
    }
   ],
   "source": [
    "graph_draw(m3_5.gt_motif, output_size=(100,100))"
   ]
  },
  {
   "cell_type": "code",
   "execution_count": 184,
   "metadata": {
    "collapsed": true
   },
   "outputs": [],
   "source": [
    "m3_5_r = motifs(g,k=len(m3_5.gt_motif.get_vertices()),motif_list=[m3_5.gt_motif],return_maps=True)"
   ]
  },
  {
   "cell_type": "code",
   "execution_count": 189,
   "metadata": {},
   "outputs": [
    {
     "data": {
      "text/plain": [
       "PropertyArray([216, 756, 938], dtype=int32)"
      ]
     },
     "execution_count": 189,
     "metadata": {},
     "output_type": "execute_result"
    }
   ],
   "source": [
    "m3_5_r[2][0][0].get_array()"
   ]
  },
  {
   "cell_type": "code",
   "execution_count": 191,
   "metadata": {},
   "outputs": [
    {
     "data": {
      "text/plain": [
       "array([[ 216,  158, 4175],\n",
       "       [ 216,  932, 4176],\n",
       "       [ 216,  938, 4179],\n",
       "       [ 216,   65, 4177],\n",
       "       [ 216,   42, 4178]], dtype=uint64)"
      ]
     },
     "execution_count": 191,
     "metadata": {},
     "output_type": "execute_result"
    }
   ],
   "source": [
    "g.get_out_edges(216)"
   ]
  },
  {
   "cell_type": "code",
   "execution_count": 192,
   "metadata": {},
   "outputs": [
    {
     "data": {
      "text/plain": [
       "array([[ 938,  889, 1882],\n",
       "       [ 938,  138, 1881],\n",
       "       [ 938,  216, 1883],\n",
       "       [ 938,  446, 1880],\n",
       "       [ 938,  876, 1884]], dtype=uint64)"
      ]
     },
     "execution_count": 192,
     "metadata": {},
     "output_type": "execute_result"
    }
   ],
   "source": [
    "g.get_out_edges(938)"
   ]
  },
  {
   "cell_type": "code",
   "execution_count": 202,
   "metadata": {
    "collapsed": true
   },
   "outputs": [],
   "source": [
    "re = m3_5_r[2][0][0]"
   ]
  },
  {
   "cell_type": "code",
   "execution_count": 207,
   "metadata": {
    "collapsed": true
   },
   "outputs": [],
   "source": [
    "re.shrink_to_fit()"
   ]
  },
  {
   "cell_type": "code",
   "execution_count": 210,
   "metadata": {},
   "outputs": [
    {
     "data": {
      "text/plain": [
       "216"
      ]
     },
     "execution_count": 210,
     "metadata": {},
     "output_type": "execute_result"
    }
   ],
   "source": [
    "re[0]"
   ]
  },
  {
   "cell_type": "markdown",
   "metadata": {},
   "source": [
    "### Using `isomorphism` doesn't help"
   ]
  },
  {
   "cell_type": "code",
   "execution_count": 213,
   "metadata": {
    "collapsed": true
   },
   "outputs": [],
   "source": [
    "re = isomorphism(re.get_graph(), m3_5.gt_motif, isomap=True)"
   ]
  },
  {
   "cell_type": "code",
   "execution_count": 218,
   "metadata": {},
   "outputs": [
    {
     "data": {
      "text/plain": [
       "2"
      ]
     },
     "execution_count": 218,
     "metadata": {},
     "output_type": "execute_result"
    }
   ],
   "source": [
    "re[1][2]"
   ]
  },
  {
   "cell_type": "code",
   "execution_count": 219,
   "metadata": {
    "collapsed": true
   },
   "outputs": [],
   "source": [
    "re = m3_5_r[2][0][0]"
   ]
  },
  {
   "cell_type": "code",
   "execution_count": 220,
   "metadata": {},
   "outputs": [
    {
     "data": {
      "image/png": "[encoded data removed]",
      "text/plain": [
       "<IPython.core.display.Image object>"
      ]
     },
     "metadata": {},
     "output_type": "display_data"
    },
    {
     "data": {
      "text/plain": [
       "<PropertyMap object with key type 'Vertex' and value type 'vector<double>', for Graph 0x7f00aa8b5f98, at 0x7f00a28ec208>"
      ]
     },
     "execution_count": 220,
     "metadata": {},
     "output_type": "execute_result"
    }
   ],
   "source": [
    "graph_draw(re.get_graph(), output_size=(100,100))"
   ]
  },
  {
   "cell_type": "code",
   "execution_count": 221,
   "metadata": {},
   "outputs": [
    {
     "data": {
      "text/plain": [
       "array([[0, 1, 0],\n",
       "       [1, 0, 1],\n",
       "       [2, 0, 2],\n",
       "       [2, 1, 3]], dtype=uint64)"
      ]
     },
     "execution_count": 221,
     "metadata": {},
     "output_type": "execute_result"
    }
   ],
   "source": [
    "re.get_graph().get_edges()"
   ]
  },
  {
   "cell_type": "code",
   "execution_count": 222,
   "metadata": {},
   "outputs": [
    {
     "data": {
      "text/plain": [
       "216"
      ]
     },
     "execution_count": 222,
     "metadata": {},
     "output_type": "execute_result"
    }
   ],
   "source": [
    "re[0]"
   ]
  },
  {
   "cell_type": "code",
   "execution_count": 223,
   "metadata": {},
   "outputs": [
    {
     "data": {
      "text/plain": [
       "756"
      ]
     },
     "execution_count": 223,
     "metadata": {},
     "output_type": "execute_result"
    }
   ],
   "source": [
    "re[1]"
   ]
  },
  {
   "cell_type": "code",
   "execution_count": 224,
   "metadata": {},
   "outputs": [
    {
     "data": {
      "text/plain": [
       "938"
      ]
     },
     "execution_count": 224,
     "metadata": {},
     "output_type": "execute_result"
    }
   ],
   "source": [
    "re[2]"
   ]
  },
  {
   "cell_type": "code",
   "execution_count": 228,
   "metadata": {},
   "outputs": [
    {
     "data": {
      "text/plain": [
       "array([[ 216,  158, 4175],\n",
       "       [ 216,  932, 4176],\n",
       "       [ 216,  938, 4179],\n",
       "       [ 216,   65, 4177],\n",
       "       [ 216,   42, 4178]], dtype=uint64)"
      ]
     },
     "execution_count": 228,
     "metadata": {},
     "output_type": "execute_result"
    }
   ],
   "source": [
    "g.get_out_edges(216)"
   ]
  },
  {
   "cell_type": "code",
   "execution_count": 234,
   "metadata": {},
   "outputs": [
    {
     "data": {
      "text/plain": [
       "array([[0, 1, 0],\n",
       "       [1, 0, 1],\n",
       "       [2, 0, 2],\n",
       "       [2, 1, 3]], dtype=uint64)"
      ]
     },
     "execution_count": 234,
     "metadata": {},
     "output_type": "execute_result"
    }
   ],
   "source": [
    "re.get_graph().get_edges()"
   ]
  },
  {
   "cell_type": "code",
   "execution_count": 236,
   "metadata": {},
   "outputs": [
    {
     "data": {
      "text/plain": [
       "(216, 756, 938)"
      ]
     },
     "execution_count": 236,
     "metadata": {},
     "output_type": "execute_result"
    }
   ],
   "source": [
    "re[0], re[1], re[2]"
   ]
  },
  {
   "cell_type": "code",
   "execution_count": 237,
   "metadata": {},
   "outputs": [
    {
     "name": "stdout",
     "output_type": "stream",
     "text": [
      "[[ 216  158 4175]\n",
      " [ 216  932 4176]\n",
      " [ 216  938 4179]\n",
      " [ 216   65 4177]\n",
      " [ 216   42 4178]]\n",
      "[[ 756  216 3690]\n",
      " [ 756  465 3693]\n",
      " [ 756  938 3691]\n",
      " [ 756   36 3694]\n",
      " [ 756   37 3692]]\n",
      "[[ 938  889 1882]\n",
      " [ 938  138 1881]\n",
      " [ 938  216 1883]\n",
      " [ 938  446 1880]\n",
      " [ 938  876 1884]]\n"
     ]
    }
   ],
   "source": [
    "for i in _:\n",
    "    print(g.get_out_edges(i))"
   ]
  },
  {
   "cell_type": "markdown",
   "metadata": {},
   "source": [
    "Since the Property map doesn't map exactly to the node id in the main graph, I have to use the induced subgraphs."
   ]
  },
  {
   "cell_type": "code",
   "execution_count": 238,
   "metadata": {
    "collapsed": true
   },
   "outputs": [],
   "source": [
    "# select some vertices\n",
    "vfilt = g.new_vertex_property('bool');\n",
    "vfilt[216] = True\n",
    "vfilt[756] = True\n",
    "vfilt[938] = True\n",
    "\n",
    "sub = GraphView(g, vfilt)"
   ]
  },
  {
   "cell_type": "code",
   "execution_count": 260,
   "metadata": {
    "collapsed": true
   },
   "outputs": [],
   "source": [
    "ka = isomorphism(sub, m3_5.gt_motif, isomap=True)"
   ]
  },
  {
   "cell_type": "code",
   "execution_count": 270,
   "metadata": {},
   "outputs": [
    {
     "data": {
      "text/plain": [
       "(0, 2, 1)"
      ]
     },
     "execution_count": 270,
     "metadata": {},
     "output_type": "execute_result"
    }
   ],
   "source": [
    "ka[1][216], ka[1][756], ka[1][938]"
   ]
  },
  {
   "cell_type": "code",
   "execution_count": 271,
   "metadata": {},
   "outputs": [
    {
     "data": {
      "text/plain": [
       "[216, 938]"
      ]
     },
     "execution_count": 271,
     "metadata": {},
     "output_type": "execute_result"
    }
   ],
   "source": [
    "[i for i in [216, 756, 938] if ka[1][i] in {0,1}]"
   ]
  },
  {
   "cell_type": "code",
   "execution_count": null,
   "metadata": {
    "collapsed": true
   },
   "outputs": [],
   "source": []
  }
 ],
 "metadata": {
  "kernelspec": {
   "display_name": "Python 3",
   "language": "python",
   "name": "python3"
  },
  "language_info": {
   "codemirror_mode": {
    "name": "ipython",
    "version": 3
   },
   "file_extension": ".py",
   "mimetype": "text/x-python",
   "name": "python",
   "nbconvert_exporter": "python",
   "pygments_lexer": "ipython3",
   "version": "3.6.1"
  }
 },
 "nbformat": 4,
 "nbformat_minor": 2
}
