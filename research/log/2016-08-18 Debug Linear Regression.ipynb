{
 "cells": [
  {
   "cell_type": "code",
   "execution_count": 1,
   "metadata": {
    "collapsed": true
   },
   "outputs": [],
   "source": [
    "import sys\n",
    "sys.path.append('../src/mane/prototype/')\n",
    "import numpy as np\n",
    "import graph as g\n",
    "import pickle as p\n",
    "\n",
    "from sklearn.preprocessing import normalize, scale\n",
    "from sklearn.metrics import f1_score\n",
    "from sklearn.multiclass import OneVsRestClassifier\n",
    "from sklearn.svm import LinearSVC\n",
    "from sklearn.linear_model import LogisticRegression"
   ]
  },
  {
   "cell_type": "code",
   "execution_count": 2,
   "metadata": {
    "collapsed": true
   },
   "outputs": [],
   "source": [
    "def svc_embeddings(exp_id, graph_name, portition=0.5):\n",
    "    weightfile = '../src/mane/prototype/embeddings/' + exp_id + '.weights'\n",
    "    graphfile = '../src/mane/data/' + graph_name\n",
    "    with open(weightfile, 'rb') as f:\n",
    "        w = p.load(f)\n",
    "    graph = g.graph_from_pickle(graphfile+'.graph', graphfile+'.community')\n",
    "    e_norm = normalize(w[0])\n",
    "    xids, y_train = graph.gen_community(portition)\n",
    "    X = [e_norm[i] for i in xids]\n",
    "    predictor = OneVsRestClassifier(LinearSVC(random_state=0)).fit(X, y_train)\n",
    "    y_true = [graph._communities[i] for i in graph.nodes()]\n",
    "    y_pred = [predictor.predict(e_norm[i].reshape(1,-1))[0] for i in graph.nodes()]\n",
    "    print('Experiment ', exp_id, ' ', graph_name)\n",
    "    print('f1_macro (emb): ', f1_score(y_true, y_pred, average='macro'))\n",
    "    print('f1_micro (emb): ', f1_score(y_true, y_pred, average='micro'))\n",
    "    \n",
    "def svc_average(exp_id, graph_name, portition=0.5):\n",
    "    weightfile = '../src/mane/prototype/embeddings/' + exp_id + '.weights'\n",
    "    graphfile = '../src/mane/data/' + graph_name\n",
    "    with open(weightfile, 'rb') as f:\n",
    "        w = p.load(f)\n",
    "    graph = g.graph_from_pickle(graphfile+'.graph', graphfile+'.community')\n",
    "    e_norm = normalize((w[0]+w[1])/2)\n",
    "    xids, y_train = graph.gen_community(portition)\n",
    "    X = [e_norm[i] for i in xids]\n",
    "    predictor = OneVsRestClassifier(LinearSVC(random_state=0)).fit(X, y_train)\n",
    "    y_true = [graph._communities[i] for i in graph.nodes()]\n",
    "    y_pred = [predictor.predict(e_norm[i].reshape(1,-1))[0] for i in graph.nodes()]\n",
    "    print('Experiment ', exp_id, ' ', graph_name)\n",
    "    print('f1_macro (avg): ', f1_score(y_true, y_pred, average='macro'))\n",
    "    print('f1_micro (avg): ', f1_score(y_true, y_pred, average='micro'))\n",
    "\n",
    "def svc_all(exp_id, graph_name, portition=0.5):\n",
    "    weightfile = '../src/mane/prototype/embeddings/' + exp_id + '.weights'\n",
    "    graphfile = '../src/mane/data/' + graph_name\n",
    "    with open(weightfile, 'rb') as f:\n",
    "        w = p.load(f)\n",
    "    graph = g.graph_from_pickle(graphfile+'.graph', graphfile+'.community')\n",
    "    e_norm = normalize(w[0]+w[1]+w[2])\n",
    "    xids, y_train = graph.gen_community(portition)\n",
    "    X = [e_norm[i] for i in xids]\n",
    "    predictor = OneVsRestClassifier(LinearSVC(random_state=0)).fit(X, y_train)\n",
    "    y_true = [graph._communities[i] for i in graph.nodes()]\n",
    "    y_pred = [predictor.predict(e_norm[i].reshape(1,-1))[0] for i in graph.nodes()]\n",
    "    print('Experiment ', exp_id, ' ', graph_name)\n",
    "    print('f1_macro (all): ', f1_score(y_true, y_pred, average='macro'))\n",
    "    print('f1_micro (all): ', f1_score(y_true, y_pred, average='micro'))"
   ]
  },
  {
   "cell_type": "code",
   "execution_count": 3,
   "metadata": {
    "collapsed": true
   },
   "outputs": [],
   "source": [
    "def lg_embeddings(exp_id, graph_name, portition=0.5, max_iter=1000):\n",
    "    weightfile = '../src/mane/prototype/embeddings/' + exp_id + '.weights'\n",
    "    graphfile = '../src/mane/data/' + graph_name\n",
    "    with open(weightfile, 'rb') as f:\n",
    "        w = p.load(f)\n",
    "    graph = g.graph_from_pickle(graphfile+'.graph', graphfile+'.community')\n",
    "    e_norm = normalize(w[0])\n",
    "    xids, y_train = graph.gen_community(portition)\n",
    "    X = [e_norm[i] for i in xids]\n",
    "    predictor = LogisticRegression(max_iter=max_iter, n_jobs=2).fit(X, y_train)\n",
    "    y_true = [graph._communities[i] for i in graph.nodes()]\n",
    "    y_pred = [predictor.predict(e_norm[i].reshape(1,-1))[0] for i in graph.nodes()]\n",
    "    print('Experiment ', exp_id, ' ', graph_name)\n",
    "    print('f1_macro (emb): ', f1_score(y_true, y_pred, average='macro'))\n",
    "    print('f1_micro (emb): ', f1_score(y_true, y_pred, average='micro'))\n",
    "    \n",
    "def lg_nce(exp_id, graph_name, portition=0.5, max_iter=1000):\n",
    "    weightfile = '../src/mane/prototype/embeddings/' + exp_id + '.weights'\n",
    "    graphfile = '../src/mane/data/' + graph_name\n",
    "    with open(weightfile, 'rb') as f:\n",
    "        w = p.load(f)\n",
    "    graph = g.graph_from_pickle(graphfile+'.graph', graphfile+'.community')\n",
    "    e_norm = normalize(w[2])\n",
    "    xids, y_train = graph.gen_community(portition)\n",
    "    X = [e_norm[i] for i in xids]\n",
    "    predictor = LogisticRegression(max_iter=max_iter, n_jobs=2).fit(X, y_train)\n",
    "    y_true = [graph._communities[i] for i in graph.nodes()]\n",
    "    y_pred = [predictor.predict(e_norm[i].reshape(1,-1))[0] for i in graph.nodes()]\n",
    "    print('Experiment ', exp_id, ' ', graph_name)\n",
    "    print('f1_macro (emb): ', f1_score(y_true, y_pred, average='macro'))\n",
    "    print('f1_micro (emb): ', f1_score(y_true, y_pred, average='micro'))\n",
    "    \n",
    "def lg_average(exp_id, graph_name, portition=0.5, max_iter=1000):\n",
    "    weightfile = '../src/mane/prototype/embeddings/' + exp_id + '.weights'\n",
    "    graphfile = '../src/mane/data/' + graph_name\n",
    "    with open(weightfile, 'rb') as f:\n",
    "        w = p.load(f)\n",
    "    graph = g.graph_from_pickle(graphfile+'.graph', graphfile+'.community')\n",
    "    e_norm = normalize((w[0]+w[1])/2)\n",
    "    xids, y_train = graph.gen_community(portition)\n",
    "    X = [e_norm[i] for i in xids]\n",
    "    predictor = LogisticRegression(max_iter=max_iter, n_jobs=2).fit(X, y_train)\n",
    "    y_true = [graph._communities[i] for i in graph.nodes()]\n",
    "    y_pred = [predictor.predict(e_norm[i].reshape(1,-1))[0] for i in graph.nodes()]\n",
    "    print('Experiment ', exp_id, ' ', graph_name)\n",
    "    print('f1_macro (avg): ', f1_score(y_true, y_pred, average='macro'))\n",
    "    print('f1_micro (avg): ', f1_score(y_true, y_pred, average='micro'))\n",
    "    \n",
    "def lg_all(exp_id, graph_name, portition=0.5, max_iter=1000):\n",
    "    weightfile = '../src/mane/prototype/embeddings/' + exp_id + '.weights'\n",
    "    graphfile = '../src/mane/data/' + graph_name\n",
    "    with open(weightfile, 'rb') as f:\n",
    "        w = p.load(f)\n",
    "    graph = g.graph_from_pickle(graphfile+'.graph', graphfile+'.community')\n",
    "    e_norm = normalize(w[0]+w[1]+w[2])\n",
    "    xids, y_train = graph.gen_community(portition)\n",
    "    X = [e_norm[i] for i in xids]\n",
    "    predictor = LogisticRegression(max_iter=max_iter, n_jobs=2).fit(X, y_train)\n",
    "    y_true = [graph._communities[i] for i in graph.nodes()]\n",
    "    y_pred = [predictor.predict(e_norm[i].reshape(1,-1))[0] for i in graph.nodes()]\n",
    "    print('Experiment ', exp_id, ' ', graph_name)\n",
    "    print('f1_macro (avg): ', f1_score(y_true, y_pred, average='macro'))\n",
    "    print('f1_micro (avg): ', f1_score(y_true, y_pred, average='micro'))"
   ]
  },
  {
   "cell_type": "code",
   "execution_count": 17,
   "metadata": {
    "collapsed": false
   },
   "outputs": [
    {
     "name": "stdout",
     "output_type": "stream",
     "text": [
      "f1_macro (all):  0.0946316840644\n",
      "f1_micro (all):  0.120927075252\n"
     ]
    }
   ],
   "source": [
    "svc_all('BC3014', 'blogcatalog3')"
   ]
  },
  {
   "cell_type": "code",
   "execution_count": 30,
   "metadata": {
    "collapsed": false
   },
   "outputs": [
    {
     "name": "stdout",
     "output_type": "stream",
     "text": [
      "f1_macro (emb):  0.0269281947945\n",
      "f1_micro (emb):  0.121411947246\n"
     ]
    },
    {
     "name": "stderr",
     "output_type": "stream",
     "text": [
      "/home/hoangnt/anaconda3/lib/python3.5/site-packages/sklearn/metrics/classification.py:1074: UndefinedMetricWarning: F-score is ill-defined and being set to 0.0 in labels with no predicted samples.\n",
      "  'precision', 'predicted', average, warn_for)\n"
     ]
    }
   ],
   "source": [
    "lg_embeddings('BC3014', 'blogcatalog3', max_iter=1000000)"
   ]
  },
  {
   "cell_type": "code",
   "execution_count": 42,
   "metadata": {
    "collapsed": false,
    "scrolled": true
   },
   "outputs": [
    {
     "name": "stdout",
     "output_type": "stream",
     "text": [
      "Experiment  BC3001   blogcatalog3\n",
      "f1_macro (avg):  0.120741256524\n",
      "f1_micro (avg):  0.2656128782\n"
     ]
    },
    {
     "name": "stderr",
     "output_type": "stream",
     "text": [
      "/home/hoangnt/anaconda3/lib/python3.5/site-packages/sklearn/metrics/classification.py:1074: UndefinedMetricWarning: F-score is ill-defined and being set to 0.0 in labels with no predicted samples.\n",
      "  'precision', 'predicted', average, warn_for)\n"
     ]
    },
    {
     "name": "stdout",
     "output_type": "stream",
     "text": [
      "Experiment  BC3002   blogcatalog3\n",
      "f1_macro (avg):  0.123178153015\n",
      "f1_micro (avg):  0.269006982157\n",
      "Experiment  BC3003   blogcatalog3\n",
      "f1_macro (avg):  0.114756830236\n",
      "f1_micro (avg):  0.257370054306\n",
      "Experiment  BC3004   blogcatalog3\n",
      "f1_macro (avg):  0.108147342708\n",
      "f1_micro (avg):  0.250969743988\n",
      "Experiment  BC3005   blogcatalog3\n",
      "f1_macro (avg):  0.0295066525118\n",
      "f1_micro (avg):  0.117920868891\n",
      "Experiment  BC3006   blogcatalog3\n",
      "f1_macro (avg):  0.0598227858022\n",
      "f1_micro (avg):  0.181730023274\n",
      "Experiment  BC3007   blogcatalog3\n",
      "f1_macro (avg):  0.0843716419659\n",
      "f1_micro (avg):  0.225271528317\n",
      "Experiment  BC3008   blogcatalog3\n",
      "f1_macro (avg):  0.0729542710343\n",
      "f1_micro (avg):  0.200737005431\n",
      "Experiment  BC3009   blogcatalog3\n",
      "f1_macro (avg):  0.0855055982381\n",
      "f1_micro (avg):  0.222944142746\n",
      "Experiment  BC3010   blogcatalog3\n",
      "f1_macro (avg):  0.0914467033607\n",
      "f1_micro (avg):  0.224107835531\n",
      "Experiment  BC3011   blogcatalog3\n",
      "f1_macro (avg):  0.0991445255452\n",
      "f1_micro (avg):  0.241272304112\n",
      "Experiment  BC3012   blogcatalog3\n",
      "f1_macro (avg):  0.119425489689\n",
      "f1_micro (avg):  0.265321955004\n",
      "Experiment  BC3013   blogcatalog3\n",
      "f1_macro (avg):  0.154397165779\n",
      "f1_micro (avg):  0.307990690458\n",
      "Experiment  BC3014   blogcatalog3\n",
      "f1_macro (avg):  0.0320126973325\n",
      "f1_micro (avg):  0.118890612878\n",
      "Experiment  BC3015   blogcatalog3\n",
      "f1_macro (avg):  0.100140854008\n",
      "f1_micro (avg):  0.243890612878\n"
     ]
    }
   ],
   "source": [
    "lg_average('BC3001', 'blogcatalog3', portition=0.5)\n",
    "lg_average('BC3002', 'blogcatalog3', portition=0.5)\n",
    "lg_average('BC3003', 'blogcatalog3', portition=0.5)\n",
    "lg_average('BC3004', 'blogcatalog3', portition=0.5)\n",
    "lg_average('BC3005', 'blogcatalog3', portition=0.5)\n",
    "lg_average('BC3006', 'blogcatalog3', portition=0.5)\n",
    "lg_average('BC3007', 'blogcatalog3', portition=0.5)\n",
    "lg_average('BC3008', 'blogcatalog3', portition=0.5)\n",
    "lg_average('BC3009', 'blogcatalog3', portition=0.5)\n",
    "lg_average('BC3010', 'blogcatalog3', portition=0.5)\n",
    "lg_average('BC3011', 'blogcatalog3', portition=0.5)\n",
    "lg_average('BC3012', 'blogcatalog3', portition=0.5)\n",
    "lg_average('BC3013', 'blogcatalog3', portition=0.5)\n",
    "lg_average('BC3014', 'blogcatalog3', portition=0.5)\n",
    "lg_average('BC3015', 'blogcatalog3', portition=0.5)"
   ]
  },
  {
   "cell_type": "code",
   "execution_count": 45,
   "metadata": {
    "collapsed": false,
    "scrolled": true
   },
   "outputs": [
    {
     "name": "stdout",
     "output_type": "stream",
     "text": [
      "Experiment  BC3017   blogcatalog3\n",
      "f1_macro (emb):  0.0740177477011\n",
      "f1_micro (emb):  0.217028704422\n"
     ]
    },
    {
     "name": "stderr",
     "output_type": "stream",
     "text": [
      "/home/hoangnt/anaconda3/lib/python3.5/site-packages/sklearn/metrics/classification.py:1074: UndefinedMetricWarning: F-score is ill-defined and being set to 0.0 in labels with no predicted samples.\n",
      "  'precision', 'predicted', average, warn_for)\n"
     ]
    }
   ],
   "source": [
    "lg_embeddings('BC3017', 'blogcatalog3', max_iter=1000)"
   ]
  },
  {
   "cell_type": "code",
   "execution_count": 48,
   "metadata": {
    "collapsed": false
   },
   "outputs": [
    {
     "name": "stdout",
     "output_type": "stream",
     "text": [
      "Experiment  BC3017   blogcatalog3\n",
      "f1_macro (emb):  0.141430565099\n",
      "f1_micro (emb):  0.232738557021\n",
      "Experiment  BC3017   blogcatalog3\n",
      "f1_macro (avg):  0.118029813235\n",
      "f1_micro (avg):  0.183378588053\n",
      "Experiment  BC3017   blogcatalog3\n",
      "f1_macro (all):  0.0997574498978\n",
      "f1_micro (all):  0.18357253685\n"
     ]
    },
    {
     "name": "stderr",
     "output_type": "stream",
     "text": [
      "/home/hoangnt/anaconda3/lib/python3.5/site-packages/sklearn/metrics/classification.py:1074: UndefinedMetricWarning: F-score is ill-defined and being set to 0.0 in labels with no predicted samples.\n",
      "  'precision', 'predicted', average, warn_for)\n"
     ]
    }
   ],
   "source": [
    "svc_embeddings('BC3017', 'blogcatalog3')\n",
    "svc_average('BC3017', 'blogcatalog3')\n",
    "svc_all('BC3017', 'blogcatalog3')"
   ]
  },
  {
   "cell_type": "code",
   "execution_count": 49,
   "metadata": {
    "collapsed": false
   },
   "outputs": [
    {
     "name": "stdout",
     "output_type": "stream",
     "text": [
      "Experiment  BC3017   blogcatalog3\n",
      "f1_macro (emb):  0.0739755316051\n",
      "f1_micro (emb):  0.217901474011\n"
     ]
    },
    {
     "name": "stderr",
     "output_type": "stream",
     "text": [
      "/home/hoangnt/anaconda3/lib/python3.5/site-packages/sklearn/metrics/classification.py:1074: UndefinedMetricWarning: F-score is ill-defined and being set to 0.0 in labels with no predicted samples.\n",
      "  'precision', 'predicted', average, warn_for)\n"
     ]
    },
    {
     "name": "stdout",
     "output_type": "stream",
     "text": [
      "Experiment  BC3017   blogcatalog3\n",
      "f1_macro (avg):  0.0586539985843\n",
      "f1_micro (avg):  0.181826997673\n",
      "Experiment  BC3017   blogcatalog3\n",
      "f1_macro (avg):  0.0515113628997\n",
      "f1_micro (avg):  0.177560124127\n"
     ]
    }
   ],
   "source": [
    "lg_embeddings('BC3017', 'blogcatalog3')\n",
    "lg_average('BC3017', 'blogcatalog3')\n",
    "lg_all('BC3017', 'blogcatalog3')"
   ]
  },
  {
   "cell_type": "code",
   "execution_count": 87,
   "metadata": {
    "collapsed": false
   },
   "outputs": [
    {
     "name": "stdout",
     "output_type": "stream",
     "text": [
      "Experiment  BC3018   blogcatalog3\n",
      "f1_macro (avg):  0.0358347269964\n",
      "f1_micro (avg):  0.133145849496\n"
     ]
    },
    {
     "name": "stderr",
     "output_type": "stream",
     "text": [
      "/home/hoangnt/anaconda3/lib/python3.5/site-packages/sklearn/metrics/classification.py:1074: UndefinedMetricWarning: F-score is ill-defined and being set to 0.0 in labels with no predicted samples.\n",
      "  'precision', 'predicted', average, warn_for)\n"
     ]
    }
   ],
   "source": [
    "exp_id = 'BC3018'\n",
    "graph_name = 'blogcatalog3'\n",
    "max_iter = 1000\n",
    "portition = 0.5\n",
    "weightfile = '../src/mane/prototype/embeddings/' + exp_id + '.weights'\n",
    "graphfile = '../src/mane/data/' + graph_name\n",
    "with open(weightfile, 'rb') as f:\n",
    "    w = p.load(f)\n",
    "graph = g.graph_from_pickle(graphfile+'.graph', graphfile+'.community')\n",
    "e_norm = normalize((w[0]+w[1])/2)\n",
    "xids, y_train = graph.gen_community(portition)\n",
    "X = [e_norm[i] for i in xids]\n",
    "predictor = LogisticRegression(max_iter=max_iter, n_jobs=2).fit(X, y_train)\n",
    "y_true = [graph._communities[i] for i in graph.nodes()]\n",
    "y_pred = [predictor.predict(e_norm[i].reshape(1,-1))[0] for i in graph.nodes()]\n",
    "print('Experiment ', exp_id, ' ', graph_name)\n",
    "print('f1_macro (avg): ', f1_score(y_true, y_pred, average='macro'))\n",
    "print('f1_micro (avg): ', f1_score(y_true, y_pred, average='micro'))"
   ]
  },
  {
   "cell_type": "code",
   "execution_count": 62,
   "metadata": {
    "collapsed": false
   },
   "outputs": [
    {
     "data": {
      "text/plain": [
       "0.056121148"
      ]
     },
     "execution_count": 62,
     "metadata": {},
     "output_type": "execute_result"
    }
   ],
   "source": [
    "np.dot(e_norm[0], e_norm[2])"
   ]
  },
  {
   "cell_type": "code",
   "execution_count": 77,
   "metadata": {
    "collapsed": false
   },
   "outputs": [
    {
     "name": "stdout",
     "output_type": "stream",
     "text": [
      "Experiment  BC3017   blogcatalog3\n",
      "f1_macro (emb):  0.00697080884053\n",
      "f1_micro (emb):  0.104926299457\n"
     ]
    },
    {
     "name": "stderr",
     "output_type": "stream",
     "text": [
      "/home/hoangnt/anaconda3/lib/python3.5/site-packages/sklearn/metrics/classification.py:1074: UndefinedMetricWarning: F-score is ill-defined and being set to 0.0 in labels with no predicted samples.\n",
      "  'precision', 'predicted', average, warn_for)\n"
     ]
    }
   ],
   "source": [
    "lg_nce('BC3017', 'blogcatalog3')"
   ]
  },
  {
   "cell_type": "code",
   "execution_count": 81,
   "metadata": {
    "collapsed": false
   },
   "outputs": [
    {
     "name": "stdout",
     "output_type": "stream",
     "text": [
      "Experiment  BC3018   blogcatalog3\n",
      "f1_macro (emb):  0.00484540632064\n",
      "f1_micro (emb):  0.104344453064\n"
     ]
    },
    {
     "name": "stderr",
     "output_type": "stream",
     "text": [
      "/home/hoangnt/anaconda3/lib/python3.5/site-packages/sklearn/metrics/classification.py:1074: UndefinedMetricWarning: F-score is ill-defined and being set to 0.0 in labels with no predicted samples.\n",
      "  'precision', 'predicted', average, warn_for)\n"
     ]
    }
   ],
   "source": [
    "lg_nce('BC3018', 'blogcatalog3')"
   ]
  },
  {
   "cell_type": "code",
   "execution_count": 82,
   "metadata": {
    "collapsed": false
   },
   "outputs": [
    {
     "name": "stdout",
     "output_type": "stream",
     "text": [
      "Experiment  BC3018   blogcatalog3\n",
      "f1_macro (avg):  0.0379183026585\n",
      "f1_micro (avg):  0.136830876649\n"
     ]
    },
    {
     "name": "stderr",
     "output_type": "stream",
     "text": [
      "/home/hoangnt/anaconda3/lib/python3.5/site-packages/sklearn/metrics/classification.py:1074: UndefinedMetricWarning: F-score is ill-defined and being set to 0.0 in labels with no predicted samples.\n",
      "  'precision', 'predicted', average, warn_for)\n"
     ]
    }
   ],
   "source": [
    "lg_average('BC3018', 'blogcatalog3')"
   ]
  },
  {
   "cell_type": "code",
   "execution_count": 88,
   "metadata": {
    "collapsed": false
   },
   "outputs": [
    {
     "name": "stdout",
     "output_type": "stream",
     "text": [
      "Experiment  BC3018   blogcatalog3\n",
      "f1_macro (avg):  0.111613353682\n",
      "f1_micro (avg):  0.141582622188\n"
     ]
    }
   ],
   "source": [
    "svc_average('BC3018', 'blogcatalog3')"
   ]
  },
  {
   "cell_type": "code",
   "execution_count": 89,
   "metadata": {
    "collapsed": false
   },
   "outputs": [
    {
     "name": "stdout",
     "output_type": "stream",
     "text": [
      "Experiment  BC3019   blogcatalog3\n",
      "f1_macro (avg):  0.114644283468\n",
      "f1_micro (avg):  0.255042668735\n"
     ]
    },
    {
     "name": "stderr",
     "output_type": "stream",
     "text": [
      "/home/hoangnt/anaconda3/lib/python3.5/site-packages/sklearn/metrics/classification.py:1074: UndefinedMetricWarning: F-score is ill-defined and being set to 0.0 in labels with no predicted samples.\n",
      "  'precision', 'predicted', average, warn_for)\n"
     ]
    }
   ],
   "source": [
    "lg_average('BC3019', 'blogcatalog3')"
   ]
  },
  {
   "cell_type": "code",
   "execution_count": 7,
   "metadata": {
    "collapsed": false
   },
   "outputs": [
    {
     "name": "stdout",
     "output_type": "stream",
     "text": [
      "Experiment  BC3_node2vec   blogcatalog3\n",
      "f1_macro (avg):  0.0372267615661\n",
      "f1_micro (avg):  0.121217998448\n"
     ]
    },
    {
     "name": "stderr",
     "output_type": "stream",
     "text": [
      "/home/hoangnt/anaconda3/lib/python3.5/site-packages/sklearn/metrics/classification.py:1074: UndefinedMetricWarning: F-score is ill-defined and being set to 0.0 in labels with no predicted samples.\n",
      "  'precision', 'predicted', average, warn_for)\n"
     ]
    }
   ],
   "source": [
    "# Test embedding from node2vec\n",
    "\n",
    "exp_id = 'BC3_node2vec'\n",
    "graph_name = 'blogcatalog3'\n",
    "max_iter = 1000\n",
    "portition = 0.5\n",
    "weightfile = '../src/mane/prototype/embeddings/' + exp_id + '.weights'\n",
    "graphfile = '../src/mane/data/' + graph_name\n",
    "with open(weightfile, 'rb') as f:\n",
    "    w = p.load(f)\n",
    "graph = g.graph_from_pickle(graphfile+'.graph', graphfile+'.community')\n",
    "wl = np.ndarray(shape=(10313,128), dtype=np.float32)\n",
    "for i in graph.nodes():\n",
    "    wl[i][:] = w[i]\n",
    "e_norm = normalize(wl)\n",
    "xids, y_train = graph.gen_community(portition)\n",
    "X = [e_norm[i] for i in xids]\n",
    "#predictor = LogisticRegression(max_iter=max_iter, n_jobs=2).fit(X, y_train)\n",
    "predictor = OneVsRestClassifier(LinearSVC(random_state=0)).fit(X, y_train)\n",
    "y_true = [graph._communities[i] for i in graph.nodes()]\n",
    "y_pred = [predictor.predict(e_norm[i].reshape(1,-1))[0] for i in graph.nodes()]\n",
    "print('Experiment ', exp_id, ' ', graph_name)\n",
    "print('f1_macro (avg): ', f1_score(y_true, y_pred, average='macro'))\n",
    "print('f1_micro (avg): ', f1_score(y_true, y_pred, average='micro'))"
   ]
  },
  {
   "cell_type": "code",
   "execution_count": 9,
   "metadata": {
    "collapsed": false
   },
   "outputs": [
    {
     "name": "stdout",
     "output_type": "stream",
     "text": [
      "Experiment  BC3019   blogcatalog3\n",
      "f1_macro (avg):  0.115953017044\n",
      "f1_micro (avg):  0.255139643134\n"
     ]
    },
    {
     "name": "stderr",
     "output_type": "stream",
     "text": [
      "/home/hoangnt/anaconda3/lib/python3.5/site-packages/sklearn/metrics/classification.py:1074: UndefinedMetricWarning: F-score is ill-defined and being set to 0.0 in labels with no predicted samples.\n",
      "  'precision', 'predicted', average, warn_for)\n"
     ]
    }
   ],
   "source": [
    "exp_id = 'BC3019'\n",
    "graph_name = 'blogcatalog3'\n",
    "max_iter = 1000\n",
    "portition = 0.5\n",
    "weightfile = '../src/mane/prototype/embeddings/' + exp_id + '.weights'\n",
    "graphfile = '../src/mane/data/' + graph_name\n",
    "with open(weightfile, 'rb') as f:\n",
    "    w = p.load(f)\n",
    "graph = g.graph_from_pickle(graphfile+'.graph', graphfile+'.community')\n",
    "e_norm = normalize((w[0]+w[1])/2)\n",
    "xids, y_train = graph.gen_community(portition)\n",
    "X = [e_norm[i] for i in xids]\n",
    "predictor = LogisticRegression(max_iter=max_iter, n_jobs=2).fit(X, y_train)\n",
    "y_true = [graph._communities[i] for i in graph.nodes()]\n",
    "y_pred = [predictor.predict(e_norm[i].reshape(1,-1))[0] for i in graph.nodes()]\n",
    "print('Experiment ', exp_id, ' ', graph_name)\n",
    "print('f1_macro (avg): ', f1_score(y_true, y_pred, average='macro'))\n",
    "print('f1_micro (avg): ', f1_score(y_true, y_pred, average='micro'))"
   ]
  },
  {
   "cell_type": "code",
   "execution_count": 16,
   "metadata": {
    "collapsed": false
   },
   "outputs": [
    {
     "name": "stdout",
     "output_type": "stream",
     "text": [
      "Experiment  BC3019   blogcatalog3\n",
      "f1_macro (avg):  0.177792482894\n",
      "f1_micro (avg):  0.263576415826\n"
     ]
    },
    {
     "name": "stderr",
     "output_type": "stream",
     "text": [
      "/home/hoangnt/anaconda3/lib/python3.5/site-packages/sklearn/metrics/classification.py:1074: UndefinedMetricWarning: F-score is ill-defined and being set to 0.0 in labels with no predicted samples.\n",
      "  'precision', 'predicted', average, warn_for)\n"
     ]
    }
   ],
   "source": [
    "svc_average('BC3019', 'blogcatalog3')"
   ]
  },
  {
   "cell_type": "code",
   "execution_count": 18,
   "metadata": {
    "collapsed": false
   },
   "outputs": [
    {
     "name": "stdout",
     "output_type": "stream",
     "text": [
      "Experiment  BC3020   blogcatalog3\n",
      "f1_macro (avg):  0.00723476802024\n",
      "f1_micro (avg):  0.105702094647\n"
     ]
    },
    {
     "name": "stderr",
     "output_type": "stream",
     "text": [
      "/home/hoangnt/anaconda3/lib/python3.5/site-packages/sklearn/metrics/classification.py:1074: UndefinedMetricWarning: F-score is ill-defined and being set to 0.0 in labels with no predicted samples.\n",
      "  'precision', 'predicted', average, warn_for)\n"
     ]
    }
   ],
   "source": [
    "svc_average('BC3020', 'blogcatalog3')"
   ]
  },
  {
   "cell_type": "code",
   "execution_count": null,
   "metadata": {
    "collapsed": true
   },
   "outputs": [],
   "source": []
  }
 ],
 "metadata": {
  "kernelspec": {
   "display_name": "Python [Root]",
   "language": "python",
   "name": "Python [Root]"
  },
  "language_info": {
   "codemirror_mode": {
    "name": "ipython",
    "version": 3
   },
   "file_extension": ".py",
   "mimetype": "text/x-python",
   "name": "python",
   "nbconvert_exporter": "python",
   "pygments_lexer": "ipython3",
   "version": "3.5.2"
  }
 },
 "nbformat": 4,
 "nbformat_minor": 0
}
