{
 "cells": [
  {
   "cell_type": "code",
   "execution_count": 1,
   "metadata": {
    "collapsed": true
   },
   "outputs": [],
   "source": [
    "import sys\n",
    "sys.path.append('../src/mane/prototype/')\n",
    "import numpy as np\n",
    "import graph as g\n",
    "import pickle as p\n",
    "\n",
    "from sklearn.preprocessing import normalize, scale\n",
    "from sklearn.metrics import f1_score\n",
    "from sklearn.multiclass import OneVsRestClassifier\n",
    "from sklearn.svm import LinearSVC"
   ]
  },
  {
   "cell_type": "code",
   "execution_count": 2,
   "metadata": {
    "collapsed": false,
    "scrolled": true
   },
   "outputs": [],
   "source": [
    "# Load weight of experiment B3006 - Check embeddings folder for detail\n",
    "with open('../src/mane/prototype/embeddings/BC3006.weights', 'rb') as f:\n",
    "    w = p.load(f)\n",
    "# Get embedding weight and normalize\n",
    "e_norm = normalize(w[0])\n",
    "# Get average embedding and nce embedding\n",
    "e_nce_norm = normalize((w[0] + w[1]) / 2)"
   ]
  },
  {
   "cell_type": "code",
   "execution_count": 3,
   "metadata": {
    "collapsed": false
   },
   "outputs": [],
   "source": [
    "# Load graph and get predictor\n",
    "bc = g.graph_from_pickle('../src/mane/data/blogcatalog3.graph', \n",
    "                         '../src/mane/data/blogcatalog3.community')\n",
    "xids, y_train = bc.gen_community(0.5)\n",
    "X_emb = [e_norm[i] for i in xids]\n",
    "X_nce = [e_nce_norm[i] for i in xids]\n",
    "predictor = OneVsRestClassifier(LinearSVC(random_state=0)).fit(X_emb, y_train)\n",
    "predictor_nce = OneVsRestClassifier(LinearSVC(random_state=0)).fit(X_nce, y_train)"
   ]
  },
  {
   "cell_type": "code",
   "execution_count": 7,
   "metadata": {
    "collapsed": true
   },
   "outputs": [],
   "source": [
    "# Prediction using trained linear one vs rest model\n",
    "y_true = [bc._communities[i] for i in bc.nodes()]\n",
    "y_pred = [predictor.predict(e_norm[i].reshape(1,-1))[0] for i in bc.nodes()]\n",
    "y_pred_nce =  [predictor_nce.predict(e_nce_norm[i].reshape(1,-1))[0] for i in bc.nodes()]"
   ]
  },
  {
   "cell_type": "code",
   "execution_count": 8,
   "metadata": {
    "collapsed": false
   },
   "outputs": [
    {
     "data": {
      "text/plain": [
       "0.12283970787206759"
      ]
     },
     "execution_count": 8,
     "metadata": {},
     "output_type": "execute_result"
    }
   ],
   "source": [
    "f1_score(y_true, y_pred, average='macro')"
   ]
  },
  {
   "cell_type": "code",
   "execution_count": 9,
   "metadata": {
    "collapsed": false
   },
   "outputs": [
    {
     "data": {
      "text/plain": [
       "0.14268087099584764"
      ]
     },
     "execution_count": 9,
     "metadata": {},
     "output_type": "execute_result"
    }
   ],
   "source": [
    "f1_score(y_true, y_pred_nce, average='macro')"
   ]
  },
  {
   "cell_type": "code",
   "execution_count": 14,
   "metadata": {
    "collapsed": true
   },
   "outputs": [],
   "source": [
    "# Load weight of experiment B3007 - Check embeddings folder for detail\n",
    "with open('../src/mane/prototype/embeddings/BC3007.weights', 'rb') as f:\n",
    "    w = p.load(f)\n",
    "# Get embedding weight and normalize\n",
    "e_norm = normalize(w[0])\n",
    "# Get average embedding and nce embedding\n",
    "e_nce_norm = normalize((w[0] + w[1]) / 2)\n",
    "# Load graph and get predictor\n",
    "bc = g.graph_from_pickle('../src/mane/data/blogcatalog3.graph', \n",
    "                         '../src/mane/data/blogcatalog3.community')\n",
    "xids, y_train = bc.gen_community(0.5)\n",
    "X_emb = [e_norm[i] for i in xids]\n",
    "X_nce = [e_nce_norm[i] for i in xids]\n",
    "predictor = OneVsRestClassifier(LinearSVC(random_state=0)).fit(X_emb, y_train)\n",
    "predictor_nce = OneVsRestClassifier(LinearSVC(random_state=0)).fit(X_nce, y_train)\n",
    "# Prediction using trained linear one vs rest model\n",
    "y_true = [bc._communities[i] for i in bc.nodes()]\n",
    "y_pred = [predictor.predict(e_norm[i].reshape(1,-1))[0] for i in bc.nodes()]\n",
    "y_pred_nce =  [predictor_nce.predict(e_nce_norm[i].reshape(1,-1))[0] for i in bc.nodes()]"
   ]
  },
  {
   "cell_type": "code",
   "execution_count": 15,
   "metadata": {
    "collapsed": false
   },
   "outputs": [
    {
     "data": {
      "text/plain": [
       "0.14618657892076078"
      ]
     },
     "execution_count": 15,
     "metadata": {},
     "output_type": "execute_result"
    }
   ],
   "source": [
    "f1_score(y_true, y_pred, average='macro')"
   ]
  },
  {
   "cell_type": "code",
   "execution_count": 16,
   "metadata": {
    "collapsed": false
   },
   "outputs": [
    {
     "data": {
      "text/plain": [
       "0.15507095024995093"
      ]
     },
     "execution_count": 16,
     "metadata": {},
     "output_type": "execute_result"
    }
   ],
   "source": [
    "f1_score(y_true, y_pred_nce, average='macro')"
   ]
  },
  {
   "cell_type": "code",
   "execution_count": 17,
   "metadata": {
    "collapsed": true
   },
   "outputs": [],
   "source": [
    "# Load weight of experiment B3008 - Check embeddings folder for detail\n",
    "with open('../src/mane/prototype/embeddings/BC3008.weights', 'rb') as f:\n",
    "    w = p.load(f)\n",
    "# Get embedding weight and normalize\n",
    "e_norm = normalize(w[0])\n",
    "# Get average embedding and nce embedding\n",
    "e_nce_norm = normalize((w[0] + w[1]) / 2)\n",
    "# Load graph and get predictor\n",
    "bc = g.graph_from_pickle('../src/mane/data/blogcatalog3.graph', \n",
    "                         '../src/mane/data/blogcatalog3.community')\n",
    "xids, y_train = bc.gen_community(0.5)\n",
    "X_emb = [e_norm[i] for i in xids]\n",
    "X_nce = [e_nce_norm[i] for i in xids]\n",
    "predictor = OneVsRestClassifier(LinearSVC(random_state=0)).fit(X_emb, y_train)\n",
    "predictor_nce = OneVsRestClassifier(LinearSVC(random_state=0)).fit(X_nce, y_train)\n",
    "# Prediction using trained linear one vs rest model\n",
    "y_true = [bc._communities[i] for i in bc.nodes()]\n",
    "y_pred = [predictor.predict(e_norm[i].reshape(1,-1))[0] for i in bc.nodes()]\n",
    "y_pred_nce =  [predictor_nce.predict(e_nce_norm[i].reshape(1,-1))[0] for i in bc.nodes()]"
   ]
  },
  {
   "cell_type": "code",
   "execution_count": 18,
   "metadata": {
    "collapsed": false
   },
   "outputs": [
    {
     "name": "stdout",
     "output_type": "stream",
     "text": [
      "f1_macro (emb):  0.139654355385\n",
      "f1_macro (nce):  0.156255817535\n"
     ]
    }
   ],
   "source": [
    "print('f1_macro (emb): ', f1_score(y_true, y_pred, average='macro'))\n",
    "print('f1_macro (nce): ', f1_score(y_true, y_pred_nce, average='macro'))"
   ]
  },
  {
   "cell_type": "code",
   "execution_count": 19,
   "metadata": {
    "collapsed": false
   },
   "outputs": [
    {
     "name": "stdout",
     "output_type": "stream",
     "text": [
      "f1_macro (emb):  0.156850969434\n",
      "f1_macro (nce):  0.159435551478\n"
     ]
    }
   ],
   "source": [
    "# Load weight of experiment B3009 - Check embeddings folder for detail\n",
    "with open('../src/mane/prototype/embeddings/BC3009.weights', 'rb') as f:\n",
    "    w = p.load(f)\n",
    "# Get embedding weight and normalize\n",
    "e_norm = normalize(w[0])\n",
    "# Get average embedding and nce embedding\n",
    "e_nce_norm = normalize((w[0] + w[1]) / 2)\n",
    "# Load graph and get predictor\n",
    "bc = g.graph_from_pickle('../src/mane/data/blogcatalog3.graph', \n",
    "                         '../src/mane/data/blogcatalog3.community')\n",
    "xids, y_train = bc.gen_community(0.5)\n",
    "X_emb = [e_norm[i] for i in xids]\n",
    "X_nce = [e_nce_norm[i] for i in xids]\n",
    "predictor = OneVsRestClassifier(LinearSVC(random_state=0)).fit(X_emb, y_train)\n",
    "predictor_nce = OneVsRestClassifier(LinearSVC(random_state=0)).fit(X_nce, y_train)\n",
    "# Prediction using trained linear one vs rest model\n",
    "y_true = [bc._communities[i] for i in bc.nodes()]\n",
    "y_pred = [predictor.predict(e_norm[i].reshape(1,-1))[0] for i in bc.nodes()]\n",
    "y_pred_nce =  [predictor_nce.predict(e_nce_norm[i].reshape(1,-1))[0] for i in bc.nodes()]\n",
    "print('f1_macro (emb): ', f1_score(y_true, y_pred, average='macro'))\n",
    "print('f1_macro (nce): ', f1_score(y_true, y_pred_nce, average='macro'))"
   ]
  },
  {
   "cell_type": "code",
   "execution_count": 21,
   "metadata": {
    "collapsed": false,
    "scrolled": true
   },
   "outputs": [
    {
     "name": "stdout",
     "output_type": "stream",
     "text": [
      "f1_macro (emb):  0.161073647489\n",
      "f1_macro (nce):  0.163643236943\n"
     ]
    }
   ],
   "source": [
    "# Load weight of experiment B3010 - Check embeddings folder for detail\n",
    "with open('../src/mane/prototype/embeddings/BC3010.weights', 'rb') as f:\n",
    "    w = p.load(f)\n",
    "# Get embedding weight and normalize\n",
    "e_norm = normalize(w[0])\n",
    "# Get average embedding and nce embedding\n",
    "e_nce_norm = normalize((w[0] + w[1]) / 2)\n",
    "# Load graph and get predictor\n",
    "bc = g.graph_from_pickle('../src/mane/data/blogcatalog3.graph', \n",
    "                         '../src/mane/data/blogcatalog3.community')\n",
    "xids, y_train = bc.gen_community(0.5)\n",
    "X_emb = [e_norm[i] for i in xids]\n",
    "X_nce = [e_nce_norm[i] for i in xids]\n",
    "predictor = OneVsRestClassifier(LinearSVC(random_state=0)).fit(X_emb, y_train)\n",
    "predictor_nce = OneVsRestClassifier(LinearSVC(random_state=0)).fit(X_nce, y_train)\n",
    "# Prediction using trained linear one vs rest model\n",
    "y_true = [bc._communities[i] for i in bc.nodes()]\n",
    "y_pred = [predictor.predict(e_norm[i].reshape(1,-1))[0] for i in bc.nodes()]\n",
    "y_pred_nce =  [predictor_nce.predict(e_nce_norm[i].reshape(1,-1))[0] for i in bc.nodes()]\n",
    "print('f1_macro (emb): ', f1_score(y_true, y_pred, average='macro'))\n",
    "print('f1_macro (nce): ', f1_score(y_true, y_pred_nce, average='macro'))"
   ]
  },
  {
   "cell_type": "code",
   "execution_count": 28,
   "metadata": {
    "collapsed": false
   },
   "outputs": [
    {
     "name": "stdout",
     "output_type": "stream",
     "text": [
      "f1_macro (emb):  0.167695373891\n",
      "f1_macro (nce):  0.196407640089\n"
     ]
    }
   ],
   "source": [
    "# Load weight of experiment B3003 - Check embeddings folder for detail\n",
    "with open('../src/mane/prototype/embeddings/BC3003_b.weights', 'rb') as f:\n",
    "    w = p.load(f)\n",
    "# Get embedding weight and normalize\n",
    "e_norm = normalize(w[0])\n",
    "# Get average embedding and nce embedding\n",
    "e_nce_norm = normalize((w[0] + w[1]) / 2)\n",
    "# Load graph and get predictor\n",
    "bc = g.graph_from_pickle('../src/mane/data/blogcatalog3.graph', \n",
    "                         '../src/mane/data/blogcatalog3.community')\n",
    "xids, y_train = bc.gen_community(0.5)\n",
    "X_emb = [e_norm[i] for i in xids]\n",
    "X_nce = [e_nce_norm[i] for i in xids]\n",
    "predictor = OneVsRestClassifier(LinearSVC(random_state=0)).fit(X_emb, y_train)\n",
    "predictor_nce = OneVsRestClassifier(LinearSVC(random_state=0)).fit(X_nce, y_train)\n",
    "# Prediction using trained linear one vs rest model\n",
    "y_true = [bc._communities[i] for i in bc.nodes()]\n",
    "y_pred = [predictor.predict(e_norm[i].reshape(1,-1))[0] for i in bc.nodes()]\n",
    "y_pred_nce =  [predictor_nce.predict(e_nce_norm[i].reshape(1,-1))[0] for i in bc.nodes()]\n",
    "print('f1_macro (emb): ', f1_score(y_true, y_pred, average='macro'))\n",
    "print('f1_macro (nce): ', f1_score(y_true, y_pred_nce, average='macro'))"
   ]
  },
  {
   "cell_type": "code",
   "execution_count": 11,
   "metadata": {
    "collapsed": false
   },
   "outputs": [
    {
     "name": "stdout",
     "output_type": "stream",
     "text": [
      "f1_macro (emb):  0.140350067328\n",
      "f1_macro (nce):  0.165189952528\n"
     ]
    }
   ],
   "source": [
    "# Load weight of experiment B3011 - Check embeddings folder for detail\n",
    "with open('../src/mane/prototype/embeddings/BC3011.weights', 'rb') as f:\n",
    "    w = p.load(f)\n",
    "# Get embedding weight and normalize\n",
    "e_norm = normalize(w[0])\n",
    "# Get average embedding and nce embedding\n",
    "e_nce_norm = normalize((w[0] + w[1]) / 2)\n",
    "# Load graph and get predictor\n",
    "bc = g.graph_from_pickle('../src/mane/data/blogcatalog3.graph', \n",
    "                         '../src/mane/data/blogcatalog3.community')\n",
    "xids, y_train = bc.gen_community(0.5)\n",
    "X_emb = [e_norm[i] for i in xids]\n",
    "X_nce = [e_nce_norm[i] for i in xids]\n",
    "predictor = OneVsRestClassifier(LinearSVC(random_state=0)).fit(X_emb, y_train)\n",
    "predictor_nce = OneVsRestClassifier(LinearSVC(random_state=0)).fit(X_nce, y_train)\n",
    "# Prediction using trained linear one vs rest model\n",
    "y_true = [bc._communities[i] for i in bc.nodes()]\n",
    "y_pred = [predictor.predict(e_norm[i].reshape(1,-1))[0] for i in bc.nodes()]\n",
    "y_pred_nce =  [predictor_nce.predict(e_nce_norm[i].reshape(1,-1))[0] for i in bc.nodes()]\n",
    "print('f1_macro (emb): ', f1_score(y_true, y_pred, average='macro'))\n",
    "print('f1_macro (nce): ', f1_score(y_true, y_pred_nce, average='macro'))"
   ]
  },
  {
   "cell_type": "code",
   "execution_count": null,
   "metadata": {
    "collapsed": true
   },
   "outputs": [],
   "source": []
  }
 ],
 "metadata": {
  "anaconda-cloud": {},
  "kernelspec": {
   "display_name": "Python [Root]",
   "language": "python",
   "name": "Python [Root]"
  },
  "language_info": {
   "codemirror_mode": {
    "name": "ipython",
    "version": 3
   },
   "file_extension": ".py",
   "mimetype": "text/x-python",
   "name": "python",
   "nbconvert_exporter": "python",
   "pygments_lexer": "ipython3",
   "version": "3.5.2"
  }
 },
 "nbformat": 4,
 "nbformat_minor": 0
}
