{
 "cells": [
  {
   "cell_type": "code",
   "execution_count": 1,
   "metadata": {
    "collapsed": true
   },
   "outputs": [],
   "source": [
    "import sys\n",
    "sys.path.append('../src/mane/prototype/')\n",
    "import numpy as np\n",
    "import graph as g\n",
    "import pickle as p\n",
    "\n",
    "from sklearn.preprocessing import normalize, scale\n",
    "from sklearn.metrics import f1_score\n",
    "from sklearn.multiclass import OneVsRestClassifier\n",
    "from sklearn.svm import LinearSVC\n",
    "from sklearn.linear_model import LogisticRegression"
   ]
  },
  {
   "cell_type": "code",
   "execution_count": 2,
   "metadata": {
    "collapsed": true
   },
   "outputs": [],
   "source": [
    "def lg(exp_id, graph_name, index=[0], norm=False, split=0.5, max_iter=100, C=1e9, ic=500):\n",
    "    weightfile = '../src/mane/prototype/embeddings/' + exp_id + '.weights'\n",
    "    graphfile = '../src/mane/data/' + graph_name\n",
    "    with open(weightfile, 'rb') as f:\n",
    "        w = p.load(f)\n",
    "    graph = g.graph_from_pickle(graphfile+'.graph', graphfile+'.community')\n",
    "    emb = None\n",
    "    if index is None:\n",
    "        emb = w\n",
    "    else:\n",
    "        for i in index:\n",
    "            if emb is None:\n",
    "                emb = w[i]\n",
    "            else:\n",
    "                emb += w[i]\n",
    "        emb /= len(index)\n",
    "    if norm:\n",
    "        emb = normalize(emb)\n",
    "    xids, y_train = graph.gen_training_community(split)\n",
    "    X = [emb[i] for i in xids]\n",
    "    predictor = LogisticRegression(C=C, max_iter=max_iter, \n",
    "                                   n_jobs=-1, intercept_scaling=ic).fit(X, y_train)\n",
    "    y_true = [graph._communities[i] for i in graph.nodes()]\n",
    "    y_pred = [predictor.predict(emb[i].reshape(1,-1))[0] for i in graph.nodes()]\n",
    "    print('Experiment ', exp_id, ' ', graph_name)\n",
    "    print('f1_macro (emb): ', f1_score(y_true, y_pred, average='macro'))\n",
    "    print('f1_micro (emb): ', f1_score(y_true, y_pred, average='micro'))\n",
    "    return y_true, y_pred, emb, predictor, xids, y_train, graph"
   ]
  },
  {
   "cell_type": "code",
   "execution_count": 5,
   "metadata": {
    "collapsed": true
   },
   "outputs": [],
   "source": [
    "# Evaluation excluding training data \n",
    "def lg_blind(exp_id, graph_name, index=[0], norm=False, split=0.5, max_iter=100, C=1e9, ic=500):\n",
    "    weightfile = '../src/mane/prototype/embeddings/' + exp_id + '.weights'\n",
    "    graphfile = '../src/mane/data/' + graph_name\n",
    "    with open(weightfile, 'rb') as f:\n",
    "        w = p.load(f)\n",
    "    graph = g.graph_from_pickle(graphfile+'.graph', graphfile+'.community')\n",
    "    emb = None\n",
    "    if index is None:\n",
    "        emb = w\n",
    "    else:\n",
    "        for i in index:\n",
    "            if emb is None:\n",
    "                emb = w[i]\n",
    "            else:\n",
    "                emb += w[i]\n",
    "        emb /= len(index)\n",
    "    if norm:\n",
    "        emb = normalize(emb)\n",
    "    xids, y_train = graph.gen_training_community(split)\n",
    "    X = [emb[i] for i in xids]\n",
    "    predictor = LogisticRegression(C=C, max_iter=max_iter, \n",
    "                                   n_jobs=-1, intercept_scaling=ic).fit(X, y_train)\n",
    "    eval_list = [i for i in graph.nodes() if i not in xids]\n",
    "    y_true = [graph._communities[i] for i in eval_list]\n",
    "    y_pred = [predictor.predict(emb[i].reshape(1,-1))[0] for i in eval_list]\n",
    "    print('Experiment ', exp_id, ' ', graph_name)\n",
    "    print('f1_macro (emb): ', f1_score(y_true, y_pred, average='macro'))\n",
    "    print('f1_micro (emb): ', f1_score(y_true, y_pred, average='micro'))\n",
    "    return y_true, y_pred, emb, predictor, xids, y_train, graph"
   ]
  },
  {
   "cell_type": "code",
   "execution_count": 3,
   "metadata": {
    "collapsed": true
   },
   "outputs": [
    {
     "name": "stdout",
     "output_type": "stream",
     "text": [
      "Experiment  BC3027   blogcatalog3\n",
      "f1_macro (emb):  0.219340810808\n",
      "f1_micro (emb):  0.255236617533\n",
      "Experiment  BC3027   blogcatalog3\n",
      "f1_macro (emb):  0.219550623436\n",
      "f1_micro (emb):  0.256594259116\n",
      "Experiment  BC3027   blogcatalog3\n",
      "f1_macro (emb):  0.217514126395\n",
      "f1_micro (emb):  0.251745539178\n",
      "Experiment  BC3027   blogcatalog3\n",
      "f1_macro (emb):  0.205920937698\n",
      "f1_micro (emb):  0.248545384019\n",
      "Experiment  BC3027   blogcatalog3\n",
      "f1_macro (emb):  0.212722238944\n",
      "f1_micro (emb):  0.251745539178\n",
      "Experiment  BC3027   blogcatalog3\n",
      "f1_macro (emb):  0.212169575093\n",
      "f1_micro (emb):  0.250193948798\n",
      "Experiment  BC3027   blogcatalog3\n",
      "f1_macro (emb):  0.209820736239\n",
      "f1_micro (emb):  0.251260667184\n",
      "Experiment  BC3027   blogcatalog3\n",
      "f1_macro (emb):  0.219841558458\n",
      "f1_micro (emb):  0.250969743988\n",
      "Experiment  BC3027   blogcatalog3\n",
      "f1_macro (emb):  0.222914009055\n",
      "f1_micro (emb):  0.252715283165\n",
      "Experiment  BC3027   blogcatalog3\n",
      "f1_macro (emb):  0.21712996816\n",
      "f1_micro (emb):  0.249806051202\n"
     ]
    }
   ],
   "source": [
    "for _ in range(10):\n",
    "    lg('BC3027', 'blogcatalog3')"
   ]
  },
  {
   "cell_type": "code",
   "execution_count": 4,
   "metadata": {
    "collapsed": true
   },
   "outputs": [
    {
     "name": "stdout",
     "output_type": "stream",
     "text": [
      "Experiment  BC3027   blogcatalog3\n",
      "f1_macro (emb):  0.220095321555\n",
      "f1_micro (emb):  0.252133436773\n",
      "Experiment  BC3027   blogcatalog3\n",
      "f1_macro (emb):  0.210292012732\n",
      "f1_micro (emb):  0.248836307215\n",
      "Experiment  BC3027   blogcatalog3\n",
      "f1_macro (emb):  0.213477478626\n",
      "f1_micro (emb):  0.252618308766\n",
      "Experiment  BC3027   blogcatalog3\n",
      "f1_macro (emb):  0.216231290275\n",
      "f1_micro (emb):  0.249515128006\n",
      "Experiment  BC3027   blogcatalog3\n",
      "f1_macro (emb):  0.209187291432\n",
      "f1_micro (emb):  0.250193948798\n",
      "Experiment  BC3027   blogcatalog3\n",
      "f1_macro (emb):  0.212264060928\n",
      "f1_micro (emb):  0.250484871994\n",
      "Experiment  BC3027   blogcatalog3\n",
      "f1_macro (emb):  0.210344662384\n",
      "f1_micro (emb):  0.251745539178\n",
      "Experiment  BC3027   blogcatalog3\n",
      "f1_macro (emb):  0.210834861987\n",
      "f1_micro (emb):  0.244763382467\n",
      "Experiment  BC3027   blogcatalog3\n",
      "f1_macro (emb):  0.21620488597\n",
      "f1_micro (emb):  0.253782001552\n",
      "Experiment  BC3027   blogcatalog3\n",
      "f1_macro (emb):  0.209572979136\n",
      "f1_micro (emb):  0.25232738557\n"
     ]
    }
   ],
   "source": [
    "for _ in range(10):\n",
    "    lg('BC3027', 'blogcatalog3', max_iter=1000, C=1e15, ic=210)"
   ]
  },
  {
   "cell_type": "code",
   "execution_count": 6,
   "metadata": {
    "collapsed": true
   },
   "outputs": [
    {
     "name": "stdout",
     "output_type": "stream",
     "text": [
      "Experiment  BC3027   blogcatalog3\n",
      "f1_macro (emb):  0.0931810396325\n",
      "f1_micro (emb):  0.180534055728\n"
     ]
    },
    {
     "name": "stderr",
     "output_type": "stream",
     "text": [
      "/home/hoangnt/anaconda3/lib/python3.5/site-packages/sklearn/metrics/classification.py:1074: UndefinedMetricWarning: F-score is ill-defined and being set to 0.0 in labels with no predicted samples.\n",
      "  'precision', 'predicted', average, warn_for)\n"
     ]
    },
    {
     "name": "stdout",
     "output_type": "stream",
     "text": [
      "Experiment  BC3027   blogcatalog3\n",
      "f1_macro (emb):  0.10314286853\n",
      "f1_micro (emb):  0.188854489164\n",
      "Experiment  BC3027   blogcatalog3\n",
      "f1_macro (emb):  0.0951006520018\n",
      "f1_micro (emb):  0.179373065015\n",
      "Experiment  BC3027   blogcatalog3\n",
      "f1_macro (emb):  0.101985864487\n",
      "f1_micro (emb):  0.190595975232\n",
      "Experiment  BC3027   blogcatalog3\n",
      "f1_macro (emb):  0.0935649786308\n",
      "f1_micro (emb):  0.184017027864\n",
      "Experiment  BC3027   blogcatalog3\n",
      "f1_macro (emb):  0.0936123450619\n",
      "f1_micro (emb):  0.179179566563\n",
      "Experiment  BC3027   blogcatalog3\n",
      "f1_macro (emb):  0.0904955309742\n",
      "f1_micro (emb):  0.180921052632\n",
      "Experiment  BC3027   blogcatalog3\n",
      "f1_macro (emb):  0.10350875807\n",
      "f1_micro (emb):  0.188660990712\n",
      "Experiment  BC3027   blogcatalog3\n",
      "f1_macro (emb):  0.0952439613814\n",
      "f1_micro (emb):  0.18169504644\n",
      "Experiment  BC3027   blogcatalog3\n",
      "f1_macro (emb):  0.0971542525409\n",
      "f1_micro (emb):  0.184404024768\n"
     ]
    }
   ],
   "source": [
    "# Experiments excluding training data shows extremely bad results\n",
    "for _ in range(10):\n",
    "    lg_blind('BC3027', 'blogcatalog3')"
   ]
  },
  {
   "cell_type": "code",
   "execution_count": 8,
   "metadata": {
    "collapsed": true
   },
   "outputs": [
    {
     "name": "stdout",
     "output_type": "stream",
     "text": [
      "Experiment  BC3027   blogcatalog3\n",
      "f1_macro (emb):  0.0952686995995\n",
      "f1_micro (emb):  0.202786377709\n"
     ]
    },
    {
     "name": "stderr",
     "output_type": "stream",
     "text": [
      "/home/hoangnt/anaconda3/lib/python3.5/site-packages/sklearn/metrics/classification.py:1074: UndefinedMetricWarning: F-score is ill-defined and being set to 0.0 in labels with no predicted samples.\n",
      "  'precision', 'predicted', average, warn_for)\n"
     ]
    },
    {
     "name": "stdout",
     "output_type": "stream",
     "text": [
      "Experiment  BC3027   blogcatalog3\n",
      "f1_macro (emb):  0.0944912230997\n",
      "f1_micro (emb):  0.205882352941\n",
      "Experiment  BC3027   blogcatalog3\n",
      "f1_macro (emb):  0.0952417410481\n",
      "f1_micro (emb):  0.206462848297\n",
      "Experiment  BC3027   blogcatalog3\n",
      "f1_macro (emb):  0.0965639753398\n",
      "f1_micro (emb):  0.208010835913\n",
      "Experiment  BC3027   blogcatalog3\n",
      "f1_macro (emb):  0.0908257616305\n",
      "f1_micro (emb):  0.198722910217\n",
      "Experiment  BC3027   blogcatalog3\n",
      "f1_macro (emb):  0.0972160058366\n",
      "f1_micro (emb):  0.206849845201\n",
      "Experiment  BC3027   blogcatalog3\n",
      "f1_macro (emb):  0.0913322993109\n",
      "f1_micro (emb):  0.203366873065\n",
      "Experiment  BC3027   blogcatalog3\n",
      "f1_macro (emb):  0.0976298357878\n",
      "f1_micro (emb):  0.207623839009\n",
      "Experiment  BC3027   blogcatalog3\n",
      "f1_macro (emb):  0.0898440597327\n",
      "f1_micro (emb):  0.201238390093\n",
      "Experiment  BC3027   blogcatalog3\n",
      "f1_macro (emb):  0.0932630011112\n",
      "f1_micro (emb):  0.195433436533\n"
     ]
    }
   ],
   "source": [
    "# Experiments excluding training data shows extremely bad results\n",
    "for _ in range(10):\n",
    "    lg_blind('BC3027', 'blogcatalog3', C=1, ic=1)"
   ]
  },
  {
   "cell_type": "code",
   "execution_count": 10,
   "metadata": {
    "collapsed": true
   },
   "outputs": [
    {
     "name": "stdout",
     "output_type": "stream",
     "text": [
      "Experiment  BC3028   blogcatalog3\n",
      "f1_macro (emb):  0.213999403766\n",
      "f1_micro (emb):  0.253975950349\n",
      "Experiment  BC3028   blogcatalog3\n",
      "f1_macro (emb):  0.223045798608\n",
      "f1_micro (emb):  0.263479441427\n",
      "Experiment  BC3028   blogcatalog3\n",
      "f1_macro (emb):  0.221812481446\n",
      "f1_micro (emb):  0.261442979054\n",
      "Experiment  BC3028   blogcatalog3\n",
      "f1_macro (emb):  0.223815063832\n",
      "f1_micro (emb):  0.260473235066\n",
      "Experiment  BC3028   blogcatalog3\n",
      "f1_macro (emb):  0.21985679345\n",
      "f1_micro (emb):  0.259697439876\n",
      "Experiment  BC3028   blogcatalog3\n",
      "f1_macro (emb):  0.224638568968\n",
      "f1_micro (emb):  0.263479441427\n",
      "Experiment  BC3028   blogcatalog3\n",
      "f1_macro (emb):  0.226129532679\n",
      "f1_micro (emb):  0.262897595035\n",
      "Experiment  BC3028   blogcatalog3\n",
      "f1_macro (emb):  0.234221592424\n",
      "f1_micro (emb):  0.268813033359\n",
      "Experiment  BC3028   blogcatalog3\n",
      "f1_macro (emb):  0.218258691716\n",
      "f1_micro (emb):  0.261055081458\n",
      "Experiment  BC3028   blogcatalog3\n",
      "f1_macro (emb):  0.217104213563\n",
      "f1_micro (emb):  0.261927851047\n"
     ]
    }
   ],
   "source": [
    "for _ in range(10):\n",
    "    lg('BC3028', 'blogcatalog3', max_iter=1000, C=1e15, ic=210)"
   ]
  },
  {
   "cell_type": "code",
   "execution_count": 11,
   "metadata": {
    "collapsed": true
   },
   "outputs": [
    {
     "name": "stdout",
     "output_type": "stream",
     "text": [
      "Experiment  BC3028   blogcatalog3\n",
      "f1_macro (emb):  0.09448175907\n",
      "f1_micro (emb):  0.212267801858\n"
     ]
    },
    {
     "name": "stderr",
     "output_type": "stream",
     "text": [
      "/home/hoangnt/anaconda3/lib/python3.5/site-packages/sklearn/metrics/classification.py:1074: UndefinedMetricWarning: F-score is ill-defined and being set to 0.0 in labels with no predicted samples.\n",
      "  'precision', 'predicted', average, warn_for)\n"
     ]
    },
    {
     "name": "stdout",
     "output_type": "stream",
     "text": [
      "Experiment  BC3028   blogcatalog3\n",
      "f1_macro (emb):  0.0964194164401\n",
      "f1_micro (emb):  0.215750773994\n",
      "Experiment  BC3028   blogcatalog3\n",
      "f1_macro (emb):  0.100618458012\n",
      "f1_micro (emb):  0.218459752322\n",
      "Experiment  BC3028   blogcatalog3\n",
      "f1_macro (emb):  0.0948350015475\n",
      "f1_micro (emb):  0.209945820433\n",
      "Experiment  BC3028   blogcatalog3\n",
      "f1_macro (emb):  0.101391400206\n",
      "f1_micro (emb):  0.215557275542\n",
      "Experiment  BC3028   blogcatalog3\n",
      "f1_macro (emb):  0.100458419123\n",
      "f1_micro (emb):  0.22020123839\n",
      "Experiment  BC3028   blogcatalog3\n",
      "f1_macro (emb):  0.10150633818\n",
      "f1_micro (emb):  0.222716718266\n",
      "Experiment  BC3028   blogcatalog3\n",
      "f1_macro (emb):  0.0942622292313\n",
      "f1_micro (emb):  0.210913312693\n",
      "Experiment  BC3028   blogcatalog3\n",
      "f1_macro (emb):  0.0978910661161\n",
      "f1_micro (emb):  0.214783281734\n",
      "Experiment  BC3028   blogcatalog3\n",
      "f1_macro (emb):  0.100047075437\n",
      "f1_micro (emb):  0.215557275542\n"
     ]
    }
   ],
   "source": [
    "for _ in range(10):\n",
    "    lg_blind('BC3028', 'blogcatalog3', C=1, ic=1)"
   ]
  },
  {
   "cell_type": "code",
   "execution_count": 12,
   "metadata": {
    "collapsed": true
   },
   "outputs": [
    {
     "name": "stdout",
     "output_type": "stream",
     "text": [
      "Experiment  BC3028   blogcatalog3\n",
      "f1_macro (emb):  0.229724495351\n",
      "f1_micro (emb):  0.270655546936\n",
      "Experiment  BC3028   blogcatalog3\n",
      "f1_macro (emb):  0.229977626154\n",
      "f1_micro (emb):  0.271140418929\n",
      "Experiment  BC3028   blogcatalog3\n",
      "f1_macro (emb):  0.240309790505\n",
      "f1_micro (emb):  0.272401086113\n",
      "Experiment  BC3028   blogcatalog3\n",
      "f1_macro (emb):  0.235426010844\n",
      "f1_micro (emb):  0.274340574088\n",
      "Experiment  BC3028   blogcatalog3\n",
      "f1_macro (emb):  0.237096200622\n",
      "f1_micro (emb):  0.27579519007\n",
      "Experiment  BC3028   blogcatalog3\n",
      "f1_macro (emb):  0.238224967573\n",
      "f1_micro (emb):  0.272788983708\n",
      "Experiment  BC3028   blogcatalog3\n",
      "f1_macro (emb):  0.239630380058\n",
      "f1_micro (emb):  0.273855702095\n",
      "Experiment  BC3028   blogcatalog3\n",
      "f1_macro (emb):  0.235116407269\n",
      "f1_micro (emb):  0.271819239721\n",
      "Experiment  BC3028   blogcatalog3\n",
      "f1_macro (emb):  0.242535597115\n",
      "f1_micro (emb):  0.275116369279\n",
      "Experiment  BC3028   blogcatalog3\n",
      "f1_macro (emb):  0.244063926108\n",
      "f1_micro (emb):  0.276377036462\n"
     ]
    }
   ],
   "source": [
    "for _ in range(10):\n",
    "    lg('BC3028', 'blogcatalog3', index=[0,1], norm=True, max_iter=1000, C=1e15, ic=210)"
   ]
  },
  {
   "cell_type": "code",
   "execution_count": 13,
   "metadata": {
    "collapsed": true
   },
   "outputs": [
    {
     "name": "stdout",
     "output_type": "stream",
     "text": [
      "Experiment  BC3028   blogcatalog3\n",
      "f1_macro (emb):  0.101678266365\n",
      "f1_micro (emb):  0.191176470588\n"
     ]
    },
    {
     "name": "stderr",
     "output_type": "stream",
     "text": [
      "/home/hoangnt/anaconda3/lib/python3.5/site-packages/sklearn/metrics/classification.py:1074: UndefinedMetricWarning: F-score is ill-defined and being set to 0.0 in labels with no predicted samples.\n",
      "  'precision', 'predicted', average, warn_for)\n"
     ]
    },
    {
     "name": "stdout",
     "output_type": "stream",
     "text": [
      "Experiment  BC3028   blogcatalog3\n",
      "f1_macro (emb):  0.102267019126\n",
      "f1_micro (emb):  0.198529411765\n",
      "Experiment  BC3028   blogcatalog3\n",
      "f1_macro (emb):  0.106337224615\n",
      "f1_micro (emb):  0.199690402477\n",
      "Experiment  BC3028   blogcatalog3\n",
      "f1_macro (emb):  0.107150241596\n",
      "f1_micro (emb):  0.198722910217\n",
      "Experiment  BC3028   blogcatalog3\n",
      "f1_macro (emb):  0.110716302277\n",
      "f1_micro (emb):  0.198722910217\n",
      "Experiment  BC3028   blogcatalog3\n",
      "f1_macro (emb):  0.110737982459\n",
      "f1_micro (emb):  0.201044891641\n",
      "Experiment  BC3028   blogcatalog3\n",
      "f1_macro (emb):  0.0986068793443\n",
      "f1_micro (emb):  0.18943498452\n",
      "Experiment  BC3028   blogcatalog3\n",
      "f1_macro (emb):  0.109800777535\n",
      "f1_micro (emb):  0.202205882353\n",
      "Experiment  BC3028   blogcatalog3\n",
      "f1_macro (emb):  0.111685568855\n",
      "f1_micro (emb):  0.204140866873\n",
      "Experiment  BC3028   blogcatalog3\n",
      "f1_macro (emb):  0.107677324416\n",
      "f1_micro (emb):  0.196594427245\n"
     ]
    }
   ],
   "source": [
    "for _ in range(10):\n",
    "    lg_blind('BC3028', 'blogcatalog3', index=[0,1], norm=True, max_iter=1000, C=1e15, ic=210)"
   ]
  },
  {
   "cell_type": "code",
   "execution_count": 16,
   "metadata": {
    "collapsed": true
   },
   "outputs": [
    {
     "name": "stdout",
     "output_type": "stream",
     "text": [
      "Experiment  BC3029   blogcatalog3\n",
      "f1_macro (emb):  0.18958969791\n",
      "f1_micro (emb):  0.196761055081\n",
      "Experiment  BC3029   blogcatalog3\n",
      "f1_macro (emb):  0.17449966687\n",
      "f1_micro (emb):  0.191718386346\n",
      "Experiment  BC3029   blogcatalog3\n",
      "f1_macro (emb):  0.176251036602\n",
      "f1_micro (emb):  0.194142746315\n",
      "Experiment  BC3029   blogcatalog3\n",
      "f1_macro (emb):  0.174661689799\n",
      "f1_micro (emb):  0.192106283941\n",
      "Experiment  BC3029   blogcatalog3\n",
      "f1_macro (emb):  0.172795906686\n",
      "f1_micro (emb):  0.195888285493\n",
      "Experiment  BC3029   blogcatalog3\n",
      "f1_macro (emb):  0.174497886162\n",
      "f1_micro (emb):  0.193366951125\n",
      "Experiment  BC3029   blogcatalog3\n",
      "f1_macro (emb):  0.177250439601\n",
      "f1_micro (emb):  0.197439875873\n",
      "Experiment  BC3029   blogcatalog3\n",
      "f1_macro (emb):  0.177302173004\n",
      "f1_micro (emb):  0.19608223429\n",
      "Experiment  BC3029   blogcatalog3\n",
      "f1_macro (emb):  0.174454829719\n",
      "f1_micro (emb):  0.193657874321\n",
      "Experiment  BC3029   blogcatalog3\n",
      "f1_macro (emb):  0.182991307525\n",
      "f1_micro (emb):  0.196761055081\n"
     ]
    }
   ],
   "source": [
    "for _ in range(10):\n",
    "    lg('BC3029', 'blogcatalog3', index=[0,1], norm=True, max_iter=1000, C=1e15, ic=210)"
   ]
  },
  {
   "cell_type": "code",
   "execution_count": 17,
   "metadata": {
    "collapsed": true
   },
   "outputs": [
    {
     "name": "stdout",
     "output_type": "stream",
     "text": [
      "Experiment  BC3026   blogcatalog3\n",
      "f1_macro (emb):  0.222043426209\n",
      "f1_micro (emb):  0.257854926299\n",
      "Experiment  BC3026   blogcatalog3\n",
      "f1_macro (emb):  0.219794769952\n",
      "f1_micro (emb):  0.257564003103\n",
      "Experiment  BC3026   blogcatalog3\n",
      "f1_macro (emb):  0.22006756222\n",
      "f1_micro (emb):  0.257951900698\n",
      "Experiment  BC3026   blogcatalog3\n",
      "f1_macro (emb):  0.227797875877\n",
      "f1_micro (emb):  0.265515903801\n",
      "Experiment  BC3026   blogcatalog3\n",
      "f1_macro (emb):  0.215934186811\n",
      "f1_micro (emb):  0.256012412723\n",
      "Experiment  BC3026   blogcatalog3\n",
      "f1_macro (emb):  0.227319015001\n",
      "f1_micro (emb):  0.263576415826\n",
      "Experiment  BC3026   blogcatalog3\n",
      "f1_macro (emb):  0.216641149058\n",
      "f1_micro (emb):  0.258242823894\n",
      "Experiment  BC3026   blogcatalog3\n",
      "f1_macro (emb):  0.223035082032\n",
      "f1_micro (emb):  0.261346004655\n",
      "Experiment  BC3026   blogcatalog3\n",
      "f1_macro (emb):  0.225589080412\n",
      "f1_micro (emb):  0.260473235066\n",
      "Experiment  BC3026   blogcatalog3\n",
      "f1_macro (emb):  0.229426360561\n",
      "f1_micro (emb):  0.260473235066\n"
     ]
    }
   ],
   "source": [
    "for _ in range(10):\n",
    "    lg('BC3026', 'blogcatalog3', index=[0,1], norm=True, max_iter=1000, C=1e15, ic=210)"
   ]
  },
  {
   "cell_type": "code",
   "execution_count": 18,
   "metadata": {
    "collapsed": true
   },
   "outputs": [
    {
     "name": "stdout",
     "output_type": "stream",
     "text": [
      "Experiment  BC3030   blogcatalog3\n",
      "f1_macro (emb):  0.206922506043\n",
      "f1_micro (emb):  0.238557020946\n",
      "Experiment  BC3030   blogcatalog3\n",
      "f1_macro (emb):  0.205417751205\n",
      "f1_micro (emb):  0.243793638479\n",
      "Experiment  BC3030   blogcatalog3\n",
      "f1_macro (emb):  0.206986702687\n",
      "f1_micro (emb):  0.239138867339\n",
      "Experiment  BC3030   blogcatalog3\n",
      "f1_macro (emb):  0.210225076664\n",
      "f1_micro (emb):  0.239138867339\n",
      "Experiment  BC3030   blogcatalog3\n",
      "f1_macro (emb):  0.210988978063\n",
      "f1_micro (emb):  0.236520558573\n",
      "Experiment  BC3030   blogcatalog3\n",
      "f1_macro (emb):  0.203111361552\n",
      "f1_micro (emb):  0.238750969744\n",
      "Experiment  BC3030   blogcatalog3\n",
      "f1_macro (emb):  0.208442704712\n",
      "f1_micro (emb):  0.237878200155\n",
      "Experiment  BC3030   blogcatalog3\n",
      "f1_macro (emb):  0.205469059113\n",
      "f1_micro (emb):  0.236617532971\n",
      "Experiment  BC3030   blogcatalog3\n",
      "f1_macro (emb):  0.212362464679\n",
      "f1_micro (emb):  0.242629945694\n",
      "Experiment  BC3030   blogcatalog3\n",
      "f1_macro (emb):  0.212186946857\n",
      "f1_micro (emb):  0.240011636928\n"
     ]
    }
   ],
   "source": [
    "for _ in range(10):\n",
    "    lg('BC3030', 'blogcatalog3', index=[0,1], norm=True, max_iter=1000, C=1e15, ic=210)"
   ]
  },
  {
   "cell_type": "code",
   "execution_count": 22,
   "metadata": {
    "collapsed": true
   },
   "outputs": [
    {
     "name": "stdout",
     "output_type": "stream",
     "text": [
      "Experiment  BC3030   blogcatalog3\n",
      "f1_macro (emb):  0.203421626021\n",
      "f1_micro (emb):  0.234484096199\n",
      "Experiment  BC3030   blogcatalog3\n",
      "f1_macro (emb):  0.205568633593\n",
      "f1_micro (emb):  0.236520558573\n",
      "Experiment  BC3030   blogcatalog3\n",
      "f1_macro (emb):  0.211892651072\n",
      "f1_micro (emb):  0.245442203258\n",
      "Experiment  BC3030   blogcatalog3\n",
      "f1_macro (emb):  0.19891154967\n",
      "f1_micro (emb):  0.236811481769\n",
      "Experiment  BC3030   blogcatalog3\n",
      "f1_macro (emb):  0.202837434806\n",
      "f1_micro (emb):  0.236326609775\n",
      "Experiment  BC3030   blogcatalog3\n",
      "f1_macro (emb):  0.205352228515\n",
      "f1_micro (emb):  0.23904189294\n",
      "Experiment  BC3030   blogcatalog3\n",
      "f1_macro (emb):  0.205673619484\n",
      "f1_micro (emb):  0.23826609775\n",
      "Experiment  BC3030   blogcatalog3\n",
      "f1_macro (emb):  0.210680024029\n",
      "f1_micro (emb):  0.239138867339\n",
      "Experiment  BC3030   blogcatalog3\n",
      "f1_macro (emb):  0.207390430664\n",
      "f1_micro (emb):  0.238460046548\n",
      "Experiment  BC3030   blogcatalog3\n",
      "f1_macro (emb):  0.206941520282\n",
      "f1_micro (emb):  0.238944918542\n"
     ]
    }
   ],
   "source": [
    "for _ in range(10):\n",
    "    lg('BC3030', 'blogcatalog3', index=[0,1], norm=True, max_iter=1000, C=1e15, ic=100)"
   ]
  },
  {
   "cell_type": "code",
   "execution_count": 23,
   "metadata": {
    "collapsed": true
   },
   "outputs": [
    {
     "name": "stdout",
     "output_type": "stream",
     "text": [
      "Experiment  BC3030   blogcatalog3\n",
      "f1_macro (emb):  0.207688328391\n",
      "f1_micro (emb):  0.23749030256\n",
      "Experiment  BC3030   blogcatalog3\n",
      "f1_macro (emb):  0.207832811778\n",
      "f1_micro (emb):  0.238169123351\n",
      "Experiment  BC3030   blogcatalog3\n",
      "f1_macro (emb):  0.208303269935\n",
      "f1_micro (emb):  0.239526764934\n",
      "Experiment  BC3030   blogcatalog3\n",
      "f1_macro (emb):  0.21378127655\n",
      "f1_micro (emb):  0.242532971296\n",
      "Experiment  BC3030   blogcatalog3\n",
      "f1_macro (emb):  0.207565866071\n",
      "f1_micro (emb):  0.237587276959\n",
      "Experiment  BC3030   blogcatalog3\n",
      "f1_macro (emb):  0.20539546591\n",
      "f1_micro (emb):  0.23826609775\n",
      "Experiment  BC3030   blogcatalog3\n",
      "f1_macro (emb):  0.20597198371\n",
      "f1_micro (emb):  0.24059348332\n",
      "Experiment  BC3030   blogcatalog3\n",
      "f1_macro (emb):  0.208138322901\n",
      "f1_micro (emb):  0.241660201707\n",
      "Experiment  BC3030   blogcatalog3\n",
      "f1_macro (emb):  0.204190860758\n",
      "f1_micro (emb):  0.240205585725\n",
      "Experiment  BC3030   blogcatalog3\n",
      "f1_macro (emb):  0.204120956643\n",
      "f1_micro (emb):  0.236132660978\n"
     ]
    }
   ],
   "source": [
    "for _ in range(10):\n",
    "    lg('BC3030', 'blogcatalog3', index=[0,1], norm=True, max_iter=10000, C=1e15, ic=210)"
   ]
  },
  {
   "cell_type": "code",
   "execution_count": 24,
   "metadata": {
    "collapsed": true
   },
   "outputs": [
    {
     "name": "stdout",
     "output_type": "stream",
     "text": [
      "Experiment  BC3003   blogcatalog3\n",
      "f1_macro (emb):  0.233033837672\n",
      "f1_micro (emb):  0.271528316524\n",
      "Experiment  BC3003   blogcatalog3\n",
      "f1_macro (emb):  0.230738178138\n",
      "f1_micro (emb):  0.270267649341\n",
      "Experiment  BC3003   blogcatalog3\n",
      "f1_macro (emb):  0.227387998884\n",
      "f1_micro (emb):  0.265321955004\n",
      "Experiment  BC3003   blogcatalog3\n",
      "f1_macro (emb):  0.233004492462\n",
      "f1_micro (emb):  0.269588828549\n",
      "Experiment  BC3003   blogcatalog3\n",
      "f1_macro (emb):  0.239470766465\n",
      "f1_micro (emb):  0.271528316524\n",
      "Experiment  BC3003   blogcatalog3\n",
      "f1_macro (emb):  0.241236353361\n",
      "f1_micro (emb):  0.275407292475\n",
      "Experiment  BC3003   blogcatalog3\n",
      "f1_macro (emb):  0.222317428962\n",
      "f1_micro (emb):  0.264255236618\n",
      "Experiment  BC3003   blogcatalog3\n",
      "f1_macro (emb):  0.234494567131\n",
      "f1_micro (emb):  0.270170674942\n",
      "Experiment  BC3003   blogcatalog3\n",
      "f1_macro (emb):  0.237510405322\n",
      "f1_micro (emb):  0.270849495733\n",
      "Experiment  BC3003   blogcatalog3\n",
      "f1_macro (emb):  0.229881649379\n",
      "f1_micro (emb):  0.270461598138\n"
     ]
    }
   ],
   "source": [
    "for _ in range(10):\n",
    "    lg('BC3003', 'blogcatalog3', index=[0,1], norm=True, max_iter=1000, C=1e15, ic=210)"
   ]
  },
  {
   "cell_type": "code",
   "execution_count": 25,
   "metadata": {
    "collapsed": true
   },
   "outputs": [
    {
     "name": "stdout",
     "output_type": "stream",
     "text": [
      "Experiment  BC3030   blogcatalog3\n",
      "f1_macro (emb):  0.203061803854\n",
      "f1_micro (emb):  0.228859581071\n",
      "Experiment  BC3030   blogcatalog3\n",
      "f1_macro (emb):  0.202054897974\n",
      "f1_micro (emb):  0.226435221102\n",
      "Experiment  BC3030   blogcatalog3\n",
      "f1_macro (emb):  0.20635900728\n",
      "f1_micro (emb):  0.231380915438\n",
      "Experiment  BC3030   blogcatalog3\n",
      "f1_macro (emb):  0.204092102046\n",
      "f1_micro (emb):  0.231574864236\n",
      "Experiment  BC3030   blogcatalog3\n",
      "f1_macro (emb):  0.20210079459\n",
      "f1_micro (emb):  0.230605120248\n",
      "Experiment  BC3030   blogcatalog3\n",
      "f1_macro (emb):  0.207998710109\n",
      "f1_micro (emb):  0.23205973623\n",
      "Experiment  BC3030   blogcatalog3\n",
      "f1_macro (emb):  0.194943247732\n",
      "f1_micro (emb):  0.229150504267\n",
      "Experiment  BC3030   blogcatalog3\n",
      "f1_macro (emb):  0.205290351251\n",
      "f1_micro (emb):  0.229150504267\n",
      "Experiment  BC3030   blogcatalog3\n",
      "f1_macro (emb):  0.208777421792\n",
      "f1_micro (emb):  0.231380915438\n",
      "Experiment  BC3030   blogcatalog3\n",
      "f1_macro (emb):  0.203677020006\n",
      "f1_micro (emb):  0.229538401862\n"
     ]
    }
   ],
   "source": [
    "for _ in range(10):\n",
    "    lg('BC3030', 'blogcatalog3', index=[0], norm=True, max_iter=10000, C=1e15, ic=210)"
   ]
  },
  {
   "cell_type": "code",
   "execution_count": 27,
   "metadata": {
    "collapsed": true
   },
   "outputs": [
    {
     "name": "stdout",
     "output_type": "stream",
     "text": [
      "Experiment  BC3031   blogcatalog3\n",
      "f1_macro (emb):  0.240672976707\n",
      "f1_micro (emb):  0.269879751746\n",
      "Experiment  BC3031   blogcatalog3\n",
      "f1_macro (emb):  0.230497990666\n",
      "f1_micro (emb):  0.271237393328\n",
      "Experiment  BC3031   blogcatalog3\n",
      "f1_macro (emb):  0.237929096648\n",
      "f1_micro (emb):  0.272595034911\n",
      "Experiment  BC3031   blogcatalog3\n",
      "f1_macro (emb):  0.229928243397\n",
      "f1_micro (emb):  0.270267649341\n",
      "Experiment  BC3031   blogcatalog3\n",
      "f1_macro (emb):  0.229259080734\n",
      "f1_micro (emb):  0.266097750194\n",
      "Experiment  BC3031   blogcatalog3\n",
      "f1_macro (emb):  0.238409564314\n",
      "f1_micro (emb):  0.271625290923\n",
      "Experiment  BC3031   blogcatalog3\n",
      "f1_macro (emb):  0.235458655236\n",
      "f1_micro (emb):  0.268231186967\n",
      "Experiment  BC3031   blogcatalog3\n",
      "f1_macro (emb):  0.235367149094\n",
      "f1_micro (emb):  0.271043444531\n",
      "Experiment  BC3031   blogcatalog3\n",
      "f1_macro (emb):  0.234103008224\n",
      "f1_micro (emb):  0.269394879752\n",
      "Experiment  BC3031   blogcatalog3\n",
      "f1_macro (emb):  0.231770331552\n",
      "f1_micro (emb):  0.261636927851\n",
      "Experiment  BC3031   blogcatalog3\n",
      "f1_macro (emb):  0.233306895251\n",
      "f1_micro (emb):  0.268522110163\n",
      "Experiment  BC3031   blogcatalog3\n",
      "f1_macro (emb):  0.234388930325\n",
      "f1_micro (emb):  0.272110162917\n",
      "Experiment  BC3031   blogcatalog3\n",
      "f1_macro (emb):  0.235414760303\n",
      "f1_micro (emb):  0.269103956555\n",
      "Experiment  BC3031   blogcatalog3\n",
      "f1_macro (emb):  0.241226082136\n",
      "f1_micro (emb):  0.27579519007\n",
      "Experiment  BC3031   blogcatalog3\n",
      "f1_macro (emb):  0.236141702562\n",
      "f1_micro (emb):  0.270946470132\n",
      "Experiment  BC3031   blogcatalog3\n",
      "f1_macro (emb):  0.234278175852\n",
      "f1_micro (emb):  0.266097750194\n",
      "Experiment  BC3031   blogcatalog3\n",
      "f1_macro (emb):  0.234564020655\n",
      "f1_micro (emb):  0.271625290923\n",
      "Experiment  BC3031   blogcatalog3\n",
      "f1_macro (emb):  0.23033887109\n",
      "f1_micro (emb):  0.264934057409\n",
      "Experiment  BC3031   blogcatalog3\n",
      "f1_macro (emb):  0.235763434491\n",
      "f1_micro (emb):  0.269103956555\n",
      "Experiment  BC3031   blogcatalog3\n",
      "f1_macro (emb):  0.227718068636\n",
      "f1_micro (emb):  0.266097750194\n"
     ]
    }
   ],
   "source": [
    "for _ in range(20):\n",
    "    lg('BC3031', 'blogcatalog3', index=[0,1], norm=True, max_iter=10000, C=1e15, ic=210)"
   ]
  },
  {
   "cell_type": "code",
   "execution_count": 28,
   "metadata": {
    "collapsed": true
   },
   "outputs": [
    {
     "name": "stdout",
     "output_type": "stream",
     "text": [
      "Experiment  BC3031   blogcatalog3\n",
      "f1_macro (emb):  0.231828283846\n",
      "f1_micro (emb):  0.268813033359\n",
      "Experiment  BC3031   blogcatalog3\n",
      "f1_macro (emb):  0.235546561489\n",
      "f1_micro (emb):  0.268037238169\n",
      "Experiment  BC3031   blogcatalog3\n",
      "f1_macro (emb):  0.228151428361\n",
      "f1_micro (emb):  0.265515903801\n",
      "Experiment  BC3031   blogcatalog3\n",
      "f1_macro (emb):  0.238741082506\n",
      "f1_micro (emb):  0.270461598138\n",
      "Experiment  BC3031   blogcatalog3\n",
      "f1_macro (emb):  0.241483711331\n",
      "f1_micro (emb):  0.271237393328\n",
      "Experiment  BC3031   blogcatalog3\n",
      "f1_macro (emb):  0.23574927333\n",
      "f1_micro (emb):  0.26871605896\n",
      "Experiment  BC3031   blogcatalog3\n",
      "f1_macro (emb):  0.240854370465\n",
      "f1_micro (emb):  0.272304111715\n",
      "Experiment  BC3031   blogcatalog3\n",
      "f1_macro (emb):  0.235189533622\n",
      "f1_micro (emb):  0.272207137316\n",
      "Experiment  BC3031   blogcatalog3\n",
      "f1_macro (emb):  0.236245683791\n",
      "f1_micro (emb):  0.268231186967\n",
      "Experiment  BC3031   blogcatalog3\n",
      "f1_macro (emb):  0.230918160449\n",
      "f1_micro (emb):  0.267746314973\n",
      "Experiment  BC3031   blogcatalog3\n",
      "f1_macro (emb):  0.234486124495\n",
      "f1_micro (emb):  0.26871605896\n",
      "Experiment  BC3031   blogcatalog3\n",
      "f1_macro (emb):  0.23821877652\n",
      "f1_micro (emb):  0.272401086113\n",
      "Experiment  BC3031   blogcatalog3\n",
      "f1_macro (emb):  0.235342457742\n",
      "f1_micro (emb):  0.268425135764\n",
      "Experiment  BC3031   blogcatalog3\n",
      "f1_macro (emb):  0.240771252235\n",
      "f1_micro (emb):  0.272110162917\n",
      "Experiment  BC3031   blogcatalog3\n",
      "f1_macro (emb):  0.234358765488\n",
      "f1_micro (emb):  0.269491854151\n",
      "Experiment  BC3031   blogcatalog3\n",
      "f1_macro (emb):  0.241361650924\n",
      "f1_micro (emb):  0.274922420481\n",
      "Experiment  BC3031   blogcatalog3\n",
      "f1_macro (emb):  0.232324687576\n",
      "f1_micro (emb):  0.267843289372\n",
      "Experiment  BC3031   blogcatalog3\n",
      "f1_macro (emb):  0.238855457709\n",
      "f1_micro (emb):  0.271334367727\n",
      "Experiment  BC3031   blogcatalog3\n",
      "f1_macro (emb):  0.238624637024\n",
      "f1_micro (emb):  0.271625290923\n",
      "Experiment  BC3031   blogcatalog3\n",
      "f1_macro (emb):  0.243016794529\n",
      "f1_micro (emb):  0.273952676493\n"
     ]
    }
   ],
   "source": [
    "for _ in range(20):\n",
    "    lg('BC3031', 'blogcatalog3', index=[0,1], norm=True, max_iter=10000, C=1e5, ic=210)"
   ]
  },
  {
   "cell_type": "code",
   "execution_count": 30,
   "metadata": {
    "collapsed": true
   },
   "outputs": [
    {
     "name": "stdout",
     "output_type": "stream",
     "text": [
      "Experiment  BC3031   blogcatalog3\n",
      "f1_macro (emb):  0.229657949154\n",
      "f1_micro (emb):  0.270461598138\n",
      "Experiment  BC3031   blogcatalog3\n",
      "f1_macro (emb):  0.234023826671\n",
      "f1_micro (emb):  0.268134212568\n",
      "Experiment  BC3031   blogcatalog3\n",
      "f1_macro (emb):  0.238282761491\n",
      "f1_micro (emb):  0.270655546936\n",
      "Experiment  BC3031   blogcatalog3\n",
      "f1_macro (emb):  0.236492433709\n",
      "f1_micro (emb):  0.269394879752\n",
      "Experiment  BC3031   blogcatalog3\n",
      "f1_macro (emb):  0.239963130321\n",
      "f1_micro (emb):  0.273176881303\n",
      "Experiment  BC3031   blogcatalog3\n",
      "f1_macro (emb):  0.232781827575\n",
      "f1_micro (emb):  0.269588828549\n",
      "Experiment  BC3031   blogcatalog3\n",
      "f1_macro (emb):  0.236982080389\n",
      "f1_micro (emb):  0.267552366175\n",
      "Experiment  BC3031   blogcatalog3\n",
      "f1_macro (emb):  0.235220744534\n",
      "f1_micro (emb):  0.269297905353\n",
      "Experiment  BC3031   blogcatalog3\n",
      "f1_macro (emb):  0.236232695193\n",
      "f1_micro (emb):  0.269879751746\n",
      "Experiment  BC3031   blogcatalog3\n",
      "f1_macro (emb):  0.235287917439\n",
      "f1_micro (emb):  0.269685802948\n",
      "Experiment  BC3031   blogcatalog3\n",
      "f1_macro (emb):  0.236818947212\n",
      "f1_micro (emb):  0.269976726144\n",
      "Experiment  BC3031   blogcatalog3\n",
      "f1_macro (emb):  0.227546509366\n",
      "f1_micro (emb):  0.268813033359\n",
      "Experiment  BC3031   blogcatalog3\n",
      "f1_macro (emb):  0.238830088145\n",
      "f1_micro (emb):  0.268328161365\n",
      "Experiment  BC3031   blogcatalog3\n",
      "f1_macro (emb):  0.236428442478\n",
      "f1_micro (emb):  0.269103956555\n",
      "Experiment  BC3031   blogcatalog3\n",
      "f1_macro (emb):  0.233238582885\n",
      "f1_micro (emb):  0.269588828549\n",
      "Experiment  BC3031   blogcatalog3\n",
      "f1_macro (emb):  0.231204788228\n",
      "f1_micro (emb):  0.265224980605\n",
      "Experiment  BC3031   blogcatalog3\n",
      "f1_macro (emb):  0.239820108258\n",
      "f1_micro (emb):  0.270752521334\n",
      "Experiment  BC3031   blogcatalog3\n",
      "f1_macro (emb):  0.236628755407\n",
      "f1_micro (emb):  0.272110162917\n",
      "Experiment  BC3031   blogcatalog3\n",
      "f1_macro (emb):  0.233171599785\n",
      "f1_micro (emb):  0.271916214119\n",
      "Experiment  BC3031   blogcatalog3\n",
      "f1_macro (emb):  0.22858832445\n",
      "f1_micro (emb):  0.267649340574\n"
     ]
    }
   ],
   "source": [
    "for _ in range(20):\n",
    "    lg('BC3031', 'blogcatalog3', index=[0,1], norm=True, max_iter=1000, C=1e5, ic=100)"
   ]
  },
  {
   "cell_type": "code",
   "execution_count": 31,
   "metadata": {
    "collapsed": true
   },
   "outputs": [
    {
     "name": "stdout",
     "output_type": "stream",
     "text": [
      "Experiment  BC3032   blogcatalog3\n",
      "f1_macro (emb):  0.240419909214\n",
      "f1_micro (emb):  0.271722265322\n",
      "Experiment  BC3032   blogcatalog3\n",
      "f1_macro (emb):  0.230847128314\n",
      "f1_micro (emb):  0.263479441427\n",
      "Experiment  BC3032   blogcatalog3\n",
      "f1_macro (emb):  0.225819522635\n",
      "f1_micro (emb):  0.263479441427\n",
      "Experiment  BC3032   blogcatalog3\n",
      "f1_macro (emb):  0.228839106084\n",
      "f1_micro (emb):  0.262024825446\n",
      "Experiment  BC3032   blogcatalog3\n",
      "f1_macro (emb):  0.23627237559\n",
      "f1_micro (emb):  0.264740108611\n",
      "Experiment  BC3032   blogcatalog3\n",
      "f1_macro (emb):  0.229323495818\n",
      "f1_micro (emb):  0.264740108611\n",
      "Experiment  BC3032   blogcatalog3\n",
      "f1_macro (emb):  0.228719722846\n",
      "f1_micro (emb):  0.265903801396\n",
      "Experiment  BC3032   blogcatalog3\n",
      "f1_macro (emb):  0.237586336544\n",
      "f1_micro (emb):  0.269200930954\n",
      "Experiment  BC3032   blogcatalog3\n",
      "f1_macro (emb):  0.234402327581\n",
      "f1_micro (emb):  0.270170674942\n",
      "Experiment  BC3032   blogcatalog3\n",
      "f1_macro (emb):  0.235243716857\n",
      "f1_micro (emb):  0.262218774244\n",
      "Experiment  BC3032   blogcatalog3\n",
      "f1_macro (emb):  0.237783438336\n",
      "f1_micro (emb):  0.26483708301\n",
      "Experiment  BC3032   blogcatalog3\n",
      "f1_macro (emb):  0.232508954719\n",
      "f1_micro (emb):  0.263188518231\n",
      "Experiment  BC3032   blogcatalog3\n",
      "f1_macro (emb):  0.230671106012\n",
      "f1_micro (emb):  0.263576415826\n",
      "Experiment  BC3032   blogcatalog3\n",
      "f1_macro (emb):  0.229753032264\n",
      "f1_micro (emb):  0.266679596587\n",
      "Experiment  BC3032   blogcatalog3\n",
      "f1_macro (emb):  0.234719729587\n",
      "f1_micro (emb):  0.267746314973\n",
      "Experiment  BC3032   blogcatalog3\n",
      "f1_macro (emb):  0.238672100875\n",
      "f1_micro (emb):  0.271140418929\n",
      "Experiment  BC3032   blogcatalog3\n",
      "f1_macro (emb):  0.230042534924\n",
      "f1_micro (emb):  0.264740108611\n",
      "Experiment  BC3032   blogcatalog3\n",
      "f1_macro (emb):  0.231837511927\n",
      "f1_micro (emb):  0.267649340574\n",
      "Experiment  BC3032   blogcatalog3\n",
      "f1_macro (emb):  0.220995193203\n",
      "f1_micro (emb):  0.262994569434\n",
      "Experiment  BC3032   blogcatalog3\n",
      "f1_macro (emb):  0.232871954594\n",
      "f1_micro (emb):  0.269879751746\n"
     ]
    }
   ],
   "source": [
    "for _ in range(20):\n",
    "    lg('BC3032', 'blogcatalog3', index=[0,1], norm=True, max_iter=1000, C=1e5, ic=100)"
   ]
  },
  {
   "cell_type": "code",
   "execution_count": 32,
   "metadata": {
    "collapsed": true
   },
   "outputs": [
    {
     "name": "stdout",
     "output_type": "stream",
     "text": [
      "Experiment  BC3033   blogcatalog3\n",
      "f1_macro (emb):  0.203276893425\n",
      "f1_micro (emb):  0.240399534523\n",
      "Experiment  BC3033   blogcatalog3\n",
      "f1_macro (emb):  0.20522086384\n",
      "f1_micro (emb):  0.238363072149\n",
      "Experiment  BC3033   blogcatalog3\n",
      "f1_macro (emb):  0.202127148942\n",
      "f1_micro (emb):  0.241078355314\n",
      "Experiment  BC3033   blogcatalog3\n",
      "f1_macro (emb):  0.204913232543\n",
      "f1_micro (emb):  0.238072148953\n",
      "Experiment  BC3033   blogcatalog3\n",
      "f1_macro (emb):  0.208032468277\n",
      "f1_micro (emb):  0.244375484872\n",
      "Experiment  BC3033   blogcatalog3\n",
      "f1_macro (emb):  0.207987952883\n",
      "f1_micro (emb):  0.2343871218\n",
      "Experiment  BC3033   blogcatalog3\n",
      "f1_macro (emb):  0.203115477224\n",
      "f1_micro (emb):  0.240981380915\n",
      "Experiment  BC3033   blogcatalog3\n",
      "f1_macro (emb):  0.19910095626\n",
      "f1_micro (emb):  0.238363072149\n",
      "Experiment  BC3033   blogcatalog3\n",
      "f1_macro (emb):  0.200956624974\n",
      "f1_micro (emb):  0.237684251358\n",
      "Experiment  BC3033   blogcatalog3\n",
      "f1_macro (emb):  0.199898729464\n",
      "f1_micro (emb):  0.23671450737\n",
      "Experiment  BC3033   blogcatalog3\n",
      "f1_macro (emb):  0.203523964455\n",
      "f1_micro (emb):  0.240205585725\n",
      "Experiment  BC3033   blogcatalog3\n",
      "f1_macro (emb):  0.203571989866\n",
      "f1_micro (emb):  0.237878200155\n",
      "Experiment  BC3033   blogcatalog3\n",
      "f1_macro (emb):  0.202479334841\n",
      "f1_micro (emb):  0.234968968192\n",
      "Experiment  BC3033   blogcatalog3\n",
      "f1_macro (emb):  0.204954728155\n",
      "f1_micro (emb):  0.236908456168\n",
      "Experiment  BC3033   blogcatalog3\n",
      "f1_macro (emb):  0.211491935564\n",
      "f1_micro (emb):  0.23904189294\n",
      "Experiment  BC3033   blogcatalog3\n",
      "f1_macro (emb):  0.197427534765\n",
      "f1_micro (emb):  0.235453840186\n",
      "Experiment  BC3033   blogcatalog3\n",
      "f1_macro (emb):  0.212954297841\n",
      "f1_micro (emb):  0.24534522886\n",
      "Experiment  BC3033   blogcatalog3\n",
      "f1_macro (emb):  0.21041240559\n",
      "f1_micro (emb):  0.242048099302\n",
      "Experiment  BC3033   blogcatalog3\n",
      "f1_macro (emb):  0.21343333738\n",
      "f1_micro (emb):  0.243890612878\n",
      "Experiment  BC3033   blogcatalog3\n",
      "f1_macro (emb):  0.196018148179\n",
      "f1_micro (emb):  0.237781225756\n"
     ]
    }
   ],
   "source": [
    "for _ in range(20):\n",
    "    lg('BC3033', 'blogcatalog3', index=[0,1], norm=True, max_iter=1000, C=1e5, ic=100)"
   ]
  },
  {
   "cell_type": "code",
   "execution_count": 33,
   "metadata": {
    "collapsed": true
   },
   "outputs": [
    {
     "name": "stdout",
     "output_type": "stream",
     "text": [
      "Experiment  BC3034   blogcatalog3\n",
      "f1_macro (emb):  0.210095303911\n",
      "f1_micro (emb):  0.244375484872\n",
      "Experiment  BC3034   blogcatalog3\n",
      "f1_macro (emb):  0.201663156906\n",
      "f1_micro (emb):  0.238072148953\n",
      "Experiment  BC3034   blogcatalog3\n",
      "f1_macro (emb):  0.197266026583\n",
      "f1_micro (emb):  0.235453840186\n",
      "Experiment  BC3034   blogcatalog3\n",
      "f1_macro (emb):  0.208435493364\n",
      "f1_micro (emb):  0.242048099302\n",
      "Experiment  BC3034   blogcatalog3\n",
      "f1_macro (emb):  0.208370636839\n",
      "f1_micro (emb):  0.244181536074\n",
      "Experiment  BC3034   blogcatalog3\n",
      "f1_macro (emb):  0.211010489639\n",
      "f1_micro (emb):  0.241078355314\n",
      "Experiment  BC3034   blogcatalog3\n",
      "f1_macro (emb):  0.199649007801\n",
      "f1_micro (emb):  0.23671450737\n",
      "Experiment  BC3034   blogcatalog3\n",
      "f1_macro (emb):  0.20907430234\n",
      "f1_micro (emb):  0.241854150504\n",
      "Experiment  BC3034   blogcatalog3\n",
      "f1_macro (emb):  0.205003856236\n",
      "f1_micro (emb):  0.238557020946\n",
      "Experiment  BC3034   blogcatalog3\n",
      "f1_macro (emb):  0.208399485822\n",
      "f1_micro (emb):  0.242242048099\n",
      "Experiment  BC3034   blogcatalog3\n",
      "f1_macro (emb):  0.207293673356\n",
      "f1_micro (emb):  0.238944918542\n",
      "Experiment  BC3034   blogcatalog3\n",
      "f1_macro (emb):  0.214382004347\n",
      "f1_micro (emb):  0.243502715283\n",
      "Experiment  BC3034   blogcatalog3\n",
      "f1_macro (emb):  0.206282841955\n",
      "f1_micro (emb):  0.241563227308\n",
      "Experiment  BC3034   blogcatalog3\n",
      "f1_macro (emb):  0.209781335062\n",
      "f1_micro (emb):  0.244084561676\n",
      "Experiment  BC3034   blogcatalog3\n",
      "f1_macro (emb):  0.201893073227\n",
      "f1_micro (emb):  0.239235841738\n",
      "Experiment  BC3034   blogcatalog3\n",
      "f1_macro (emb):  0.203829016739\n",
      "f1_micro (emb):  0.237975174554\n",
      "Experiment  BC3034   blogcatalog3\n",
      "f1_macro (emb):  0.200493521931\n",
      "f1_micro (emb):  0.239235841738\n",
      "Experiment  BC3034   blogcatalog3\n",
      "f1_macro (emb):  0.206357028506\n",
      "f1_micro (emb):  0.242920868891\n",
      "Experiment  BC3034   blogcatalog3\n",
      "f1_macro (emb):  0.205511951983\n",
      "f1_micro (emb):  0.238847944143\n",
      "Experiment  BC3034   blogcatalog3\n",
      "f1_macro (emb):  0.204457426315\n",
      "f1_micro (emb):  0.236423584174\n"
     ]
    }
   ],
   "source": [
    "for _ in range(20):\n",
    "    lg('BC3034', 'blogcatalog3', index=[0,1], norm=True, max_iter=1000, C=1e5, ic=100)"
   ]
  },
  {
   "cell_type": "code",
   "execution_count": 34,
   "metadata": {
    "collapsed": false
   },
   "outputs": [
    {
     "name": "stdout",
     "output_type": "stream",
     "text": [
      "Experiment  BC3035   blogcatalog3\n",
      "f1_macro (emb):  0.22425380906\n",
      "f1_micro (emb):  0.264255236618\n",
      "Experiment  BC3035   blogcatalog3\n",
      "f1_macro (emb):  0.236400617887\n",
      "f1_micro (emb):  0.268522110163\n",
      "Experiment  BC3035   blogcatalog3\n",
      "f1_macro (emb):  0.232412454974\n",
      "f1_micro (emb):  0.264449185415\n",
      "Experiment  BC3035   blogcatalog3\n",
      "f1_macro (emb):  0.226374346116\n",
      "f1_micro (emb):  0.263479441427\n",
      "Experiment  BC3035   blogcatalog3\n",
      "f1_macro (emb):  0.232033829998\n",
      "f1_micro (emb):  0.266776570985\n",
      "Experiment  BC3035   blogcatalog3\n",
      "f1_macro (emb):  0.22669907025\n",
      "f1_micro (emb):  0.261055081458\n",
      "Experiment  BC3035   blogcatalog3\n",
      "f1_macro (emb):  0.239329240135\n",
      "f1_micro (emb):  0.264158262219\n",
      "Experiment  BC3035   blogcatalog3\n",
      "f1_macro (emb):  0.237367674002\n",
      "f1_micro (emb):  0.263091543832\n",
      "Experiment  BC3035   blogcatalog3\n",
      "f1_macro (emb):  0.224711856757\n",
      "f1_micro (emb):  0.266097750194\n",
      "Experiment  BC3035   blogcatalog3\n",
      "f1_macro (emb):  0.236798135408\n",
      "f1_micro (emb):  0.266097750194\n",
      "Experiment  BC3035   blogcatalog3\n",
      "f1_macro (emb):  0.229274115479\n",
      "f1_micro (emb):  0.26173390225\n",
      "Experiment  BC3035   blogcatalog3\n",
      "f1_macro (emb):  0.225376347481\n",
      "f1_micro (emb):  0.265515903801\n",
      "Experiment  BC3035   blogcatalog3\n",
      "f1_macro (emb):  0.234080138312\n",
      "f1_micro (emb):  0.264934057409\n",
      "Experiment  BC3035   blogcatalog3\n",
      "f1_macro (emb):  0.230856739534\n",
      "f1_micro (emb):  0.266097750194\n",
      "Experiment  BC3035   blogcatalog3\n",
      "f1_macro (emb):  0.227687944758\n",
      "f1_micro (emb):  0.264934057409\n",
      "Experiment  BC3035   blogcatalog3\n",
      "f1_macro (emb):  0.231027059788\n",
      "f1_micro (emb):  0.263479441427\n",
      "Experiment  BC3035   blogcatalog3\n",
      "f1_macro (emb):  0.234016385701\n",
      "f1_micro (emb):  0.266194724593\n",
      "Experiment  BC3035   blogcatalog3\n",
      "f1_macro (emb):  0.237204468604\n",
      "f1_micro (emb):  0.267843289372\n",
      "Experiment  BC3035   blogcatalog3\n",
      "f1_macro (emb):  0.230580961455\n",
      "f1_micro (emb):  0.267067494182\n",
      "Experiment  BC3035   blogcatalog3\n",
      "f1_macro (emb):  0.229389755512\n",
      "f1_micro (emb):  0.263964313421\n"
     ]
    }
   ],
   "source": [
    "for _ in range(20):\n",
    "    lg('BC3035', 'blogcatalog3', index=[0,1], norm=True, max_iter=1000, C=1e5, ic=100)"
   ]
  },
  {
   "cell_type": "code",
   "execution_count": null,
   "metadata": {
    "collapsed": true
   },
   "outputs": [],
   "source": [
    "for _ in range(20):\n",
    "    lg('BC3036', 'blogcatalog3', index=[0,1], norm=True, max_iter=1000, C=1e5, ic=100)"
   ]
  },
  {
   "cell_type": "code",
   "execution_count": null,
   "metadata": {
    "collapsed": true
   },
   "outputs": [],
   "source": []
  }
 ],
 "metadata": {
  "kernelspec": {
   "display_name": "Python [Root]",
   "language": "python",
   "name": "Python [Root]"
  },
  "language_info": {
   "codemirror_mode": {
    "name": "ipython",
    "version": 3
   },
   "file_extension": ".py",
   "mimetype": "text/x-python",
   "name": "python",
   "nbconvert_exporter": "python",
   "pygments_lexer": "ipython3",
   "version": "3.5.2"
  }
 },
 "nbformat": 4,
 "nbformat_minor": 0
}
