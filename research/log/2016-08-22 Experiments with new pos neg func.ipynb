{
 "cells": [
  {
   "cell_type": "code",
   "execution_count": 1,
   "metadata": {
    "collapsed": true
   },
   "outputs": [],
   "source": [
    "import sys\n",
    "sys.path.append('../src/mane/prototype/')\n",
    "import numpy as np\n",
    "import graph as g\n",
    "import pickle as p\n",
    "\n",
    "from sklearn.preprocessing import normalize, scale\n",
    "from sklearn.metrics import f1_score\n",
    "from sklearn.multiclass import OneVsRestClassifier\n",
    "from sklearn.svm import LinearSVC\n",
    "from sklearn.linear_model import LogisticRegression"
   ]
  },
  {
   "cell_type": "code",
   "execution_count": 2,
   "metadata": {
    "collapsed": true
   },
   "outputs": [],
   "source": [
    "def lg(exp_id, graph_name, index=[0], norm=False, split=0.5, max_iter=100, C=1e9, ic=500):\n",
    "    weightfile = '../src/mane/prototype/embeddings/' + exp_id + '.weights'\n",
    "    graphfile = '../src/mane/data/' + graph_name\n",
    "    with open(weightfile, 'rb') as f:\n",
    "        w = p.load(f)\n",
    "    graph = g.graph_from_pickle(graphfile+'.graph', graphfile+'.community')\n",
    "    emb = None\n",
    "    if index is None:\n",
    "        emb = w\n",
    "    else:\n",
    "        for i in index:\n",
    "            if emb is None:\n",
    "                emb = w[i]\n",
    "            else:\n",
    "                emb += w[i]\n",
    "        emb /= len(index)\n",
    "    if norm:\n",
    "        emb = normalize(emb)\n",
    "    xids, y_train = graph.gen_training_community(split)\n",
    "    X = [emb[i] for i in xids]\n",
    "    predictor = LogisticRegression(C=C, max_iter=max_iter, \n",
    "                                   n_jobs=-1, intercept_scaling=ic).fit(X, y_train)\n",
    "    y_true = [graph._communities[i] for i in graph.nodes()]\n",
    "    y_pred = [predictor.predict(emb[i].reshape(1,-1))[0] for i in graph.nodes()]\n",
    "    print('Experiment ', exp_id, ' ', graph_name)\n",
    "    print('f1_macro (emb): ', f1_score(y_true, y_pred, average='macro'))\n",
    "    print('f1_micro (emb): ', f1_score(y_true, y_pred, average='micro'))\n",
    "    return y_true, y_pred, emb, predictor, xids, y_train, graph"
   ]
  },
  {
   "cell_type": "code",
   "execution_count": 5,
   "metadata": {
    "collapsed": true
   },
   "outputs": [],
   "source": [
    "# Evaluation excluding training data \n",
    "def lg_blind(exp_id, graph_name, index=[0], norm=False, split=0.5, max_iter=100, C=1e9, ic=500):\n",
    "    weightfile = '../src/mane/prototype/embeddings/' + exp_id + '.weights'\n",
    "    graphfile = '../src/mane/data/' + graph_name\n",
    "    with open(weightfile, 'rb') as f:\n",
    "        w = p.load(f)\n",
    "    graph = g.graph_from_pickle(graphfile+'.graph', graphfile+'.community')\n",
    "    emb = None\n",
    "    if index is None:\n",
    "        emb = w\n",
    "    else:\n",
    "        for i in index:\n",
    "            if emb is None:\n",
    "                emb = w[i]\n",
    "            else:\n",
    "                emb += w[i]\n",
    "        emb /= len(index)\n",
    "    if norm:\n",
    "        emb = normalize(emb)\n",
    "    xids, y_train = graph.gen_training_community(split)\n",
    "    X = [emb[i] for i in xids]\n",
    "    predictor = LogisticRegression(C=C, max_iter=max_iter, \n",
    "                                   n_jobs=-1, intercept_scaling=ic).fit(X, y_train)\n",
    "    eval_list = [i for i in graph.nodes() if i not in xids]\n",
    "    y_true = [graph._communities[i] for i in eval_list]\n",
    "    y_pred = [predictor.predict(emb[i].reshape(1,-1))[0] for i in eval_list]\n",
    "    print('Experiment ', exp_id, ' ', graph_name)\n",
    "    print('f1_macro (emb): ', f1_score(y_true, y_pred, average='macro'))\n",
    "    print('f1_micro (emb): ', f1_score(y_true, y_pred, average='micro'))\n",
    "    return y_true, y_pred, emb, predictor, xids, y_train, graph"
   ]
  },
  {
   "cell_type": "code",
   "execution_count": 3,
   "metadata": {
    "collapsed": false
   },
   "outputs": [
    {
     "name": "stdout",
     "output_type": "stream",
     "text": [
      "Experiment  BC3027   blogcatalog3\n",
      "f1_macro (emb):  0.219340810808\n",
      "f1_micro (emb):  0.255236617533\n",
      "Experiment  BC3027   blogcatalog3\n",
      "f1_macro (emb):  0.219550623436\n",
      "f1_micro (emb):  0.256594259116\n",
      "Experiment  BC3027   blogcatalog3\n",
      "f1_macro (emb):  0.217514126395\n",
      "f1_micro (emb):  0.251745539178\n",
      "Experiment  BC3027   blogcatalog3\n",
      "f1_macro (emb):  0.205920937698\n",
      "f1_micro (emb):  0.248545384019\n",
      "Experiment  BC3027   blogcatalog3\n",
      "f1_macro (emb):  0.212722238944\n",
      "f1_micro (emb):  0.251745539178\n",
      "Experiment  BC3027   blogcatalog3\n",
      "f1_macro (emb):  0.212169575093\n",
      "f1_micro (emb):  0.250193948798\n",
      "Experiment  BC3027   blogcatalog3\n",
      "f1_macro (emb):  0.209820736239\n",
      "f1_micro (emb):  0.251260667184\n",
      "Experiment  BC3027   blogcatalog3\n",
      "f1_macro (emb):  0.219841558458\n",
      "f1_micro (emb):  0.250969743988\n",
      "Experiment  BC3027   blogcatalog3\n",
      "f1_macro (emb):  0.222914009055\n",
      "f1_micro (emb):  0.252715283165\n",
      "Experiment  BC3027   blogcatalog3\n",
      "f1_macro (emb):  0.21712996816\n",
      "f1_micro (emb):  0.249806051202\n"
     ]
    }
   ],
   "source": [
    "for _ in range(10):\n",
    "    lg('BC3027', 'blogcatalog3')"
   ]
  },
  {
   "cell_type": "code",
   "execution_count": 4,
   "metadata": {
    "collapsed": false
   },
   "outputs": [
    {
     "name": "stdout",
     "output_type": "stream",
     "text": [
      "Experiment  BC3027   blogcatalog3\n",
      "f1_macro (emb):  0.220095321555\n",
      "f1_micro (emb):  0.252133436773\n",
      "Experiment  BC3027   blogcatalog3\n",
      "f1_macro (emb):  0.210292012732\n",
      "f1_micro (emb):  0.248836307215\n",
      "Experiment  BC3027   blogcatalog3\n",
      "f1_macro (emb):  0.213477478626\n",
      "f1_micro (emb):  0.252618308766\n",
      "Experiment  BC3027   blogcatalog3\n",
      "f1_macro (emb):  0.216231290275\n",
      "f1_micro (emb):  0.249515128006\n",
      "Experiment  BC3027   blogcatalog3\n",
      "f1_macro (emb):  0.209187291432\n",
      "f1_micro (emb):  0.250193948798\n",
      "Experiment  BC3027   blogcatalog3\n",
      "f1_macro (emb):  0.212264060928\n",
      "f1_micro (emb):  0.250484871994\n",
      "Experiment  BC3027   blogcatalog3\n",
      "f1_macro (emb):  0.210344662384\n",
      "f1_micro (emb):  0.251745539178\n",
      "Experiment  BC3027   blogcatalog3\n",
      "f1_macro (emb):  0.210834861987\n",
      "f1_micro (emb):  0.244763382467\n",
      "Experiment  BC3027   blogcatalog3\n",
      "f1_macro (emb):  0.21620488597\n",
      "f1_micro (emb):  0.253782001552\n",
      "Experiment  BC3027   blogcatalog3\n",
      "f1_macro (emb):  0.209572979136\n",
      "f1_micro (emb):  0.25232738557\n"
     ]
    }
   ],
   "source": [
    "for _ in range(10):\n",
    "    lg('BC3027', 'blogcatalog3', max_iter=1000, C=1e15, ic=210)"
   ]
  },
  {
   "cell_type": "code",
   "execution_count": 6,
   "metadata": {
    "collapsed": false
   },
   "outputs": [
    {
     "name": "stdout",
     "output_type": "stream",
     "text": [
      "Experiment  BC3027   blogcatalog3\n",
      "f1_macro (emb):  0.0931810396325\n",
      "f1_micro (emb):  0.180534055728\n"
     ]
    },
    {
     "name": "stderr",
     "output_type": "stream",
     "text": [
      "/home/hoangnt/anaconda3/lib/python3.5/site-packages/sklearn/metrics/classification.py:1074: UndefinedMetricWarning: F-score is ill-defined and being set to 0.0 in labels with no predicted samples.\n",
      "  'precision', 'predicted', average, warn_for)\n"
     ]
    },
    {
     "name": "stdout",
     "output_type": "stream",
     "text": [
      "Experiment  BC3027   blogcatalog3\n",
      "f1_macro (emb):  0.10314286853\n",
      "f1_micro (emb):  0.188854489164\n",
      "Experiment  BC3027   blogcatalog3\n",
      "f1_macro (emb):  0.0951006520018\n",
      "f1_micro (emb):  0.179373065015\n",
      "Experiment  BC3027   blogcatalog3\n",
      "f1_macro (emb):  0.101985864487\n",
      "f1_micro (emb):  0.190595975232\n",
      "Experiment  BC3027   blogcatalog3\n",
      "f1_macro (emb):  0.0935649786308\n",
      "f1_micro (emb):  0.184017027864\n",
      "Experiment  BC3027   blogcatalog3\n",
      "f1_macro (emb):  0.0936123450619\n",
      "f1_micro (emb):  0.179179566563\n",
      "Experiment  BC3027   blogcatalog3\n",
      "f1_macro (emb):  0.0904955309742\n",
      "f1_micro (emb):  0.180921052632\n",
      "Experiment  BC3027   blogcatalog3\n",
      "f1_macro (emb):  0.10350875807\n",
      "f1_micro (emb):  0.188660990712\n",
      "Experiment  BC3027   blogcatalog3\n",
      "f1_macro (emb):  0.0952439613814\n",
      "f1_micro (emb):  0.18169504644\n",
      "Experiment  BC3027   blogcatalog3\n",
      "f1_macro (emb):  0.0971542525409\n",
      "f1_micro (emb):  0.184404024768\n"
     ]
    }
   ],
   "source": [
    "# Experiments excluding training data shows extremely bad results\n",
    "for _ in range(10):\n",
    "    lg_blind('BC3027', 'blogcatalog3')"
   ]
  },
  {
   "cell_type": "code",
   "execution_count": 8,
   "metadata": {
    "collapsed": false
   },
   "outputs": [
    {
     "name": "stdout",
     "output_type": "stream",
     "text": [
      "Experiment  BC3027   blogcatalog3\n",
      "f1_macro (emb):  0.0952686995995\n",
      "f1_micro (emb):  0.202786377709\n"
     ]
    },
    {
     "name": "stderr",
     "output_type": "stream",
     "text": [
      "/home/hoangnt/anaconda3/lib/python3.5/site-packages/sklearn/metrics/classification.py:1074: UndefinedMetricWarning: F-score is ill-defined and being set to 0.0 in labels with no predicted samples.\n",
      "  'precision', 'predicted', average, warn_for)\n"
     ]
    },
    {
     "name": "stdout",
     "output_type": "stream",
     "text": [
      "Experiment  BC3027   blogcatalog3\n",
      "f1_macro (emb):  0.0944912230997\n",
      "f1_micro (emb):  0.205882352941\n",
      "Experiment  BC3027   blogcatalog3\n",
      "f1_macro (emb):  0.0952417410481\n",
      "f1_micro (emb):  0.206462848297\n",
      "Experiment  BC3027   blogcatalog3\n",
      "f1_macro (emb):  0.0965639753398\n",
      "f1_micro (emb):  0.208010835913\n",
      "Experiment  BC3027   blogcatalog3\n",
      "f1_macro (emb):  0.0908257616305\n",
      "f1_micro (emb):  0.198722910217\n",
      "Experiment  BC3027   blogcatalog3\n",
      "f1_macro (emb):  0.0972160058366\n",
      "f1_micro (emb):  0.206849845201\n",
      "Experiment  BC3027   blogcatalog3\n",
      "f1_macro (emb):  0.0913322993109\n",
      "f1_micro (emb):  0.203366873065\n",
      "Experiment  BC3027   blogcatalog3\n",
      "f1_macro (emb):  0.0976298357878\n",
      "f1_micro (emb):  0.207623839009\n",
      "Experiment  BC3027   blogcatalog3\n",
      "f1_macro (emb):  0.0898440597327\n",
      "f1_micro (emb):  0.201238390093\n",
      "Experiment  BC3027   blogcatalog3\n",
      "f1_macro (emb):  0.0932630011112\n",
      "f1_micro (emb):  0.195433436533\n"
     ]
    }
   ],
   "source": [
    "# Experiments excluding training data shows extremely bad results\n",
    "for _ in range(10):\n",
    "    lg_blind('BC3027', 'blogcatalog3', C=1, ic=1)"
   ]
  },
  {
   "cell_type": "code",
   "execution_count": 10,
   "metadata": {
    "collapsed": false
   },
   "outputs": [
    {
     "name": "stdout",
     "output_type": "stream",
     "text": [
      "Experiment  BC3028   blogcatalog3\n",
      "f1_macro (emb):  0.213999403766\n",
      "f1_micro (emb):  0.253975950349\n",
      "Experiment  BC3028   blogcatalog3\n",
      "f1_macro (emb):  0.223045798608\n",
      "f1_micro (emb):  0.263479441427\n",
      "Experiment  BC3028   blogcatalog3\n",
      "f1_macro (emb):  0.221812481446\n",
      "f1_micro (emb):  0.261442979054\n",
      "Experiment  BC3028   blogcatalog3\n",
      "f1_macro (emb):  0.223815063832\n",
      "f1_micro (emb):  0.260473235066\n",
      "Experiment  BC3028   blogcatalog3\n",
      "f1_macro (emb):  0.21985679345\n",
      "f1_micro (emb):  0.259697439876\n",
      "Experiment  BC3028   blogcatalog3\n",
      "f1_macro (emb):  0.224638568968\n",
      "f1_micro (emb):  0.263479441427\n",
      "Experiment  BC3028   blogcatalog3\n",
      "f1_macro (emb):  0.226129532679\n",
      "f1_micro (emb):  0.262897595035\n",
      "Experiment  BC3028   blogcatalog3\n",
      "f1_macro (emb):  0.234221592424\n",
      "f1_micro (emb):  0.268813033359\n",
      "Experiment  BC3028   blogcatalog3\n",
      "f1_macro (emb):  0.218258691716\n",
      "f1_micro (emb):  0.261055081458\n",
      "Experiment  BC3028   blogcatalog3\n",
      "f1_macro (emb):  0.217104213563\n",
      "f1_micro (emb):  0.261927851047\n"
     ]
    }
   ],
   "source": [
    "for _ in range(10):\n",
    "    lg('BC3028', 'blogcatalog3', max_iter=1000, C=1e15, ic=210)"
   ]
  },
  {
   "cell_type": "code",
   "execution_count": 11,
   "metadata": {
    "collapsed": false
   },
   "outputs": [
    {
     "name": "stdout",
     "output_type": "stream",
     "text": [
      "Experiment  BC3028   blogcatalog3\n",
      "f1_macro (emb):  0.09448175907\n",
      "f1_micro (emb):  0.212267801858\n"
     ]
    },
    {
     "name": "stderr",
     "output_type": "stream",
     "text": [
      "/home/hoangnt/anaconda3/lib/python3.5/site-packages/sklearn/metrics/classification.py:1074: UndefinedMetricWarning: F-score is ill-defined and being set to 0.0 in labels with no predicted samples.\n",
      "  'precision', 'predicted', average, warn_for)\n"
     ]
    },
    {
     "name": "stdout",
     "output_type": "stream",
     "text": [
      "Experiment  BC3028   blogcatalog3\n",
      "f1_macro (emb):  0.0964194164401\n",
      "f1_micro (emb):  0.215750773994\n",
      "Experiment  BC3028   blogcatalog3\n",
      "f1_macro (emb):  0.100618458012\n",
      "f1_micro (emb):  0.218459752322\n",
      "Experiment  BC3028   blogcatalog3\n",
      "f1_macro (emb):  0.0948350015475\n",
      "f1_micro (emb):  0.209945820433\n",
      "Experiment  BC3028   blogcatalog3\n",
      "f1_macro (emb):  0.101391400206\n",
      "f1_micro (emb):  0.215557275542\n",
      "Experiment  BC3028   blogcatalog3\n",
      "f1_macro (emb):  0.100458419123\n",
      "f1_micro (emb):  0.22020123839\n",
      "Experiment  BC3028   blogcatalog3\n",
      "f1_macro (emb):  0.10150633818\n",
      "f1_micro (emb):  0.222716718266\n",
      "Experiment  BC3028   blogcatalog3\n",
      "f1_macro (emb):  0.0942622292313\n",
      "f1_micro (emb):  0.210913312693\n",
      "Experiment  BC3028   blogcatalog3\n",
      "f1_macro (emb):  0.0978910661161\n",
      "f1_micro (emb):  0.214783281734\n",
      "Experiment  BC3028   blogcatalog3\n",
      "f1_macro (emb):  0.100047075437\n",
      "f1_micro (emb):  0.215557275542\n"
     ]
    }
   ],
   "source": [
    "for _ in range(10):\n",
    "    lg_blind('BC3028', 'blogcatalog3', C=1, ic=1)"
   ]
  },
  {
   "cell_type": "code",
   "execution_count": 12,
   "metadata": {
    "collapsed": false
   },
   "outputs": [
    {
     "name": "stdout",
     "output_type": "stream",
     "text": [
      "Experiment  BC3028   blogcatalog3\n",
      "f1_macro (emb):  0.229724495351\n",
      "f1_micro (emb):  0.270655546936\n",
      "Experiment  BC3028   blogcatalog3\n",
      "f1_macro (emb):  0.229977626154\n",
      "f1_micro (emb):  0.271140418929\n",
      "Experiment  BC3028   blogcatalog3\n",
      "f1_macro (emb):  0.240309790505\n",
      "f1_micro (emb):  0.272401086113\n",
      "Experiment  BC3028   blogcatalog3\n",
      "f1_macro (emb):  0.235426010844\n",
      "f1_micro (emb):  0.274340574088\n",
      "Experiment  BC3028   blogcatalog3\n",
      "f1_macro (emb):  0.237096200622\n",
      "f1_micro (emb):  0.27579519007\n",
      "Experiment  BC3028   blogcatalog3\n",
      "f1_macro (emb):  0.238224967573\n",
      "f1_micro (emb):  0.272788983708\n",
      "Experiment  BC3028   blogcatalog3\n",
      "f1_macro (emb):  0.239630380058\n",
      "f1_micro (emb):  0.273855702095\n",
      "Experiment  BC3028   blogcatalog3\n",
      "f1_macro (emb):  0.235116407269\n",
      "f1_micro (emb):  0.271819239721\n",
      "Experiment  BC3028   blogcatalog3\n",
      "f1_macro (emb):  0.242535597115\n",
      "f1_micro (emb):  0.275116369279\n",
      "Experiment  BC3028   blogcatalog3\n",
      "f1_macro (emb):  0.244063926108\n",
      "f1_micro (emb):  0.276377036462\n"
     ]
    }
   ],
   "source": [
    "for _ in range(10):\n",
    "    lg('BC3028', 'blogcatalog3', index=[0,1], norm=True, max_iter=1000, C=1e15, ic=210)"
   ]
  },
  {
   "cell_type": "code",
   "execution_count": 13,
   "metadata": {
    "collapsed": false
   },
   "outputs": [
    {
     "name": "stdout",
     "output_type": "stream",
     "text": [
      "Experiment  BC3028   blogcatalog3\n",
      "f1_macro (emb):  0.101678266365\n",
      "f1_micro (emb):  0.191176470588\n"
     ]
    },
    {
     "name": "stderr",
     "output_type": "stream",
     "text": [
      "/home/hoangnt/anaconda3/lib/python3.5/site-packages/sklearn/metrics/classification.py:1074: UndefinedMetricWarning: F-score is ill-defined and being set to 0.0 in labels with no predicted samples.\n",
      "  'precision', 'predicted', average, warn_for)\n"
     ]
    },
    {
     "name": "stdout",
     "output_type": "stream",
     "text": [
      "Experiment  BC3028   blogcatalog3\n",
      "f1_macro (emb):  0.102267019126\n",
      "f1_micro (emb):  0.198529411765\n",
      "Experiment  BC3028   blogcatalog3\n",
      "f1_macro (emb):  0.106337224615\n",
      "f1_micro (emb):  0.199690402477\n",
      "Experiment  BC3028   blogcatalog3\n",
      "f1_macro (emb):  0.107150241596\n",
      "f1_micro (emb):  0.198722910217\n",
      "Experiment  BC3028   blogcatalog3\n",
      "f1_macro (emb):  0.110716302277\n",
      "f1_micro (emb):  0.198722910217\n",
      "Experiment  BC3028   blogcatalog3\n",
      "f1_macro (emb):  0.110737982459\n",
      "f1_micro (emb):  0.201044891641\n",
      "Experiment  BC3028   blogcatalog3\n",
      "f1_macro (emb):  0.0986068793443\n",
      "f1_micro (emb):  0.18943498452\n",
      "Experiment  BC3028   blogcatalog3\n",
      "f1_macro (emb):  0.109800777535\n",
      "f1_micro (emb):  0.202205882353\n",
      "Experiment  BC3028   blogcatalog3\n",
      "f1_macro (emb):  0.111685568855\n",
      "f1_micro (emb):  0.204140866873\n",
      "Experiment  BC3028   blogcatalog3\n",
      "f1_macro (emb):  0.107677324416\n",
      "f1_micro (emb):  0.196594427245\n"
     ]
    }
   ],
   "source": [
    "for _ in range(10):\n",
    "    lg_blind('BC3028', 'blogcatalog3', index=[0,1], norm=True, max_iter=1000, C=1e15, ic=210)"
   ]
  },
  {
   "cell_type": "code",
   "execution_count": 16,
   "metadata": {
    "collapsed": false
   },
   "outputs": [
    {
     "name": "stdout",
     "output_type": "stream",
     "text": [
      "Experiment  BC3029   blogcatalog3\n",
      "f1_macro (emb):  0.18958969791\n",
      "f1_micro (emb):  0.196761055081\n",
      "Experiment  BC3029   blogcatalog3\n",
      "f1_macro (emb):  0.17449966687\n",
      "f1_micro (emb):  0.191718386346\n",
      "Experiment  BC3029   blogcatalog3\n",
      "f1_macro (emb):  0.176251036602\n",
      "f1_micro (emb):  0.194142746315\n",
      "Experiment  BC3029   blogcatalog3\n",
      "f1_macro (emb):  0.174661689799\n",
      "f1_micro (emb):  0.192106283941\n",
      "Experiment  BC3029   blogcatalog3\n",
      "f1_macro (emb):  0.172795906686\n",
      "f1_micro (emb):  0.195888285493\n",
      "Experiment  BC3029   blogcatalog3\n",
      "f1_macro (emb):  0.174497886162\n",
      "f1_micro (emb):  0.193366951125\n",
      "Experiment  BC3029   blogcatalog3\n",
      "f1_macro (emb):  0.177250439601\n",
      "f1_micro (emb):  0.197439875873\n",
      "Experiment  BC3029   blogcatalog3\n",
      "f1_macro (emb):  0.177302173004\n",
      "f1_micro (emb):  0.19608223429\n",
      "Experiment  BC3029   blogcatalog3\n",
      "f1_macro (emb):  0.174454829719\n",
      "f1_micro (emb):  0.193657874321\n",
      "Experiment  BC3029   blogcatalog3\n",
      "f1_macro (emb):  0.182991307525\n",
      "f1_micro (emb):  0.196761055081\n"
     ]
    }
   ],
   "source": [
    "for _ in range(10):\n",
    "    lg('BC3029', 'blogcatalog3', index=[0,1], norm=True, max_iter=1000, C=1e15, ic=210)"
   ]
  },
  {
   "cell_type": "code",
   "execution_count": null,
   "metadata": {
    "collapsed": true
   },
   "outputs": [],
   "source": []
  }
 ],
 "metadata": {
  "kernelspec": {
   "display_name": "Python [Root]",
   "language": "python",
   "name": "Python [Root]"
  },
  "language_info": {
   "codemirror_mode": {
    "name": "ipython",
    "version": 3
   },
   "file_extension": ".py",
   "mimetype": "text/x-python",
   "name": "python",
   "nbconvert_exporter": "python",
   "pygments_lexer": "ipython3",
   "version": "3.5.2"
  }
 },
 "nbformat": 4,
 "nbformat_minor": 0
}
