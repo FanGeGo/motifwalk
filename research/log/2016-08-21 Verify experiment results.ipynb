{
 "cells": [
  {
   "cell_type": "code",
   "execution_count": 1,
   "metadata": {
    "collapsed": true
   },
   "outputs": [],
   "source": [
    "import sys\n",
    "sys.path.append('../src/mane/prototype/')\n",
    "import numpy as np\n",
    "import graph as g\n",
    "import pickle as p\n",
    "\n",
    "from sklearn.preprocessing import normalize, scale\n",
    "from sklearn.metrics import f1_score\n",
    "from sklearn.multiclass import OneVsRestClassifier\n",
    "from sklearn.svm import LinearSVC\n",
    "from sklearn.linear_model import LogisticRegression"
   ]
  },
  {
   "cell_type": "code",
   "execution_count": 65,
   "metadata": {
    "collapsed": true
   },
   "outputs": [],
   "source": [
    "def lg(exp_id, graph_name, index=[0], norm=False, split=0.5, max_iter=100, C=1e9, ic=500):\n",
    "    weightfile = '../src/mane/prototype/embeddings/' + exp_id + '.weights'\n",
    "    graphfile = '../src/mane/data/' + graph_name\n",
    "    with open(weightfile, 'rb') as f:\n",
    "        w = p.load(f)\n",
    "    graph = g.graph_from_pickle(graphfile+'.graph', graphfile+'.community')\n",
    "    emb = None\n",
    "    if index is None:\n",
    "        emb = w\n",
    "    else:\n",
    "        for i in index:\n",
    "            if emb is None:\n",
    "                emb = w[i]\n",
    "            else:\n",
    "                emb += w[i]\n",
    "        emb /= len(index)\n",
    "    if norm:\n",
    "        emb = normalize(emb)\n",
    "    xids, y_train = graph.gen_training_community(split)\n",
    "    X = [emb[i] for i in xids]\n",
    "    predictor = LogisticRegression(C=C, max_iter=max_iter, \n",
    "                                   n_jobs=-1, intercept_scaling=ic).fit(X, y_train)\n",
    "    y_true = [graph._communities[i] for i in graph.nodes()]\n",
    "    y_pred = [predictor.predict(emb[i].reshape(1,-1))[0] for i in graph.nodes()]\n",
    "    print('Experiment ', exp_id, ' ', graph_name)\n",
    "    print('f1_macro (emb): ', f1_score(y_true, y_pred, average='macro'))\n",
    "    print('f1_micro (emb): ', f1_score(y_true, y_pred, average='micro'))\n",
    "    return y_true, y_pred, emb, predictor, xids, y_train, graph"
   ]
  },
  {
   "cell_type": "code",
   "execution_count": 14,
   "metadata": {
    "collapsed": false
   },
   "outputs": [
    {
     "name": "stdout",
     "output_type": "stream",
     "text": [
      "Experiment  BC3003   blogcatalog3\n",
      "f1_macro (avg):  0.231464313831\n",
      "f1_micro (avg):  0.269879751746\n",
      "Experiment  BC3003   blogcatalog3\n",
      "f1_macro (avg):  0.231905373246\n",
      "f1_micro (avg):  0.26871605896\n",
      "Experiment  BC3003   blogcatalog3\n",
      "f1_macro (avg):  0.225459827678\n",
      "f1_micro (avg):  0.26406128782\n",
      "Experiment  BC3003   blogcatalog3\n",
      "f1_macro (avg):  0.227966114565\n",
      "f1_micro (avg):  0.263479441427\n",
      "Experiment  BC3003   blogcatalog3\n",
      "f1_macro (avg):  0.223431328045\n",
      "f1_micro (avg):  0.26871605896\n",
      "Experiment  BC3003   blogcatalog3\n",
      "f1_macro (avg):  0.226662751553\n",
      "f1_micro (avg):  0.261636927851\n",
      "Experiment  BC3003   blogcatalog3\n",
      "f1_macro (avg):  0.222029666086\n",
      "f1_micro (avg):  0.26794026377\n",
      "Experiment  BC3003   blogcatalog3\n",
      "f1_macro (avg):  0.236412099949\n",
      "f1_micro (avg):  0.268231186967\n",
      "Experiment  BC3003   blogcatalog3\n",
      "f1_macro (avg):  0.220325754334\n",
      "f1_micro (avg):  0.26095810706\n",
      "Experiment  BC3003   blogcatalog3\n",
      "f1_macro (avg):  0.229073200321\n",
      "f1_micro (avg):  0.267746314973\n"
     ]
    }
   ],
   "source": [
    "# Without high regularization restriction (maybe extreme overfit)\n",
    "for _ in range(10):\n",
    "    lg_average('BC3003', 'blogcatalog3')"
   ]
  },
  {
   "cell_type": "code",
   "execution_count": 16,
   "metadata": {
    "collapsed": false
   },
   "outputs": [
    {
     "name": "stdout",
     "output_type": "stream",
     "text": [
      "Experiment  BC3_deepwalk   blogcatalog3\n",
      "f1_macro (emb):  0.176592490043\n",
      "f1_micro (emb):  0.190942591156\n",
      "Experiment  BC3_deepwalk   blogcatalog3\n",
      "f1_macro (emb):  0.168755210426\n",
      "f1_micro (emb):  0.186675717611\n",
      "Experiment  BC3_deepwalk   blogcatalog3\n",
      "f1_macro (emb):  0.165052734059\n",
      "f1_micro (emb):  0.183669511249\n",
      "Experiment  BC3_deepwalk   blogcatalog3\n",
      "f1_macro (emb):  0.170187811286\n",
      "f1_micro (emb):  0.189584949573\n",
      "Experiment  BC3_deepwalk   blogcatalog3\n",
      "f1_macro (emb):  0.169425552103\n",
      "f1_micro (emb):  0.181536074476\n",
      "Experiment  BC3_deepwalk   blogcatalog3\n",
      "f1_macro (emb):  0.160817582297\n",
      "f1_micro (emb):  0.184639255237\n",
      "Experiment  BC3_deepwalk   blogcatalog3\n",
      "f1_macro (emb):  0.168058670528\n",
      "f1_micro (emb):  0.186772692009\n",
      "Experiment  BC3_deepwalk   blogcatalog3\n",
      "f1_macro (emb):  0.172268980869\n",
      "f1_micro (emb):  0.189487975175\n",
      "Experiment  BC3_deepwalk   blogcatalog3\n",
      "f1_macro (emb):  0.174936647138\n",
      "f1_micro (emb):  0.187257564003\n",
      "Experiment  BC3_deepwalk   blogcatalog3\n",
      "f1_macro (emb):  0.175188436389\n",
      "f1_micro (emb):  0.186772692009\n"
     ]
    }
   ],
   "source": [
    "# Without high regularization\n",
    "for _ in range(10):\n",
    "    lg_embeddings('BC3_deepwalk', 'blogcatalog3')"
   ]
  },
  {
   "cell_type": "code",
   "execution_count": 18,
   "metadata": {
    "collapsed": false
   },
   "outputs": [
    {
     "name": "stdout",
     "output_type": "stream",
     "text": [
      "Experiment  BC3012   blogcatalog3\n",
      "f1_macro (avg):  0.230215879861\n",
      "f1_micro (avg):  0.269976726144\n",
      "Experiment  BC3012   blogcatalog3\n",
      "f1_macro (avg):  0.240204737171\n",
      "f1_micro (avg):  0.276474010861\n",
      "Experiment  BC3012   blogcatalog3\n",
      "f1_macro (avg):  0.237116080153\n",
      "f1_micro (avg):  0.275116369279\n",
      "Experiment  BC3012   blogcatalog3\n",
      "f1_macro (avg):  0.229967973073\n",
      "f1_micro (avg):  0.278510473235\n",
      "Experiment  BC3012   blogcatalog3\n",
      "f1_macro (avg):  0.227415752099\n",
      "f1_micro (avg):  0.271819239721\n",
      "Experiment  BC3012   blogcatalog3\n",
      "f1_macro (avg):  0.231182872668\n",
      "f1_micro (avg):  0.277637703646\n",
      "Experiment  BC3012   blogcatalog3\n",
      "f1_macro (avg):  0.235566378466\n",
      "f1_micro (avg):  0.279965089216\n",
      "Experiment  BC3012   blogcatalog3\n",
      "f1_macro (avg):  0.234393485211\n",
      "f1_micro (avg):  0.276667959659\n",
      "Experiment  BC3012   blogcatalog3\n",
      "f1_macro (avg):  0.23043577756\n",
      "f1_micro (avg):  0.27889837083\n",
      "Experiment  BC3012   blogcatalog3\n",
      "f1_macro (avg):  0.236381520751\n",
      "f1_micro (avg):  0.276183087665\n"
     ]
    }
   ],
   "source": [
    "# Without high regularization restriction (maybe extreme overfit)\n",
    "for _ in range(10):\n",
    "    lg_average('BC3012', 'blogcatalog3')"
   ]
  },
  {
   "cell_type": "code",
   "execution_count": 12,
   "metadata": {
    "collapsed": false
   },
   "outputs": [
    {
     "name": "stdout",
     "output_type": "stream",
     "text": [
      "Experiment  BC3_node2vec   blogcatalog3\n",
      "f1_macro (emb):  0.142211558894\n",
      "f1_micro (emb):  0.138673390225\n"
     ]
    }
   ],
   "source": [
    "# Normalization might increase ~1.5%\n",
    "_ = lg('BC3_node2vec', 'blogcatalog3', None, True, C=1e10)"
   ]
  },
  {
   "cell_type": "code",
   "execution_count": 8,
   "metadata": {
    "collapsed": false
   },
   "outputs": [
    {
     "name": "stdout",
     "output_type": "stream",
     "text": [
      "Experiment  BC3_node2vec   blogcatalog3\n",
      "f1_macro (emb):  0.136424362427\n",
      "f1_micro (emb):  0.127424359969\n"
     ]
    }
   ],
   "source": [
    "# C plays a big role in f1 score, bigger C is better (more overfit)\n",
    "_ = lg('BC3_node2vec', 'blogcatalog3', None, C=1e10)"
   ]
  },
  {
   "cell_type": "code",
   "execution_count": 7,
   "metadata": {
    "collapsed": false
   },
   "outputs": [
    {
     "name": "stdout",
     "output_type": "stream",
     "text": [
      "Experiment  BC3_node2vec   blogcatalog3\n",
      "f1_macro (emb):  0.139981239597\n",
      "f1_micro (emb):  0.12577579519\n"
     ]
    }
   ],
   "source": [
    "# C plays a big role in f1 score, larger C is better (more overfit) and take longer time.\n",
    "_ = lg('BC3_node2vec', 'blogcatalog3', None, C=1e15)"
   ]
  },
  {
   "cell_type": "code",
   "execution_count": 59,
   "metadata": {
    "collapsed": false
   },
   "outputs": [
    {
     "name": "stdout",
     "output_type": "stream",
     "text": [
      "Experiment  BC3_node2vec   blogcatalog3\n",
      "f1_macro (emb):  0.132168967917\n",
      "f1_micro (emb):  0.12810318076\n"
     ]
    }
   ],
   "source": [
    "# Increase ic for node2vec too, but no significant improvement.\n",
    "_ = lg('BC3_node2vec', 'blogcatalog3', None, C=1e15, ic=20)"
   ]
  },
  {
   "cell_type": "code",
   "execution_count": 17,
   "metadata": {
    "collapsed": false
   },
   "outputs": [
    {
     "name": "stdout",
     "output_type": "stream",
     "text": [
      "Experiment  BC3_deepwalk   blogcatalog3\n",
      "f1_macro (emb):  0.159558442833\n",
      "f1_micro (emb):  0.184154383243\n"
     ]
    }
   ],
   "source": [
    "_ = lg('BC3_deepwalk', 'blogcatalog3')"
   ]
  },
  {
   "cell_type": "code",
   "execution_count": 18,
   "metadata": {
    "collapsed": false
   },
   "outputs": [
    {
     "name": "stdout",
     "output_type": "stream",
     "text": [
      "Experiment  BC3_deepwalk   blogcatalog3\n",
      "f1_macro (emb):  0.173899261504\n",
      "f1_micro (emb):  0.187257564003\n"
     ]
    }
   ],
   "source": [
    "_ = lg('BC3_deepwalk', 'blogcatalog3', C=1e10)"
   ]
  },
  {
   "cell_type": "code",
   "execution_count": 19,
   "metadata": {
    "collapsed": false
   },
   "outputs": [
    {
     "name": "stdout",
     "output_type": "stream",
     "text": [
      "Experiment  BC3_deepwalk   blogcatalog3\n",
      "f1_macro (emb):  0.178525504103\n",
      "f1_micro (emb):  0.188712179984\n"
     ]
    }
   ],
   "source": [
    "_ = lg('BC3_deepwalk', 'blogcatalog3', C=1e15)"
   ]
  },
  {
   "cell_type": "code",
   "execution_count": 20,
   "metadata": {
    "collapsed": false
   },
   "outputs": [
    {
     "name": "stdout",
     "output_type": "stream",
     "text": [
      "Experiment  BC3_deepwalk   blogcatalog3\n",
      "f1_macro (emb):  0.179359606732\n",
      "f1_micro (emb):  0.185512024825\n"
     ]
    }
   ],
   "source": [
    "_ = lg('BC3_deepwalk', 'blogcatalog3', norm=True, C=1e15)"
   ]
  },
  {
   "cell_type": "code",
   "execution_count": 21,
   "metadata": {
    "collapsed": false
   },
   "outputs": [
    {
     "name": "stdout",
     "output_type": "stream",
     "text": [
      "Experiment  BC3_deepwalk   blogcatalog3\n",
      "f1_macro (emb):  0.173694083412\n",
      "f1_micro (emb):  0.185512024825\n"
     ]
    }
   ],
   "source": [
    "_ = lg('BC3_deepwalk', 'blogcatalog3', norm=True, C=1e20)"
   ]
  },
  {
   "cell_type": "code",
   "execution_count": 23,
   "metadata": {
    "collapsed": false
   },
   "outputs": [
    {
     "name": "stdout",
     "output_type": "stream",
     "text": [
      "Experiment  BC3_deepwalk   blogcatalog3\n",
      "f1_macro (emb):  0.00484540632064\n",
      "f1_micro (emb):  0.104344453064\n"
     ]
    },
    {
     "name": "stderr",
     "output_type": "stream",
     "text": [
      "/home/hoangnt/anaconda3/lib/python3.5/site-packages/sklearn/metrics/classification.py:1074: UndefinedMetricWarning: F-score is ill-defined and being set to 0.0 in labels with no predicted samples.\n",
      "  'precision', 'predicted', average, warn_for)\n"
     ]
    }
   ],
   "source": [
    "# Test increase intercept scaling (less regularization) = 1e10 \n",
    "_ = lg('BC3_deepwalk', 'blogcatalog3', norm=True, C=1e10)"
   ]
  },
  {
   "cell_type": "code",
   "execution_count": 25,
   "metadata": {
    "collapsed": false
   },
   "outputs": [
    {
     "name": "stdout",
     "output_type": "stream",
     "text": [
      "Experiment  BC3_deepwalk   blogcatalog3\n",
      "f1_macro (emb):  0.00484540632064\n",
      "f1_micro (emb):  0.104344453064\n"
     ]
    },
    {
     "name": "stderr",
     "output_type": "stream",
     "text": [
      "/home/hoangnt/anaconda3/lib/python3.5/site-packages/sklearn/metrics/classification.py:1074: UndefinedMetricWarning: F-score is ill-defined and being set to 0.0 in labels with no predicted samples.\n",
      "  'precision', 'predicted', average, warn_for)\n"
     ]
    }
   ],
   "source": [
    "# Test increase intercept scaling (less regularization) = 1e5\n",
    "_ = lg('BC3_deepwalk', 'blogcatalog3', norm=True, C=1e10)"
   ]
  },
  {
   "cell_type": "code",
   "execution_count": 27,
   "metadata": {
    "collapsed": false
   },
   "outputs": [
    {
     "name": "stdout",
     "output_type": "stream",
     "text": [
      "Experiment  BC3_deepwalk   blogcatalog3\n",
      "f1_macro (emb):  0.179533339032\n",
      "f1_micro (emb):  0.184736229635\n"
     ]
    }
   ],
   "source": [
    "# Test increase intercept scaling (less regularization) = 1\n",
    "_ = lg('BC3_deepwalk', 'blogcatalog3', norm=True, C=1e10)"
   ]
  },
  {
   "cell_type": "code",
   "execution_count": 29,
   "metadata": {
    "collapsed": false
   },
   "outputs": [
    {
     "name": "stdout",
     "output_type": "stream",
     "text": [
      "Experiment  BC3_deepwalk   blogcatalog3\n",
      "f1_macro (emb):  0.168065879964\n",
      "f1_micro (emb):  0.18357253685\n"
     ]
    }
   ],
   "source": [
    "# Test increase intercept scaling (less regularization) = 0.1\n",
    "_ = lg('BC3_deepwalk', 'blogcatalog3', norm=True, C=1e10)"
   ]
  },
  {
   "cell_type": "code",
   "execution_count": 31,
   "metadata": {
    "collapsed": false
   },
   "outputs": [
    {
     "name": "stdout",
     "output_type": "stream",
     "text": [
      "Experiment  BC3_deepwalk   blogcatalog3\n",
      "f1_macro (emb):  0.180549583389\n",
      "f1_micro (emb):  0.182311869666\n"
     ]
    }
   ],
   "source": [
    "# Test increase intercept scaling (less regularization) = 5\n",
    "_ = lg('BC3_deepwalk', 'blogcatalog3', norm=True, C=1e10)"
   ]
  },
  {
   "cell_type": "code",
   "execution_count": 33,
   "metadata": {
    "collapsed": false
   },
   "outputs": [
    {
     "name": "stdout",
     "output_type": "stream",
     "text": [
      "Experiment  BC3_deepwalk   blogcatalog3\n",
      "f1_macro (emb):  0.183072014513\n",
      "f1_micro (emb):  0.190166795966\n"
     ]
    }
   ],
   "source": [
    "# Test increase intercept scaling (less regularization) = 100\n",
    "_ = lg('BC3_deepwalk', 'blogcatalog3', norm=True, C=1e10)"
   ]
  },
  {
   "cell_type": "code",
   "execution_count": 35,
   "metadata": {
    "collapsed": false
   },
   "outputs": [
    {
     "name": "stdout",
     "output_type": "stream",
     "text": [
      "Experiment  BC3_deepwalk   blogcatalog3\n",
      "f1_macro (emb):  0.16228669375\n",
      "f1_micro (emb):  0.170868890613\n"
     ]
    },
    {
     "name": "stderr",
     "output_type": "stream",
     "text": [
      "/home/hoangnt/anaconda3/lib/python3.5/site-packages/sklearn/metrics/classification.py:1074: UndefinedMetricWarning: F-score is ill-defined and being set to 0.0 in labels with no predicted samples.\n",
      "  'precision', 'predicted', average, warn_for)\n"
     ]
    }
   ],
   "source": [
    "# Test increase intercept scaling (less regularization) = 1000\n",
    "_ = lg('BC3_deepwalk', 'blogcatalog3', norm=True, C=1e10)"
   ]
  },
  {
   "cell_type": "code",
   "execution_count": 37,
   "metadata": {
    "collapsed": false
   },
   "outputs": [
    {
     "name": "stdout",
     "output_type": "stream",
     "text": [
      "Experiment  BC3_deepwalk   blogcatalog3\n",
      "f1_macro (emb):  0.182358768162\n",
      "f1_micro (emb):  0.183184639255\n"
     ]
    }
   ],
   "source": [
    "# Test increase intercept scaling (less regularization) = 500\n",
    "_ = lg('BC3_deepwalk', 'blogcatalog3', norm=True, C=1e10, ic=500)"
   ]
  },
  {
   "cell_type": "code",
   "execution_count": 38,
   "metadata": {
    "collapsed": false
   },
   "outputs": [
    {
     "name": "stdout",
     "output_type": "stream",
     "text": [
      "Experiment  BC3_deepwalk   blogcatalog3\n",
      "f1_macro (emb):  0.19052928339\n",
      "f1_micro (emb):  0.188906128782\n"
     ]
    }
   ],
   "source": [
    "# Test increase intercept scaling (less regularization) = 200\n",
    "_ = lg('BC3_deepwalk', 'blogcatalog3', norm=True, C=1e10, ic=200)"
   ]
  },
  {
   "cell_type": "code",
   "execution_count": 39,
   "metadata": {
    "collapsed": false
   },
   "outputs": [
    {
     "name": "stdout",
     "output_type": "stream",
     "text": [
      "Experiment  BC3_deepwalk   blogcatalog3\n",
      "f1_macro (emb):  0.178623753489\n",
      "f1_micro (emb):  0.185415050427\n"
     ]
    }
   ],
   "source": [
    "# Test increase intercept scaling (less regularization) = 300\n",
    "_ = lg('BC3_deepwalk', 'blogcatalog3', norm=True, C=1e10, ic=300)"
   ]
  },
  {
   "cell_type": "code",
   "execution_count": 40,
   "metadata": {
    "collapsed": false
   },
   "outputs": [
    {
     "name": "stdout",
     "output_type": "stream",
     "text": [
      "Experiment  BC3_deepwalk   blogcatalog3\n",
      "f1_macro (emb):  0.186272138262\n",
      "f1_micro (emb):  0.18589992242\n"
     ]
    }
   ],
   "source": [
    "# Test increase intercept scaling (less regularization) = 250\n",
    "_ = lg('BC3_deepwalk', 'blogcatalog3', norm=True, C=1e10, ic=250)"
   ]
  },
  {
   "cell_type": "code",
   "execution_count": 41,
   "metadata": {
    "collapsed": false
   },
   "outputs": [
    {
     "name": "stdout",
     "output_type": "stream",
     "text": [
      "Experiment  BC3012   blogcatalog3\n",
      "f1_macro (emb):  0.209849459982\n",
      "f1_micro (emb):  0.239429790535\n"
     ]
    }
   ],
   "source": [
    "# Test increase intercept scaling (less regularization) = 200\n",
    "_ = lg('BC3012', 'blogcatalog3', norm=True, C=1e10, ic=200)"
   ]
  },
  {
   "cell_type": "code",
   "execution_count": 42,
   "metadata": {
    "collapsed": false
   },
   "outputs": [
    {
     "name": "stdout",
     "output_type": "stream",
     "text": [
      "Experiment  BC3012   blogcatalog3\n",
      "f1_macro (emb):  0.232876907793\n",
      "f1_micro (emb):  0.27812257564\n"
     ]
    }
   ],
   "source": [
    "# Test increase intercept scaling (less regularization) = 200\n",
    "_ = lg('BC3012', 'blogcatalog3', index=[0,1], norm=True, C=1e10, ic=200)"
   ]
  },
  {
   "cell_type": "code",
   "execution_count": 44,
   "metadata": {
    "collapsed": false
   },
   "outputs": [
    {
     "name": "stdout",
     "output_type": "stream",
     "text": [
      "Experiment  BC3012   blogcatalog3\n",
      "f1_macro (emb):  0.233082461595\n",
      "f1_micro (emb):  0.27967416602\n"
     ]
    }
   ],
   "source": [
    "# Test increase intercept scaling (less regularization) = 200\n",
    "_ = lg('BC3012', 'blogcatalog3', index=[0,1], norm=True, C=1e10, ic=220)"
   ]
  },
  {
   "cell_type": "code",
   "execution_count": 46,
   "metadata": {
    "collapsed": false
   },
   "outputs": [
    {
     "name": "stdout",
     "output_type": "stream",
     "text": [
      "Experiment  BC3025   blogcatalog3\n",
      "f1_macro (emb):  0.246718317201\n",
      "f1_micro (emb):  0.282971295578\n"
     ]
    }
   ],
   "source": [
    "# Note: This is still random walk\n",
    "_ = lg('BC3025', 'blogcatalog3', index=[0,1], norm=True, C=1e10, ic=220)"
   ]
  },
  {
   "cell_type": "code",
   "execution_count": 47,
   "metadata": {
    "collapsed": false
   },
   "outputs": [
    {
     "name": "stdout",
     "output_type": "stream",
     "text": [
      "Experiment  BC3024   blogcatalog3\n",
      "f1_macro (emb):  0.165170496715\n",
      "f1_micro (emb):  0.175426687355\n"
     ]
    }
   ],
   "source": [
    "# Check result of ex24 with much less num_walk than 25\n",
    "_ = lg('BC3024', 'blogcatalog3', index=[0,1], norm=True, C=1e10, ic=220)"
   ]
  },
  {
   "cell_type": "code",
   "execution_count": 61,
   "metadata": {
    "collapsed": false
   },
   "outputs": [
    {
     "name": "stdout",
     "output_type": "stream",
     "text": [
      "Experiment  BC3025   blogcatalog3\n",
      "f1_macro (emb):  0.231367291946\n",
      "f1_micro (emb):  0.274049650892\n",
      "Experiment  BC3025   blogcatalog3\n",
      "f1_macro (emb):  0.240162489034\n",
      "f1_micro (emb):  0.279480217223\n",
      "Experiment  BC3025   blogcatalog3\n",
      "f1_macro (emb):  0.234634939919\n",
      "f1_micro (emb):  0.276280062064\n",
      "Experiment  BC3025   blogcatalog3\n",
      "f1_macro (emb):  0.257472767209\n",
      "f1_micro (emb):  0.286462373933\n",
      "Experiment  BC3025   blogcatalog3\n",
      "f1_macro (emb):  0.243036177004\n",
      "f1_micro (emb):  0.278219550039\n",
      "Experiment  BC3025   blogcatalog3\n",
      "f1_macro (emb):  0.250303983259\n",
      "f1_micro (emb):  0.283359193173\n",
      "Experiment  BC3025   blogcatalog3\n",
      "f1_macro (emb):  0.24255831965\n",
      "f1_micro (emb):  0.279286268425\n",
      "Experiment  BC3025   blogcatalog3\n",
      "f1_macro (emb):  0.242226100945\n",
      "f1_micro (emb):  0.281710628394\n",
      "Experiment  BC3025   blogcatalog3\n",
      "f1_macro (emb):  0.246300652772\n",
      "f1_micro (emb):  0.284522885958\n",
      "Experiment  BC3025   blogcatalog3\n",
      "f1_macro (emb):  0.241641796936\n",
      "f1_micro (emb):  0.281322730799\n"
     ]
    }
   ],
   "source": [
    "for _ in range(10):\n",
    "    lg('BC3025', 'blogcatalog3', index=[0,1], norm=True, C=1e15, ic=230)"
   ]
  },
  {
   "cell_type": "code",
   "execution_count": 63,
   "metadata": {
    "collapsed": false
   },
   "outputs": [
    {
     "name": "stdout",
     "output_type": "stream",
     "text": [
      "Experiment  BC3025   blogcatalog3\n",
      "f1_macro (emb):  0.224380957857\n",
      "f1_micro (emb):  0.23283553142\n",
      "Experiment  BC3025   blogcatalog3\n",
      "f1_macro (emb):  0.223271052248\n",
      "f1_micro (emb):  0.231380915438\n",
      "Experiment  BC3025   blogcatalog3\n",
      "f1_macro (emb):  0.221421182605\n",
      "f1_micro (emb):  0.229538401862\n",
      "Experiment  BC3025   blogcatalog3\n",
      "f1_macro (emb):  0.223983957479\n",
      "f1_micro (emb):  0.232156710628\n",
      "Experiment  BC3025   blogcatalog3\n",
      "f1_macro (emb):  0.230403768585\n",
      "f1_micro (emb):  0.232738557021\n",
      "Experiment  BC3025   blogcatalog3\n",
      "f1_macro (emb):  0.22186299814\n",
      "f1_micro (emb):  0.227986811482\n",
      "Experiment  BC3025   blogcatalog3\n",
      "f1_macro (emb):  0.215577851566\n",
      "f1_micro (emb):  0.227114041893\n",
      "Experiment  BC3025   blogcatalog3\n",
      "f1_macro (emb):  0.21914005075\n",
      "f1_micro (emb):  0.227889837083\n",
      "Experiment  BC3025   blogcatalog3\n",
      "f1_macro (emb):  0.229582394109\n",
      "f1_micro (emb):  0.234775019395\n",
      "Experiment  BC3025   blogcatalog3\n",
      "f1_macro (emb):  0.222870394891\n",
      "f1_micro (emb):  0.228083785881\n"
     ]
    }
   ],
   "source": [
    "# Test if balancing the class weight will give better results - Nope!\n",
    "for _ in range(10):\n",
    "    lg('BC3025', 'blogcatalog3', index=[0,1], norm=True, C=1e15, ic=230)"
   ]
  },
  {
   "cell_type": "code",
   "execution_count": 64,
   "metadata": {
    "collapsed": false
   },
   "outputs": [
    {
     "name": "stdout",
     "output_type": "stream",
     "text": [
      "Experiment  BC3012   blogcatalog3\n",
      "f1_macro (emb):  0.214191739416\n",
      "f1_micro (emb):  0.22498060512\n",
      "Experiment  BC3012   blogcatalog3\n",
      "f1_macro (emb):  0.22357130585\n",
      "f1_micro (emb):  0.228083785881\n",
      "Experiment  BC3012   blogcatalog3\n",
      "f1_macro (emb):  0.218972529614\n",
      "f1_micro (emb):  0.225853374709\n",
      "Experiment  BC3012   blogcatalog3\n",
      "f1_macro (emb):  0.224612124085\n",
      "f1_micro (emb):  0.231380915438\n",
      "Experiment  BC3012   blogcatalog3\n",
      "f1_macro (emb):  0.21616459147\n",
      "f1_micro (emb):  0.227211016292\n",
      "Experiment  BC3012   blogcatalog3\n",
      "f1_macro (emb):  0.215718913787\n",
      "f1_micro (emb):  0.227695888285\n",
      "Experiment  BC3012   blogcatalog3\n",
      "f1_macro (emb):  0.210375258756\n",
      "f1_micro (emb):  0.219743987587\n",
      "Experiment  BC3012   blogcatalog3\n",
      "f1_macro (emb):  0.214906468457\n",
      "f1_micro (emb):  0.224495733126\n",
      "Experiment  BC3012   blogcatalog3\n",
      "f1_macro (emb):  0.212082320573\n",
      "f1_micro (emb):  0.228471683476\n",
      "Experiment  BC3012   blogcatalog3\n",
      "f1_macro (emb):  0.220601710571\n",
      "f1_micro (emb):  0.232253685027\n"
     ]
    }
   ],
   "source": [
    "# Test if balancing the class weight will give better results - Nope!\n",
    "# NOTE: BC3012 is motif walk\n",
    "for _ in range(10):\n",
    "    lg('BC3012', 'blogcatalog3', index=[0,1], norm=True, C=1e10, ic=230)"
   ]
  },
  {
   "cell_type": "code",
   "execution_count": 66,
   "metadata": {
    "collapsed": false
   },
   "outputs": [
    {
     "name": "stdout",
     "output_type": "stream",
     "text": [
      "Experiment  BC3012   blogcatalog3\n",
      "f1_macro (emb):  0.238939110385\n",
      "f1_micro (emb):  0.277249806051\n",
      "Experiment  BC3012   blogcatalog3\n",
      "f1_macro (emb):  0.243341618848\n",
      "f1_micro (emb):  0.27812257564\n",
      "Experiment  BC3012   blogcatalog3\n",
      "f1_macro (emb):  0.238332321528\n",
      "f1_micro (emb):  0.278801396431\n",
      "Experiment  BC3012   blogcatalog3\n",
      "f1_macro (emb):  0.235606345264\n",
      "f1_micro (emb):  0.276474010861\n",
      "Experiment  BC3012   blogcatalog3\n",
      "f1_macro (emb):  0.23754928472\n",
      "f1_micro (emb):  0.275504266874\n",
      "Experiment  BC3012   blogcatalog3\n",
      "f1_macro (emb):  0.235305996745\n",
      "f1_micro (emb):  0.277152831652\n",
      "Experiment  BC3012   blogcatalog3\n",
      "f1_macro (emb):  0.233681557652\n",
      "f1_micro (emb):  0.278704422033\n",
      "Experiment  BC3012   blogcatalog3\n",
      "f1_macro (emb):  0.230810101649\n",
      "f1_micro (emb):  0.273952676493\n",
      "Experiment  BC3012   blogcatalog3\n",
      "f1_macro (emb):  0.240172422597\n",
      "f1_micro (emb):  0.2812257564\n",
      "Experiment  BC3012   blogcatalog3\n",
      "f1_macro (emb):  0.234754882463\n",
      "f1_micro (emb):  0.278607447634\n"
     ]
    }
   ],
   "source": [
    "# Remove class weight balancing\n",
    "for _ in range(10):\n",
    "    lg('BC3012', 'blogcatalog3', index=[0,1], norm=True, C=1e10, ic=230)"
   ]
  },
  {
   "cell_type": "code",
   "execution_count": null,
   "metadata": {
    "collapsed": true
   },
   "outputs": [],
   "source": []
  }
 ],
 "metadata": {
  "anaconda-cloud": {},
  "kernelspec": {
   "display_name": "Python [Root]",
   "language": "python",
   "name": "Python [Root]"
  },
  "language_info": {
   "codemirror_mode": {
    "name": "ipython",
    "version": 3
   },
   "file_extension": ".py",
   "mimetype": "text/x-python",
   "name": "python",
   "nbconvert_exporter": "python",
   "pygments_lexer": "ipython3",
   "version": "3.5.2"
  }
 },
 "nbformat": 4,
 "nbformat_minor": 0
}
