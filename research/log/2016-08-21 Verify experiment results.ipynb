{
 "cells": [
  {
   "cell_type": "code",
   "execution_count": 1,
   "metadata": {
    "collapsed": true
   },
   "outputs": [],
   "source": [
    "import sys\n",
    "sys.path.append('../src/mane/prototype/')\n",
    "import numpy as np\n",
    "import graph as g\n",
    "import pickle as p\n",
    "\n",
    "from sklearn.preprocessing import normalize, scale\n",
    "from sklearn.metrics import f1_score\n",
    "from sklearn.multiclass import OneVsRestClassifier\n",
    "from sklearn.svm import LinearSVC\n",
    "from sklearn.linear_model import LogisticRegression"
   ]
  },
  {
   "cell_type": "code",
   "execution_count": 65,
   "metadata": {
    "collapsed": true
   },
   "outputs": [],
   "source": [
    "def lg(exp_id, graph_name, index=[0], norm=False, split=0.5, max_iter=100, C=1e9, ic=500):\n",
    "    weightfile = '../src/mane/prototype/embeddings/' + exp_id + '.weights'\n",
    "    graphfile = '../src/mane/data/' + graph_name\n",
    "    with open(weightfile, 'rb') as f:\n",
    "        w = p.load(f)\n",
    "    graph = g.graph_from_pickle(graphfile+'.graph', graphfile+'.community')\n",
    "    emb = None\n",
    "    if index is None:\n",
    "        emb = w\n",
    "    else:\n",
    "        for i in index:\n",
    "            if emb is None:\n",
    "                emb = w[i]\n",
    "            else:\n",
    "                emb += w[i]\n",
    "        emb /= len(index)\n",
    "    if norm:\n",
    "        emb = normalize(emb)\n",
    "    xids, y_train = graph.gen_community(split)\n",
    "    X = [emb[i] for i in xids]\n",
    "    predictor = LogisticRegression(C=C, max_iter=max_iter, \n",
    "                                   n_jobs=-1, intercept_scaling=ic).fit(X, y_train)\n",
    "    y_true = [graph._communities[i] for i in graph.nodes()]\n",
    "    y_pred = [predictor.predict(emb[i].reshape(1,-1))[0] for i in graph.nodes()]\n",
    "    print('Experiment ', exp_id, ' ', graph_name)\n",
    "    print('f1_macro (emb): ', f1_score(y_true, y_pred, average='macro'))\n",
    "    print('f1_micro (emb): ', f1_score(y_true, y_pred, average='micro'))\n",
    "    return y_true, y_pred, emb, predictor, xids, y_train, graph"
   ]
  },
  {
   "cell_type": "code",
   "execution_count": 9,
   "metadata": {
    "collapsed": false
   },
   "outputs": [
    {
     "name": "stdout",
     "output_type": "stream",
     "text": [
      "Experiment  BC3021   blogcatalog3\n",
      "f1_macro (avg):  0.00484540632064\n",
      "f1_micro (avg):  0.104344453064\n"
     ]
    },
    {
     "name": "stderr",
     "output_type": "stream",
     "text": [
      "/home/hoangnt/anaconda3/lib/python3.5/site-packages/sklearn/metrics/classification.py:1074: UndefinedMetricWarning: F-score is ill-defined and being set to 0.0 in labels with no predicted samples.\n",
      "  'precision', 'predicted', average, warn_for)\n"
     ]
    }
   ],
   "source": [
    "lg_average('BC3021', 'blogcatalog3')"
   ]
  },
  {
   "cell_type": "code",
   "execution_count": 10,
   "metadata": {
    "collapsed": false
   },
   "outputs": [
    {
     "name": "stdout",
     "output_type": "stream",
     "text": [
      "Experiment  BC3021   blogcatalog3\n",
      "f1_macro (avg):  0.00598011775139\n",
      "f1_micro (avg):  0.104344453064\n"
     ]
    },
    {
     "name": "stderr",
     "output_type": "stream",
     "text": [
      "/home/hoangnt/anaconda3/lib/python3.5/site-packages/sklearn/metrics/classification.py:1074: UndefinedMetricWarning: F-score is ill-defined and being set to 0.0 in labels with no predicted samples.\n",
      "  'precision', 'predicted', average, warn_for)\n"
     ]
    }
   ],
   "source": [
    "lg_all('BC3021', 'blogcatalog3')"
   ]
  },
  {
   "cell_type": "code",
   "execution_count": 11,
   "metadata": {
    "collapsed": false
   },
   "outputs": [
    {
     "name": "stdout",
     "output_type": "stream",
     "text": [
      "Experiment  BC3023   blogcatalog3\n",
      "f1_macro (avg):  0.00484540632064\n",
      "f1_micro (avg):  0.104344453064\n"
     ]
    },
    {
     "name": "stderr",
     "output_type": "stream",
     "text": [
      "/home/hoangnt/anaconda3/lib/python3.5/site-packages/sklearn/metrics/classification.py:1074: UndefinedMetricWarning: F-score is ill-defined and being set to 0.0 in labels with no predicted samples.\n",
      "  'precision', 'predicted', average, warn_for)\n"
     ]
    }
   ],
   "source": [
    "lg_average('BC3023', 'blogcatalog3')"
   ]
  },
  {
   "cell_type": "code",
   "execution_count": 12,
   "metadata": {
    "collapsed": false
   },
   "outputs": [
    {
     "name": "stdout",
     "output_type": "stream",
     "text": [
      "Experiment  BC3023   blogcatalog3\n",
      "f1_macro (avg):  0.00688194384949\n",
      "f1_micro (avg):  0.104053529868\n"
     ]
    },
    {
     "name": "stderr",
     "output_type": "stream",
     "text": [
      "/home/hoangnt/anaconda3/lib/python3.5/site-packages/sklearn/metrics/classification.py:1074: UndefinedMetricWarning: F-score is ill-defined and being set to 0.0 in labels with no predicted samples.\n",
      "  'precision', 'predicted', average, warn_for)\n"
     ]
    }
   ],
   "source": [
    "lg_all('BC3023', 'blogcatalog3')"
   ]
  },
  {
   "cell_type": "code",
   "execution_count": 15,
   "metadata": {
    "collapsed": false
   },
   "outputs": [
    {
     "name": "stdout",
     "output_type": "stream",
     "text": [
      "Experiment  BC3023   blogcatalog3\n",
      "f1_macro (emb):  0.00484540632064\n",
      "f1_micro (emb):  0.104344453064\n"
     ]
    },
    {
     "name": "stderr",
     "output_type": "stream",
     "text": [
      "/home/hoangnt/anaconda3/lib/python3.5/site-packages/sklearn/metrics/classification.py:1074: UndefinedMetricWarning: F-score is ill-defined and being set to 0.0 in labels with no predicted samples.\n",
      "  'precision', 'predicted', average, warn_for)\n"
     ]
    }
   ],
   "source": [
    "lg_embeddings('BC3023', 'blogcatalog3')"
   ]
  },
  {
   "cell_type": "code",
   "execution_count": 14,
   "metadata": {
    "collapsed": false
   },
   "outputs": [
    {
     "name": "stdout",
     "output_type": "stream",
     "text": [
      "Experiment  BC3023   blogcatalog3\n",
      "f1_macro (emb):  0.0070864616913\n",
      "f1_micro (emb):  0.104441427463\n"
     ]
    },
    {
     "name": "stderr",
     "output_type": "stream",
     "text": [
      "/home/hoangnt/anaconda3/lib/python3.5/site-packages/sklearn/metrics/classification.py:1074: UndefinedMetricWarning: F-score is ill-defined and being set to 0.0 in labels with no predicted samples.\n",
      "  'precision', 'predicted', average, warn_for)\n"
     ]
    }
   ],
   "source": [
    "lg_nce('BC3023', 'blogcatalog3')"
   ]
  },
  {
   "cell_type": "code",
   "execution_count": 20,
   "metadata": {
    "collapsed": false
   },
   "outputs": [
    {
     "name": "stdout",
     "output_type": "stream",
     "text": [
      "Experiment  BC3003   blogcatalog3\n",
      "f1_macro (avg):  0.116740845038\n",
      "f1_micro (avg):  0.258921644686\n"
     ]
    },
    {
     "name": "stderr",
     "output_type": "stream",
     "text": [
      "/home/hoangnt/anaconda3/lib/python3.5/site-packages/sklearn/metrics/classification.py:1074: UndefinedMetricWarning: F-score is ill-defined and being set to 0.0 in labels with no predicted samples.\n",
      "  'precision', 'predicted', average, warn_for)\n"
     ]
    },
    {
     "name": "stdout",
     "output_type": "stream",
     "text": [
      "Experiment  BC3003   blogcatalog3\n",
      "f1_macro (avg):  0.115163291441\n",
      "f1_micro (avg):  0.252036462374\n",
      "Experiment  BC3003   blogcatalog3\n",
      "f1_macro (avg):  0.119866603526\n",
      "f1_micro (avg):  0.258145849496\n",
      "Experiment  BC3003   blogcatalog3\n",
      "f1_macro (avg):  0.115795405431\n",
      "f1_micro (avg):  0.258436772692\n",
      "Experiment  BC3003   blogcatalog3\n",
      "f1_macro (avg):  0.115583902707\n",
      "f1_micro (avg):  0.259697439876\n",
      "Experiment  BC3003   blogcatalog3\n",
      "f1_macro (avg):  0.114217090023\n",
      "f1_micro (avg):  0.255236617533\n",
      "Experiment  BC3003   blogcatalog3\n",
      "f1_macro (avg):  0.115176455722\n",
      "f1_micro (avg):  0.256206361521\n",
      "Experiment  BC3003   blogcatalog3\n",
      "f1_macro (avg):  0.109405997054\n",
      "f1_micro (avg):  0.253588052754\n",
      "Experiment  BC3003   blogcatalog3\n",
      "f1_macro (avg):  0.118284651023\n",
      "f1_micro (avg):  0.256691233514\n",
      "Experiment  BC3003   blogcatalog3\n",
      "f1_macro (avg):  0.117148492359\n",
      "f1_micro (avg):  0.257951900698\n"
     ]
    }
   ],
   "source": [
    "for _ in range(10):\n",
    "    lg_average('BC3003', 'blogcatalog3')"
   ]
  },
  {
   "cell_type": "code",
   "execution_count": 24,
   "metadata": {
    "collapsed": false
   },
   "outputs": [
    {
     "name": "stdout",
     "output_type": "stream",
     "text": [
      "Experiment  BC3003   blogcatalog3\n",
      "f1_macro (avg):  0.114492865125\n",
      "f1_micro (avg):  0.255527540729\n"
     ]
    },
    {
     "name": "stderr",
     "output_type": "stream",
     "text": [
      "/home/hoangnt/anaconda3/lib/python3.5/site-packages/sklearn/metrics/classification.py:1074: UndefinedMetricWarning: F-score is ill-defined and being set to 0.0 in labels with no predicted samples.\n",
      "  'precision', 'predicted', average, warn_for)\n"
     ]
    },
    {
     "name": "stdout",
     "output_type": "stream",
     "text": [
      "Experiment  BC3003   blogcatalog3\n",
      "f1_macro (avg):  0.118079182637\n",
      "f1_micro (avg):  0.258242823894\n",
      "Experiment  BC3003   blogcatalog3\n",
      "f1_macro (avg):  0.114348160228\n",
      "f1_micro (avg):  0.255527540729\n",
      "Experiment  BC3003   blogcatalog3\n",
      "f1_macro (avg):  0.114324856109\n",
      "f1_micro (avg):  0.258242823894\n",
      "Experiment  BC3003   blogcatalog3\n",
      "f1_macro (avg):  0.113367693185\n",
      "f1_micro (avg):  0.256303335919\n",
      "Experiment  BC3003   blogcatalog3\n",
      "f1_macro (avg):  0.112849965176\n",
      "f1_micro (avg):  0.258339798293\n",
      "Experiment  BC3003   blogcatalog3\n",
      "f1_macro (avg):  0.114462702368\n",
      "f1_micro (avg):  0.257660977502\n",
      "Experiment  BC3003   blogcatalog3\n",
      "f1_macro (avg):  0.112905631053\n",
      "f1_micro (avg):  0.256691233514\n",
      "Experiment  BC3003   blogcatalog3\n",
      "f1_macro (avg):  0.115086471157\n",
      "f1_micro (avg):  0.255721489527\n",
      "Experiment  BC3003   blogcatalog3\n",
      "f1_macro (avg):  0.112165410078\n",
      "f1_micro (avg):  0.254751745539\n"
     ]
    }
   ],
   "source": [
    "for _ in range(10):\n",
    "    lg_average('BC3003', 'blogcatalog3')"
   ]
  },
  {
   "cell_type": "code",
   "execution_count": 25,
   "metadata": {
    "collapsed": false
   },
   "outputs": [
    {
     "name": "stdout",
     "output_type": "stream",
     "text": [
      "Experiment  BC3003   blogcatalog3\n",
      "f1_macro (emb):  0.0897211308695\n",
      "f1_micro (emb):  0.230217222653\n"
     ]
    },
    {
     "name": "stderr",
     "output_type": "stream",
     "text": [
      "/home/hoangnt/anaconda3/lib/python3.5/site-packages/sklearn/metrics/classification.py:1074: UndefinedMetricWarning: F-score is ill-defined and being set to 0.0 in labels with no predicted samples.\n",
      "  'precision', 'predicted', average, warn_for)\n"
     ]
    },
    {
     "name": "stdout",
     "output_type": "stream",
     "text": [
      "Experiment  BC3003   blogcatalog3\n",
      "f1_macro (emb):  0.0880587371365\n",
      "f1_micro (emb):  0.230799069046\n",
      "Experiment  BC3003   blogcatalog3\n",
      "f1_macro (emb):  0.0899957295453\n",
      "f1_micro (emb):  0.230605120248\n",
      "Experiment  BC3003   blogcatalog3\n",
      "f1_macro (emb):  0.0872543169001\n",
      "f1_micro (emb):  0.227986811482\n",
      "Experiment  BC3003   blogcatalog3\n",
      "f1_macro (emb):  0.08967709717\n",
      "f1_micro (emb):  0.229829325058\n",
      "Experiment  BC3003   blogcatalog3\n",
      "f1_macro (emb):  0.0848275240609\n",
      "f1_micro (emb):  0.228568657874\n",
      "Experiment  BC3003   blogcatalog3\n",
      "f1_macro (emb):  0.0912150848083\n",
      "f1_micro (emb):  0.233320403413\n",
      "Experiment  BC3003   blogcatalog3\n",
      "f1_macro (emb):  0.086548012115\n",
      "f1_micro (emb):  0.229926299457\n",
      "Experiment  BC3003   blogcatalog3\n",
      "f1_macro (emb):  0.0893675469702\n",
      "f1_micro (emb):  0.234968968192\n",
      "Experiment  BC3003   blogcatalog3\n",
      "f1_macro (emb):  0.0861642632646\n",
      "f1_micro (emb):  0.227792862684\n"
     ]
    }
   ],
   "source": [
    "for _ in range(10):\n",
    "    lg_embeddings('BC3003', 'blogcatalog3')"
   ]
  },
  {
   "cell_type": "code",
   "execution_count": 27,
   "metadata": {
    "collapsed": false
   },
   "outputs": [
    {
     "name": "stdout",
     "output_type": "stream",
     "text": [
      "Experiment  BC3003   blogcatalog3\n",
      "f1_macro (emb):  0.134601815957\n",
      "f1_micro (emb):  0.257467028704\n"
     ]
    },
    {
     "name": "stderr",
     "output_type": "stream",
     "text": [
      "/home/hoangnt/anaconda3/lib/python3.5/site-packages/sklearn/metrics/classification.py:1074: UndefinedMetricWarning: F-score is ill-defined and being set to 0.0 in labels with no predicted samples.\n",
      "  'precision', 'predicted', average, warn_for)\n"
     ]
    },
    {
     "name": "stdout",
     "output_type": "stream",
     "text": [
      "Experiment  BC3003   blogcatalog3\n",
      "f1_macro (emb):  0.141062522922\n",
      "f1_micro (emb):  0.258339798293\n",
      "Experiment  BC3003   blogcatalog3\n",
      "f1_macro (emb):  0.140325718933\n",
      "f1_micro (emb):  0.255139643134\n",
      "Experiment  BC3003   blogcatalog3\n",
      "f1_macro (emb):  0.134998919531\n",
      "f1_micro (emb):  0.254751745539\n",
      "Experiment  BC3003   blogcatalog3\n",
      "f1_macro (emb):  0.139766097233\n",
      "f1_micro (emb):  0.256691233514\n",
      "Experiment  BC3003   blogcatalog3\n",
      "f1_macro (emb):  0.136630917426\n",
      "f1_micro (emb):  0.253297129558\n",
      "Experiment  BC3003   blogcatalog3\n",
      "f1_macro (emb):  0.135236987492\n",
      "f1_micro (emb):  0.251842513576\n",
      "Experiment  BC3003   blogcatalog3\n",
      "f1_macro (emb):  0.137346870654\n",
      "f1_micro (emb):  0.254266873545\n",
      "Experiment  BC3003   blogcatalog3\n",
      "f1_macro (emb):  0.134263648314\n",
      "f1_micro (emb):  0.252618308766\n",
      "Experiment  BC3003   blogcatalog3\n",
      "f1_macro (emb):  0.144334557\n",
      "f1_micro (emb):  0.259018619085\n"
     ]
    }
   ],
   "source": [
    "# Without normalize\n",
    "for _ in range(10):\n",
    "    lg_embeddings('BC3003', 'blogcatalog3')"
   ]
  },
  {
   "cell_type": "code",
   "execution_count": 5,
   "metadata": {
    "collapsed": false
   },
   "outputs": [
    {
     "name": "stdout",
     "output_type": "stream",
     "text": [
      "Experiment  BC3024   blogcatalog3\n",
      "f1_macro (avg):  0.123236708791\n",
      "f1_micro (avg):  0.174941815361\n",
      "Experiment  BC3024   blogcatalog3\n",
      "f1_macro (avg):  0.119223817795\n",
      "f1_micro (avg):  0.171353762607\n"
     ]
    },
    {
     "name": "stderr",
     "output_type": "stream",
     "text": [
      "/home/hoangnt/anaconda3/lib/python3.5/site-packages/sklearn/metrics/classification.py:1074: UndefinedMetricWarning: F-score is ill-defined and being set to 0.0 in labels with no predicted samples.\n",
      "  'precision', 'predicted', average, warn_for)\n"
     ]
    },
    {
     "name": "stdout",
     "output_type": "stream",
     "text": [
      "Experiment  BC3024   blogcatalog3\n",
      "f1_macro (avg):  0.12650246948\n",
      "f1_micro (avg):  0.18046935609\n",
      "Experiment  BC3024   blogcatalog3\n",
      "f1_macro (avg):  0.126457555639\n",
      "f1_micro (avg):  0.176784328937\n",
      "Experiment  BC3024   blogcatalog3\n",
      "f1_macro (avg):  0.128056499036\n",
      "f1_micro (avg):  0.175620636152\n",
      "Experiment  BC3024   blogcatalog3\n",
      "f1_macro (avg):  0.136342409676\n",
      "f1_micro (avg):  0.177075252133\n",
      "Experiment  BC3024   blogcatalog3\n",
      "f1_macro (avg):  0.119535319362\n",
      "f1_micro (avg):  0.176493405741\n",
      "Experiment  BC3024   blogcatalog3\n",
      "f1_macro (avg):  0.118683102454\n",
      "f1_micro (avg):  0.175523661753\n",
      "Experiment  BC3024   blogcatalog3\n",
      "f1_macro (avg):  0.136025498216\n",
      "f1_micro (avg):  0.173487199379\n",
      "Experiment  BC3024   blogcatalog3\n",
      "f1_macro (avg):  0.132012225797\n",
      "f1_micro (avg):  0.178529868115\n"
     ]
    }
   ],
   "source": [
    "# Without normalize\n",
    "for _ in range(10):\n",
    "    lg_average('BC3024', 'blogcatalog3')"
   ]
  },
  {
   "cell_type": "code",
   "execution_count": 15,
   "metadata": {
    "collapsed": false
   },
   "outputs": [
    {
     "name": "stdout",
     "output_type": "stream",
     "text": [
      "Experiment  BC3_node2vec   blogcatalog3\n",
      "f1_macro (avg):  0.134333035066\n",
      "f1_micro (avg):  0.127133436773\n"
     ]
    }
   ],
   "source": [
    "# Test embedding from node2vec without normalize\n",
    "\n",
    "exp_id = 'BC3_node2vec'\n",
    "graph_name = 'blogcatalog3'\n",
    "max_iter = 1000\n",
    "portition = 0.5\n",
    "weightfile = '../src/mane/prototype/embeddings/' + exp_id + '.weights'\n",
    "graphfile = '../src/mane/data/' + graph_name\n",
    "with open(weightfile, 'rb') as f:\n",
    "    w = p.load(f)\n",
    "graph = g.graph_from_pickle(graphfile+'.graph', graphfile+'.community')\n",
    "wl = np.ndarray(shape=(10313,128), dtype=np.float32)\n",
    "for i in graph.nodes():\n",
    "    wl[i][:] = w[i]\n",
    "e_norm = wl\n",
    "xids, y_train = graph.gen_community(portition)\n",
    "X = [e_norm[i] for i in xids]\n",
    "#predictor = LogisticRegression(max_iter=max_iter, n_jobs=2).fit(X, y_train)\n",
    "predictor = LogisticRegression(C=1e9, max_iter=max_iter, n_jobs=2).fit(X, y_train)\n",
    "y_true = [graph._communities[i] for i in graph.nodes()]\n",
    "y_pred = [predictor.predict(e_norm[i].reshape(1,-1))[0] for i in graph.nodes()]\n",
    "print('Experiment ', exp_id, ' ', graph_name)\n",
    "print('f1_macro (avg): ', f1_score(y_true, y_pred, average='macro'))\n",
    "print('f1_micro (avg): ', f1_score(y_true, y_pred, average='micro'))"
   ]
  },
  {
   "cell_type": "code",
   "execution_count": 12,
   "metadata": {
    "collapsed": false
   },
   "outputs": [
    {
     "name": "stdout",
     "output_type": "stream",
     "text": [
      "Experiment  BC3003   blogcatalog3\n",
      "f1_macro (avg):  0.18885993527\n",
      "f1_micro (avg):  0.264352211016\n"
     ]
    },
    {
     "name": "stderr",
     "output_type": "stream",
     "text": [
      "/home/hoangnt/anaconda3/lib/python3.5/site-packages/sklearn/metrics/classification.py:1074: UndefinedMetricWarning: F-score is ill-defined and being set to 0.0 in labels with no predicted samples.\n",
      "  'precision', 'predicted', average, warn_for)\n"
     ]
    },
    {
     "name": "stdout",
     "output_type": "stream",
     "text": [
      "Experiment  BC3003   blogcatalog3\n",
      "f1_macro (avg):  0.178624882281\n",
      "f1_micro (avg):  0.263382467029\n",
      "Experiment  BC3003   blogcatalog3\n",
      "f1_macro (avg):  0.186790205747\n",
      "f1_micro (avg):  0.269200930954\n",
      "Experiment  BC3003   blogcatalog3\n",
      "f1_macro (avg):  0.183781611367\n",
      "f1_micro (avg):  0.270461598138\n",
      "Experiment  BC3003   blogcatalog3\n",
      "f1_macro (avg):  0.182875408714\n",
      "f1_micro (avg):  0.264255236618\n",
      "Experiment  BC3003   blogcatalog3\n",
      "f1_macro (avg):  0.170921064814\n",
      "f1_micro (avg):  0.262994569434\n",
      "Experiment  BC3003   blogcatalog3\n",
      "f1_macro (avg):  0.180035840937\n",
      "f1_micro (avg):  0.266291698991\n",
      "Experiment  BC3003   blogcatalog3\n",
      "f1_macro (avg):  0.181679782199\n",
      "f1_micro (avg):  0.268328161365\n",
      "Experiment  BC3003   blogcatalog3\n",
      "f1_macro (avg):  0.172461884888\n",
      "f1_micro (avg):  0.260473235066\n",
      "Experiment  BC3003   blogcatalog3\n",
      "f1_macro (avg):  0.195330127801\n",
      "f1_micro (avg):  0.266776570985\n"
     ]
    }
   ],
   "source": [
    "# With high regularization restriction\n",
    "for _ in range(10):\n",
    "    lg_average('BC3003', 'blogcatalog3')"
   ]
  },
  {
   "cell_type": "code",
   "execution_count": 14,
   "metadata": {
    "collapsed": false
   },
   "outputs": [
    {
     "name": "stdout",
     "output_type": "stream",
     "text": [
      "Experiment  BC3003   blogcatalog3\n",
      "f1_macro (avg):  0.231464313831\n",
      "f1_micro (avg):  0.269879751746\n",
      "Experiment  BC3003   blogcatalog3\n",
      "f1_macro (avg):  0.231905373246\n",
      "f1_micro (avg):  0.26871605896\n",
      "Experiment  BC3003   blogcatalog3\n",
      "f1_macro (avg):  0.225459827678\n",
      "f1_micro (avg):  0.26406128782\n",
      "Experiment  BC3003   blogcatalog3\n",
      "f1_macro (avg):  0.227966114565\n",
      "f1_micro (avg):  0.263479441427\n",
      "Experiment  BC3003   blogcatalog3\n",
      "f1_macro (avg):  0.223431328045\n",
      "f1_micro (avg):  0.26871605896\n",
      "Experiment  BC3003   blogcatalog3\n",
      "f1_macro (avg):  0.226662751553\n",
      "f1_micro (avg):  0.261636927851\n",
      "Experiment  BC3003   blogcatalog3\n",
      "f1_macro (avg):  0.222029666086\n",
      "f1_micro (avg):  0.26794026377\n",
      "Experiment  BC3003   blogcatalog3\n",
      "f1_macro (avg):  0.236412099949\n",
      "f1_micro (avg):  0.268231186967\n",
      "Experiment  BC3003   blogcatalog3\n",
      "f1_macro (avg):  0.220325754334\n",
      "f1_micro (avg):  0.26095810706\n",
      "Experiment  BC3003   blogcatalog3\n",
      "f1_macro (avg):  0.229073200321\n",
      "f1_micro (avg):  0.267746314973\n"
     ]
    }
   ],
   "source": [
    "# Without high regularization restriction (maybe extreme overfit)\n",
    "for _ in range(10):\n",
    "    lg_average('BC3003', 'blogcatalog3')"
   ]
  },
  {
   "cell_type": "code",
   "execution_count": 16,
   "metadata": {
    "collapsed": false
   },
   "outputs": [
    {
     "name": "stdout",
     "output_type": "stream",
     "text": [
      "Experiment  BC3_deepwalk   blogcatalog3\n",
      "f1_macro (emb):  0.176592490043\n",
      "f1_micro (emb):  0.190942591156\n",
      "Experiment  BC3_deepwalk   blogcatalog3\n",
      "f1_macro (emb):  0.168755210426\n",
      "f1_micro (emb):  0.186675717611\n",
      "Experiment  BC3_deepwalk   blogcatalog3\n",
      "f1_macro (emb):  0.165052734059\n",
      "f1_micro (emb):  0.183669511249\n",
      "Experiment  BC3_deepwalk   blogcatalog3\n",
      "f1_macro (emb):  0.170187811286\n",
      "f1_micro (emb):  0.189584949573\n",
      "Experiment  BC3_deepwalk   blogcatalog3\n",
      "f1_macro (emb):  0.169425552103\n",
      "f1_micro (emb):  0.181536074476\n",
      "Experiment  BC3_deepwalk   blogcatalog3\n",
      "f1_macro (emb):  0.160817582297\n",
      "f1_micro (emb):  0.184639255237\n",
      "Experiment  BC3_deepwalk   blogcatalog3\n",
      "f1_macro (emb):  0.168058670528\n",
      "f1_micro (emb):  0.186772692009\n",
      "Experiment  BC3_deepwalk   blogcatalog3\n",
      "f1_macro (emb):  0.172268980869\n",
      "f1_micro (emb):  0.189487975175\n",
      "Experiment  BC3_deepwalk   blogcatalog3\n",
      "f1_macro (emb):  0.174936647138\n",
      "f1_micro (emb):  0.187257564003\n",
      "Experiment  BC3_deepwalk   blogcatalog3\n",
      "f1_macro (emb):  0.175188436389\n",
      "f1_micro (emb):  0.186772692009\n"
     ]
    }
   ],
   "source": [
    "# Without high regularization\n",
    "for _ in range(10):\n",
    "    lg_embeddings('BC3_deepwalk', 'blogcatalog3')"
   ]
  },
  {
   "cell_type": "code",
   "execution_count": 18,
   "metadata": {
    "collapsed": false
   },
   "outputs": [
    {
     "name": "stdout",
     "output_type": "stream",
     "text": [
      "Experiment  BC3012   blogcatalog3\n",
      "f1_macro (avg):  0.230215879861\n",
      "f1_micro (avg):  0.269976726144\n",
      "Experiment  BC3012   blogcatalog3\n",
      "f1_macro (avg):  0.240204737171\n",
      "f1_micro (avg):  0.276474010861\n",
      "Experiment  BC3012   blogcatalog3\n",
      "f1_macro (avg):  0.237116080153\n",
      "f1_micro (avg):  0.275116369279\n",
      "Experiment  BC3012   blogcatalog3\n",
      "f1_macro (avg):  0.229967973073\n",
      "f1_micro (avg):  0.278510473235\n",
      "Experiment  BC3012   blogcatalog3\n",
      "f1_macro (avg):  0.227415752099\n",
      "f1_micro (avg):  0.271819239721\n",
      "Experiment  BC3012   blogcatalog3\n",
      "f1_macro (avg):  0.231182872668\n",
      "f1_micro (avg):  0.277637703646\n",
      "Experiment  BC3012   blogcatalog3\n",
      "f1_macro (avg):  0.235566378466\n",
      "f1_micro (avg):  0.279965089216\n",
      "Experiment  BC3012   blogcatalog3\n",
      "f1_macro (avg):  0.234393485211\n",
      "f1_micro (avg):  0.276667959659\n",
      "Experiment  BC3012   blogcatalog3\n",
      "f1_macro (avg):  0.23043577756\n",
      "f1_micro (avg):  0.27889837083\n",
      "Experiment  BC3012   blogcatalog3\n",
      "f1_macro (avg):  0.236381520751\n",
      "f1_micro (avg):  0.276183087665\n"
     ]
    }
   ],
   "source": [
    "# Without high regularization restriction (maybe extreme overfit)\n",
    "for _ in range(10):\n",
    "    lg_average('BC3012', 'blogcatalog3')"
   ]
  },
  {
   "cell_type": "code",
   "execution_count": 12,
   "metadata": {
    "collapsed": false
   },
   "outputs": [
    {
     "name": "stdout",
     "output_type": "stream",
     "text": [
      "Experiment  BC3_node2vec   blogcatalog3\n",
      "f1_macro (emb):  0.142211558894\n",
      "f1_micro (emb):  0.138673390225\n"
     ]
    }
   ],
   "source": [
    "# Normalization might increase ~1.5%\n",
    "_ = lg('BC3_node2vec', 'blogcatalog3', None, True, C=1e10)"
   ]
  },
  {
   "cell_type": "code",
   "execution_count": 8,
   "metadata": {
    "collapsed": false
   },
   "outputs": [
    {
     "name": "stdout",
     "output_type": "stream",
     "text": [
      "Experiment  BC3_node2vec   blogcatalog3\n",
      "f1_macro (emb):  0.136424362427\n",
      "f1_micro (emb):  0.127424359969\n"
     ]
    }
   ],
   "source": [
    "# C plays a big role in f1 score, bigger C is better (more overfit)\n",
    "_ = lg('BC3_node2vec', 'blogcatalog3', None, C=1e10)"
   ]
  },
  {
   "cell_type": "code",
   "execution_count": 7,
   "metadata": {
    "collapsed": false
   },
   "outputs": [
    {
     "name": "stdout",
     "output_type": "stream",
     "text": [
      "Experiment  BC3_node2vec   blogcatalog3\n",
      "f1_macro (emb):  0.139981239597\n",
      "f1_micro (emb):  0.12577579519\n"
     ]
    }
   ],
   "source": [
    "# C plays a big role in f1 score, larger C is better (more overfit) and take longer time.\n",
    "_ = lg('BC3_node2vec', 'blogcatalog3', None, C=1e15)"
   ]
  },
  {
   "cell_type": "code",
   "execution_count": 59,
   "metadata": {
    "collapsed": false
   },
   "outputs": [
    {
     "name": "stdout",
     "output_type": "stream",
     "text": [
      "Experiment  BC3_node2vec   blogcatalog3\n",
      "f1_macro (emb):  0.132168967917\n",
      "f1_micro (emb):  0.12810318076\n"
     ]
    }
   ],
   "source": [
    "# Increase ic for node2vec too, but no significant improvement.\n",
    "_ = lg('BC3_node2vec', 'blogcatalog3', None, C=1e15, ic=20)"
   ]
  },
  {
   "cell_type": "code",
   "execution_count": 17,
   "metadata": {
    "collapsed": false
   },
   "outputs": [
    {
     "name": "stdout",
     "output_type": "stream",
     "text": [
      "Experiment  BC3_deepwalk   blogcatalog3\n",
      "f1_macro (emb):  0.159558442833\n",
      "f1_micro (emb):  0.184154383243\n"
     ]
    }
   ],
   "source": [
    "_ = lg('BC3_deepwalk', 'blogcatalog3')"
   ]
  },
  {
   "cell_type": "code",
   "execution_count": 18,
   "metadata": {
    "collapsed": false
   },
   "outputs": [
    {
     "name": "stdout",
     "output_type": "stream",
     "text": [
      "Experiment  BC3_deepwalk   blogcatalog3\n",
      "f1_macro (emb):  0.173899261504\n",
      "f1_micro (emb):  0.187257564003\n"
     ]
    }
   ],
   "source": [
    "_ = lg('BC3_deepwalk', 'blogcatalog3', C=1e10)"
   ]
  },
  {
   "cell_type": "code",
   "execution_count": 19,
   "metadata": {
    "collapsed": false
   },
   "outputs": [
    {
     "name": "stdout",
     "output_type": "stream",
     "text": [
      "Experiment  BC3_deepwalk   blogcatalog3\n",
      "f1_macro (emb):  0.178525504103\n",
      "f1_micro (emb):  0.188712179984\n"
     ]
    }
   ],
   "source": [
    "_ = lg('BC3_deepwalk', 'blogcatalog3', C=1e15)"
   ]
  },
  {
   "cell_type": "code",
   "execution_count": 20,
   "metadata": {
    "collapsed": false
   },
   "outputs": [
    {
     "name": "stdout",
     "output_type": "stream",
     "text": [
      "Experiment  BC3_deepwalk   blogcatalog3\n",
      "f1_macro (emb):  0.179359606732\n",
      "f1_micro (emb):  0.185512024825\n"
     ]
    }
   ],
   "source": [
    "_ = lg('BC3_deepwalk', 'blogcatalog3', norm=True, C=1e15)"
   ]
  },
  {
   "cell_type": "code",
   "execution_count": 21,
   "metadata": {
    "collapsed": false
   },
   "outputs": [
    {
     "name": "stdout",
     "output_type": "stream",
     "text": [
      "Experiment  BC3_deepwalk   blogcatalog3\n",
      "f1_macro (emb):  0.173694083412\n",
      "f1_micro (emb):  0.185512024825\n"
     ]
    }
   ],
   "source": [
    "_ = lg('BC3_deepwalk', 'blogcatalog3', norm=True, C=1e20)"
   ]
  },
  {
   "cell_type": "code",
   "execution_count": 23,
   "metadata": {
    "collapsed": false
   },
   "outputs": [
    {
     "name": "stdout",
     "output_type": "stream",
     "text": [
      "Experiment  BC3_deepwalk   blogcatalog3\n",
      "f1_macro (emb):  0.00484540632064\n",
      "f1_micro (emb):  0.104344453064\n"
     ]
    },
    {
     "name": "stderr",
     "output_type": "stream",
     "text": [
      "/home/hoangnt/anaconda3/lib/python3.5/site-packages/sklearn/metrics/classification.py:1074: UndefinedMetricWarning: F-score is ill-defined and being set to 0.0 in labels with no predicted samples.\n",
      "  'precision', 'predicted', average, warn_for)\n"
     ]
    }
   ],
   "source": [
    "# Test increase intercept scaling (less regularization) = 1e10\n",
    "_ = lg('BC3_deepwalk', 'blogcatalog3', norm=True, C=1e10)"
   ]
  },
  {
   "cell_type": "code",
   "execution_count": 25,
   "metadata": {
    "collapsed": false
   },
   "outputs": [
    {
     "name": "stdout",
     "output_type": "stream",
     "text": [
      "Experiment  BC3_deepwalk   blogcatalog3\n",
      "f1_macro (emb):  0.00484540632064\n",
      "f1_micro (emb):  0.104344453064\n"
     ]
    },
    {
     "name": "stderr",
     "output_type": "stream",
     "text": [
      "/home/hoangnt/anaconda3/lib/python3.5/site-packages/sklearn/metrics/classification.py:1074: UndefinedMetricWarning: F-score is ill-defined and being set to 0.0 in labels with no predicted samples.\n",
      "  'precision', 'predicted', average, warn_for)\n"
     ]
    }
   ],
   "source": [
    "# Test increase intercept scaling (less regularization) = 1e5\n",
    "_ = lg('BC3_deepwalk', 'blogcatalog3', norm=True, C=1e10)"
   ]
  },
  {
   "cell_type": "code",
   "execution_count": 27,
   "metadata": {
    "collapsed": false
   },
   "outputs": [
    {
     "name": "stdout",
     "output_type": "stream",
     "text": [
      "Experiment  BC3_deepwalk   blogcatalog3\n",
      "f1_macro (emb):  0.179533339032\n",
      "f1_micro (emb):  0.184736229635\n"
     ]
    }
   ],
   "source": [
    "# Test increase intercept scaling (less regularization) = 1\n",
    "_ = lg('BC3_deepwalk', 'blogcatalog3', norm=True, C=1e10)"
   ]
  },
  {
   "cell_type": "code",
   "execution_count": 29,
   "metadata": {
    "collapsed": false
   },
   "outputs": [
    {
     "name": "stdout",
     "output_type": "stream",
     "text": [
      "Experiment  BC3_deepwalk   blogcatalog3\n",
      "f1_macro (emb):  0.168065879964\n",
      "f1_micro (emb):  0.18357253685\n"
     ]
    }
   ],
   "source": [
    "# Test increase intercept scaling (less regularization) = 0.1\n",
    "_ = lg('BC3_deepwalk', 'blogcatalog3', norm=True, C=1e10)"
   ]
  },
  {
   "cell_type": "code",
   "execution_count": 31,
   "metadata": {
    "collapsed": false
   },
   "outputs": [
    {
     "name": "stdout",
     "output_type": "stream",
     "text": [
      "Experiment  BC3_deepwalk   blogcatalog3\n",
      "f1_macro (emb):  0.180549583389\n",
      "f1_micro (emb):  0.182311869666\n"
     ]
    }
   ],
   "source": [
    "# Test increase intercept scaling (less regularization) = 5\n",
    "_ = lg('BC3_deepwalk', 'blogcatalog3', norm=True, C=1e10)"
   ]
  },
  {
   "cell_type": "code",
   "execution_count": 33,
   "metadata": {
    "collapsed": false
   },
   "outputs": [
    {
     "name": "stdout",
     "output_type": "stream",
     "text": [
      "Experiment  BC3_deepwalk   blogcatalog3\n",
      "f1_macro (emb):  0.183072014513\n",
      "f1_micro (emb):  0.190166795966\n"
     ]
    }
   ],
   "source": [
    "# Test increase intercept scaling (less regularization) = 100\n",
    "_ = lg('BC3_deepwalk', 'blogcatalog3', norm=True, C=1e10)"
   ]
  },
  {
   "cell_type": "code",
   "execution_count": 35,
   "metadata": {
    "collapsed": false
   },
   "outputs": [
    {
     "name": "stdout",
     "output_type": "stream",
     "text": [
      "Experiment  BC3_deepwalk   blogcatalog3\n",
      "f1_macro (emb):  0.16228669375\n",
      "f1_micro (emb):  0.170868890613\n"
     ]
    },
    {
     "name": "stderr",
     "output_type": "stream",
     "text": [
      "/home/hoangnt/anaconda3/lib/python3.5/site-packages/sklearn/metrics/classification.py:1074: UndefinedMetricWarning: F-score is ill-defined and being set to 0.0 in labels with no predicted samples.\n",
      "  'precision', 'predicted', average, warn_for)\n"
     ]
    }
   ],
   "source": [
    "# Test increase intercept scaling (less regularization) = 1000\n",
    "_ = lg('BC3_deepwalk', 'blogcatalog3', norm=True, C=1e10)"
   ]
  },
  {
   "cell_type": "code",
   "execution_count": 37,
   "metadata": {
    "collapsed": false
   },
   "outputs": [
    {
     "name": "stdout",
     "output_type": "stream",
     "text": [
      "Experiment  BC3_deepwalk   blogcatalog3\n",
      "f1_macro (emb):  0.182358768162\n",
      "f1_micro (emb):  0.183184639255\n"
     ]
    }
   ],
   "source": [
    "# Test increase intercept scaling (less regularization) = 500\n",
    "_ = lg('BC3_deepwalk', 'blogcatalog3', norm=True, C=1e10, ic=500)"
   ]
  },
  {
   "cell_type": "code",
   "execution_count": 38,
   "metadata": {
    "collapsed": false
   },
   "outputs": [
    {
     "name": "stdout",
     "output_type": "stream",
     "text": [
      "Experiment  BC3_deepwalk   blogcatalog3\n",
      "f1_macro (emb):  0.19052928339\n",
      "f1_micro (emb):  0.188906128782\n"
     ]
    }
   ],
   "source": [
    "# Test increase intercept scaling (less regularization) = 200\n",
    "_ = lg('BC3_deepwalk', 'blogcatalog3', norm=True, C=1e10, ic=200)"
   ]
  },
  {
   "cell_type": "code",
   "execution_count": 39,
   "metadata": {
    "collapsed": false
   },
   "outputs": [
    {
     "name": "stdout",
     "output_type": "stream",
     "text": [
      "Experiment  BC3_deepwalk   blogcatalog3\n",
      "f1_macro (emb):  0.178623753489\n",
      "f1_micro (emb):  0.185415050427\n"
     ]
    }
   ],
   "source": [
    "# Test increase intercept scaling (less regularization) = 300\n",
    "_ = lg('BC3_deepwalk', 'blogcatalog3', norm=True, C=1e10, ic=300)"
   ]
  },
  {
   "cell_type": "code",
   "execution_count": 40,
   "metadata": {
    "collapsed": false
   },
   "outputs": [
    {
     "name": "stdout",
     "output_type": "stream",
     "text": [
      "Experiment  BC3_deepwalk   blogcatalog3\n",
      "f1_macro (emb):  0.186272138262\n",
      "f1_micro (emb):  0.18589992242\n"
     ]
    }
   ],
   "source": [
    "# Test increase intercept scaling (less regularization) = 250\n",
    "_ = lg('BC3_deepwalk', 'blogcatalog3', norm=True, C=1e10, ic=250)"
   ]
  },
  {
   "cell_type": "code",
   "execution_count": 41,
   "metadata": {
    "collapsed": false
   },
   "outputs": [
    {
     "name": "stdout",
     "output_type": "stream",
     "text": [
      "Experiment  BC3012   blogcatalog3\n",
      "f1_macro (emb):  0.209849459982\n",
      "f1_micro (emb):  0.239429790535\n"
     ]
    }
   ],
   "source": [
    "# Test increase intercept scaling (less regularization) = 200\n",
    "_ = lg('BC3012', 'blogcatalog3', norm=True, C=1e10, ic=200)"
   ]
  },
  {
   "cell_type": "code",
   "execution_count": 42,
   "metadata": {
    "collapsed": false
   },
   "outputs": [
    {
     "name": "stdout",
     "output_type": "stream",
     "text": [
      "Experiment  BC3012   blogcatalog3\n",
      "f1_macro (emb):  0.232876907793\n",
      "f1_micro (emb):  0.27812257564\n"
     ]
    }
   ],
   "source": [
    "# Test increase intercept scaling (less regularization) = 200\n",
    "_ = lg('BC3012', 'blogcatalog3', index=[0,1], norm=True, C=1e10, ic=200)"
   ]
  },
  {
   "cell_type": "code",
   "execution_count": 44,
   "metadata": {
    "collapsed": false
   },
   "outputs": [
    {
     "name": "stdout",
     "output_type": "stream",
     "text": [
      "Experiment  BC3012   blogcatalog3\n",
      "f1_macro (emb):  0.233082461595\n",
      "f1_micro (emb):  0.27967416602\n"
     ]
    }
   ],
   "source": [
    "# Test increase intercept scaling (less regularization) = 200\n",
    "_ = lg('BC3012', 'blogcatalog3', index=[0,1], norm=True, C=1e10, ic=220)"
   ]
  },
  {
   "cell_type": "code",
   "execution_count": 46,
   "metadata": {
    "collapsed": false
   },
   "outputs": [
    {
     "name": "stdout",
     "output_type": "stream",
     "text": [
      "Experiment  BC3025   blogcatalog3\n",
      "f1_macro (emb):  0.246718317201\n",
      "f1_micro (emb):  0.282971295578\n"
     ]
    }
   ],
   "source": [
    "# Note: This is still random walk\n",
    "_ = lg('BC3025', 'blogcatalog3', index=[0,1], norm=True, C=1e10, ic=220)"
   ]
  },
  {
   "cell_type": "code",
   "execution_count": 47,
   "metadata": {
    "collapsed": false
   },
   "outputs": [
    {
     "name": "stdout",
     "output_type": "stream",
     "text": [
      "Experiment  BC3024   blogcatalog3\n",
      "f1_macro (emb):  0.165170496715\n",
      "f1_micro (emb):  0.175426687355\n"
     ]
    }
   ],
   "source": [
    "# Check result of ex24 with much less num_walk than 25\n",
    "_ = lg('BC3024', 'blogcatalog3', index=[0,1], norm=True, C=1e10, ic=220)"
   ]
  },
  {
   "cell_type": "code",
   "execution_count": 61,
   "metadata": {
    "collapsed": false
   },
   "outputs": [
    {
     "name": "stdout",
     "output_type": "stream",
     "text": [
      "Experiment  BC3025   blogcatalog3\n",
      "f1_macro (emb):  0.231367291946\n",
      "f1_micro (emb):  0.274049650892\n",
      "Experiment  BC3025   blogcatalog3\n",
      "f1_macro (emb):  0.240162489034\n",
      "f1_micro (emb):  0.279480217223\n",
      "Experiment  BC3025   blogcatalog3\n",
      "f1_macro (emb):  0.234634939919\n",
      "f1_micro (emb):  0.276280062064\n",
      "Experiment  BC3025   blogcatalog3\n",
      "f1_macro (emb):  0.257472767209\n",
      "f1_micro (emb):  0.286462373933\n",
      "Experiment  BC3025   blogcatalog3\n",
      "f1_macro (emb):  0.243036177004\n",
      "f1_micro (emb):  0.278219550039\n",
      "Experiment  BC3025   blogcatalog3\n",
      "f1_macro (emb):  0.250303983259\n",
      "f1_micro (emb):  0.283359193173\n",
      "Experiment  BC3025   blogcatalog3\n",
      "f1_macro (emb):  0.24255831965\n",
      "f1_micro (emb):  0.279286268425\n",
      "Experiment  BC3025   blogcatalog3\n",
      "f1_macro (emb):  0.242226100945\n",
      "f1_micro (emb):  0.281710628394\n",
      "Experiment  BC3025   blogcatalog3\n",
      "f1_macro (emb):  0.246300652772\n",
      "f1_micro (emb):  0.284522885958\n",
      "Experiment  BC3025   blogcatalog3\n",
      "f1_macro (emb):  0.241641796936\n",
      "f1_micro (emb):  0.281322730799\n"
     ]
    }
   ],
   "source": [
    "for _ in range(10):\n",
    "    lg('BC3025', 'blogcatalog3', index=[0,1], norm=True, C=1e15, ic=230)"
   ]
  },
  {
   "cell_type": "code",
   "execution_count": 63,
   "metadata": {
    "collapsed": false
   },
   "outputs": [
    {
     "name": "stdout",
     "output_type": "stream",
     "text": [
      "Experiment  BC3025   blogcatalog3\n",
      "f1_macro (emb):  0.224380957857\n",
      "f1_micro (emb):  0.23283553142\n",
      "Experiment  BC3025   blogcatalog3\n",
      "f1_macro (emb):  0.223271052248\n",
      "f1_micro (emb):  0.231380915438\n",
      "Experiment  BC3025   blogcatalog3\n",
      "f1_macro (emb):  0.221421182605\n",
      "f1_micro (emb):  0.229538401862\n",
      "Experiment  BC3025   blogcatalog3\n",
      "f1_macro (emb):  0.223983957479\n",
      "f1_micro (emb):  0.232156710628\n",
      "Experiment  BC3025   blogcatalog3\n",
      "f1_macro (emb):  0.230403768585\n",
      "f1_micro (emb):  0.232738557021\n",
      "Experiment  BC3025   blogcatalog3\n",
      "f1_macro (emb):  0.22186299814\n",
      "f1_micro (emb):  0.227986811482\n",
      "Experiment  BC3025   blogcatalog3\n",
      "f1_macro (emb):  0.215577851566\n",
      "f1_micro (emb):  0.227114041893\n",
      "Experiment  BC3025   blogcatalog3\n",
      "f1_macro (emb):  0.21914005075\n",
      "f1_micro (emb):  0.227889837083\n",
      "Experiment  BC3025   blogcatalog3\n",
      "f1_macro (emb):  0.229582394109\n",
      "f1_micro (emb):  0.234775019395\n",
      "Experiment  BC3025   blogcatalog3\n",
      "f1_macro (emb):  0.222870394891\n",
      "f1_micro (emb):  0.228083785881\n"
     ]
    }
   ],
   "source": [
    "# Test if balancing the class weight will give better results - Nope!\n",
    "for _ in range(10):\n",
    "    lg('BC3025', 'blogcatalog3', index=[0,1], norm=True, C=1e15, ic=230)"
   ]
  },
  {
   "cell_type": "code",
   "execution_count": 64,
   "metadata": {
    "collapsed": false
   },
   "outputs": [
    {
     "name": "stdout",
     "output_type": "stream",
     "text": [
      "Experiment  BC3012   blogcatalog3\n",
      "f1_macro (emb):  0.214191739416\n",
      "f1_micro (emb):  0.22498060512\n",
      "Experiment  BC3012   blogcatalog3\n",
      "f1_macro (emb):  0.22357130585\n",
      "f1_micro (emb):  0.228083785881\n",
      "Experiment  BC3012   blogcatalog3\n",
      "f1_macro (emb):  0.218972529614\n",
      "f1_micro (emb):  0.225853374709\n",
      "Experiment  BC3012   blogcatalog3\n",
      "f1_macro (emb):  0.224612124085\n",
      "f1_micro (emb):  0.231380915438\n",
      "Experiment  BC3012   blogcatalog3\n",
      "f1_macro (emb):  0.21616459147\n",
      "f1_micro (emb):  0.227211016292\n",
      "Experiment  BC3012   blogcatalog3\n",
      "f1_macro (emb):  0.215718913787\n",
      "f1_micro (emb):  0.227695888285\n",
      "Experiment  BC3012   blogcatalog3\n",
      "f1_macro (emb):  0.210375258756\n",
      "f1_micro (emb):  0.219743987587\n",
      "Experiment  BC3012   blogcatalog3\n",
      "f1_macro (emb):  0.214906468457\n",
      "f1_micro (emb):  0.224495733126\n",
      "Experiment  BC3012   blogcatalog3\n",
      "f1_macro (emb):  0.212082320573\n",
      "f1_micro (emb):  0.228471683476\n",
      "Experiment  BC3012   blogcatalog3\n",
      "f1_macro (emb):  0.220601710571\n",
      "f1_micro (emb):  0.232253685027\n"
     ]
    }
   ],
   "source": [
    "# Test if balancing the class weight will give better results - Nope!\n",
    "# NOTE: BC3012 is motif walk\n",
    "for _ in range(10):\n",
    "    lg('BC3012', 'blogcatalog3', index=[0,1], norm=True, C=1e10, ic=230)"
   ]
  },
  {
   "cell_type": "code",
   "execution_count": null,
   "metadata": {
    "collapsed": false
   },
   "outputs": [
    {
     "name": "stdout",
     "output_type": "stream",
     "text": [
      "Experiment  BC3012   blogcatalog3\n",
      "f1_macro (emb):  0.238939110385\n",
      "f1_micro (emb):  0.277249806051\n",
      "Experiment  BC3012   blogcatalog3\n",
      "f1_macro (emb):  0.243341618848\n",
      "f1_micro (emb):  0.27812257564\n",
      "Experiment  BC3012   blogcatalog3\n",
      "f1_macro (emb):  0.238332321528\n",
      "f1_micro (emb):  0.278801396431\n",
      "Experiment  BC3012   blogcatalog3\n",
      "f1_macro (emb):  0.235606345264\n",
      "f1_micro (emb):  0.276474010861\n",
      "Experiment  BC3012   blogcatalog3\n",
      "f1_macro (emb):  0.23754928472\n",
      "f1_micro (emb):  0.275504266874\n",
      "Experiment  BC3012   blogcatalog3\n",
      "f1_macro (emb):  0.235305996745\n",
      "f1_micro (emb):  0.277152831652\n",
      "Experiment  BC3012   blogcatalog3\n",
      "f1_macro (emb):  0.233681557652\n",
      "f1_micro (emb):  0.278704422033\n"
     ]
    }
   ],
   "source": [
    "for _ in range(10):\n",
    "    lg('BC3012', 'blogcatalog3', index=[0,1], norm=True, C=1e10, ic=230)"
   ]
  },
  {
   "cell_type": "code",
   "execution_count": null,
   "metadata": {
    "collapsed": true
   },
   "outputs": [],
   "source": []
  }
 ],
 "metadata": {
  "anaconda-cloud": {},
  "kernelspec": {
   "display_name": "Python [Root]",
   "language": "python",
   "name": "Python [Root]"
  },
  "language_info": {
   "codemirror_mode": {
    "name": "ipython",
    "version": 3
   },
   "file_extension": ".py",
   "mimetype": "text/x-python",
   "name": "python",
   "nbconvert_exporter": "python",
   "pygments_lexer": "ipython3",
   "version": "3.5.2"
  }
 },
 "nbformat": 4,
 "nbformat_minor": 0
}
