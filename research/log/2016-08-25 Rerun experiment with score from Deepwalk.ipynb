{
 "cells": [
  {
   "cell_type": "code",
   "execution_count": null,
   "metadata": {
    "collapsed": true
   },
   "outputs": [],
   "source": [
    "import sys\n",
    "sys.path.append('../src/mane/prototype/')\n",
    "import numpy as np\n",
    "import graph as g\n",
    "import pickle as p\n",
    "\n",
    "from sklearn.preprocessing import normalize, scale\n",
    "from sklearn.metrics import f1_score\n",
    "from sklearn.multiclass import OneVsRestClassifier\n",
    "from sklearn.svm import LinearSVC\n",
    "from sklearn.linear_model import LogisticRegression\n",
    "from sklearn.linear_model import LogisticRegressionCV"
   ]
  },
  {
   "cell_type": "code",
   "execution_count": null,
   "metadata": {
    "collapsed": true
   },
   "outputs": [],
   "source": [
    "def lg(exp_id, graph_name, index=[0], norm=False, split=0.5, use_bias=False,\n",
    "       max_iter=100, C=1e9, ic=200, test_with_training_data=True, cv=None):\n",
    "    weightfile = '../src/mane/prototype/embeddings/' + exp_id + '.weights'\n",
    "    graphfile = '../src/mane/data/' + graph_name\n",
    "    with open(weightfile, 'rb') as f:\n",
    "        w = p.load(f)\n",
    "    graph = g.graph_from_pickle(graphfile+'.graph', graphfile+'.community')\n",
    "    emb = None\n",
    "    if index is None:\n",
    "        emb = w\n",
    "    else:\n",
    "        for i in index:\n",
    "            if emb is None:\n",
    "                emb = w[i]\n",
    "            else:\n",
    "                emb += w[i]\n",
    "        emb /= len(index)\n",
    "    if use_bias:\n",
    "        emb[:,-1] = w[2].reshape((-1,))\n",
    "    if norm:\n",
    "        emb = normalize(emb)\n",
    "    xids, y_train = graph.gen_training_community(split)\n",
    "    X = [emb[i] for i in xids]\n",
    "    if cv:\n",
    "        learner = LogisticRegressionCV(fit_intercept=True, cv=cv, \n",
    "                                       solver='lbfgs', max_iter=max_iter, \n",
    "                                       intercept_scaling=ic)\n",
    "    else:\n",
    "        learner = LogisticRegression(C=C, max_iter=max_iter, \n",
    "                                     intercept_scaling=ic).fit(X, y_train)\n",
    "    predictor = learner.fit(X, y_train)\n",
    "    if test_with_training_data:\n",
    "        eval_list = graph.nodes()\n",
    "    else:\n",
    "        eval_list = [i for i in graph.nodes() if i not in xids]\n",
    "    y_true = [graph._communities[i] for i in eval_list]\n",
    "    y_pred = [predictor.predict(emb[i].reshape(1,-1))[0] for i in eval_list]\n",
    "    print('Experiment ', exp_id, ' ', graph_name, ' ', str(index))\n",
    "    if cv:\n",
    "        print('With', cv, '-fold cross-validation')\n",
    "    print('f1_macro: ', f1_score(y_true, y_pred, average='macro'))\n",
    "    print('f1_micro: ', f1_score(y_true, y_pred, average='micro'))"
   ]
  }
 ],
 "metadata": {
  "kernelspec": {
   "display_name": "Python [Root]",
   "language": "python",
   "name": "Python [Root]"
  },
  "language_info": {
   "codemirror_mode": {
    "name": "ipython",
    "version": 3
   },
   "file_extension": ".py",
   "mimetype": "text/x-python",
   "name": "python",
   "nbconvert_exporter": "python",
   "pygments_lexer": "ipython3",
   "version": "3.5.2"
  }
 },
 "nbformat": 4,
 "nbformat_minor": 0
}
