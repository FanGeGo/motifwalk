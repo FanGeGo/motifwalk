{
 "cells": [
  {
   "cell_type": "code",
   "execution_count": 1,
   "metadata": {
    "collapsed": false
   },
   "outputs": [
    {
     "name": "stderr",
     "output_type": "stream",
     "text": [
      "Using Theano backend.\n"
     ]
    }
   ],
   "source": [
    "import sys\n",
    "sys.path.append('../src/mane/prototype/')\n",
    "import numpy as np\n",
    "import graph as g\n",
    "import pickle as p\n",
    "import embeddings as e\n",
    "\n",
    "from sklearn.preprocessing import normalize, scale\n",
    "from sklearn.metrics import f1_score\n",
    "from sklearn.multiclass import OneVsRestClassifier\n",
    "from sklearn.svm import LinearSVC\n",
    "from sklearn.linear_model import LogisticRegression"
   ]
  },
  {
   "cell_type": "code",
   "execution_count": 2,
   "metadata": {
    "collapsed": true
   },
   "outputs": [],
   "source": [
    "bc = g.graph_from_pickle('../../research/src/mane/data/blogcatalog3.graph',\n",
    "                         '../../research/src/mane/data/blogcatalog3.community')"
   ]
  },
  {
   "cell_type": "code",
   "execution_count": 16,
   "metadata": {
    "collapsed": false
   },
   "outputs": [
    {
     "data": {
      "text/plain": [
       "array([   5,  587, 6074, 5014, 2085, 8476, 5361, 5333,  176, 4433, 9188,\n",
       "        394, 1115, 5974, 7702, 7065, 7922,  605, 3198, 8310, 2606, 8524,\n",
       "       2228,  667, 1226, 2221, 3765, 1226, 8888, 4647, 4733, 9172, 3407,\n",
       "       1226, 1686, 5241, 9465, 9121, 8471, 7061, 7851, 9420, 5051, 7851,\n",
       "       8853, 4839, 6963, 6665, 7533, 5142, 7215, 1219, 7098, 9979, 9844,\n",
       "         29, 7026, 5681,  449, 1413,   37, 1443,  430,  291, 4984, 1681,\n",
       "       1677, 1398, 1374, 5450, 4931, 2786, 4667, 1327,  394, 8056, 6943,\n",
       "        233, 7373,   15], dtype=int32)"
      ]
     },
     "execution_count": 16,
     "metadata": {},
     "output_type": "execute_result"
    }
   ],
   "source": [
    "bc.triangle_walk(walk_length=80,start_node=5)"
   ]
  },
  {
   "cell_type": "code",
   "execution_count": 4,
   "metadata": {
    "collapsed": false
   },
   "outputs": [
    {
     "name": "stdout",
     "output_type": "stream",
     "text": [
      "The slowest run took 4.91 times longer than the fastest. This could mean that an intermediate result is being cached.\n",
      "1000 loops, best of 3: 363 µs per loop\n"
     ]
    }
   ],
   "source": [
    "%timeit bc.random_walk(walk_length=80, start_node=5)"
   ]
  },
  {
   "cell_type": "code",
   "execution_count": null,
   "metadata": {
    "collapsed": true
   },
   "outputs": [],
   "source": []
  }
 ],
 "metadata": {
  "anaconda-cloud": {},
  "kernelspec": {
   "display_name": "Python [Root]",
   "language": "python",
   "name": "Python [Root]"
  },
  "language_info": {
   "codemirror_mode": {
    "name": "ipython",
    "version": 3
   },
   "file_extension": ".py",
   "mimetype": "text/x-python",
   "name": "python",
   "nbconvert_exporter": "python",
   "pygments_lexer": "ipython3",
   "version": "3.5.2"
  }
 },
 "nbformat": 4,
 "nbformat_minor": 0
}
