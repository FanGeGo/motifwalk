{
 "cells": [
  {
   "cell_type": "code",
   "execution_count": 91,
   "metadata": {
    "collapsed": false
   },
   "outputs": [],
   "source": [
    "import keras as k\n",
    "import keras.backend as b\n",
    "import keras.layers as l\n",
    "import numpy as np\n",
    "import sys\n",
    "sys.path.append('../src/mane/')"
   ]
  },
  {
   "cell_type": "code",
   "execution_count": 2,
   "metadata": {
    "collapsed": false
   },
   "outputs": [],
   "source": [
    "import graph as g\n",
    "fb = g.graph_from_pickle('../src/mane/data/egonets.graph')"
   ]
  },
  {
   "cell_type": "code",
   "execution_count": 60,
   "metadata": {
    "collapsed": false
   },
   "outputs": [],
   "source": [
    "t_in = l.Input(batch_shape=(100,1), dtype='int32', name='target')"
   ]
  },
  {
   "cell_type": "code",
   "execution_count": 61,
   "metadata": {
    "collapsed": true
   },
   "outputs": [],
   "source": [
    "c_in = l.Input(batch_shape=(100,1), dtype='int32', name='class')"
   ]
  },
  {
   "cell_type": "code",
   "execution_count": 79,
   "metadata": {
    "collapsed": false
   },
   "outputs": [],
   "source": [
    "emb_t = l.Embedding(input_dim=len(fb), output_dim=200, name='target_emb', input_length=1)(t_in)\n",
    "emb_t = l.Reshape(target_shape=(200,))(emb_t)\n",
    "emb_c = l.Embedding(input_dim=len(fb), output_dim=200, name='class_emb', input_length=1)(c_in)\n",
    "emb_c = l.Reshape(target_shape=(200,))(emb_c)"
   ]
  },
  {
   "cell_type": "code",
   "execution_count": 80,
   "metadata": {
    "collapsed": true
   },
   "outputs": [],
   "source": [
    "def row_dot(inputs):\n",
    "    return b.batch_dot(inputs[0], inputs[1], axes=[1,1])"
   ]
  },
  {
   "cell_type": "code",
   "execution_count": 86,
   "metadata": {
    "collapsed": false
   },
   "outputs": [],
   "source": [
    "dot_prod = l.Merge(mode=row_dot, output_shape=(1,), name='score')([emb_t, emb_c])"
   ]
  },
  {
   "cell_type": "code",
   "execution_count": 87,
   "metadata": {
    "collapsed": true
   },
   "outputs": [],
   "source": [
    "model = k.models.Model(input=[t_in, c_in], output=dot_prod)"
   ]
  },
  {
   "cell_type": "code",
   "execution_count": 88,
   "metadata": {
    "collapsed": false
   },
   "outputs": [],
   "source": [
    "def nce_loss(y_true, y_pred):\n",
    "    return -b.log(b.sigmoid(y_pred * y_true))"
   ]
  },
  {
   "cell_type": "code",
   "execution_count": 89,
   "metadata": {
    "collapsed": false
   },
   "outputs": [],
   "source": [
    "model.compile(loss=nce_loss, optimizer='adam', name='mmodel')"
   ]
  },
  {
   "cell_type": "code",
   "execution_count": 90,
   "metadata": {
    "collapsed": false
   },
   "outputs": [
    {
     "name": "stdout",
     "output_type": "stream",
     "text": [
      "____________________________________________________________________________________________________\n",
      "Layer (type)                     Output Shape          Param #     Connected to                     \n",
      "====================================================================================================\n",
      "class (InputLayer)               (100, 1)              0                                            \n",
      "____________________________________________________________________________________________________\n",
      "target (InputLayer)              (100, 1)              0                                            \n",
      "____________________________________________________________________________________________________\n",
      "class_emb (Embedding)            (100, 1, 200)         807800      class[0][0]                      \n",
      "____________________________________________________________________________________________________\n",
      "target_emb (Embedding)           (100, 1, 200)         807800      target[0][0]                     \n",
      "____________________________________________________________________________________________________\n",
      "reshape_7 (Reshape)              (100, 200)            0           target_emb[0][0]                 \n",
      "____________________________________________________________________________________________________\n",
      "reshape_8 (Reshape)              (100, 200)            0           class_emb[0][0]                  \n",
      "____________________________________________________________________________________________________\n",
      "score (Merge)                    (100, 1)              0           reshape_7[0][0]                  \n",
      "                                                                   reshape_8[0][0]                  \n",
      "====================================================================================================\n",
      "Total params: 1615600\n",
      "____________________________________________________________________________________________________\n"
     ]
    }
   ],
   "source": [
    "model.summary()"
   ]
  },
  {
   "cell_type": "code",
   "execution_count": 110,
   "metadata": {
    "collapsed": false
   },
   "outputs": [
    {
     "name": "stdout",
     "output_type": "stream",
     "text": [
      "2/2 [==============================] - 0s\n"
     ]
    },
    {
     "data": {
      "text/plain": [
       "0.68893742561340332"
      ]
     },
     "execution_count": 110,
     "metadata": {},
     "output_type": "execute_result"
    }
   ],
   "source": [
    "model.evaluate(x={'target':np.array([[12],[41]],dtype=np.int32), 'class':np.array([[3],[4]], dtype=np.int32)}, y=np.array([1,1], dtype=np.float32))"
   ]
  },
  {
   "cell_type": "code",
   "execution_count": null,
   "metadata": {
    "collapsed": true
   },
   "outputs": [],
   "source": []
  }
 ],
 "metadata": {
  "kernelspec": {
   "display_name": "Python 2",
   "language": "python",
   "name": "python2"
  },
  "language_info": {
   "codemirror_mode": {
    "name": "ipython",
    "version": 2
   },
   "file_extension": ".py",
   "mimetype": "text/x-python",
   "name": "python",
   "nbconvert_exporter": "python",
   "pygments_lexer": "ipython2",
   "version": "2.7.12"
  }
 },
 "nbformat": 4,
 "nbformat_minor": 0
}
