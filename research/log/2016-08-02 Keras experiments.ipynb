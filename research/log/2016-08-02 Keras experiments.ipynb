{
 "cells": [
  {
   "cell_type": "code",
   "execution_count": 111,
   "metadata": {
    "collapsed": false
   },
   "outputs": [],
   "source": [
    "import keras as k\n",
    "import keras.backend as b\n",
    "import keras.layers as l\n",
    "import numpy as np\n",
    "import sys\n",
    "import theano as t\n",
    "sys.path.append('../src/mane/')"
   ]
  },
  {
   "cell_type": "code",
   "execution_count": 2,
   "metadata": {
    "collapsed": false
   },
   "outputs": [],
   "source": [
    "import graph as g\n",
    "fb = g.graph_from_pickle('../src/mane/data/egonets.graph')"
   ]
  },
  {
   "cell_type": "code",
   "execution_count": 60,
   "metadata": {
    "collapsed": false
   },
   "outputs": [],
   "source": [
    "t_in = l.Input(batch_shape=(100,1), dtype='int32', name='target')"
   ]
  },
  {
   "cell_type": "code",
   "execution_count": 61,
   "metadata": {
    "collapsed": true
   },
   "outputs": [],
   "source": [
    "c_in = l.Input(batch_shape=(100,1), dtype='int32', name='class')"
   ]
  },
  {
   "cell_type": "code",
   "execution_count": 79,
   "metadata": {
    "collapsed": false
   },
   "outputs": [],
   "source": [
    "emb_t = l.Embedding(input_dim=len(fb), output_dim=200, name='target_emb', input_length=1)(t_in)\n",
    "emb_t = l.Reshape(target_shape=(200,))(emb_t)\n",
    "emb_c = l.Embedding(input_dim=len(fb), output_dim=200, name='class_emb', input_length=1)(c_in)\n",
    "emb_c = l.Reshape(target_shape=(200,))(emb_c)"
   ]
  },
  {
   "cell_type": "code",
   "execution_count": 80,
   "metadata": {
    "collapsed": true
   },
   "outputs": [],
   "source": [
    "def row_dot(inputs):\n",
    "    return b.batch_dot(inputs[0], inputs[1], axes=[1,1])"
   ]
  },
  {
   "cell_type": "code",
   "execution_count": 86,
   "metadata": {
    "collapsed": false
   },
   "outputs": [],
   "source": [
    "dot_prod = l.Merge(mode=row_dot, output_shape=(1,), name='score')([emb_t, emb_c])"
   ]
  },
  {
   "cell_type": "code",
   "execution_count": 127,
   "metadata": {
    "collapsed": true
   },
   "outputs": [],
   "source": [
    "model = k.models.Model(input=[t_in, c_in], output=dot_prod)"
   ]
  },
  {
   "cell_type": "code",
   "execution_count": 125,
   "metadata": {
    "collapsed": false
   },
   "outputs": [],
   "source": [
    "def nce_loss(y_true, y_pred):\n",
    "    y_true = y_true.reshape(y_pred.shape)\n",
    "    return -b.log(b.sigmoid(y_pred * y_true))"
   ]
  },
  {
   "cell_type": "code",
   "execution_count": 128,
   "metadata": {
    "collapsed": false
   },
   "outputs": [],
   "source": [
    "model.compile(loss=nce_loss, optimizer='adam', name='mmodel')"
   ]
  },
  {
   "cell_type": "code",
   "execution_count": 129,
   "metadata": {
    "collapsed": false
   },
   "outputs": [
    {
     "name": "stdout",
     "output_type": "stream",
     "text": [
      "____________________________________________________________________________________________________\n",
      "Layer (type)                     Output Shape          Param #     Connected to                     \n",
      "====================================================================================================\n",
      "class (InputLayer)               (100, 1)              0                                            \n",
      "____________________________________________________________________________________________________\n",
      "target (InputLayer)              (100, 1)              0                                            \n",
      "____________________________________________________________________________________________________\n",
      "class_emb (Embedding)            (100, 1, 200)         807800      class[0][0]                      \n",
      "____________________________________________________________________________________________________\n",
      "target_emb (Embedding)           (100, 1, 200)         807800      target[0][0]                     \n",
      "____________________________________________________________________________________________________\n",
      "reshape_7 (Reshape)              (100, 200)            0           target_emb[0][0]                 \n",
      "____________________________________________________________________________________________________\n",
      "reshape_8 (Reshape)              (100, 200)            0           class_emb[0][0]                  \n",
      "____________________________________________________________________________________________________\n",
      "score (Merge)                    (100, 1)              0           reshape_7[0][0]                  \n",
      "                                                                   reshape_8[0][0]                  \n",
      "====================================================================================================\n",
      "Total params: 1615600\n",
      "____________________________________________________________________________________________________\n"
     ]
    }
   ],
   "source": [
    "model.summary()"
   ]
  },
  {
   "cell_type": "code",
   "execution_count": 135,
   "metadata": {
    "collapsed": false
   },
   "outputs": [
    {
     "name": "stdout",
     "output_type": "stream",
     "text": [
      "1/1 [==============================] - 0s\n"
     ]
    },
    {
     "data": {
      "text/plain": [
       "0.69442957639694214"
      ]
     },
     "execution_count": 135,
     "metadata": {},
     "output_type": "execute_result"
    }
   ],
   "source": [
    "model.evaluate(x={'target':np.array([[3]],dtype=np.int32), 'class':np.array([[5]], dtype=np.int32)}, y=np.array([1], dtype=np.float32))"
   ]
  },
  {
   "cell_type": "code",
   "execution_count": 112,
   "metadata": {
    "collapsed": false
   },
   "outputs": [
    {
     "data": {
      "text/plain": [
       "array([[-0.00083925],\n",
       "       [ 0.01775739]], dtype=float32)"
      ]
     },
     "execution_count": 112,
     "metadata": {},
     "output_type": "execute_result"
    }
   ],
   "source": [
    "model.predict(x={'target':np.array([[12],[41]],dtype=np.int32), 'class':np.array([[3],[4]], dtype=np.int32)})"
   ]
  },
  {
   "cell_type": "code",
   "execution_count": 115,
   "metadata": {
    "collapsed": false
   },
   "outputs": [],
   "source": [
    "pred = model.predict(x={'target':np.array([[1],[2]],dtype=np.int32), 'class':np.array([[3],[4]], dtype=np.int32)})"
   ]
  },
  {
   "cell_type": "code",
   "execution_count": 116,
   "metadata": {
    "collapsed": true
   },
   "outputs": [],
   "source": [
    "true = np.array([1.0,1.0], dtype=np.float32)"
   ]
  },
  {
   "cell_type": "code",
   "execution_count": 126,
   "metadata": {
    "collapsed": false
   },
   "outputs": [
    {
     "data": {
      "text/plain": [
       "array([[ 0.69689059],\n",
       "       [ 0.70109516]], dtype=float32)"
      ]
     },
     "execution_count": 126,
     "metadata": {},
     "output_type": "execute_result"
    }
   ],
   "source": [
    "nce_loss(true, pred).eval()"
   ]
  },
  {
   "cell_type": "code",
   "execution_count": 118,
   "metadata": {
    "collapsed": true
   },
   "outputs": [],
   "source": [
    "i = model.get_weights()[0]"
   ]
  },
  {
   "cell_type": "code",
   "execution_count": 119,
   "metadata": {
    "collapsed": true
   },
   "outputs": [],
   "source": [
    "o = model.get_weights()[1] "
   ]
  },
  {
   "cell_type": "code",
   "execution_count": 122,
   "metadata": {
    "collapsed": false
   },
   "outputs": [
    {
     "data": {
      "text/plain": [
       "array([  5.37328469e-03,   3.56331877e-02,   2.62254160e-02,\n",
       "         4.51384634e-02,   3.32368687e-02,   4.87604439e-02,\n",
       "        -3.27504389e-02,  -2.82911789e-02,  -2.18070131e-02,\n",
       "        -9.18343943e-03,  -2.35433318e-03,   2.02998202e-02,\n",
       "        -1.89829934e-02,  -4.47647609e-02,  -3.23314639e-03,\n",
       "        -3.53223495e-02,  -2.69703176e-02,  -2.33573802e-02,\n",
       "         4.06676419e-02,   3.85162197e-02,   3.40460762e-02,\n",
       "         3.68706770e-02,   3.97941098e-03,  -4.44951616e-02,\n",
       "         3.56409624e-02,   1.95348752e-03,   2.54548322e-02,\n",
       "         2.65211426e-02,   1.32009741e-02,   1.87109550e-03,\n",
       "        -1.68678928e-02,  -1.03147337e-02,   1.99237075e-02,\n",
       "        -2.24945471e-02,   4.42732945e-02,   2.67329495e-02,\n",
       "        -4.30680700e-02,  -4.43621501e-02,   4.84206602e-02,\n",
       "         1.39703155e-02,   2.25176290e-02,  -4.67611142e-02,\n",
       "        -1.74244680e-02,  -9.13463626e-03,   1.77482497e-02,\n",
       "         3.53569351e-02,   3.68807465e-02,  -4.16654907e-02,\n",
       "         3.04941386e-02,   1.97497699e-02,  -4.14782837e-02,\n",
       "         4.08745855e-02,   8.84252600e-03,  -4.77650128e-02,\n",
       "        -2.78135184e-02,   1.19523257e-02,  -4.64889184e-02,\n",
       "        -1.36620197e-02,  -1.03457617e-02,  -6.01264089e-03,\n",
       "        -4.21208665e-02,   3.32895182e-02,   3.44554707e-02,\n",
       "         3.62505652e-02,  -3.03693376e-02,  -2.65184343e-02,\n",
       "         4.25625630e-02,   6.05786406e-03,  -1.92741472e-02,\n",
       "        -2.93371622e-02,   2.42571980e-02,  -2.81153414e-02,\n",
       "        -2.63215229e-02,  -4.26798984e-02,  -3.65798511e-02,\n",
       "         3.30917612e-02,   3.73872593e-02,  -1.59573101e-03,\n",
       "         1.84342265e-02,  -4.70567793e-02,  -3.52030881e-02,\n",
       "         2.02536974e-02,  -2.26820260e-02,  -6.41217548e-03,\n",
       "        -4.80871089e-02,   3.33112963e-02,  -4.29886207e-02,\n",
       "         4.82811704e-02,  -2.33000284e-03,   4.22734544e-02,\n",
       "        -2.05017105e-02,   3.23651657e-02,   9.64161661e-03,\n",
       "         3.12993489e-02,  -4.23853770e-02,   3.17013972e-02,\n",
       "         4.87598069e-02,  -1.77029967e-02,   3.00957989e-02,\n",
       "        -4.28744666e-02,   1.49101093e-02,  -3.41633894e-02,\n",
       "        -4.99934098e-03,  -2.26774570e-02,  -4.15622294e-02,\n",
       "        -3.43720317e-02,   1.99269503e-02,  -4.23725769e-02,\n",
       "        -5.97319379e-03,  -5.00456244e-03,   1.17915422e-02,\n",
       "         3.62654775e-02,  -2.41817650e-03,  -5.59487799e-03,\n",
       "        -3.05473711e-02,   1.87105276e-02,  -3.38174822e-03,\n",
       "         4.60520573e-02,   3.76990810e-02,  -2.36613620e-02,\n",
       "        -3.83527465e-02,  -3.29711847e-02,  -1.17699401e-02,\n",
       "        -6.07282063e-03,   3.61256488e-02,  -4.18718457e-02,\n",
       "         3.96411829e-02,   1.27213420e-02,   2.29933988e-02,\n",
       "        -1.08669391e-02,   4.05368172e-02,   2.02725045e-02,\n",
       "         4.84479293e-02,   2.04184465e-02,  -1.26125002e-02,\n",
       "         3.96877062e-03,  -2.11506430e-02,   6.90652663e-03,\n",
       "         2.05217209e-02,   2.84562968e-02,   1.26640196e-03,\n",
       "         3.83947194e-02,   4.48435694e-02,  -4.25052159e-02,\n",
       "        -2.02052034e-02,  -2.89350934e-02,   3.43650579e-02,\n",
       "        -1.06023205e-02,  -1.14525380e-02,   9.06890351e-03,\n",
       "         4.38485040e-05,   2.48101484e-02,   2.51160543e-02,\n",
       "         3.16789076e-02,  -2.25969870e-02,   3.70113514e-02,\n",
       "         3.59841846e-02,  -4.10549641e-02,  -4.78424244e-02,\n",
       "        -5.15623437e-03,  -6.02481421e-03,  -1.78470053e-02,\n",
       "        -2.22576410e-02,   2.84886435e-02,   4.16028053e-02,\n",
       "        -3.58164236e-02,   3.01282834e-02,  -6.11233339e-03,\n",
       "         4.81143482e-02,  -1.15343388e-02,  -7.66773068e-04,\n",
       "         7.15443492e-03,   2.22818069e-02,  -4.52869013e-02,\n",
       "         2.93631498e-02,  -2.15501916e-02,  -5.38818631e-03,\n",
       "         3.07608638e-02,  -3.32193412e-02,   2.15199944e-02,\n",
       "         4.22941037e-02,   3.42633389e-02,  -1.37577171e-03,\n",
       "        -3.21834274e-02,  -2.87813433e-02,  -4.79141064e-02,\n",
       "        -1.51870772e-02,   4.64112014e-02,   1.41847488e-02,\n",
       "         2.04777755e-02,   4.17340659e-02,  -1.12749096e-02,\n",
       "         3.51991393e-02,  -1.42910639e-02,   2.10714377e-02,\n",
       "        -2.64565796e-02,   4.83641140e-02,   4.55415286e-02,\n",
       "         4.64246869e-02,  -4.48781401e-02], dtype=float32)"
      ]
     },
     "execution_count": 122,
     "metadata": {},
     "output_type": "execute_result"
    }
   ],
   "source": [
    "i[0]"
   ]
  },
  {
   "cell_type": "code",
   "execution_count": null,
   "metadata": {
    "collapsed": true
   },
   "outputs": [],
   "source": []
  }
 ],
 "metadata": {
  "kernelspec": {
   "display_name": "Python 2",
   "language": "python",
   "name": "python2"
  },
  "language_info": {
   "codemirror_mode": {
    "name": "ipython",
    "version": 2
   },
   "file_extension": ".py",
   "mimetype": "text/x-python",
   "name": "python",
   "nbconvert_exporter": "python",
   "pygments_lexer": "ipython2",
   "version": "2.7.12"
  }
 },
 "nbformat": 4,
 "nbformat_minor": 0
}
