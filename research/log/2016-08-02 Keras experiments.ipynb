{
 "cells": [
  {
   "cell_type": "code",
   "execution_count": 7,
   "metadata": {
    "collapsed": false
   },
   "outputs": [],
   "source": [
    "import keras as k\n",
    "import keras.backend as b\n",
    "import keras.layers as l\n",
    "import numpy as np\n",
    "import sys\n",
    "import theano as t\n",
    "import keras.initializations as i\n",
    "sys.path.append('../src/mane/')"
   ]
  },
  {
   "cell_type": "code",
   "execution_count": 2,
   "metadata": {
    "collapsed": false
   },
   "outputs": [],
   "source": [
    "import graph as g\n",
    "fb = g.graph_from_pickle('../src/mane/data/egonets.graph')"
   ]
  },
  {
   "cell_type": "code",
   "execution_count": 12,
   "metadata": {
    "collapsed": true
   },
   "outputs": [],
   "source": [
    "def row_dot(inputs):\n",
    "    return b.batch_dot(inputs[0], inputs[1], axes=[1,1])\n",
    "def nce_loss(y_true, y_pred):\n",
    "    y_true = y_true.reshape(y_pred.shape)\n",
    "    return -b.log(b.sigmoid(y_pred * y_true))\n",
    "def init_uniform(shape, name=None):\n",
    "    return i.uniform(shape=shape, scale=1, name=name)"
   ]
  },
  {
   "cell_type": "code",
   "execution_count": 9,
   "metadata": {
    "collapsed": false
   },
   "outputs": [],
   "source": [
    "t_in = l.Input(batch_shape=(100,1), dtype='int32', name='target')\n",
    "c_in = l.Input(batch_shape=(100,1), dtype='int32', name='class')"
   ]
  },
  {
   "cell_type": "code",
   "execution_count": 20,
   "metadata": {
    "collapsed": false
   },
   "outputs": [],
   "source": [
    "emb_t = l.Embedding(input_dim=len(fb), output_dim=200, \n",
    "                    name='target_emb', input_length=1,\n",
    "                    init=init_uniform) (t_in)\n",
    "emb_t = l.Reshape(target_shape=(200,))(emb_t)\n",
    "emb_c = l.Embedding(input_dim=len(fb), output_dim=200, \n",
    "                    name='nce_emb', input_length=1,\n",
    "                    init=init_uniform) (c_in)\n",
    "emb_c = l.Reshape(target_shape=(200,))(emb_c)\n",
    "emb_b = l.Embedding(input_dim=len(fb), output_dim=1,\n",
    "                    name='nce_bias', input_length=1,\n",
    "                    init='zero') (t_in)\n",
    "emb_b = l.Reshape(target_shape=(1,))(emb_b)"
   ]
  },
  {
   "cell_type": "code",
   "execution_count": 28,
   "metadata": {
    "collapsed": false
   },
   "outputs": [],
   "source": [
    "dot_prod = l.Merge(mode=row_dot, output_shape=(1,), name='row_wise_dot')([emb_t, emb_c])\n",
    "logits = l.Merge(mode='sum', output_shape=(1,), name='logits')([dot_prod, emb_b])\n",
    "sigm = l.Activation('sigmoid')(logits)"
   ]
  },
  {
   "cell_type": "code",
   "execution_count": 29,
   "metadata": {
    "collapsed": true
   },
   "outputs": [],
   "source": [
    "model = k.models.Model(input=[t_in, c_in], output=sigm)"
   ]
  },
  {
   "cell_type": "code",
   "execution_count": 30,
   "metadata": {
    "collapsed": false
   },
   "outputs": [],
   "source": [
    "model.compile(loss='binary_crossentropy', optimizer='adam', name='mmodel')"
   ]
  },
  {
   "cell_type": "code",
   "execution_count": 31,
   "metadata": {
    "collapsed": false
   },
   "outputs": [
    {
     "name": "stdout",
     "output_type": "stream",
     "text": [
      "____________________________________________________________________________________________________\n",
      "Layer (type)                     Output Shape          Param #     Connected to                     \n",
      "====================================================================================================\n",
      "class (InputLayer)               (100, 1)              0                                            \n",
      "____________________________________________________________________________________________________\n",
      "target (InputLayer)              (100, 1)              0                                            \n",
      "____________________________________________________________________________________________________\n",
      "nce_emb (Embedding)              (100, 1, 200)         807800      class[0][0]                      \n",
      "____________________________________________________________________________________________________\n",
      "target_emb (Embedding)           (100, 1, 200)         807800      target[0][0]                     \n",
      "____________________________________________________________________________________________________\n",
      "nce_bias (Embedding)             (100, 1, 1)           4039        target[0][0]                     \n",
      "____________________________________________________________________________________________________\n",
      "reshape_8 (Reshape)              (100, 200)            0           target_emb[0][0]                 \n",
      "____________________________________________________________________________________________________\n",
      "reshape_9 (Reshape)              (100, 200)            0           nce_emb[0][0]                    \n",
      "____________________________________________________________________________________________________\n",
      "reshape_10 (Reshape)             (100, 1)              0           nce_bias[0][0]                   \n",
      "____________________________________________________________________________________________________\n",
      "row_wise_dot (Merge)             (100, 1)              0           reshape_8[0][0]                  \n",
      "                                                                   reshape_9[0][0]                  \n",
      "____________________________________________________________________________________________________\n",
      "logits (Merge)                   (100, 1)              0           row_wise_dot[0][0]               \n",
      "                                                                   reshape_10[0][0]                 \n",
      "____________________________________________________________________________________________________\n",
      "activation_1 (Activation)        (100, 1)              0           logits[0][0]                     \n",
      "====================================================================================================\n",
      "Total params: 1619639\n",
      "____________________________________________________________________________________________________\n"
     ]
    }
   ],
   "source": [
    "model.summary()"
   ]
  }
 ],
 "metadata": {
  "kernelspec": {
   "display_name": "Python 2",
   "language": "python",
   "name": "python2"
  },
  "language_info": {
   "codemirror_mode": {
    "name": "ipython",
    "version": 2
   },
   "file_extension": ".py",
   "mimetype": "text/x-python",
   "name": "python",
   "nbconvert_exporter": "python",
   "pygments_lexer": "ipython2",
   "version": "2.7.12"
  }
 },
 "nbformat": 4,
 "nbformat_minor": 0
}
