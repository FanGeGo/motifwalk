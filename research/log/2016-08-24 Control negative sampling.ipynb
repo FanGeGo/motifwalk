{
 "cells": [
  {
   "cell_type": "code",
   "execution_count": 1,
   "metadata": {
    "collapsed": true
   },
   "outputs": [],
   "source": [
    "import sys\n",
    "sys.path.append('../src/mane/prototype/')\n",
    "import numpy as np\n",
    "import graph as g\n",
    "import pickle as p\n",
    "\n",
    "from sklearn.preprocessing import normalize, scale\n",
    "from sklearn.metrics import f1_score\n",
    "from sklearn.multiclass import OneVsRestClassifier\n",
    "from sklearn.svm import LinearSVC\n",
    "from sklearn.linear_model import LogisticRegression\n",
    "from sklearn.linear_model import LogisticRegressionCV"
   ]
  },
  {
   "cell_type": "code",
   "execution_count": 3,
   "metadata": {
    "collapsed": true
   },
   "outputs": [],
   "source": [
    "def lg(exp_id, graph_name, index=[0], norm=False, split=0.5, use_bias=False,\n",
    "       max_iter=100, C=1e9, ic=200, test_with_training_data=True, cv=None):\n",
    "    weightfile = '../src/mane/prototype/embeddings/' + exp_id + '.weights'\n",
    "    graphfile = '../src/mane/data/' + graph_name\n",
    "    with open(weightfile, 'rb') as f:\n",
    "        w = p.load(f)\n",
    "    graph = g.graph_from_pickle(graphfile+'.graph', graphfile+'.community')\n",
    "    emb = None\n",
    "    if index is None:\n",
    "        emb = w\n",
    "    else:\n",
    "        for i in index:\n",
    "            if emb is None:\n",
    "                emb = w[i]\n",
    "            else:\n",
    "                emb += w[i]\n",
    "        emb /= len(index)\n",
    "    if use_bias:\n",
    "        emb[:,-1] = w[2].reshape((-1,))\n",
    "    if norm:\n",
    "        emb = normalize(emb)\n",
    "    xids, y_train = graph.gen_training_community(split)\n",
    "    X = [emb[i] for i in xids]\n",
    "    if cv:\n",
    "        learner = LogisticRegressionCV(fit_intercept=True, cv=cv, \n",
    "                                       solver='lbfgs', max_iter=max_iter, \n",
    "                                       intercept_scaling=ic)\n",
    "    else:\n",
    "        learner = LogisticRegression(C=C, max_iter=max_iter, \n",
    "                                     intercept_scaling=ic).fit(X, y_train)\n",
    "    predictor = learner.fit(X, y_train)\n",
    "    if test_with_training_data:\n",
    "        eval_list = graph.nodes()\n",
    "    else:\n",
    "        eval_list = [i for i in graph.nodes() if i not in xids]\n",
    "    y_true = [graph._communities[i] for i in eval_list]\n",
    "    y_pred = [predictor.predict(emb[i].reshape(1,-1))[0] for i in eval_list]\n",
    "    print('Experiment ', exp_id, ' ', graph_name, ' ', str(index))\n",
    "    if cv:\n",
    "        print('With', cv, '-fold cross-validation')\n",
    "    print('f1_macro: ', f1_score(y_true, y_pred, average='macro'))\n",
    "    print('f1_micro: ', f1_score(y_true, y_pred, average='micro'))"
   ]
  },
  {
   "cell_type": "code",
   "execution_count": 5,
   "metadata": {
    "collapsed": false
   },
   "outputs": [
    {
     "name": "stdout",
     "output_type": "stream",
     "text": [
      "Experiment  BC3041   blogcatalog3   [0, 1]\n",
      "f1_macro:  0.280467818713\n",
      "f1_micro:  0.321470131885\n"
     ]
    }
   ],
   "source": [
    "lg('BC3041', 'blogcatalog3', [0,1], True)"
   ]
  },
  {
   "cell_type": "code",
   "execution_count": 34,
   "metadata": {
    "collapsed": false
   },
   "outputs": [
    {
     "name": "stdout",
     "output_type": "stream",
     "text": [
      "Experiment  BC3041   blogcatalog3   [0, 1]\n",
      "f1_macro:  0.266714470288\n",
      "f1_micro:  0.315942591156\n",
      "Experiment  BC3041   blogcatalog3   [0, 1]\n",
      "f1_macro:  0.281414885268\n",
      "f1_micro:  0.318463925524\n",
      "Experiment  BC3041   blogcatalog3   [0, 1]\n",
      "f1_macro:  0.263938879221\n",
      "f1_micro:  0.315457719162\n",
      "Experiment  BC3041   blogcatalog3   [0, 1]\n",
      "f1_macro:  0.281339578699\n",
      "f1_micro:  0.321567106284\n",
      "Experiment  BC3041   blogcatalog3   [0, 1]\n",
      "f1_macro:  0.277281328346\n",
      "f1_micro:  0.317106283941\n",
      "Experiment  BC3041   blogcatalog3   [0, 1]\n",
      "f1_macro:  0.279887527873\n",
      "f1_micro:  0.322148952676\n",
      "Experiment  BC3041   blogcatalog3   [0, 1]\n",
      "f1_macro:  0.277448305269\n",
      "f1_micro:  0.318560899922\n",
      "Experiment  BC3041   blogcatalog3   [0, 1]\n",
      "f1_macro:  0.279637646493\n",
      "f1_micro:  0.321373157486\n",
      "Experiment  BC3041   blogcatalog3   [0, 1]\n",
      "f1_macro:  0.277812114826\n",
      "f1_micro:  0.318366951125\n",
      "Experiment  BC3041   blogcatalog3   [0, 1]\n",
      "f1_macro:  0.278660276431\n",
      "f1_micro:  0.316039565555\n"
     ]
    }
   ],
   "source": [
    "for _ in range(10):\n",
    "    lg('BC3041', 'blogcatalog3', [0,1], True, use_bias=True)"
   ]
  },
  {
   "cell_type": "code",
   "execution_count": 35,
   "metadata": {
    "collapsed": false
   },
   "outputs": [
    {
     "name": "stdout",
     "output_type": "stream",
     "text": [
      "Experiment  BC3041   blogcatalog3   [0, 1]\n",
      "f1_macro:  0.291281802303\n",
      "f1_micro:  0.326803723817\n",
      "Experiment  BC3041   blogcatalog3   [0, 1]\n",
      "f1_macro:  0.282814555002\n",
      "f1_micro:  0.323506594259\n",
      "Experiment  BC3041   blogcatalog3   [0, 1]\n",
      "f1_macro:  0.285596599861\n",
      "f1_micro:  0.320500387898\n",
      "Experiment  BC3041   blogcatalog3   [0, 1]\n",
      "f1_macro:  0.281586769284\n",
      "f1_micro:  0.322827773468\n",
      "Experiment  BC3041   blogcatalog3   [0, 1]\n",
      "f1_macro:  0.275960608449\n",
      "f1_micro:  0.323797517455\n",
      "Experiment  BC3041   blogcatalog3   [0, 1]\n",
      "f1_macro:  0.276598472376\n",
      "f1_micro:  0.322439875873\n",
      "Experiment  BC3041   blogcatalog3   [0, 1]\n",
      "f1_macro:  0.28358502122\n",
      "f1_micro:  0.321664080683\n",
      "Experiment  BC3041   blogcatalog3   [0, 1]\n",
      "f1_macro:  0.286768835982\n",
      "f1_micro:  0.319918541505\n",
      "Experiment  BC3041   blogcatalog3   [0, 1]\n",
      "f1_macro:  0.280924907158\n",
      "f1_micro:  0.323215671063\n",
      "Experiment  BC3041   blogcatalog3   [0, 1]\n",
      "f1_macro:  0.288107729958\n",
      "f1_micro:  0.323894491854\n"
     ]
    }
   ],
   "source": [
    "for _ in range(10):\n",
    "    lg('BC3041', 'blogcatalog3', [0,1], True, use_bias=False)"
   ]
  },
  {
   "cell_type": "code",
   "execution_count": 36,
   "metadata": {
    "collapsed": false
   },
   "outputs": [
    {
     "name": "stdout",
     "output_type": "stream",
     "text": [
      "Experiment  BC3041   blogcatalog3   [0, 1]\n",
      "f1_macro:  0.133256165702\n",
      "f1_micro:  0.233939628483\n"
     ]
    },
    {
     "name": "stderr",
     "output_type": "stream",
     "text": [
      "/home/hoangnt/anaconda3/lib/python3.5/site-packages/sklearn/metrics/classification.py:1074: UndefinedMetricWarning: F-score is ill-defined and being set to 0.0 in labels with no predicted samples.\n",
      "  'precision', 'predicted', average, warn_for)\n"
     ]
    },
    {
     "name": "stdout",
     "output_type": "stream",
     "text": [
      "Experiment  BC3041   blogcatalog3   [0, 1]\n",
      "f1_macro:  0.14230853769\n",
      "f1_micro:  0.240712074303\n",
      "Experiment  BC3041   blogcatalog3   [0, 1]\n",
      "f1_macro:  0.139036480833\n",
      "f1_micro:  0.241099071207\n",
      "Experiment  BC3041   blogcatalog3   [0, 1]\n",
      "f1_macro:  0.141008272639\n",
      "f1_micro:  0.245356037152\n",
      "Experiment  BC3041   blogcatalog3   [0, 1]\n",
      "f1_macro:  0.129691463893\n",
      "f1_micro:  0.233746130031\n",
      "Experiment  BC3041   blogcatalog3   [0, 1]\n",
      "f1_macro:  0.141336083869\n",
      "f1_micro:  0.242647058824\n",
      "Experiment  BC3041   blogcatalog3   [0, 1]\n",
      "f1_macro:  0.139189968737\n",
      "f1_micro:  0.238777089783\n",
      "Experiment  BC3041   blogcatalog3   [0, 1]\n",
      "f1_macro:  0.143480778489\n",
      "f1_micro:  0.248645510836\n",
      "Experiment  BC3041   blogcatalog3   [0, 1]\n",
      "f1_macro:  0.146364133843\n",
      "f1_micro:  0.249226006192\n",
      "Experiment  BC3041   blogcatalog3   [0, 1]\n",
      "f1_macro:  0.14380581783\n",
      "f1_micro:  0.248645510836\n"
     ]
    }
   ],
   "source": [
    "for _ in range(10):\n",
    "    lg('BC3041', 'blogcatalog3', [0,1], True, use_bias=False, test_with_training_data=False)"
   ]
  },
  {
   "cell_type": "code",
   "execution_count": 37,
   "metadata": {
    "collapsed": false
   },
   "outputs": [
    {
     "name": "stdout",
     "output_type": "stream",
     "text": [
      "Experiment  BC3_deepwalk   blogcatalog3   [0, 1]\n",
      "f1_macro:  0.0785946136219\n",
      "f1_micro:  0.131191950464\n",
      "Experiment  BC3_deepwalk   blogcatalog3   [0, 1]\n",
      "f1_macro:  0.0785162811842\n",
      "f1_micro:  0.130998452012\n"
     ]
    },
    {
     "name": "stderr",
     "output_type": "stream",
     "text": [
      "/home/hoangnt/anaconda3/lib/python3.5/site-packages/sklearn/metrics/classification.py:1074: UndefinedMetricWarning: F-score is ill-defined and being set to 0.0 in labels with no predicted samples.\n",
      "  'precision', 'predicted', average, warn_for)\n"
     ]
    },
    {
     "name": "stdout",
     "output_type": "stream",
     "text": [
      "Experiment  BC3_deepwalk   blogcatalog3   [0, 1]\n",
      "f1_macro:  0.0825238648546\n",
      "f1_micro:  0.137770897833\n",
      "Experiment  BC3_deepwalk   blogcatalog3   [0, 1]\n",
      "f1_macro:  0.0767089389055\n",
      "f1_micro:  0.129643962848\n",
      "Experiment  BC3_deepwalk   blogcatalog3   [0, 1]\n",
      "f1_macro:  0.0827200027725\n",
      "f1_micro:  0.133900928793\n",
      "Experiment  BC3_deepwalk   blogcatalog3   [0, 1]\n",
      "f1_macro:  0.0862535671089\n",
      "f1_micro:  0.136222910217\n",
      "Experiment  BC3_deepwalk   blogcatalog3   [0, 1]\n",
      "f1_macro:  0.0801926892678\n",
      "f1_micro:  0.132933436533\n",
      "Experiment  BC3_deepwalk   blogcatalog3   [0, 1]\n",
      "f1_macro:  0.0783022625852\n",
      "f1_micro:  0.136029411765\n",
      "Experiment  BC3_deepwalk   blogcatalog3   [0, 1]\n",
      "f1_macro:  0.0800083839613\n",
      "f1_micro:  0.137383900929\n",
      "Experiment  BC3_deepwalk   blogcatalog3   [0, 1]\n",
      "f1_macro:  0.0770370373193\n",
      "f1_micro:  0.130224458204\n"
     ]
    }
   ],
   "source": [
    "for _ in range(10):\n",
    "    lg('BC3_deepwalk', 'blogcatalog3', [0,1], True, use_bias=False, test_with_training_data=False)"
   ]
  },
  {
   "cell_type": "code",
   "execution_count": 39,
   "metadata": {
    "collapsed": false
   },
   "outputs": [
    {
     "name": "stdout",
     "output_type": "stream",
     "text": [
      "Experiment  BC3042   blogcatalog3   [0, 1]\n",
      "f1_macro:  0.18494642773\n",
      "f1_micro:  0.209270752521\n",
      "Experiment  BC3042   blogcatalog3   [0, 1]\n",
      "f1_macro:  0.182255005803\n",
      "f1_micro:  0.211307214895\n",
      "Experiment  BC3042   blogcatalog3   [0, 1]\n",
      "f1_macro:  0.197762506027\n",
      "f1_micro:  0.218289371606\n",
      "Experiment  BC3042   blogcatalog3   [0, 1]\n",
      "f1_macro:  0.180955690022\n",
      "f1_micro:  0.206749418154\n",
      "Experiment  BC3042   blogcatalog3   [0, 1]\n",
      "f1_macro:  0.192743376177\n",
      "f1_micro:  0.215186190846\n",
      "Experiment  BC3042   blogcatalog3   [0, 1]\n",
      "f1_macro:  0.188248008297\n",
      "f1_micro:  0.216252909232\n",
      "Experiment  BC3042   blogcatalog3   [0, 1]\n",
      "f1_macro:  0.190847697858\n",
      "f1_micro:  0.215186190846\n",
      "Experiment  BC3042   blogcatalog3   [0, 1]\n",
      "f1_macro:  0.184282198754\n",
      "f1_micro:  0.211307214895\n",
      "Experiment  BC3042   blogcatalog3   [0, 1]\n",
      "f1_macro:  0.183350649275\n",
      "f1_micro:  0.211210240497\n",
      "Experiment  BC3042   blogcatalog3   [0, 1]\n",
      "f1_macro:  0.186879310792\n",
      "f1_micro:  0.216252909232\n"
     ]
    }
   ],
   "source": [
    "for _ in range(10):\n",
    "    lg('BC3042', 'blogcatalog3', [0,1], True, use_bias=False)"
   ]
  },
  {
   "cell_type": "code",
   "execution_count": 40,
   "metadata": {
    "collapsed": false
   },
   "outputs": [
    {
     "name": "stdout",
     "output_type": "stream",
     "text": [
      "Experiment  BC3043   blogcatalog3   [0, 1]\n",
      "f1_macro:  0.201681753326\n",
      "f1_micro:  0.229635376261\n",
      "Experiment  BC3043   blogcatalog3   [0, 1]\n",
      "f1_macro:  0.205114830894\n",
      "f1_micro:  0.231380915438\n",
      "Experiment  BC3043   blogcatalog3   [0, 1]\n",
      "f1_macro:  0.203727688398\n",
      "f1_micro:  0.228277734678\n",
      "Experiment  BC3043   blogcatalog3   [0, 1]\n",
      "f1_macro:  0.203414107914\n",
      "f1_micro:  0.232738557021\n",
      "Experiment  BC3043   blogcatalog3   [0, 1]\n",
      "f1_macro:  0.197616955301\n",
      "f1_micro:  0.227695888285\n",
      "Experiment  BC3043   blogcatalog3   [0, 1]\n",
      "f1_macro:  0.194468637217\n",
      "f1_micro:  0.230314197052\n",
      "Experiment  BC3043   blogcatalog3   [0, 1]\n",
      "f1_macro:  0.20595131003\n",
      "f1_micro:  0.232156710628\n",
      "Experiment  BC3043   blogcatalog3   [0, 1]\n",
      "f1_macro:  0.196334233198\n",
      "f1_micro:  0.22730799069\n",
      "Experiment  BC3043   blogcatalog3   [0, 1]\n",
      "f1_macro:  0.201075479853\n",
      "f1_micro:  0.230993017843\n",
      "Experiment  BC3043   blogcatalog3   [0, 1]\n",
      "f1_macro:  0.201547829383\n",
      "f1_micro:  0.228956555469\n"
     ]
    }
   ],
   "source": [
    "for _ in range(10):\n",
    "    lg('BC3043', 'blogcatalog3', [0,1], True, use_bias=False)"
   ]
  },
  {
   "cell_type": "code",
   "execution_count": 41,
   "metadata": {
    "collapsed": false
   },
   "outputs": [
    {
     "name": "stdout",
     "output_type": "stream",
     "text": [
      "Experiment  BC3043   blogcatalog3   [0, 1]\n",
      "f1_macro:  0.277342009382\n",
      "f1_micro:  0.323215671063\n",
      "Experiment  BC3043   blogcatalog3   [0, 1]\n",
      "f1_macro:  0.284405784353\n",
      "f1_micro:  0.33126454616\n",
      "Experiment  BC3043   blogcatalog3   [0, 1]\n",
      "f1_macro:  0.279097120765\n",
      "f1_micro:  0.329809930178\n",
      "Experiment  BC3043   blogcatalog3   [0, 1]\n",
      "f1_macro:  0.292801956802\n",
      "f1_micro:  0.333010085337\n",
      "Experiment  BC3043   blogcatalog3   [0, 1]\n",
      "f1_macro:  0.278391644443\n",
      "f1_micro:  0.329034134988\n",
      "Experiment  BC3043   blogcatalog3   [0, 1]\n",
      "f1_macro:  0.279402676768\n",
      "f1_micro:  0.328452288596\n",
      "Experiment  BC3043   blogcatalog3   [0, 1]\n",
      "f1_macro:  0.285421323485\n",
      "f1_micro:  0.327676493406\n",
      "Experiment  BC3043   blogcatalog3   [0, 1]\n",
      "f1_macro:  0.280475661861\n",
      "f1_micro:  0.327773467804\n",
      "Experiment  BC3043   blogcatalog3   [0, 1]\n",
      "f1_macro:  0.292934634211\n",
      "f1_micro:  0.333688906129\n",
      "Experiment  BC3043   blogcatalog3   [0, 1]\n",
      "f1_macro:  0.284869102815\n",
      "f1_micro:  0.331555469356\n",
      "Experiment  BC3043   blogcatalog3   [0, 1]\n",
      "f1_macro:  0.289357837768\n",
      "f1_micro:  0.329325058185\n",
      "Experiment  BC3043   blogcatalog3   [0, 1]\n",
      "f1_macro:  0.283494810331\n",
      "f1_micro:  0.331943366951\n",
      "Experiment  BC3043   blogcatalog3   [0, 1]\n",
      "f1_macro:  0.276322176225\n",
      "f1_micro:  0.328258339798\n",
      "Experiment  BC3043   blogcatalog3   [0, 1]\n",
      "f1_macro:  0.275851090026\n",
      "f1_micro:  0.328743211792\n",
      "Experiment  BC3043   blogcatalog3   [0, 1]\n",
      "f1_macro:  0.288881612903\n",
      "f1_micro:  0.331070597362\n",
      "Experiment  BC3043   blogcatalog3   [0, 1]\n",
      "f1_macro:  0.276476013093\n",
      "f1_micro:  0.325543056633\n",
      "Experiment  BC3043   blogcatalog3   [0, 1]\n",
      "f1_macro:  0.279116414281\n",
      "f1_micro:  0.328646237393\n",
      "Experiment  BC3043   blogcatalog3   [0, 1]\n",
      "f1_macro:  0.277816037247\n",
      "f1_micro:  0.324767261443\n",
      "Experiment  BC3043   blogcatalog3   [0, 1]\n",
      "f1_macro:  0.279069673151\n",
      "f1_micro:  0.325543056633\n",
      "Experiment  BC3043   blogcatalog3   [0, 1]\n",
      "f1_macro:  0.284628018161\n",
      "f1_micro:  0.327579519007\n",
      "Experiment  BC3043   blogcatalog3   [0, 1]\n",
      "f1_macro:  0.282728792282\n",
      "f1_micro:  0.324573312645\n",
      "Experiment  BC3043   blogcatalog3   [0, 1]\n",
      "f1_macro:  0.274414290432\n",
      "f1_micro:  0.327191621412\n",
      "Experiment  BC3043   blogcatalog3   [0, 1]\n",
      "f1_macro:  0.276173532951\n",
      "f1_micro:  0.326027928627\n",
      "Experiment  BC3043   blogcatalog3   [0, 1]\n",
      "f1_macro:  0.283229053455\n",
      "f1_micro:  0.331070597362\n",
      "Experiment  BC3043   blogcatalog3   [0, 1]\n",
      "f1_macro:  0.283624237523\n",
      "f1_micro:  0.328549262995\n",
      "Experiment  BC3043   blogcatalog3   [0, 1]\n",
      "f1_macro:  0.276922081973\n",
      "f1_micro:  0.324670287044\n",
      "Experiment  BC3043   blogcatalog3   [0, 1]\n",
      "f1_macro:  0.281954056849\n",
      "f1_micro:  0.327676493406\n",
      "Experiment  BC3043   blogcatalog3   [0, 1]\n",
      "f1_macro:  0.281536375896\n",
      "f1_micro:  0.325446082234\n",
      "Experiment  BC3043   blogcatalog3   [0, 1]\n",
      "f1_macro:  0.280501134337\n",
      "f1_micro:  0.328743211792\n",
      "Experiment  BC3043   blogcatalog3   [0, 1]\n",
      "f1_macro:  0.27797820899\n",
      "f1_micro:  0.327967416602\n",
      "Experiment  BC3043   blogcatalog3   [0, 1]\n",
      "f1_macro:  0.282747934063\n",
      "f1_micro:  0.327191621412\n",
      "Experiment  BC3043   blogcatalog3   [0, 1]\n",
      "f1_macro:  0.267855104067\n",
      "f1_micro:  0.323603568658\n",
      "Experiment  BC3043   blogcatalog3   [0, 1]\n",
      "f1_macro:  0.273444477757\n",
      "f1_micro:  0.322924747867\n",
      "Experiment  BC3043   blogcatalog3   [0, 1]\n",
      "f1_macro:  0.279160903837\n",
      "f1_micro:  0.329519006982\n",
      "Experiment  BC3043   blogcatalog3   [0, 1]\n",
      "f1_macro:  0.278579457295\n",
      "f1_micro:  0.325446082234\n",
      "Experiment  BC3043   blogcatalog3   [0, 1]\n",
      "f1_macro:  0.279327118907\n",
      "f1_micro:  0.328743211792\n",
      "Experiment  BC3043   blogcatalog3   [0, 1]\n",
      "f1_macro:  0.28019733053\n",
      "f1_micro:  0.326609775019\n",
      "Experiment  BC3043   blogcatalog3   [0, 1]\n",
      "f1_macro:  0.280105563469\n",
      "f1_micro:  0.326415826222\n",
      "Experiment  BC3043   blogcatalog3   [0, 1]\n",
      "f1_macro:  0.281374030316\n",
      "f1_micro:  0.327676493406\n",
      "Experiment  BC3043   blogcatalog3   [0, 1]\n",
      "f1_macro:  0.281180200004\n",
      "f1_micro:  0.326318851823\n"
     ]
    }
   ],
   "source": [
    "for _ in range(40):\n",
    "    lg('BC3043', 'blogcatalog3', [0,1], True, use_bias=False)"
   ]
  },
  {
   "cell_type": "code",
   "execution_count": 42,
   "metadata": {
    "collapsed": false
   },
   "outputs": [
    {
     "name": "stdout",
     "output_type": "stream",
     "text": [
      "Experiment  BC3044   blogcatalog3   [0, 1]\n",
      "f1_macro:  0.29878070681\n",
      "f1_micro:  0.342513576416\n",
      "Experiment  BC3044   blogcatalog3   [0, 1]\n",
      "f1_macro:  0.304418008242\n",
      "f1_micro:  0.348622963538\n",
      "Experiment  BC3044   blogcatalog3   [0, 1]\n",
      "f1_macro:  0.296591533947\n",
      "f1_micro:  0.342028704422\n",
      "Experiment  BC3044   blogcatalog3   [0, 1]\n",
      "f1_macro:  0.296905232495\n",
      "f1_micro:  0.345131885182\n",
      "Experiment  BC3044   blogcatalog3   [0, 1]\n",
      "f1_macro:  0.311869840782\n",
      "f1_micro:  0.351241272304\n",
      "Experiment  BC3044   blogcatalog3   [0, 1]\n",
      "f1_macro:  0.296035480799\n",
      "f1_micro:  0.343192397207\n",
      "Experiment  BC3044   blogcatalog3   [0, 1]\n",
      "f1_macro:  0.303796589184\n",
      "f1_micro:  0.34610162917\n",
      "Experiment  BC3044   blogcatalog3   [0, 1]\n",
      "f1_macro:  0.293308593938\n",
      "f1_micro:  0.342804499612\n",
      "Experiment  BC3044   blogcatalog3   [0, 1]\n",
      "f1_macro:  0.300354864748\n",
      "f1_micro:  0.344743987587\n",
      "Experiment  BC3044   blogcatalog3   [0, 1]\n",
      "f1_macro:  0.296279546254\n",
      "f1_micro:  0.342610550815\n",
      "Experiment  BC3044   blogcatalog3   [0, 1]\n",
      "f1_macro:  0.298411474494\n",
      "f1_micro:  0.347265321955\n",
      "Experiment  BC3044   blogcatalog3   [0, 1]\n",
      "f1_macro:  0.293445926178\n",
      "f1_micro:  0.339119472459\n",
      "Experiment  BC3044   blogcatalog3   [0, 1]\n",
      "f1_macro:  0.299384765848\n",
      "f1_micro:  0.344356089992\n",
      "Experiment  BC3044   blogcatalog3   [0, 1]\n",
      "f1_macro:  0.303257578391\n",
      "f1_micro:  0.346974398759\n",
      "Experiment  BC3044   blogcatalog3   [0, 1]\n",
      "f1_macro:  0.304654316369\n",
      "f1_micro:  0.346489526765\n",
      "Experiment  BC3044   blogcatalog3   [0, 1]\n",
      "f1_macro:  0.297781524054\n",
      "f1_micro:  0.345713731575\n",
      "Experiment  BC3044   blogcatalog3   [0, 1]\n",
      "f1_macro:  0.300537785355\n",
      "f1_micro:  0.343192397207\n",
      "Experiment  BC3044   blogcatalog3   [0, 1]\n",
      "f1_macro:  0.308230256754\n",
      "f1_micro:  0.346974398759\n",
      "Experiment  BC3044   blogcatalog3   [0, 1]\n",
      "f1_macro:  0.295160404022\n",
      "f1_micro:  0.344259115593\n",
      "Experiment  BC3044   blogcatalog3   [0, 1]\n",
      "f1_macro:  0.296167610838\n",
      "f1_micro:  0.345713731575\n",
      "Experiment  BC3044   blogcatalog3   [0, 1]\n",
      "f1_macro:  0.292785688492\n",
      "f1_micro:  0.344647013189\n",
      "Experiment  BC3044   blogcatalog3   [0, 1]\n",
      "f1_macro:  0.305755695854\n",
      "f1_micro:  0.350950349108\n",
      "Experiment  BC3044   blogcatalog3   [0, 1]\n",
      "f1_macro:  0.293014045358\n",
      "f1_micro:  0.344065166796\n",
      "Experiment  BC3044   blogcatalog3   [0, 1]\n",
      "f1_macro:  0.304112206352\n",
      "f1_micro:  0.351629169899\n",
      "Experiment  BC3044   blogcatalog3   [0, 1]\n",
      "f1_macro:  0.30009168281\n",
      "f1_micro:  0.343386346005\n",
      "Experiment  BC3044   blogcatalog3   [0, 1]\n",
      "f1_macro:  0.302637377416\n",
      "f1_micro:  0.34765321955\n",
      "Experiment  BC3044   blogcatalog3   [0, 1]\n",
      "f1_macro:  0.302428021082\n",
      "f1_micro:  0.344840961986\n",
      "Experiment  BC3044   blogcatalog3   [0, 1]\n",
      "f1_macro:  0.296595191813\n",
      "f1_micro:  0.343192397207\n",
      "Experiment  BC3044   blogcatalog3   [0, 1]\n",
      "f1_macro:  0.29996097404\n",
      "f1_micro:  0.346489526765\n",
      "Experiment  BC3044   blogcatalog3   [0, 1]\n",
      "f1_macro:  0.305590315886\n",
      "f1_micro:  0.346489526765\n",
      "Experiment  BC3044   blogcatalog3   [0, 1]\n",
      "f1_macro:  0.30485333513\n",
      "f1_micro:  0.346974398759\n",
      "Experiment  BC3044   blogcatalog3   [0, 1]\n",
      "f1_macro:  0.292899196493\n",
      "f1_micro:  0.346780449961\n",
      "Experiment  BC3044   blogcatalog3   [0, 1]\n",
      "f1_macro:  0.300421702768\n",
      "f1_micro:  0.345713731575\n",
      "Experiment  BC3044   blogcatalog3   [0, 1]\n",
      "f1_macro:  0.296919931136\n",
      "f1_micro:  0.348138091544\n",
      "Experiment  BC3044   blogcatalog3   [0, 1]\n",
      "f1_macro:  0.300395400253\n",
      "f1_micro:  0.344840961986\n",
      "Experiment  BC3044   blogcatalog3   [0, 1]\n",
      "f1_macro:  0.306211951739\n",
      "f1_micro:  0.350271528317\n",
      "Experiment  BC3044   blogcatalog3   [0, 1]\n",
      "f1_macro:  0.29493769499\n",
      "f1_micro:  0.342319627618\n",
      "Experiment  BC3044   blogcatalog3   [0, 1]\n",
      "f1_macro:  0.299457676922\n",
      "f1_micro:  0.346974398759\n",
      "Experiment  BC3044   blogcatalog3   [0, 1]\n",
      "f1_macro:  0.297058144986\n",
      "f1_micro:  0.343871217998\n",
      "Experiment  BC3044   blogcatalog3   [0, 1]\n",
      "f1_macro:  0.295236621078\n",
      "f1_micro:  0.344259115593\n"
     ]
    }
   ],
   "source": [
    "for _ in range(40):\n",
    "    lg('BC3044', 'blogcatalog3', [0,1], True, use_bias=False)"
   ]
  },
  {
   "cell_type": "code",
   "execution_count": 57,
   "metadata": {
    "collapsed": false
   },
   "outputs": [
    {
     "name": "stderr",
     "output_type": "stream",
     "text": [
      "/home/hoangnt/anaconda3/lib/python3.5/site-packages/sklearn/cross_validation.py:516: Warning: The least populated class in y has only 4 members, which is too few. The minimum number of labels for any class cannot be less than n_folds=10.\n",
      "  % (min_labels, self.n_folds)), Warning)\n"
     ]
    },
    {
     "name": "stdout",
     "output_type": "stream",
     "text": [
      "Experiment  BC3044   blogcatalog3   [0, 1]\n",
      "With 10 -fold cross-validation\n"
     ]
    },
    {
     "name": "stderr",
     "output_type": "stream",
     "text": [
      "/home/hoangnt/anaconda3/lib/python3.5/site-packages/sklearn/metrics/classification.py:1074: UndefinedMetricWarning: F-score is ill-defined and being set to 0.0 in labels with no predicted samples.\n",
      "  'precision', 'predicted', average, warn_for)\n"
     ]
    },
    {
     "name": "stdout",
     "output_type": "stream",
     "text": [
      "f1_macro:  0.116794448932\n",
      "f1_micro:  0.174535603715\n"
     ]
    }
   ],
   "source": [
    "for _ in range(1):\n",
    "    lg('BC3044', 'blogcatalog3', [0,1], True, use_bias=False, \n",
    "       test_with_training_data=False, cv=10)"
   ]
  },
  {
   "cell_type": "code",
   "execution_count": 58,
   "metadata": {
    "collapsed": true
   },
   "outputs": [],
   "source": [
    "bc = g.graph_from_pickle('../src/mane/data/blogcatalog3.graph', '../src/mane/data/blogcatalog3.community')"
   ]
  },
  {
   "cell_type": "code",
   "execution_count": 59,
   "metadata": {
    "collapsed": false
   },
   "outputs": [
    {
     "data": {
      "text/plain": [
       "10312"
      ]
     },
     "execution_count": 59,
     "metadata": {},
     "output_type": "execute_result"
    }
   ],
   "source": [
    "len(bc._communities)"
   ]
  },
  {
   "cell_type": "code",
   "execution_count": 63,
   "metadata": {
    "collapsed": true
   },
   "outputs": [],
   "source": [
    "xids, y_train = bc.gen_training_community(portion=0.5)"
   ]
  },
  {
   "cell_type": "code",
   "execution_count": 65,
   "metadata": {
    "collapsed": false
   },
   "outputs": [
    {
     "data": {
      "text/plain": [
       "5144"
      ]
     },
     "execution_count": 65,
     "metadata": {},
     "output_type": "execute_result"
    }
   ],
   "source": [
    "len(xids)"
   ]
  },
  {
   "cell_type": "code",
   "execution_count": 66,
   "metadata": {
    "collapsed": false
   },
   "outputs": [
    {
     "data": {
      "text/plain": [
       "5144"
      ]
     },
     "execution_count": 66,
     "metadata": {},
     "output_type": "execute_result"
    }
   ],
   "source": [
    "len(y_train)"
   ]
  },
  {
   "cell_type": "code",
   "execution_count": 67,
   "metadata": {
    "collapsed": true
   },
   "outputs": [],
   "source": [
    "la = dict()\n",
    "for i in y_train:\n",
    "    if i in la:\n",
    "        la[i] += 1\n",
    "    else:\n",
    "        la[i] = 1"
   ]
  },
  {
   "cell_type": "code",
   "execution_count": 68,
   "metadata": {
    "collapsed": false
   },
   "outputs": [
    {
     "data": {
      "text/plain": [
       "dict_keys([1, 2, 3, 4, 5, 6, 7, 8, 9, 10, 11, 12, 13, 14, 15, 16, 17, 18, 19, 20, 21, 22, 23, 24, 25, 26, 27, 28, 29, 30, 31, 32, 33, 34, 35, 36, 37, 38, 39])"
      ]
     },
     "execution_count": 68,
     "metadata": {},
     "output_type": "execute_result"
    }
   ],
   "source": [
    "la.keys()"
   ]
  },
  {
   "cell_type": "code",
   "execution_count": 70,
   "metadata": {
    "collapsed": false
   },
   "outputs": [
    {
     "name": "stdout",
     "output_type": "stream",
     "text": [
      "30\n",
      "244\n",
      "182\n",
      "59\n",
      "312\n",
      "281\n",
      "196\n",
      "538\n",
      "123\n",
      "150\n",
      "162\n",
      "12\n",
      "17\n",
      "119\n",
      "26\n",
      "147\n",
      "175\n",
      "118\n",
      "357\n",
      "123\n",
      "114\n",
      "116\n",
      "139\n",
      "423\n",
      "85\n",
      "121\n",
      "44\n",
      "42\n",
      "77\n",
      "180\n",
      "31\n",
      "185\n",
      "45\n",
      "31\n",
      "29\n",
      "68\n",
      "26\n",
      "13\n",
      "4\n"
     ]
    }
   ],
   "source": [
    "for i,j in la.items():\n",
    "    print(j)"
   ]
  },
  {
   "cell_type": "code",
   "execution_count": 72,
   "metadata": {
    "collapsed": false
   },
   "outputs": [
    {
     "name": "stdout",
     "output_type": "stream",
     "text": [
      "14\n",
      "691\n",
      "1250\n",
      "1344\n",
      "1465\n",
      "1550\n",
      "4709\n",
      "7759\n"
     ]
    }
   ],
   "source": [
    "for key, val in bc._communities.items():\n",
    "    if val == 39:\n",
    "        print(key)"
   ]
  },
  {
   "cell_type": "code",
   "execution_count": 74,
   "metadata": {
    "collapsed": false
   },
   "outputs": [
    {
     "name": "stderr",
     "output_type": "stream",
     "text": [
      "/home/hoangnt/anaconda3/lib/python3.5/site-packages/sklearn/cross_validation.py:516: Warning: The least populated class in y has only 4 members, which is too few. The minimum number of labels for any class cannot be less than n_folds=10.\n",
      "  % (min_labels, self.n_folds)), Warning)\n"
     ]
    },
    {
     "name": "stdout",
     "output_type": "stream",
     "text": [
      "Experiment  BC3_node2vec   blogcatalog3   None\n",
      "With 10 -fold cross-validation\n",
      "f1_macro:  0.00483521619168\n",
      "f1_micro:  0.104102167183\n"
     ]
    },
    {
     "name": "stderr",
     "output_type": "stream",
     "text": [
      "/home/hoangnt/anaconda3/lib/python3.5/site-packages/sklearn/metrics/classification.py:1074: UndefinedMetricWarning: F-score is ill-defined and being set to 0.0 in labels with no predicted samples.\n",
      "  'precision', 'predicted', average, warn_for)\n"
     ]
    }
   ],
   "source": [
    "lg('BC3_node2vec', 'blogcatalog3', None, True, use_bias=False, \n",
    "   test_with_training_data=False, cv=10)"
   ]
  },
  {
   "cell_type": "code",
   "execution_count": 76,
   "metadata": {
    "collapsed": false
   },
   "outputs": [
    {
     "name": "stderr",
     "output_type": "stream",
     "text": [
      "/home/hoangnt/anaconda3/lib/python3.5/site-packages/sklearn/cross_validation.py:516: Warning: The least populated class in y has only 4 members, which is too few. The minimum number of labels for any class cannot be less than n_folds=10.\n",
      "  % (min_labels, self.n_folds)), Warning)\n"
     ]
    },
    {
     "name": "stdout",
     "output_type": "stream",
     "text": [
      "Experiment  BC3044   blogcatalog3   [0, 1]\n",
      "With 10 -fold cross-validation\n",
      "f1_macro:  0.143474581739\n",
      "f1_micro:  0.291215170279\n"
     ]
    },
    {
     "name": "stderr",
     "output_type": "stream",
     "text": [
      "/home/hoangnt/anaconda3/lib/python3.5/site-packages/sklearn/metrics/classification.py:1074: UndefinedMetricWarning: F-score is ill-defined and being set to 0.0 in labels with no predicted samples.\n",
      "  'precision', 'predicted', average, warn_for)\n"
     ]
    }
   ],
   "source": [
    "lg('BC3044', 'blogcatalog3', [0,1], True, use_bias=False, \n",
    "   test_with_training_data=False, cv=10)"
   ]
  },
  {
   "cell_type": "code",
   "execution_count": 78,
   "metadata": {
    "collapsed": false
   },
   "outputs": [
    {
     "name": "stderr",
     "output_type": "stream",
     "text": [
      "/home/hoangnt/anaconda3/lib/python3.5/site-packages/sklearn/cross_validation.py:516: Warning: The least populated class in y has only 4 members, which is too few. The minimum number of labels for any class cannot be less than n_folds=10.\n",
      "  % (min_labels, self.n_folds)), Warning)\n"
     ]
    },
    {
     "name": "stdout",
     "output_type": "stream",
     "text": [
      "Experiment  BC3044   blogcatalog3   [0, 1]\n",
      "With 10 -fold cross-validation\n",
      "f1_macro:  0.131140082223\n",
      "f1_micro:  0.259287925697\n"
     ]
    },
    {
     "name": "stderr",
     "output_type": "stream",
     "text": [
      "/home/hoangnt/anaconda3/lib/python3.5/site-packages/sklearn/metrics/classification.py:1074: UndefinedMetricWarning: F-score is ill-defined and being set to 0.0 in labels with no predicted samples.\n",
      "  'precision', 'predicted', average, warn_for)\n"
     ]
    }
   ],
   "source": [
    "# Balanced class weight\n",
    "lg('BC3044', 'blogcatalog3', [0,1], True, use_bias=False, \n",
    "   test_with_training_data=False, cv=10)"
   ]
  },
  {
   "cell_type": "code",
   "execution_count": 5,
   "metadata": {
    "collapsed": false
   },
   "outputs": [
    {
     "name": "stdout",
     "output_type": "stream",
     "text": [
      "Experiment  BC3044   blogcatalog3   [0, 1]\n",
      "With 3 -fold cross-validation\n",
      "f1_macro:  0.166543402882\n",
      "f1_micro:  0.325543056633\n"
     ]
    },
    {
     "name": "stderr",
     "output_type": "stream",
     "text": [
      "/home/hoangnt/anaconda3/lib/python3.5/site-packages/sklearn/metrics/classification.py:1074: UndefinedMetricWarning: F-score is ill-defined and being set to 0.0 in labels with no predicted samples.\n",
      "  'precision', 'predicted', average, warn_for)\n"
     ]
    }
   ],
   "source": [
    "lg('BC3044', 'blogcatalog3', [0,1], True, use_bias=False, \n",
    "   test_with_training_data=True, cv=3)"
   ]
  },
  {
   "cell_type": "code",
   "execution_count": 6,
   "metadata": {
    "collapsed": false
   },
   "outputs": [
    {
     "name": "stdout",
     "output_type": "stream",
     "text": [
      "Experiment  BC3044   blogcatalog3   [0, 1]\n",
      "f1_macro:  0.293178971022\n",
      "f1_micro:  0.344453064391\n"
     ]
    }
   ],
   "source": [
    "lg('BC3044', 'blogcatalog3', [0,1], True, use_bias=False, \n",
    "   test_with_training_data=False, cv=None)"
   ]
  },
  {
   "cell_type": "code",
   "execution_count": 7,
   "metadata": {
    "collapsed": false
   },
   "outputs": [
    {
     "name": "stdout",
     "output_type": "stream",
     "text": [
      "Experiment  BC3044   blogcatalog3   [0, 1]\n",
      "f1_macro:  0.161626881141\n",
      "f1_micro:  0.271284829721\n"
     ]
    },
    {
     "name": "stderr",
     "output_type": "stream",
     "text": [
      "/home/hoangnt/anaconda3/lib/python3.5/site-packages/sklearn/metrics/classification.py:1074: UndefinedMetricWarning: F-score is ill-defined and being set to 0.0 in labels with no predicted samples.\n",
      "  'precision', 'predicted', average, warn_for)\n"
     ]
    }
   ],
   "source": [
    "lg('BC3044', 'blogcatalog3', [0,1], True, use_bias=False, \n",
    "   test_with_training_data=False, cv=None)"
   ]
  },
  {
   "cell_type": "code",
   "execution_count": 8,
   "metadata": {
    "collapsed": true
   },
   "outputs": [],
   "source": [
    "bc = g.graph_from_pickle('../src/mane/data/blogcatalog3.graph', '../src/mane/data/blogcatalog3.community')"
   ]
  },
  {
   "cell_type": "code",
   "execution_count": 9,
   "metadata": {
    "collapsed": false
   },
   "outputs": [
    {
     "name": "stdout",
     "output_type": "stream",
     "text": [
      "1 : 60\n",
      "2 : 488\n",
      "3 : 365\n",
      "4 : 119\n",
      "5 : 625\n",
      "6 : 563\n",
      "7 : 393\n",
      "8 : 1076\n",
      "9 : 247\n",
      "10 : 300\n",
      "11 : 325\n",
      "12 : 25\n",
      "13 : 35\n",
      "14 : 239\n",
      "15 : 53\n",
      "16 : 295\n",
      "17 : 351\n",
      "18 : 236\n",
      "19 : 715\n",
      "20 : 247\n",
      "21 : 228\n",
      "22 : 233\n",
      "23 : 279\n",
      "24 : 846\n",
      "25 : 170\n",
      "26 : 242\n",
      "27 : 88\n",
      "28 : 85\n",
      "29 : 155\n",
      "30 : 360\n",
      "31 : 62\n",
      "32 : 371\n",
      "33 : 91\n",
      "34 : 62\n",
      "35 : 58\n",
      "36 : 137\n",
      "37 : 53\n",
      "38 : 27\n",
      "39 : 8\n"
     ]
    }
   ],
   "source": [
    "com = dict()\n",
    "for key, val in bc._communities.items():\n",
    "    if val in com:\n",
    "        com[val] += 1\n",
    "    else:\n",
    "        com[val] = 1\n",
    "for key, val in com.items():\n",
    "    print(key, ':', val)"
   ]
  },
  {
   "cell_type": "code",
   "execution_count": 11,
   "metadata": {
    "collapsed": false
   },
   "outputs": [
    {
     "name": "stdout",
     "output_type": "stream",
     "text": [
      "Experiment  BC3045   blogcatalog3   [0, 1]\n",
      "f1_macro:  0.116622294811\n",
      "f1_micro:  0.209171826625\n"
     ]
    },
    {
     "name": "stderr",
     "output_type": "stream",
     "text": [
      "/home/hoangnt/anaconda3/lib/python3.5/site-packages/sklearn/metrics/classification.py:1074: UndefinedMetricWarning: F-score is ill-defined and being set to 0.0 in labels with no predicted samples.\n",
      "  'precision', 'predicted', average, warn_for)\n"
     ]
    }
   ],
   "source": [
    "lg('BC3045', 'blogcatalog3', [0,1], True, use_bias=False, \n",
    "   test_with_training_data=False, cv=None)"
   ]
  },
  {
   "cell_type": "code",
   "execution_count": 12,
   "metadata": {
    "collapsed": false
   },
   "outputs": [
    {
     "name": "stdout",
     "output_type": "stream",
     "text": [
      "Experiment  BC3045   blogcatalog3   [0, 1]\n",
      "f1_macro:  0.117287641649\n",
      "f1_micro:  0.209752321981\n"
     ]
    },
    {
     "name": "stderr",
     "output_type": "stream",
     "text": [
      "/home/hoangnt/anaconda3/lib/python3.5/site-packages/sklearn/metrics/classification.py:1074: UndefinedMetricWarning: F-score is ill-defined and being set to 0.0 in labels with no predicted samples.\n",
      "  'precision', 'predicted', average, warn_for)\n"
     ]
    },
    {
     "name": "stdout",
     "output_type": "stream",
     "text": [
      "Experiment  BC3045   blogcatalog3   [0, 1]\n",
      "f1_macro:  0.114116830352\n",
      "f1_micro:  0.205301857585\n",
      "Experiment  BC3045   blogcatalog3   [0, 1]\n",
      "f1_macro:  0.11372743707\n",
      "f1_micro:  0.205301857585\n",
      "Experiment  BC3045   blogcatalog3   [0, 1]\n",
      "f1_macro:  0.113594850184\n",
      "f1_micro:  0.208978328173\n",
      "Experiment  BC3045   blogcatalog3   [0, 1]\n",
      "f1_macro:  0.112755106709\n",
      "f1_micro:  0.208204334365\n",
      "Experiment  BC3045   blogcatalog3   [0, 1]\n",
      "f1_macro:  0.119727472626\n",
      "f1_micro:  0.212654798762\n",
      "Experiment  BC3045   blogcatalog3   [0, 1]\n",
      "f1_macro:  0.113288250034\n",
      "f1_micro:  0.210139318885\n",
      "Experiment  BC3045   blogcatalog3   [0, 1]\n",
      "f1_macro:  0.121352331579\n",
      "f1_micro:  0.21536377709\n",
      "Experiment  BC3045   blogcatalog3   [0, 1]\n",
      "f1_macro:  0.112629674705\n",
      "f1_micro:  0.205495356037\n",
      "Experiment  BC3045   blogcatalog3   [0, 1]\n",
      "f1_macro:  0.114248798557\n",
      "f1_micro:  0.209945820433\n",
      "Experiment  BC3045   blogcatalog3   [0, 1]\n",
      "f1_macro:  0.117187664602\n",
      "f1_micro:  0.210526315789\n",
      "Experiment  BC3045   blogcatalog3   [0, 1]\n",
      "f1_macro:  0.114624026169\n",
      "f1_micro:  0.206075851393\n",
      "Experiment  BC3045   blogcatalog3   [0, 1]\n",
      "f1_macro:  0.121792141702\n",
      "f1_micro:  0.212074303406\n",
      "Experiment  BC3045   blogcatalog3   [0, 1]\n",
      "f1_macro:  0.111728164387\n",
      "f1_micro:  0.202786377709\n",
      "Experiment  BC3045   blogcatalog3   [0, 1]\n",
      "f1_macro:  0.117025754647\n",
      "f1_micro:  0.212654798762\n",
      "Experiment  BC3045   blogcatalog3   [0, 1]\n",
      "f1_macro:  0.119407688485\n",
      "f1_micro:  0.216911764706\n",
      "Experiment  BC3045   blogcatalog3   [0, 1]\n",
      "f1_macro:  0.113251501186\n",
      "f1_micro:  0.203173374613\n",
      "Experiment  BC3045   blogcatalog3   [0, 1]\n",
      "f1_macro:  0.117691534261\n",
      "f1_micro:  0.212848297214\n",
      "Experiment  BC3045   blogcatalog3   [0, 1]\n",
      "f1_macro:  0.113002204622\n",
      "f1_micro:  0.206849845201\n",
      "Experiment  BC3045   blogcatalog3   [0, 1]\n",
      "f1_macro:  0.116372723524\n",
      "f1_micro:  0.210719814241\n"
     ]
    }
   ],
   "source": [
    "for _ in range(20):\n",
    "    lg('BC3045', 'blogcatalog3', [0,1], True, use_bias=False, \n",
    "   test_with_training_data=False, cv=None)"
   ]
  },
  {
   "cell_type": "code",
   "execution_count": 13,
   "metadata": {
    "collapsed": false
   },
   "outputs": [
    {
     "name": "stdout",
     "output_type": "stream",
     "text": [
      "Experiment  BC3045   blogcatalog3   [0, 1]\n",
      "f1_macro:  0.246158105898\n",
      "f1_micro:  0.280934833204\n",
      "Experiment  BC3045   blogcatalog3   [0, 1]\n",
      "f1_macro:  0.246006227169\n",
      "f1_micro:  0.282971295578\n",
      "Experiment  BC3045   blogcatalog3   [0, 1]\n",
      "f1_macro:  0.239503963152\n",
      "f1_micro:  0.282292474787\n",
      "Experiment  BC3045   blogcatalog3   [0, 1]\n",
      "f1_macro:  0.248335256238\n",
      "f1_micro:  0.288498836307\n",
      "Experiment  BC3045   blogcatalog3   [0, 1]\n",
      "f1_macro:  0.249300093654\n",
      "f1_micro:  0.285977501939\n",
      "Experiment  BC3045   blogcatalog3   [0, 1]\n",
      "f1_macro:  0.240788017995\n",
      "f1_micro:  0.283359193173\n",
      "Experiment  BC3045   blogcatalog3   [0, 1]\n",
      "f1_macro:  0.237815484031\n",
      "f1_micro:  0.279189294026\n",
      "Experiment  BC3045   blogcatalog3   [0, 1]\n",
      "f1_macro:  0.242543926035\n",
      "f1_micro:  0.280256012413\n",
      "Experiment  BC3045   blogcatalog3   [0, 1]\n",
      "f1_macro:  0.244908470533\n",
      "f1_micro:  0.285589604344\n",
      "Experiment  BC3045   blogcatalog3   [0, 1]\n",
      "f1_macro:  0.240833392768\n",
      "f1_micro:  0.281322730799\n",
      "Experiment  BC3045   blogcatalog3   [0, 1]\n",
      "f1_macro:  0.250084347077\n",
      "f1_micro:  0.28200155159\n",
      "Experiment  BC3045   blogcatalog3   [0, 1]\n",
      "f1_macro:  0.249957105711\n",
      "f1_micro:  0.283456167572\n",
      "Experiment  BC3045   blogcatalog3   [0, 1]\n",
      "f1_macro:  0.241279101266\n",
      "f1_micro:  0.281904577192\n",
      "Experiment  BC3045   blogcatalog3   [0, 1]\n",
      "f1_macro:  0.250666094697\n",
      "f1_micro:  0.285298681148\n",
      "Experiment  BC3045   blogcatalog3   [0, 1]\n",
      "f1_macro:  0.249219735814\n",
      "f1_micro:  0.286947245927\n",
      "Experiment  BC3045   blogcatalog3   [0, 1]\n",
      "f1_macro:  0.251153796043\n",
      "f1_micro:  0.285977501939\n",
      "Experiment  BC3045   blogcatalog3   [0, 1]\n",
      "f1_macro:  0.247790634368\n",
      "f1_micro:  0.284619860357\n",
      "Experiment  BC3045   blogcatalog3   [0, 1]\n",
      "f1_macro:  0.249873866664\n",
      "f1_micro:  0.284716834756\n",
      "Experiment  BC3045   blogcatalog3   [0, 1]\n",
      "f1_macro:  0.253590360978\n",
      "f1_micro:  0.286559348332\n",
      "Experiment  BC3045   blogcatalog3   [0, 1]\n",
      "f1_macro:  0.240446567707\n",
      "f1_micro:  0.279383242824\n"
     ]
    }
   ],
   "source": [
    "for _ in range(20):\n",
    "    lg('BC3045', 'blogcatalog3', [0,1], True, use_bias=False, \n",
    "   test_with_training_data=True, cv=None)"
   ]
  },
  {
   "cell_type": "code",
   "execution_count": 14,
   "metadata": {
    "collapsed": false
   },
   "outputs": [
    {
     "name": "stdout",
     "output_type": "stream",
     "text": [
      "Experiment  BC3046   blogcatalog3   [0, 1]\n",
      "f1_macro:  0.250350590318\n",
      "f1_micro:  0.292571761055\n",
      "Experiment  BC3046   blogcatalog3   [0, 1]\n",
      "f1_macro:  0.261828704569\n",
      "f1_micro:  0.295965865012\n",
      "Experiment  BC3046   blogcatalog3   [0, 1]\n",
      "f1_macro:  0.253853253035\n",
      "f1_micro:  0.295577967417\n",
      "Experiment  BC3046   blogcatalog3   [0, 1]\n",
      "f1_macro:  0.239292078971\n",
      "f1_micro:  0.291020170675\n",
      "Experiment  BC3046   blogcatalog3   [0, 1]\n",
      "f1_macro:  0.250358085153\n",
      "f1_micro:  0.294705197828\n",
      "Experiment  BC3046   blogcatalog3   [0, 1]\n",
      "f1_macro:  0.244837200123\n",
      "f1_micro:  0.294608223429\n",
      "Experiment  BC3046   blogcatalog3   [0, 1]\n",
      "f1_macro:  0.240823230534\n",
      "f1_micro:  0.290147401086\n",
      "Experiment  BC3046   blogcatalog3   [0, 1]\n",
      "f1_macro:  0.245585673563\n",
      "f1_micro:  0.293929402638\n",
      "Experiment  BC3046   blogcatalog3   [0, 1]\n",
      "f1_macro:  0.248010315307\n",
      "f1_micro:  0.293638479441\n",
      "Experiment  BC3046   blogcatalog3   [0, 1]\n",
      "f1_macro:  0.247512761164\n",
      "f1_micro:  0.291505042669\n",
      "Experiment  BC3046   blogcatalog3   [0, 1]\n",
      "f1_macro:  0.252288366384\n",
      "f1_micro:  0.298972071373\n",
      "Experiment  BC3046   blogcatalog3   [0, 1]\n",
      "f1_macro:  0.252717975952\n",
      "f1_micro:  0.291698991466\n",
      "Experiment  BC3046   blogcatalog3   [0, 1]\n",
      "f1_macro:  0.252449187077\n",
      "f1_micro:  0.295577967417\n",
      "Experiment  BC3046   blogcatalog3   [0, 1]\n",
      "f1_macro:  0.252909444\n",
      "f1_micro:  0.292280837859\n",
      "Experiment  BC3046   blogcatalog3   [0, 1]\n",
      "f1_macro:  0.247909252419\n",
      "f1_micro:  0.291505042669\n",
      "Experiment  BC3046   blogcatalog3   [0, 1]\n",
      "f1_macro:  0.256698279462\n",
      "f1_micro:  0.297808378588\n",
      "Experiment  BC3046   blogcatalog3   [0, 1]\n",
      "f1_macro:  0.247273517035\n",
      "f1_micro:  0.292862684251\n",
      "Experiment  BC3046   blogcatalog3   [0, 1]\n",
      "f1_macro:  0.249353259914\n",
      "f1_micro:  0.294317300233\n",
      "Experiment  BC3046   blogcatalog3   [0, 1]\n",
      "f1_macro:  0.251489349504\n",
      "f1_micro:  0.293250581846\n",
      "Experiment  BC3046   blogcatalog3   [0, 1]\n",
      "f1_macro:  0.250088519356\n",
      "f1_micro:  0.294220325834\n"
     ]
    }
   ],
   "source": [
    "# Triangle walk makes the result worse even with only 1 0.6 walk\n",
    "for _ in range(20):\n",
    "    lg('BC3046', 'blogcatalog3', [0,1], True, use_bias=False, \n",
    "   test_with_training_data=True, cv=None)"
   ]
  },
  {
   "cell_type": "code",
   "execution_count": 15,
   "metadata": {
    "collapsed": false
   },
   "outputs": [
    {
     "name": "stdout",
     "output_type": "stream",
     "text": [
      "Experiment  BC3047   blogcatalog3   [0, 1]\n",
      "f1_macro:  0.247068720851\n",
      "f1_micro:  0.288886733902\n",
      "Experiment  BC3047   blogcatalog3   [0, 1]\n",
      "f1_macro:  0.240114874192\n",
      "f1_micro:  0.280546935609\n",
      "Experiment  BC3047   blogcatalog3   [0, 1]\n",
      "f1_macro:  0.241482293885\n",
      "f1_micro:  0.283747090768\n",
      "Experiment  BC3047   blogcatalog3   [0, 1]\n",
      "f1_macro:  0.242741755996\n",
      "f1_micro:  0.283941039566\n",
      "Experiment  BC3047   blogcatalog3   [0, 1]\n",
      "f1_macro:  0.241665104546\n",
      "f1_micro:  0.283650116369\n",
      "Experiment  BC3047   blogcatalog3   [0, 1]\n",
      "f1_macro:  0.240189786472\n",
      "f1_micro:  0.278607447634\n",
      "Experiment  BC3047   blogcatalog3   [0, 1]\n",
      "f1_macro:  0.233305696011\n",
      "f1_micro:  0.278219550039\n",
      "Experiment  BC3047   blogcatalog3   [0, 1]\n",
      "f1_macro:  0.245836694181\n",
      "f1_micro:  0.283359193173\n",
      "Experiment  BC3047   blogcatalog3   [0, 1]\n",
      "f1_macro:  0.236662803674\n",
      "f1_micro:  0.27812257564\n",
      "Experiment  BC3047   blogcatalog3   [0, 1]\n",
      "f1_macro:  0.25007235234\n",
      "f1_micro:  0.286462373933\n",
      "Experiment  BC3047   blogcatalog3   [0, 1]\n",
      "f1_macro:  0.252023873423\n",
      "f1_micro:  0.285201706749\n",
      "Experiment  BC3047   blogcatalog3   [0, 1]\n",
      "f1_macro:  0.247846196728\n",
      "f1_micro:  0.286559348332\n",
      "Experiment  BC3047   blogcatalog3   [0, 1]\n",
      "f1_macro:  0.249745778061\n",
      "f1_micro:  0.283456167572\n",
      "Experiment  BC3047   blogcatalog3   [0, 1]\n",
      "f1_macro:  0.244192376644\n",
      "f1_micro:  0.283262218774\n",
      "Experiment  BC3047   blogcatalog3   [0, 1]\n",
      "f1_macro:  0.242889523966\n",
      "f1_micro:  0.283262218774\n",
      "Experiment  BC3047   blogcatalog3   [0, 1]\n",
      "f1_macro:  0.246989400301\n",
      "f1_micro:  0.283359193173\n",
      "Experiment  BC3047   blogcatalog3   [0, 1]\n",
      "f1_macro:  0.252202729626\n",
      "f1_micro:  0.286947245927\n",
      "Experiment  BC3047   blogcatalog3   [0, 1]\n",
      "f1_macro:  0.243905578459\n",
      "f1_micro:  0.284910783553\n",
      "Experiment  BC3047   blogcatalog3   [0, 1]\n",
      "f1_macro:  0.245011648139\n",
      "f1_micro:  0.281710628394\n",
      "Experiment  BC3047   blogcatalog3   [0, 1]\n",
      "f1_macro:  0.236937116668\n",
      "f1_micro:  0.274049650892\n"
     ]
    }
   ],
   "source": [
    "# Telescoping walk\n",
    "for _ in range(20):\n",
    "    lg('BC3047', 'blogcatalog3', [0,1], True, use_bias=False, \n",
    "   test_with_training_data=True, cv=None)"
   ]
  },
  {
   "cell_type": "code",
   "execution_count": null,
   "metadata": {
    "collapsed": true
   },
   "outputs": [],
   "source": []
  }
 ],
 "metadata": {
  "anaconda-cloud": {},
  "kernelspec": {
   "display_name": "Python [Root]",
   "language": "python",
   "name": "Python [Root]"
  },
  "language_info": {
   "codemirror_mode": {
    "name": "ipython",
    "version": 3
   },
   "file_extension": ".py",
   "mimetype": "text/x-python",
   "name": "python",
   "nbconvert_exporter": "python",
   "pygments_lexer": "ipython3",
   "version": "3.5.2"
  }
 },
 "nbformat": 4,
 "nbformat_minor": 0
}
