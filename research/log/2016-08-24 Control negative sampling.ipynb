{
 "cells": [
  {
   "cell_type": "code",
   "execution_count": 2,
   "metadata": {
    "collapsed": true
   },
   "outputs": [],
   "source": [
    "import sys\n",
    "sys.path.append('../src/mane/prototype/')\n",
    "import numpy as np\n",
    "import graph as g\n",
    "import pickle as p\n",
    "\n",
    "from sklearn.preprocessing import normalize, scale\n",
    "from sklearn.metrics import f1_score\n",
    "from sklearn.multiclass import OneVsRestClassifier\n",
    "from sklearn.svm import LinearSVC\n",
    "from sklearn.linear_model import LogisticRegression"
   ]
  },
  {
   "cell_type": "code",
   "execution_count": 33,
   "metadata": {
    "collapsed": true
   },
   "outputs": [],
   "source": [
    "def lg(exp_id, graph_name, index=[0], norm=False, split=0.5, use_bias=False,\n",
    "       max_iter=100, C=1e9, ic=200, test_with_training_data=True):\n",
    "    weightfile = '../src/mane/prototype/embeddings/' + exp_id + '.weights'\n",
    "    graphfile = '../src/mane/data/' + graph_name\n",
    "    with open(weightfile, 'rb') as f:\n",
    "        w = p.load(f)\n",
    "    graph = g.graph_from_pickle(graphfile+'.graph', graphfile+'.community')\n",
    "    emb = None\n",
    "    if index is None:\n",
    "        emb = w\n",
    "    else:\n",
    "        for i in index:\n",
    "            if emb is None:\n",
    "                emb = w[i]\n",
    "            else:\n",
    "                emb += w[i]\n",
    "        emb /= len(index)\n",
    "    if use_bias:\n",
    "        emb[:,-1] = w[2].reshape((-1,))\n",
    "    if norm:\n",
    "        emb = normalize(emb)\n",
    "    xids, y_train = graph.gen_training_community(split)\n",
    "    X = [emb[i] for i in xids]\n",
    "    predictor = LogisticRegression(C=C, max_iter=max_iter, \n",
    "                                   n_jobs=-1, intercept_scaling=ic).fit(X, y_train)\n",
    "    if test_with_training_data:\n",
    "        eval_list = graph.nodes()\n",
    "    else:\n",
    "        eval_list = [i for i in graph.nodes() if i not in xids]\n",
    "    y_true = [graph._communities[i] for i in eval_list]\n",
    "    y_pred = [predictor.predict(emb[i].reshape(1,-1))[0] for i in eval_list]\n",
    "    print('Experiment ', exp_id, ' ', graph_name, ' ', str(index))\n",
    "    print('f1_macro: ', f1_score(y_true, y_pred, average='macro'))\n",
    "    print('f1_micro: ', f1_score(y_true, y_pred, average='micro'))"
   ]
  },
  {
   "cell_type": "code",
   "execution_count": 5,
   "metadata": {
    "collapsed": false
   },
   "outputs": [
    {
     "name": "stdout",
     "output_type": "stream",
     "text": [
      "Experiment  BC3041   blogcatalog3   [0, 1]\n",
      "f1_macro:  0.280467818713\n",
      "f1_micro:  0.321470131885\n"
     ]
    }
   ],
   "source": [
    "lg('BC3041', 'blogcatalog3', [0,1], True)"
   ]
  },
  {
   "cell_type": "code",
   "execution_count": 34,
   "metadata": {
    "collapsed": false
   },
   "outputs": [
    {
     "name": "stdout",
     "output_type": "stream",
     "text": [
      "Experiment  BC3041   blogcatalog3   [0, 1]\n",
      "f1_macro:  0.266714470288\n",
      "f1_micro:  0.315942591156\n",
      "Experiment  BC3041   blogcatalog3   [0, 1]\n",
      "f1_macro:  0.281414885268\n",
      "f1_micro:  0.318463925524\n",
      "Experiment  BC3041   blogcatalog3   [0, 1]\n",
      "f1_macro:  0.263938879221\n",
      "f1_micro:  0.315457719162\n",
      "Experiment  BC3041   blogcatalog3   [0, 1]\n",
      "f1_macro:  0.281339578699\n",
      "f1_micro:  0.321567106284\n",
      "Experiment  BC3041   blogcatalog3   [0, 1]\n",
      "f1_macro:  0.277281328346\n",
      "f1_micro:  0.317106283941\n",
      "Experiment  BC3041   blogcatalog3   [0, 1]\n",
      "f1_macro:  0.279887527873\n",
      "f1_micro:  0.322148952676\n",
      "Experiment  BC3041   blogcatalog3   [0, 1]\n",
      "f1_macro:  0.277448305269\n",
      "f1_micro:  0.318560899922\n",
      "Experiment  BC3041   blogcatalog3   [0, 1]\n",
      "f1_macro:  0.279637646493\n",
      "f1_micro:  0.321373157486\n",
      "Experiment  BC3041   blogcatalog3   [0, 1]\n",
      "f1_macro:  0.277812114826\n",
      "f1_micro:  0.318366951125\n",
      "Experiment  BC3041   blogcatalog3   [0, 1]\n",
      "f1_macro:  0.278660276431\n",
      "f1_micro:  0.316039565555\n"
     ]
    }
   ],
   "source": [
    "for _ in range(10):\n",
    "    lg('BC3041', 'blogcatalog3', [0,1], True, use_bias=True)"
   ]
  },
  {
   "cell_type": "code",
   "execution_count": 35,
   "metadata": {
    "collapsed": false
   },
   "outputs": [
    {
     "name": "stdout",
     "output_type": "stream",
     "text": [
      "Experiment  BC3041   blogcatalog3   [0, 1]\n",
      "f1_macro:  0.291281802303\n",
      "f1_micro:  0.326803723817\n",
      "Experiment  BC3041   blogcatalog3   [0, 1]\n",
      "f1_macro:  0.282814555002\n",
      "f1_micro:  0.323506594259\n",
      "Experiment  BC3041   blogcatalog3   [0, 1]\n",
      "f1_macro:  0.285596599861\n",
      "f1_micro:  0.320500387898\n",
      "Experiment  BC3041   blogcatalog3   [0, 1]\n",
      "f1_macro:  0.281586769284\n",
      "f1_micro:  0.322827773468\n",
      "Experiment  BC3041   blogcatalog3   [0, 1]\n",
      "f1_macro:  0.275960608449\n",
      "f1_micro:  0.323797517455\n",
      "Experiment  BC3041   blogcatalog3   [0, 1]\n",
      "f1_macro:  0.276598472376\n",
      "f1_micro:  0.322439875873\n",
      "Experiment  BC3041   blogcatalog3   [0, 1]\n",
      "f1_macro:  0.28358502122\n",
      "f1_micro:  0.321664080683\n",
      "Experiment  BC3041   blogcatalog3   [0, 1]\n",
      "f1_macro:  0.286768835982\n",
      "f1_micro:  0.319918541505\n",
      "Experiment  BC3041   blogcatalog3   [0, 1]\n",
      "f1_macro:  0.280924907158\n",
      "f1_micro:  0.323215671063\n",
      "Experiment  BC3041   blogcatalog3   [0, 1]\n",
      "f1_macro:  0.288107729958\n",
      "f1_micro:  0.323894491854\n"
     ]
    }
   ],
   "source": [
    "for _ in range(10):\n",
    "    lg('BC3041', 'blogcatalog3', [0,1], True, use_bias=False)"
   ]
  },
  {
   "cell_type": "code",
   "execution_count": 36,
   "metadata": {
    "collapsed": false
   },
   "outputs": [
    {
     "name": "stdout",
     "output_type": "stream",
     "text": [
      "Experiment  BC3041   blogcatalog3   [0, 1]\n",
      "f1_macro:  0.133256165702\n",
      "f1_micro:  0.233939628483\n"
     ]
    },
    {
     "name": "stderr",
     "output_type": "stream",
     "text": [
      "/home/hoangnt/anaconda3/lib/python3.5/site-packages/sklearn/metrics/classification.py:1074: UndefinedMetricWarning: F-score is ill-defined and being set to 0.0 in labels with no predicted samples.\n",
      "  'precision', 'predicted', average, warn_for)\n"
     ]
    },
    {
     "name": "stdout",
     "output_type": "stream",
     "text": [
      "Experiment  BC3041   blogcatalog3   [0, 1]\n",
      "f1_macro:  0.14230853769\n",
      "f1_micro:  0.240712074303\n",
      "Experiment  BC3041   blogcatalog3   [0, 1]\n",
      "f1_macro:  0.139036480833\n",
      "f1_micro:  0.241099071207\n",
      "Experiment  BC3041   blogcatalog3   [0, 1]\n",
      "f1_macro:  0.141008272639\n",
      "f1_micro:  0.245356037152\n",
      "Experiment  BC3041   blogcatalog3   [0, 1]\n",
      "f1_macro:  0.129691463893\n",
      "f1_micro:  0.233746130031\n",
      "Experiment  BC3041   blogcatalog3   [0, 1]\n",
      "f1_macro:  0.141336083869\n",
      "f1_micro:  0.242647058824\n",
      "Experiment  BC3041   blogcatalog3   [0, 1]\n",
      "f1_macro:  0.139189968737\n",
      "f1_micro:  0.238777089783\n",
      "Experiment  BC3041   blogcatalog3   [0, 1]\n",
      "f1_macro:  0.143480778489\n",
      "f1_micro:  0.248645510836\n",
      "Experiment  BC3041   blogcatalog3   [0, 1]\n",
      "f1_macro:  0.146364133843\n",
      "f1_micro:  0.249226006192\n",
      "Experiment  BC3041   blogcatalog3   [0, 1]\n",
      "f1_macro:  0.14380581783\n",
      "f1_micro:  0.248645510836\n"
     ]
    }
   ],
   "source": [
    "for _ in range(10):\n",
    "    lg('BC3041', 'blogcatalog3', [0,1], True, use_bias=False, test_with_training_data=False)"
   ]
  },
  {
   "cell_type": "code",
   "execution_count": 37,
   "metadata": {
    "collapsed": false
   },
   "outputs": [
    {
     "name": "stdout",
     "output_type": "stream",
     "text": [
      "Experiment  BC3_deepwalk   blogcatalog3   [0, 1]\n",
      "f1_macro:  0.0785946136219\n",
      "f1_micro:  0.131191950464\n",
      "Experiment  BC3_deepwalk   blogcatalog3   [0, 1]\n",
      "f1_macro:  0.0785162811842\n",
      "f1_micro:  0.130998452012\n"
     ]
    },
    {
     "name": "stderr",
     "output_type": "stream",
     "text": [
      "/home/hoangnt/anaconda3/lib/python3.5/site-packages/sklearn/metrics/classification.py:1074: UndefinedMetricWarning: F-score is ill-defined and being set to 0.0 in labels with no predicted samples.\n",
      "  'precision', 'predicted', average, warn_for)\n"
     ]
    },
    {
     "name": "stdout",
     "output_type": "stream",
     "text": [
      "Experiment  BC3_deepwalk   blogcatalog3   [0, 1]\n",
      "f1_macro:  0.0825238648546\n",
      "f1_micro:  0.137770897833\n",
      "Experiment  BC3_deepwalk   blogcatalog3   [0, 1]\n",
      "f1_macro:  0.0767089389055\n",
      "f1_micro:  0.129643962848\n",
      "Experiment  BC3_deepwalk   blogcatalog3   [0, 1]\n",
      "f1_macro:  0.0827200027725\n",
      "f1_micro:  0.133900928793\n",
      "Experiment  BC3_deepwalk   blogcatalog3   [0, 1]\n",
      "f1_macro:  0.0862535671089\n",
      "f1_micro:  0.136222910217\n",
      "Experiment  BC3_deepwalk   blogcatalog3   [0, 1]\n",
      "f1_macro:  0.0801926892678\n",
      "f1_micro:  0.132933436533\n",
      "Experiment  BC3_deepwalk   blogcatalog3   [0, 1]\n",
      "f1_macro:  0.0783022625852\n",
      "f1_micro:  0.136029411765\n",
      "Experiment  BC3_deepwalk   blogcatalog3   [0, 1]\n",
      "f1_macro:  0.0800083839613\n",
      "f1_micro:  0.137383900929\n",
      "Experiment  BC3_deepwalk   blogcatalog3   [0, 1]\n",
      "f1_macro:  0.0770370373193\n",
      "f1_micro:  0.130224458204\n"
     ]
    }
   ],
   "source": [
    "for _ in range(10):\n",
    "    lg('BC3_deepwalk', 'blogcatalog3', [0,1], True, use_bias=False, test_with_training_data=False)"
   ]
  },
  {
   "cell_type": "code",
   "execution_count": 39,
   "metadata": {
    "collapsed": false
   },
   "outputs": [
    {
     "name": "stdout",
     "output_type": "stream",
     "text": [
      "Experiment  BC3042   blogcatalog3   [0, 1]\n",
      "f1_macro:  0.18494642773\n",
      "f1_micro:  0.209270752521\n",
      "Experiment  BC3042   blogcatalog3   [0, 1]\n",
      "f1_macro:  0.182255005803\n",
      "f1_micro:  0.211307214895\n",
      "Experiment  BC3042   blogcatalog3   [0, 1]\n",
      "f1_macro:  0.197762506027\n",
      "f1_micro:  0.218289371606\n",
      "Experiment  BC3042   blogcatalog3   [0, 1]\n",
      "f1_macro:  0.180955690022\n",
      "f1_micro:  0.206749418154\n",
      "Experiment  BC3042   blogcatalog3   [0, 1]\n",
      "f1_macro:  0.192743376177\n",
      "f1_micro:  0.215186190846\n",
      "Experiment  BC3042   blogcatalog3   [0, 1]\n",
      "f1_macro:  0.188248008297\n",
      "f1_micro:  0.216252909232\n",
      "Experiment  BC3042   blogcatalog3   [0, 1]\n",
      "f1_macro:  0.190847697858\n",
      "f1_micro:  0.215186190846\n",
      "Experiment  BC3042   blogcatalog3   [0, 1]\n",
      "f1_macro:  0.184282198754\n",
      "f1_micro:  0.211307214895\n",
      "Experiment  BC3042   blogcatalog3   [0, 1]\n",
      "f1_macro:  0.183350649275\n",
      "f1_micro:  0.211210240497\n",
      "Experiment  BC3042   blogcatalog3   [0, 1]\n",
      "f1_macro:  0.186879310792\n",
      "f1_micro:  0.216252909232\n"
     ]
    }
   ],
   "source": [
    "for _ in range(10):\n",
    "    lg('BC3042', 'blogcatalog3', [0,1], True, use_bias=False)"
   ]
  },
  {
   "cell_type": "code",
   "execution_count": 40,
   "metadata": {
    "collapsed": false
   },
   "outputs": [
    {
     "name": "stdout",
     "output_type": "stream",
     "text": [
      "Experiment  BC3043   blogcatalog3   [0, 1]\n",
      "f1_macro:  0.201681753326\n",
      "f1_micro:  0.229635376261\n",
      "Experiment  BC3043   blogcatalog3   [0, 1]\n",
      "f1_macro:  0.205114830894\n",
      "f1_micro:  0.231380915438\n",
      "Experiment  BC3043   blogcatalog3   [0, 1]\n",
      "f1_macro:  0.203727688398\n",
      "f1_micro:  0.228277734678\n",
      "Experiment  BC3043   blogcatalog3   [0, 1]\n",
      "f1_macro:  0.203414107914\n",
      "f1_micro:  0.232738557021\n",
      "Experiment  BC3043   blogcatalog3   [0, 1]\n",
      "f1_macro:  0.197616955301\n",
      "f1_micro:  0.227695888285\n",
      "Experiment  BC3043   blogcatalog3   [0, 1]\n",
      "f1_macro:  0.194468637217\n",
      "f1_micro:  0.230314197052\n",
      "Experiment  BC3043   blogcatalog3   [0, 1]\n",
      "f1_macro:  0.20595131003\n",
      "f1_micro:  0.232156710628\n",
      "Experiment  BC3043   blogcatalog3   [0, 1]\n",
      "f1_macro:  0.196334233198\n",
      "f1_micro:  0.22730799069\n",
      "Experiment  BC3043   blogcatalog3   [0, 1]\n",
      "f1_macro:  0.201075479853\n",
      "f1_micro:  0.230993017843\n",
      "Experiment  BC3043   blogcatalog3   [0, 1]\n",
      "f1_macro:  0.201547829383\n",
      "f1_micro:  0.228956555469\n"
     ]
    }
   ],
   "source": [
    "for _ in range(10):\n",
    "    lg('BC3043', 'blogcatalog3', [0,1], True, use_bias=False)"
   ]
  },
  {
   "cell_type": "code",
   "execution_count": 41,
   "metadata": {
    "collapsed": false
   },
   "outputs": [
    {
     "name": "stdout",
     "output_type": "stream",
     "text": [
      "Experiment  BC3043   blogcatalog3   [0, 1]\n",
      "f1_macro:  0.277342009382\n",
      "f1_micro:  0.323215671063\n",
      "Experiment  BC3043   blogcatalog3   [0, 1]\n",
      "f1_macro:  0.284405784353\n",
      "f1_micro:  0.33126454616\n",
      "Experiment  BC3043   blogcatalog3   [0, 1]\n",
      "f1_macro:  0.279097120765\n",
      "f1_micro:  0.329809930178\n",
      "Experiment  BC3043   blogcatalog3   [0, 1]\n",
      "f1_macro:  0.292801956802\n",
      "f1_micro:  0.333010085337\n",
      "Experiment  BC3043   blogcatalog3   [0, 1]\n",
      "f1_macro:  0.278391644443\n",
      "f1_micro:  0.329034134988\n",
      "Experiment  BC3043   blogcatalog3   [0, 1]\n",
      "f1_macro:  0.279402676768\n",
      "f1_micro:  0.328452288596\n",
      "Experiment  BC3043   blogcatalog3   [0, 1]\n",
      "f1_macro:  0.285421323485\n",
      "f1_micro:  0.327676493406\n",
      "Experiment  BC3043   blogcatalog3   [0, 1]\n",
      "f1_macro:  0.280475661861\n",
      "f1_micro:  0.327773467804\n",
      "Experiment  BC3043   blogcatalog3   [0, 1]\n",
      "f1_macro:  0.292934634211\n",
      "f1_micro:  0.333688906129\n",
      "Experiment  BC3043   blogcatalog3   [0, 1]\n",
      "f1_macro:  0.284869102815\n",
      "f1_micro:  0.331555469356\n",
      "Experiment  BC3043   blogcatalog3   [0, 1]\n",
      "f1_macro:  0.289357837768\n",
      "f1_micro:  0.329325058185\n",
      "Experiment  BC3043   blogcatalog3   [0, 1]\n",
      "f1_macro:  0.283494810331\n",
      "f1_micro:  0.331943366951\n",
      "Experiment  BC3043   blogcatalog3   [0, 1]\n",
      "f1_macro:  0.276322176225\n",
      "f1_micro:  0.328258339798\n",
      "Experiment  BC3043   blogcatalog3   [0, 1]\n",
      "f1_macro:  0.275851090026\n",
      "f1_micro:  0.328743211792\n",
      "Experiment  BC3043   blogcatalog3   [0, 1]\n",
      "f1_macro:  0.288881612903\n",
      "f1_micro:  0.331070597362\n",
      "Experiment  BC3043   blogcatalog3   [0, 1]\n",
      "f1_macro:  0.276476013093\n",
      "f1_micro:  0.325543056633\n",
      "Experiment  BC3043   blogcatalog3   [0, 1]\n",
      "f1_macro:  0.279116414281\n",
      "f1_micro:  0.328646237393\n",
      "Experiment  BC3043   blogcatalog3   [0, 1]\n",
      "f1_macro:  0.277816037247\n",
      "f1_micro:  0.324767261443\n",
      "Experiment  BC3043   blogcatalog3   [0, 1]\n",
      "f1_macro:  0.279069673151\n",
      "f1_micro:  0.325543056633\n",
      "Experiment  BC3043   blogcatalog3   [0, 1]\n",
      "f1_macro:  0.284628018161\n",
      "f1_micro:  0.327579519007\n",
      "Experiment  BC3043   blogcatalog3   [0, 1]\n",
      "f1_macro:  0.282728792282\n",
      "f1_micro:  0.324573312645\n",
      "Experiment  BC3043   blogcatalog3   [0, 1]\n",
      "f1_macro:  0.274414290432\n",
      "f1_micro:  0.327191621412\n",
      "Experiment  BC3043   blogcatalog3   [0, 1]\n",
      "f1_macro:  0.276173532951\n",
      "f1_micro:  0.326027928627\n",
      "Experiment  BC3043   blogcatalog3   [0, 1]\n",
      "f1_macro:  0.283229053455\n",
      "f1_micro:  0.331070597362\n",
      "Experiment  BC3043   blogcatalog3   [0, 1]\n",
      "f1_macro:  0.283624237523\n",
      "f1_micro:  0.328549262995\n",
      "Experiment  BC3043   blogcatalog3   [0, 1]\n",
      "f1_macro:  0.276922081973\n",
      "f1_micro:  0.324670287044\n",
      "Experiment  BC3043   blogcatalog3   [0, 1]\n",
      "f1_macro:  0.281954056849\n",
      "f1_micro:  0.327676493406\n",
      "Experiment  BC3043   blogcatalog3   [0, 1]\n",
      "f1_macro:  0.281536375896\n",
      "f1_micro:  0.325446082234\n",
      "Experiment  BC3043   blogcatalog3   [0, 1]\n",
      "f1_macro:  0.280501134337\n",
      "f1_micro:  0.328743211792\n",
      "Experiment  BC3043   blogcatalog3   [0, 1]\n",
      "f1_macro:  0.27797820899\n",
      "f1_micro:  0.327967416602\n",
      "Experiment  BC3043   blogcatalog3   [0, 1]\n",
      "f1_macro:  0.282747934063\n",
      "f1_micro:  0.327191621412\n",
      "Experiment  BC3043   blogcatalog3   [0, 1]\n",
      "f1_macro:  0.267855104067\n",
      "f1_micro:  0.323603568658\n",
      "Experiment  BC3043   blogcatalog3   [0, 1]\n",
      "f1_macro:  0.273444477757\n",
      "f1_micro:  0.322924747867\n",
      "Experiment  BC3043   blogcatalog3   [0, 1]\n",
      "f1_macro:  0.279160903837\n",
      "f1_micro:  0.329519006982\n",
      "Experiment  BC3043   blogcatalog3   [0, 1]\n",
      "f1_macro:  0.278579457295\n",
      "f1_micro:  0.325446082234\n",
      "Experiment  BC3043   blogcatalog3   [0, 1]\n",
      "f1_macro:  0.279327118907\n",
      "f1_micro:  0.328743211792\n",
      "Experiment  BC3043   blogcatalog3   [0, 1]\n",
      "f1_macro:  0.28019733053\n",
      "f1_micro:  0.326609775019\n",
      "Experiment  BC3043   blogcatalog3   [0, 1]\n",
      "f1_macro:  0.280105563469\n",
      "f1_micro:  0.326415826222\n",
      "Experiment  BC3043   blogcatalog3   [0, 1]\n",
      "f1_macro:  0.281374030316\n",
      "f1_micro:  0.327676493406\n",
      "Experiment  BC3043   blogcatalog3   [0, 1]\n",
      "f1_macro:  0.281180200004\n",
      "f1_micro:  0.326318851823\n"
     ]
    }
   ],
   "source": [
    "for _ in range(40):\n",
    "    lg('BC3043', 'blogcatalog3', [0,1], True, use_bias=False)"
   ]
  },
  {
   "cell_type": "code",
   "execution_count": 42,
   "metadata": {
    "collapsed": false
   },
   "outputs": [
    {
     "name": "stdout",
     "output_type": "stream",
     "text": [
      "Experiment  BC3044   blogcatalog3   [0, 1]\n",
      "f1_macro:  0.29878070681\n",
      "f1_micro:  0.342513576416\n",
      "Experiment  BC3044   blogcatalog3   [0, 1]\n",
      "f1_macro:  0.304418008242\n",
      "f1_micro:  0.348622963538\n",
      "Experiment  BC3044   blogcatalog3   [0, 1]\n",
      "f1_macro:  0.296591533947\n",
      "f1_micro:  0.342028704422\n",
      "Experiment  BC3044   blogcatalog3   [0, 1]\n",
      "f1_macro:  0.296905232495\n",
      "f1_micro:  0.345131885182\n",
      "Experiment  BC3044   blogcatalog3   [0, 1]\n",
      "f1_macro:  0.311869840782\n",
      "f1_micro:  0.351241272304\n",
      "Experiment  BC3044   blogcatalog3   [0, 1]\n",
      "f1_macro:  0.296035480799\n",
      "f1_micro:  0.343192397207\n",
      "Experiment  BC3044   blogcatalog3   [0, 1]\n",
      "f1_macro:  0.303796589184\n",
      "f1_micro:  0.34610162917\n",
      "Experiment  BC3044   blogcatalog3   [0, 1]\n",
      "f1_macro:  0.293308593938\n",
      "f1_micro:  0.342804499612\n",
      "Experiment  BC3044   blogcatalog3   [0, 1]\n",
      "f1_macro:  0.300354864748\n",
      "f1_micro:  0.344743987587\n",
      "Experiment  BC3044   blogcatalog3   [0, 1]\n",
      "f1_macro:  0.296279546254\n",
      "f1_micro:  0.342610550815\n",
      "Experiment  BC3044   blogcatalog3   [0, 1]\n",
      "f1_macro:  0.298411474494\n",
      "f1_micro:  0.347265321955\n",
      "Experiment  BC3044   blogcatalog3   [0, 1]\n",
      "f1_macro:  0.293445926178\n",
      "f1_micro:  0.339119472459\n",
      "Experiment  BC3044   blogcatalog3   [0, 1]\n",
      "f1_macro:  0.299384765848\n",
      "f1_micro:  0.344356089992\n",
      "Experiment  BC3044   blogcatalog3   [0, 1]\n",
      "f1_macro:  0.303257578391\n",
      "f1_micro:  0.346974398759\n",
      "Experiment  BC3044   blogcatalog3   [0, 1]\n",
      "f1_macro:  0.304654316369\n",
      "f1_micro:  0.346489526765\n",
      "Experiment  BC3044   blogcatalog3   [0, 1]\n",
      "f1_macro:  0.297781524054\n",
      "f1_micro:  0.345713731575\n",
      "Experiment  BC3044   blogcatalog3   [0, 1]\n",
      "f1_macro:  0.300537785355\n",
      "f1_micro:  0.343192397207\n",
      "Experiment  BC3044   blogcatalog3   [0, 1]\n",
      "f1_macro:  0.308230256754\n",
      "f1_micro:  0.346974398759\n",
      "Experiment  BC3044   blogcatalog3   [0, 1]\n",
      "f1_macro:  0.295160404022\n",
      "f1_micro:  0.344259115593\n",
      "Experiment  BC3044   blogcatalog3   [0, 1]\n",
      "f1_macro:  0.296167610838\n",
      "f1_micro:  0.345713731575\n",
      "Experiment  BC3044   blogcatalog3   [0, 1]\n",
      "f1_macro:  0.292785688492\n",
      "f1_micro:  0.344647013189\n",
      "Experiment  BC3044   blogcatalog3   [0, 1]\n",
      "f1_macro:  0.305755695854\n",
      "f1_micro:  0.350950349108\n",
      "Experiment  BC3044   blogcatalog3   [0, 1]\n",
      "f1_macro:  0.293014045358\n",
      "f1_micro:  0.344065166796\n",
      "Experiment  BC3044   blogcatalog3   [0, 1]\n",
      "f1_macro:  0.304112206352\n",
      "f1_micro:  0.351629169899\n",
      "Experiment  BC3044   blogcatalog3   [0, 1]\n",
      "f1_macro:  0.30009168281\n",
      "f1_micro:  0.343386346005\n",
      "Experiment  BC3044   blogcatalog3   [0, 1]\n",
      "f1_macro:  0.302637377416\n",
      "f1_micro:  0.34765321955\n",
      "Experiment  BC3044   blogcatalog3   [0, 1]\n",
      "f1_macro:  0.302428021082\n",
      "f1_micro:  0.344840961986\n",
      "Experiment  BC3044   blogcatalog3   [0, 1]\n",
      "f1_macro:  0.296595191813\n",
      "f1_micro:  0.343192397207\n",
      "Experiment  BC3044   blogcatalog3   [0, 1]\n",
      "f1_macro:  0.29996097404\n",
      "f1_micro:  0.346489526765\n",
      "Experiment  BC3044   blogcatalog3   [0, 1]\n",
      "f1_macro:  0.305590315886\n",
      "f1_micro:  0.346489526765\n",
      "Experiment  BC3044   blogcatalog3   [0, 1]\n",
      "f1_macro:  0.30485333513\n",
      "f1_micro:  0.346974398759\n",
      "Experiment  BC3044   blogcatalog3   [0, 1]\n",
      "f1_macro:  0.292899196493\n",
      "f1_micro:  0.346780449961\n",
      "Experiment  BC3044   blogcatalog3   [0, 1]\n",
      "f1_macro:  0.300421702768\n",
      "f1_micro:  0.345713731575\n",
      "Experiment  BC3044   blogcatalog3   [0, 1]\n",
      "f1_macro:  0.296919931136\n",
      "f1_micro:  0.348138091544\n",
      "Experiment  BC3044   blogcatalog3   [0, 1]\n",
      "f1_macro:  0.300395400253\n",
      "f1_micro:  0.344840961986\n",
      "Experiment  BC3044   blogcatalog3   [0, 1]\n",
      "f1_macro:  0.306211951739\n",
      "f1_micro:  0.350271528317\n",
      "Experiment  BC3044   blogcatalog3   [0, 1]\n",
      "f1_macro:  0.29493769499\n",
      "f1_micro:  0.342319627618\n",
      "Experiment  BC3044   blogcatalog3   [0, 1]\n",
      "f1_macro:  0.299457676922\n",
      "f1_micro:  0.346974398759\n",
      "Experiment  BC3044   blogcatalog3   [0, 1]\n",
      "f1_macro:  0.297058144986\n",
      "f1_micro:  0.343871217998\n",
      "Experiment  BC3044   blogcatalog3   [0, 1]\n",
      "f1_macro:  0.295236621078\n",
      "f1_micro:  0.344259115593\n"
     ]
    }
   ],
   "source": [
    "for _ in range(40):\n",
    "    lg('BC3044', 'blogcatalog3', [0,1], True, use_bias=False)"
   ]
  },
  {
   "cell_type": "code",
   "execution_count": null,
   "metadata": {
    "collapsed": true
   },
   "outputs": [],
   "source": []
  }
 ],
 "metadata": {
  "anaconda-cloud": {},
  "kernelspec": {
   "display_name": "Python [Root]",
   "language": "python",
   "name": "Python [Root]"
  },
  "language_info": {
   "codemirror_mode": {
    "name": "ipython",
    "version": 3
   },
   "file_extension": ".py",
   "mimetype": "text/x-python",
   "name": "python",
   "nbconvert_exporter": "python",
   "pygments_lexer": "ipython3",
   "version": "3.5.2"
  }
 },
 "nbformat": 4,
 "nbformat_minor": 0
}
