{
 "cells": [
  {
   "cell_type": "code",
   "execution_count": 1,
   "metadata": {
    "collapsed": true
   },
   "outputs": [],
   "source": [
    "import sys\n",
    "sys.path.append('../src/mane/prototype/')\n",
    "import numpy as np\n",
    "import graph as g\n",
    "import pickle as p\n",
    "\n",
    "from sklearn.preprocessing import normalize, scale\n",
    "from sklearn.metrics import f1_score\n",
    "from sklearn.multiclass import OneVsRestClassifier\n",
    "from sklearn.svm import LinearSVC\n",
    "from sklearn.linear_model import LogisticRegression"
   ]
  },
  {
   "cell_type": "code",
   "execution_count": 2,
   "metadata": {
    "collapsed": false
   },
   "outputs": [],
   "source": [
    "def svc_embeddings(exp_id, graph_name, portition=0.5):\n",
    "    weightfile = '../src/mane/prototype/embeddings/' + exp_id + '.weights'\n",
    "    graphfile = '../src/mane/data/' + graph_name\n",
    "    with open(weightfile, 'rb') as f:\n",
    "        w = p.load(f)\n",
    "    graph = g.graph_from_pickle(graphfile+'.graph', graphfile+'.community')\n",
    "    e_norm = normalize(w[0])\n",
    "    xids, y_train = graph.gen_community(portition)\n",
    "    X = [e_norm[i] for i in xids]\n",
    "    predictor = OneVsRestClassifier(LinearSVC(random_state=0)).fit(X, y_train)\n",
    "    y_true = [graph._communities[i] for i in graph.nodes()]\n",
    "    y_pred = [predictor.predict(e_norm[i].reshape(1,-1))[0] for i in graph.nodes()]\n",
    "    print('Experiment ', exp_id, ' ', graph_name)\n",
    "    print('f1_macro (emb): ', f1_score(y_true, y_pred, average='macro'))\n",
    "    print('f1_micro (emb): ', f1_score(y_true, y_pred, average='micro'))\n",
    "    \n",
    "def svc_average(exp_id, graph_name, portition=0.5):\n",
    "    weightfile = '../src/mane/prototype/embeddings/' + exp_id + '.weights'\n",
    "    graphfile = '../src/mane/data/' + graph_name\n",
    "    with open(weightfile, 'rb') as f:\n",
    "        w = p.load(f)\n",
    "    graph = g.graph_from_pickle(graphfile+'.graph', graphfile+'.community')\n",
    "    e_norm = normalize((w[0]+w[1])/2)\n",
    "    xids, y_train = graph.gen_community(portition)\n",
    "    X = [e_norm[i] for i in xids]\n",
    "    predictor = OneVsRestClassifier(LinearSVC(random_state=0)).fit(X, y_train)\n",
    "    y_true = [graph._communities[i] for i in graph.nodes()]\n",
    "    y_pred = [predictor.predict(e_norm[i].reshape(1,-1))[0] for i in graph.nodes()]\n",
    "    print('Experiment ', exp_id, ' ', graph_name)\n",
    "    print('f1_macro (avg): ', f1_score(y_true, y_pred, average='macro'))\n",
    "    print('f1_micro (avg): ', f1_score(y_true, y_pred, average='micro'))\n",
    "\n",
    "def svc_all(exp_id, graph_name, portition=0.5):\n",
    "    weightfile = '../src/mane/prototype/embeddings/' + exp_id + '.weights'\n",
    "    graphfile = '../src/mane/data/' + graph_name\n",
    "    with open(weightfile, 'rb') as f:\n",
    "        w = p.load(f)\n",
    "    graph = g.graph_from_pickle(graphfile+'.graph', graphfile+'.community')\n",
    "    e_norm = normalize(w[0]+w[1]+w[2])\n",
    "    xids, y_train = graph.gen_community(portition)\n",
    "    X = [e_norm[i] for i in xids]\n",
    "    predictor = OneVsRestClassifier(LinearSVC(random_state=0)).fit(X, y_train)\n",
    "    y_true = [graph._communities[i] for i in graph.nodes()]\n",
    "    y_pred = [predictor.predict(e_norm[i].reshape(1,-1))[0] for i in graph.nodes()]\n",
    "    print('Experiment ', exp_id, ' ', graph_name)\n",
    "    print('f1_macro (all): ', f1_score(y_true, y_pred, average='macro'))\n",
    "    print('f1_micro (all): ', f1_score(y_true, y_pred, average='micro'))\n",
    "def lg_embeddings(exp_id, graph_name, portition=0.5, max_iter=1000):\n",
    "    weightfile = '../src/mane/prototype/embeddings/' + exp_id + '.weights'\n",
    "    graphfile = '../src/mane/data/' + graph_name\n",
    "    with open(weightfile, 'rb') as f:\n",
    "        w = p.load(f)\n",
    "    graph = g.graph_from_pickle(graphfile+'.graph', graphfile+'.community')\n",
    "    e_norm = normalize(w[0])\n",
    "    xids, y_train = graph.gen_community(portition)\n",
    "    X = [e_norm[i] for i in xids]\n",
    "    predictor = LogisticRegression(max_iter=max_iter, n_jobs=2).fit(X, y_train)\n",
    "    y_true = [graph._communities[i] for i in graph.nodes()]\n",
    "    y_pred = [predictor.predict(e_norm[i].reshape(1,-1))[0] for i in graph.nodes()]\n",
    "    print('Experiment ', exp_id, ' ', graph_name)\n",
    "    print('f1_macro (emb): ', f1_score(y_true, y_pred, average='macro'))\n",
    "    print('f1_micro (emb): ', f1_score(y_true, y_pred, average='micro'))\n",
    "    \n",
    "def lg_nce(exp_id, graph_name, portition=0.5, max_iter=1000):\n",
    "    weightfile = '../src/mane/prototype/embeddings/' + exp_id + '.weights'\n",
    "    graphfile = '../src/mane/data/' + graph_name\n",
    "    with open(weightfile, 'rb') as f:\n",
    "        w = p.load(f)\n",
    "    graph = g.graph_from_pickle(graphfile+'.graph', graphfile+'.community')\n",
    "    e_norm = normalize(w[2])\n",
    "    xids, y_train = graph.gen_community(portition)\n",
    "    X = [e_norm[i] for i in xids]\n",
    "    predictor = LogisticRegression(max_iter=max_iter, n_jobs=2).fit(X, y_train)\n",
    "    y_true = [graph._communities[i] for i in graph.nodes()]\n",
    "    y_pred = [predictor.predict(e_norm[i].reshape(1,-1))[0] for i in graph.nodes()]\n",
    "    print('Experiment ', exp_id, ' ', graph_name)\n",
    "    print('f1_macro (emb): ', f1_score(y_true, y_pred, average='macro'))\n",
    "    print('f1_micro (emb): ', f1_score(y_true, y_pred, average='micro'))\n",
    "    \n",
    "def lg_average(exp_id, graph_name, portition=0.5, max_iter=1000):\n",
    "    weightfile = '../src/mane/prototype/embeddings/' + exp_id + '.weights'\n",
    "    graphfile = '../src/mane/data/' + graph_name\n",
    "    with open(weightfile, 'rb') as f:\n",
    "        w = p.load(f)\n",
    "    graph = g.graph_from_pickle(graphfile+'.graph', graphfile+'.community')\n",
    "    e_norm = normalize((w[0]+w[1])/2)\n",
    "    xids, y_train = graph.gen_community(portition)\n",
    "    X = [e_norm[i] for i in xids]\n",
    "    predictor = LogisticRegression(max_iter=max_iter, n_jobs=2).fit(X, y_train)\n",
    "    y_true = [graph._communities[i] for i in graph.nodes()]\n",
    "    y_pred = [predictor.predict(e_norm[i].reshape(1,-1))[0] for i in graph.nodes()]\n",
    "    print('Experiment ', exp_id, ' ', graph_name)\n",
    "    print('f1_macro (avg): ', f1_score(y_true, y_pred, average='macro'))\n",
    "    print('f1_micro (avg): ', f1_score(y_true, y_pred, average='micro'))\n",
    "    \n",
    "def lg_all(exp_id, graph_name, portition=0.5, max_iter=1000):\n",
    "    weightfile = '../src/mane/prototype/embeddings/' + exp_id + '.weights'\n",
    "    graphfile = '../src/mane/data/' + graph_name\n",
    "    with open(weightfile, 'rb') as f:\n",
    "        w = p.load(f)\n",
    "    graph = g.graph_from_pickle(graphfile+'.graph', graphfile+'.community')\n",
    "    e_norm = normalize(w[0]+w[1]+w[2])\n",
    "    xids, y_train = graph.gen_community(portition)\n",
    "    X = [e_norm[i] for i in xids]\n",
    "    predictor = LogisticRegression(max_iter=max_iter, n_jobs=2).fit(X, y_train)\n",
    "    y_true = [graph._communities[i] for i in graph.nodes()]\n",
    "    y_pred = [predictor.predict(e_norm[i].reshape(1,-1))[0] for i in graph.nodes()]\n",
    "    print('Experiment ', exp_id, ' ', graph_name)\n",
    "    print('f1_macro (avg): ', f1_score(y_true, y_pred, average='macro'))\n",
    "    print('f1_micro (avg): ', f1_score(y_true, y_pred, average='micro'))"
   ]
  },
  {
   "cell_type": "code",
   "execution_count": 5,
   "metadata": {
    "collapsed": false
   },
   "outputs": [
    {
     "name": "stdout",
     "output_type": "stream",
     "text": [
      "Experiment  BC3_deepwalk   blogcatalog3\n",
      "f1_macro (emb):  0.0687514028774\n",
      "f1_micro (emb):  0.164274631497\n"
     ]
    },
    {
     "name": "stderr",
     "output_type": "stream",
     "text": [
      "/home/hoangnt/anaconda3/lib/python3.5/site-packages/sklearn/metrics/classification.py:1074: UndefinedMetricWarning: F-score is ill-defined and being set to 0.0 in labels with no predicted samples.\n",
      "  'precision', 'predicted', average, warn_for)\n"
     ]
    }
   ],
   "source": [
    "# Test embedding deepwalk\n",
    "\n",
    "lg_embeddings('BC3_deepwalk', 'blogcatalog3')"
   ]
  },
  {
   "cell_type": "code",
   "execution_count": 8,
   "metadata": {
    "collapsed": false
   },
   "outputs": [
    {
     "name": "stdout",
     "output_type": "stream",
     "text": [
      "Experiment  BC3019   blogcatalog3\n",
      "f1_macro (avg):  0.116240676613\n",
      "f1_micro (avg):  0.25543056633\n"
     ]
    },
    {
     "name": "stderr",
     "output_type": "stream",
     "text": [
      "/home/hoangnt/anaconda3/lib/python3.5/site-packages/sklearn/metrics/classification.py:1074: UndefinedMetricWarning: F-score is ill-defined and being set to 0.0 in labels with no predicted samples.\n",
      "  'precision', 'predicted', average, warn_for)\n"
     ]
    }
   ],
   "source": [
    "lg_average('BC3019', 'blogcatalog3')"
   ]
  },
  {
   "cell_type": "code",
   "execution_count": 9,
   "metadata": {
    "collapsed": false
   },
   "outputs": [
    {
     "name": "stdout",
     "output_type": "stream",
     "text": [
      "Experiment  BC3018   blogcatalog3\n",
      "f1_macro (avg):  0.033889259493\n",
      "f1_micro (avg):  0.130139643134\n"
     ]
    },
    {
     "name": "stderr",
     "output_type": "stream",
     "text": [
      "/home/hoangnt/anaconda3/lib/python3.5/site-packages/sklearn/metrics/classification.py:1074: UndefinedMetricWarning: F-score is ill-defined and being set to 0.0 in labels with no predicted samples.\n",
      "  'precision', 'predicted', average, warn_for)\n"
     ]
    }
   ],
   "source": [
    "lg_average('BC3018', 'blogcatalog3')"
   ]
  },
  {
   "cell_type": "code",
   "execution_count": 10,
   "metadata": {
    "collapsed": false
   },
   "outputs": [
    {
     "name": "stdout",
     "output_type": "stream",
     "text": [
      "Experiment  BC3017   blogcatalog3\n",
      "f1_macro (avg):  0.0590690418813\n",
      "f1_micro (avg):  0.179887509697\n"
     ]
    },
    {
     "name": "stderr",
     "output_type": "stream",
     "text": [
      "/home/hoangnt/anaconda3/lib/python3.5/site-packages/sklearn/metrics/classification.py:1074: UndefinedMetricWarning: F-score is ill-defined and being set to 0.0 in labels with no predicted samples.\n",
      "  'precision', 'predicted', average, warn_for)\n"
     ]
    }
   ],
   "source": [
    "lg_average('BC3017', 'blogcatalog3')"
   ]
  },
  {
   "cell_type": "code",
   "execution_count": 11,
   "metadata": {
    "collapsed": false
   },
   "outputs": [
    {
     "name": "stdout",
     "output_type": "stream",
     "text": [
      "Experiment  BC3016   blogcatalog3\n",
      "f1_macro (avg):  0.0356870191662\n",
      "f1_micro (avg):  0.135376260667\n"
     ]
    },
    {
     "name": "stderr",
     "output_type": "stream",
     "text": [
      "/home/hoangnt/anaconda3/lib/python3.5/site-packages/sklearn/metrics/classification.py:1074: UndefinedMetricWarning: F-score is ill-defined and being set to 0.0 in labels with no predicted samples.\n",
      "  'precision', 'predicted', average, warn_for)\n"
     ]
    }
   ],
   "source": [
    "lg_average('BC3016', 'blogcatalog3')"
   ]
  },
  {
   "cell_type": "code",
   "execution_count": null,
   "metadata": {
    "collapsed": true
   },
   "outputs": [],
   "source": []
  }
 ],
 "metadata": {
  "kernelspec": {
   "display_name": "Python [Root]",
   "language": "python",
   "name": "Python [Root]"
  },
  "language_info": {
   "codemirror_mode": {
    "name": "ipython",
    "version": 3
   },
   "file_extension": ".py",
   "mimetype": "text/x-python",
   "name": "python",
   "nbconvert_exporter": "python",
   "pygments_lexer": "ipython3",
   "version": "3.5.2"
  }
 },
 "nbformat": 4,
 "nbformat_minor": 0
}
