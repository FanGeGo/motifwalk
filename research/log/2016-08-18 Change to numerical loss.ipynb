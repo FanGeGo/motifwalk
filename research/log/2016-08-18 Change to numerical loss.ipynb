{
 "cells": [
  {
   "cell_type": "code",
   "execution_count": 1,
   "metadata": {
    "collapsed": true
   },
   "outputs": [],
   "source": [
    "import sys\n",
    "sys.path.append('../src/mane/prototype/')"
   ]
  },
  {
   "cell_type": "code",
   "execution_count": 2,
   "metadata": {
    "collapsed": false
   },
   "outputs": [
    {
     "name": "stderr",
     "output_type": "stream",
     "text": [
      "Using Theano backend.\n"
     ]
    }
   ],
   "source": [
    "import embeddings as e\n",
    "import graph as g"
   ]
  },
  {
   "cell_type": "code",
   "execution_count": 3,
   "metadata": {
    "collapsed": true
   },
   "outputs": [],
   "source": [
    "bc = g.graph_from_pickle('../src/mane/data/blogcatalog3.graph',\n",
    "                         '../src/mane/data/blogcatalog3.community')"
   ]
  },
  {
   "cell_type": "code",
   "execution_count": 4,
   "metadata": {
    "collapsed": true
   },
   "outputs": [],
   "source": [
    "m = e.EmbeddingNet(graph=bc, emb_dim=128,\n",
    "                   neg_samp=15, num_skip=5,\n",
    "                   num_walk=10, walk_length=80,\n",
    "                   window_size=10, walk_per_batch=100)"
   ]
  },
  {
   "cell_type": "code",
   "execution_count": 5,
   "metadata": {
    "collapsed": false
   },
   "outputs": [],
   "source": [
    "m.build()"
   ]
  },
  {
   "cell_type": "code",
   "execution_count": 6,
   "metadata": {
    "collapsed": false
   },
   "outputs": [
    {
     "name": "stdout",
     "output_type": "stream",
     "text": [
      "____________________________________________________________________________________________________\n",
      "Layer (type)                     Output Shape          Param #     Connected to                     \n",
      "====================================================================================================\n",
      "class (InputLayer)               (None, 1)             0                                            \n",
      "____________________________________________________________________________________________________\n",
      "target (InputLayer)              (None, 1)             0                                            \n",
      "____________________________________________________________________________________________________\n",
      "nce_weights_embedding (Embedding)(None, 1, 128)        1320064     class[0][0]                      \n",
      "____________________________________________________________________________________________________\n",
      "node_embeddings (Embedding)      (None, 1, 128)        1320064     target[0][0]                     \n",
      "____________________________________________________________________________________________________\n",
      "nce_bias_emb (Embedding)         (None, 1, 1)          10313       class[0][0]                      \n",
      "____________________________________________________________________________________________________\n",
      "reshape_node (Reshape)           (None, 128)           0           node_embeddings[0][0]            \n",
      "____________________________________________________________________________________________________\n",
      "reshape_weights (Reshape)        (None, 128)           0           nce_weights_embedding[0][0]      \n",
      "____________________________________________________________________________________________________\n",
      "reshape_bias (Reshape)           (None, 1)             0           nce_bias_emb[0][0]               \n",
      "____________________________________________________________________________________________________\n",
      "row_wise_dot (Merge)             (None, 1)             0           reshape_node[0][0]               \n",
      "                                                                   reshape_weights[0][0]            \n",
      "____________________________________________________________________________________________________\n",
      "logits (Merge)                   (None, 1)             0           row_wise_dot[0][0]               \n",
      "                                                                   reshape_bias[0][0]               \n",
      "====================================================================================================\n",
      "Total params: 2650441\n",
      "____________________________________________________________________________________________________\n"
     ]
    }
   ],
   "source": [
    "m._model.summary()"
   ]
  },
  {
   "cell_type": "code",
   "execution_count": null,
   "metadata": {
    "collapsed": true
   },
   "outputs": [],
   "source": []
  }
 ],
 "metadata": {
  "kernelspec": {
   "display_name": "Python [Root]",
   "language": "python",
   "name": "Python [Root]"
  },
  "language_info": {
   "codemirror_mode": {
    "name": "ipython",
    "version": 3
   },
   "file_extension": ".py",
   "mimetype": "text/x-python",
   "name": "python",
   "nbconvert_exporter": "python",
   "pygments_lexer": "ipython3",
   "version": "3.5.2"
  }
 },
 "nbformat": 4,
 "nbformat_minor": 0
}
