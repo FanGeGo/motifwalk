{
 "cells": [
  {
   "cell_type": "code",
   "execution_count": 2,
   "metadata": {
    "collapsed": true
   },
   "outputs": [],
   "source": [
    "import sys\n",
    "sys.path.append('../src/mane/prototype/')\n",
    "import numpy as np\n",
    "import graph as g\n",
    "import pickle as p\n",
    "\n",
    "from sklearn.preprocessing import normalize, scale\n",
    "from sklearn.metrics import f1_score\n",
    "from sklearn.multiclass import OneVsRestClassifier\n",
    "from sklearn.svm import LinearSVC\n",
    "from sklearn.linear_model import LogisticRegression"
   ]
  },
  {
   "cell_type": "code",
   "execution_count": 21,
   "metadata": {
    "collapsed": true
   },
   "outputs": [],
   "source": [
    "def svc_embeddings(exp_id, graph_name, portition=0.5):\n",
    "    weightfile = '../src/mane/prototype/embeddings/' + exp_id + '.weights'\n",
    "    graphfile = '../src/mane/data/' + graph_name\n",
    "    with open(weightfile, 'rb') as f:\n",
    "        w = p.load(f)\n",
    "    graph = g.graph_from_pickle(graphfile+'.graph', graphfile+'.community')\n",
    "    e_norm = w[0]\n",
    "    xids, y_train = graph.gen_community(portition)\n",
    "    X = [e_norm[i] for i in xids]\n",
    "    predictor = OneVsRestClassifier(LinearSVC(random_state=0)).fit(X, y_train)\n",
    "    y_true = [graph._communities[i] for i in graph.nodes()]\n",
    "    y_pred = [predictor.predict(e_norm[i].reshape(1,-1))[0] for i in graph.nodes()]\n",
    "    print('Experiment ', exp_id, ' ', graph_name)\n",
    "    print('f1_macro (emb): ', f1_score(y_true, y_pred, average='macro'))\n",
    "    print('f1_micro (emb): ', f1_score(y_true, y_pred, average='micro'))\n",
    "    return y_true, y_pred, e_norm, predictor, xids, y_train, graph\n",
    "    \n",
    "def svc_average(exp_id, graph_name, portition=0.5):\n",
    "    weightfile = '../src/mane/prototype/embeddings/' + exp_id + '.weights'\n",
    "    graphfile = '../src/mane/data/' + graph_name\n",
    "    with open(weightfile, 'rb') as f:\n",
    "        w = p.load(f)\n",
    "    graph = g.graph_from_pickle(graphfile+'.graph', graphfile+'.community')\n",
    "    e_norm = normalize((w[0]+w[1])/2)\n",
    "    xids, y_train = graph.gen_community(portition)\n",
    "    X = [e_norm[i] for i in xids]\n",
    "    predictor = OneVsRestClassifier(LinearSVC(random_state=0)).fit(X, y_train)\n",
    "    y_true = [graph._communities[i] for i in graph.nodes()]\n",
    "    y_pred = [predictor.predict(e_norm[i].reshape(1,-1))[0] for i in graph.nodes()]\n",
    "    print('Experiment ', exp_id, ' ', graph_name)\n",
    "    print('f1_macro (avg): ', f1_score(y_true, y_pred, average='macro'))\n",
    "    print('f1_micro (avg): ', f1_score(y_true, y_pred, average='micro'))\n",
    "    return y_true, y_pred, e_norm, predictor, xids, y_train, graph\n",
    "\n",
    "def svc_all(exp_id, graph_name, portition=0.5):\n",
    "    weightfile = '../src/mane/prototype/embeddings/' + exp_id + '.weights'\n",
    "    graphfile = '../src/mane/data/' + graph_name\n",
    "    with open(weightfile, 'rb') as f:\n",
    "        w = p.load(f)\n",
    "    graph = g.graph_from_pickle(graphfile+'.graph', graphfile+'.community')\n",
    "    e_norm = normalize((w[0]+w[1]+w[2])/3)\n",
    "    xids, y_train = graph.gen_community(portition)\n",
    "    X = [e_norm[i] for i in xids]\n",
    "    predictor = OneVsRestClassifier(LinearSVC(random_state=0)).fit(X, y_train)\n",
    "    y_true = [graph._communities[i] for i in graph.nodes()]\n",
    "    y_pred = [predictor.predict(e_norm[i].reshape(1,-1))[0] for i in graph.nodes()]\n",
    "    print('Experiment ', exp_id, ' ', graph_name)\n",
    "    print('f1_macro (all): ', f1_score(y_true, y_pred, average='macro'))\n",
    "    print('f1_micro (all): ', f1_score(y_true, y_pred, average='micro'))\n",
    "    return y_true, y_pred, e_norm, predictor, xids, y_train, graph"
   ]
  },
  {
   "cell_type": "code",
   "execution_count": 28,
   "metadata": {
    "collapsed": true
   },
   "outputs": [],
   "source": [
    "def lg_embeddings(exp_id, graph_name, portition=0.5, max_iter=1000):\n",
    "    weightfile = '../src/mane/prototype/embeddings/' + exp_id + '.weights'\n",
    "    graphfile = '../src/mane/data/' + graph_name\n",
    "    with open(weightfile, 'rb') as f:\n",
    "        w = p.load(f)\n",
    "    graph = g.graph_from_pickle(graphfile+'.graph', graphfile+'.community')\n",
    "    e_norm = w[0]\n",
    "    xids, y_train = graph.gen_community(portition)\n",
    "    X = [e_norm[i] for i in xids]\n",
    "    predictor = LogisticRegression(max_iter=max_iter, n_jobs=2).fit(X, y_train)\n",
    "    y_true = [graph._communities[i] for i in graph.nodes()]\n",
    "    y_pred = [predictor.predict(e_norm[i].reshape(1,-1))[0] for i in graph.nodes()]\n",
    "    print('Experiment ', exp_id, ' ', graph_name)\n",
    "    print('f1_macro (emb): ', f1_score(y_true, y_pred, average='macro'))\n",
    "    print('f1_micro (emb): ', f1_score(y_true, y_pred, average='micro'))\n",
    "    return y_true, y_pred, e_norm, predictor, xids, y_train, graph\n",
    "    \n",
    "def lg_nce(exp_id, graph_name, portition=0.5, max_iter=1000):\n",
    "    weightfile = '../src/mane/prototype/embeddings/' + exp_id + '.weights'\n",
    "    graphfile = '../src/mane/data/' + graph_name\n",
    "    with open(weightfile, 'rb') as f:\n",
    "        w = p.load(f)\n",
    "    graph = g.graph_from_pickle(graphfile+'.graph', graphfile+'.community')\n",
    "    e_norm = normalize(w[2])\n",
    "    xids, y_train = graph.gen_community(portition)\n",
    "    X = [e_norm[i] for i in xids]\n",
    "    predictor = LogisticRegression(max_iter=max_iter, n_jobs=2).fit(X, y_train)\n",
    "    y_true = [graph._communities[i] for i in graph.nodes()]\n",
    "    y_pred = [predictor.predict(e_norm[i].reshape(1,-1))[0] for i in graph.nodes()]\n",
    "    print('Experiment ', exp_id, ' ', graph_name)\n",
    "    print('f1_macro (emb): ', f1_score(y_true, y_pred, average='macro'))\n",
    "    print('f1_micro (emb): ', f1_score(y_true, y_pred, average='micro'))\n",
    "    return y_true, y_pred, e_norm, predictor, xids, y_train, graph\n",
    "    \n",
    "def lg_average(exp_id, graph_name, portition=0.5, max_iter=1000):\n",
    "    weightfile = '../src/mane/prototype/embeddings/' + exp_id + '.weights'\n",
    "    graphfile = '../src/mane/data/' + graph_name\n",
    "    with open(weightfile, 'rb') as f:\n",
    "        w = p.load(f)\n",
    "    graph = g.graph_from_pickle(graphfile+'.graph', graphfile+'.community')\n",
    "    e_norm = (w[0]+w[1])/2\n",
    "    xids, y_train = graph.gen_community(portition)\n",
    "    X = [e_norm[i] for i in xids]\n",
    "    predictor = LogisticRegression(max_iter=max_iter, n_jobs=2).fit(X, y_train)\n",
    "    y_true = [graph._communities[i] for i in graph.nodes()]\n",
    "    y_pred = [predictor.predict(e_norm[i].reshape(1,-1))[0] for i in graph.nodes()]\n",
    "    print('Experiment ', exp_id, ' ', graph_name)\n",
    "    print('f1_macro (avg): ', f1_score(y_true, y_pred, average='macro'))\n",
    "    print('f1_micro (avg): ', f1_score(y_true, y_pred, average='micro'))\n",
    "    return y_true, y_pred, e_norm, predictor, xids, y_train, graph\n",
    "    \n",
    "def lg_all(exp_id, graph_name, portition=0.5, max_iter=1000):\n",
    "    weightfile = '../src/mane/prototype/embeddings/' + exp_id + '.weights'\n",
    "    graphfile = '../src/mane/data/' + graph_name\n",
    "    with open(weightfile, 'rb') as f:\n",
    "        w = p.load(f)\n",
    "    graph = g.graph_from_pickle(graphfile+'.graph', graphfile+'.community')\n",
    "    e_norm = normalize((w[0]+w[1]+w[2])/3)\n",
    "    xids, y_train = graph.gen_community(portition)\n",
    "    X = [e_norm[i] for i in xids]\n",
    "    predictor = LogisticRegression(max_iter=max_iter, n_jobs=2).fit(X, y_train)\n",
    "    y_true = [graph._communities[i] for i in graph.nodes()]\n",
    "    y_pred = [predictor.predict(e_norm[i].reshape(1,-1))[0] for i in graph.nodes()]\n",
    "    print('Experiment ', exp_id, ' ', graph_name)\n",
    "    print('f1_macro (avg): ', f1_score(y_true, y_pred, average='macro'))\n",
    "    print('f1_micro (avg): ', f1_score(y_true, y_pred, average='micro'))\n",
    "    return y_true, y_pred, e_norm, predictor, xids, y_train, graph"
   ]
  },
  {
   "cell_type": "code",
   "execution_count": 9,
   "metadata": {
    "collapsed": false
   },
   "outputs": [
    {
     "name": "stdout",
     "output_type": "stream",
     "text": [
      "Experiment  BC3021   blogcatalog3\n",
      "f1_macro (avg):  0.00484540632064\n",
      "f1_micro (avg):  0.104344453064\n"
     ]
    },
    {
     "name": "stderr",
     "output_type": "stream",
     "text": [
      "/home/hoangnt/anaconda3/lib/python3.5/site-packages/sklearn/metrics/classification.py:1074: UndefinedMetricWarning: F-score is ill-defined and being set to 0.0 in labels with no predicted samples.\n",
      "  'precision', 'predicted', average, warn_for)\n"
     ]
    }
   ],
   "source": [
    "lg_average('BC3021', 'blogcatalog3')"
   ]
  },
  {
   "cell_type": "code",
   "execution_count": 10,
   "metadata": {
    "collapsed": false
   },
   "outputs": [
    {
     "name": "stdout",
     "output_type": "stream",
     "text": [
      "Experiment  BC3021   blogcatalog3\n",
      "f1_macro (avg):  0.00598011775139\n",
      "f1_micro (avg):  0.104344453064\n"
     ]
    },
    {
     "name": "stderr",
     "output_type": "stream",
     "text": [
      "/home/hoangnt/anaconda3/lib/python3.5/site-packages/sklearn/metrics/classification.py:1074: UndefinedMetricWarning: F-score is ill-defined and being set to 0.0 in labels with no predicted samples.\n",
      "  'precision', 'predicted', average, warn_for)\n"
     ]
    }
   ],
   "source": [
    "lg_all('BC3021', 'blogcatalog3')"
   ]
  },
  {
   "cell_type": "code",
   "execution_count": 11,
   "metadata": {
    "collapsed": false
   },
   "outputs": [
    {
     "name": "stdout",
     "output_type": "stream",
     "text": [
      "Experiment  BC3023   blogcatalog3\n",
      "f1_macro (avg):  0.00484540632064\n",
      "f1_micro (avg):  0.104344453064\n"
     ]
    },
    {
     "name": "stderr",
     "output_type": "stream",
     "text": [
      "/home/hoangnt/anaconda3/lib/python3.5/site-packages/sklearn/metrics/classification.py:1074: UndefinedMetricWarning: F-score is ill-defined and being set to 0.0 in labels with no predicted samples.\n",
      "  'precision', 'predicted', average, warn_for)\n"
     ]
    }
   ],
   "source": [
    "lg_average('BC3023', 'blogcatalog3')"
   ]
  },
  {
   "cell_type": "code",
   "execution_count": 12,
   "metadata": {
    "collapsed": false
   },
   "outputs": [
    {
     "name": "stdout",
     "output_type": "stream",
     "text": [
      "Experiment  BC3023   blogcatalog3\n",
      "f1_macro (avg):  0.00688194384949\n",
      "f1_micro (avg):  0.104053529868\n"
     ]
    },
    {
     "name": "stderr",
     "output_type": "stream",
     "text": [
      "/home/hoangnt/anaconda3/lib/python3.5/site-packages/sklearn/metrics/classification.py:1074: UndefinedMetricWarning: F-score is ill-defined and being set to 0.0 in labels with no predicted samples.\n",
      "  'precision', 'predicted', average, warn_for)\n"
     ]
    }
   ],
   "source": [
    "lg_all('BC3023', 'blogcatalog3')"
   ]
  },
  {
   "cell_type": "code",
   "execution_count": 15,
   "metadata": {
    "collapsed": false
   },
   "outputs": [
    {
     "name": "stdout",
     "output_type": "stream",
     "text": [
      "Experiment  BC3023   blogcatalog3\n",
      "f1_macro (emb):  0.00484540632064\n",
      "f1_micro (emb):  0.104344453064\n"
     ]
    },
    {
     "name": "stderr",
     "output_type": "stream",
     "text": [
      "/home/hoangnt/anaconda3/lib/python3.5/site-packages/sklearn/metrics/classification.py:1074: UndefinedMetricWarning: F-score is ill-defined and being set to 0.0 in labels with no predicted samples.\n",
      "  'precision', 'predicted', average, warn_for)\n"
     ]
    }
   ],
   "source": [
    "lg_embeddings('BC3023', 'blogcatalog3')"
   ]
  },
  {
   "cell_type": "code",
   "execution_count": 14,
   "metadata": {
    "collapsed": false
   },
   "outputs": [
    {
     "name": "stdout",
     "output_type": "stream",
     "text": [
      "Experiment  BC3023   blogcatalog3\n",
      "f1_macro (emb):  0.0070864616913\n",
      "f1_micro (emb):  0.104441427463\n"
     ]
    },
    {
     "name": "stderr",
     "output_type": "stream",
     "text": [
      "/home/hoangnt/anaconda3/lib/python3.5/site-packages/sklearn/metrics/classification.py:1074: UndefinedMetricWarning: F-score is ill-defined and being set to 0.0 in labels with no predicted samples.\n",
      "  'precision', 'predicted', average, warn_for)\n"
     ]
    }
   ],
   "source": [
    "lg_nce('BC3023', 'blogcatalog3')"
   ]
  },
  {
   "cell_type": "code",
   "execution_count": 20,
   "metadata": {
    "collapsed": false
   },
   "outputs": [
    {
     "name": "stdout",
     "output_type": "stream",
     "text": [
      "Experiment  BC3003   blogcatalog3\n",
      "f1_macro (avg):  0.116740845038\n",
      "f1_micro (avg):  0.258921644686\n"
     ]
    },
    {
     "name": "stderr",
     "output_type": "stream",
     "text": [
      "/home/hoangnt/anaconda3/lib/python3.5/site-packages/sklearn/metrics/classification.py:1074: UndefinedMetricWarning: F-score is ill-defined and being set to 0.0 in labels with no predicted samples.\n",
      "  'precision', 'predicted', average, warn_for)\n"
     ]
    },
    {
     "name": "stdout",
     "output_type": "stream",
     "text": [
      "Experiment  BC3003   blogcatalog3\n",
      "f1_macro (avg):  0.115163291441\n",
      "f1_micro (avg):  0.252036462374\n",
      "Experiment  BC3003   blogcatalog3\n",
      "f1_macro (avg):  0.119866603526\n",
      "f1_micro (avg):  0.258145849496\n",
      "Experiment  BC3003   blogcatalog3\n",
      "f1_macro (avg):  0.115795405431\n",
      "f1_micro (avg):  0.258436772692\n",
      "Experiment  BC3003   blogcatalog3\n",
      "f1_macro (avg):  0.115583902707\n",
      "f1_micro (avg):  0.259697439876\n",
      "Experiment  BC3003   blogcatalog3\n",
      "f1_macro (avg):  0.114217090023\n",
      "f1_micro (avg):  0.255236617533\n",
      "Experiment  BC3003   blogcatalog3\n",
      "f1_macro (avg):  0.115176455722\n",
      "f1_micro (avg):  0.256206361521\n",
      "Experiment  BC3003   blogcatalog3\n",
      "f1_macro (avg):  0.109405997054\n",
      "f1_micro (avg):  0.253588052754\n",
      "Experiment  BC3003   blogcatalog3\n",
      "f1_macro (avg):  0.118284651023\n",
      "f1_micro (avg):  0.256691233514\n",
      "Experiment  BC3003   blogcatalog3\n",
      "f1_macro (avg):  0.117148492359\n",
      "f1_micro (avg):  0.257951900698\n"
     ]
    }
   ],
   "source": [
    "for _ in range(10):\n",
    "    lg_average('BC3003', 'blogcatalog3')"
   ]
  },
  {
   "cell_type": "code",
   "execution_count": 24,
   "metadata": {
    "collapsed": false
   },
   "outputs": [
    {
     "name": "stdout",
     "output_type": "stream",
     "text": [
      "Experiment  BC3003   blogcatalog3\n",
      "f1_macro (avg):  0.114492865125\n",
      "f1_micro (avg):  0.255527540729\n"
     ]
    },
    {
     "name": "stderr",
     "output_type": "stream",
     "text": [
      "/home/hoangnt/anaconda3/lib/python3.5/site-packages/sklearn/metrics/classification.py:1074: UndefinedMetricWarning: F-score is ill-defined and being set to 0.0 in labels with no predicted samples.\n",
      "  'precision', 'predicted', average, warn_for)\n"
     ]
    },
    {
     "name": "stdout",
     "output_type": "stream",
     "text": [
      "Experiment  BC3003   blogcatalog3\n",
      "f1_macro (avg):  0.118079182637\n",
      "f1_micro (avg):  0.258242823894\n",
      "Experiment  BC3003   blogcatalog3\n",
      "f1_macro (avg):  0.114348160228\n",
      "f1_micro (avg):  0.255527540729\n",
      "Experiment  BC3003   blogcatalog3\n",
      "f1_macro (avg):  0.114324856109\n",
      "f1_micro (avg):  0.258242823894\n",
      "Experiment  BC3003   blogcatalog3\n",
      "f1_macro (avg):  0.113367693185\n",
      "f1_micro (avg):  0.256303335919\n",
      "Experiment  BC3003   blogcatalog3\n",
      "f1_macro (avg):  0.112849965176\n",
      "f1_micro (avg):  0.258339798293\n",
      "Experiment  BC3003   blogcatalog3\n",
      "f1_macro (avg):  0.114462702368\n",
      "f1_micro (avg):  0.257660977502\n",
      "Experiment  BC3003   blogcatalog3\n",
      "f1_macro (avg):  0.112905631053\n",
      "f1_micro (avg):  0.256691233514\n",
      "Experiment  BC3003   blogcatalog3\n",
      "f1_macro (avg):  0.115086471157\n",
      "f1_micro (avg):  0.255721489527\n",
      "Experiment  BC3003   blogcatalog3\n",
      "f1_macro (avg):  0.112165410078\n",
      "f1_micro (avg):  0.254751745539\n"
     ]
    }
   ],
   "source": [
    "for _ in range(10):\n",
    "    lg_average('BC3003', 'blogcatalog3')"
   ]
  },
  {
   "cell_type": "code",
   "execution_count": 25,
   "metadata": {
    "collapsed": false
   },
   "outputs": [
    {
     "name": "stdout",
     "output_type": "stream",
     "text": [
      "Experiment  BC3003   blogcatalog3\n",
      "f1_macro (emb):  0.0897211308695\n",
      "f1_micro (emb):  0.230217222653\n"
     ]
    },
    {
     "name": "stderr",
     "output_type": "stream",
     "text": [
      "/home/hoangnt/anaconda3/lib/python3.5/site-packages/sklearn/metrics/classification.py:1074: UndefinedMetricWarning: F-score is ill-defined and being set to 0.0 in labels with no predicted samples.\n",
      "  'precision', 'predicted', average, warn_for)\n"
     ]
    },
    {
     "name": "stdout",
     "output_type": "stream",
     "text": [
      "Experiment  BC3003   blogcatalog3\n",
      "f1_macro (emb):  0.0880587371365\n",
      "f1_micro (emb):  0.230799069046\n",
      "Experiment  BC3003   blogcatalog3\n",
      "f1_macro (emb):  0.0899957295453\n",
      "f1_micro (emb):  0.230605120248\n",
      "Experiment  BC3003   blogcatalog3\n",
      "f1_macro (emb):  0.0872543169001\n",
      "f1_micro (emb):  0.227986811482\n",
      "Experiment  BC3003   blogcatalog3\n",
      "f1_macro (emb):  0.08967709717\n",
      "f1_micro (emb):  0.229829325058\n",
      "Experiment  BC3003   blogcatalog3\n",
      "f1_macro (emb):  0.0848275240609\n",
      "f1_micro (emb):  0.228568657874\n",
      "Experiment  BC3003   blogcatalog3\n",
      "f1_macro (emb):  0.0912150848083\n",
      "f1_micro (emb):  0.233320403413\n",
      "Experiment  BC3003   blogcatalog3\n",
      "f1_macro (emb):  0.086548012115\n",
      "f1_micro (emb):  0.229926299457\n",
      "Experiment  BC3003   blogcatalog3\n",
      "f1_macro (emb):  0.0893675469702\n",
      "f1_micro (emb):  0.234968968192\n",
      "Experiment  BC3003   blogcatalog3\n",
      "f1_macro (emb):  0.0861642632646\n",
      "f1_micro (emb):  0.227792862684\n"
     ]
    }
   ],
   "source": [
    "for _ in range(10):\n",
    "    lg_embeddings('BC3003', 'blogcatalog3')"
   ]
  },
  {
   "cell_type": "code",
   "execution_count": 27,
   "metadata": {
    "collapsed": false
   },
   "outputs": [
    {
     "name": "stdout",
     "output_type": "stream",
     "text": [
      "Experiment  BC3003   blogcatalog3\n",
      "f1_macro (emb):  0.134601815957\n",
      "f1_micro (emb):  0.257467028704\n"
     ]
    },
    {
     "name": "stderr",
     "output_type": "stream",
     "text": [
      "/home/hoangnt/anaconda3/lib/python3.5/site-packages/sklearn/metrics/classification.py:1074: UndefinedMetricWarning: F-score is ill-defined and being set to 0.0 in labels with no predicted samples.\n",
      "  'precision', 'predicted', average, warn_for)\n"
     ]
    },
    {
     "name": "stdout",
     "output_type": "stream",
     "text": [
      "Experiment  BC3003   blogcatalog3\n",
      "f1_macro (emb):  0.141062522922\n",
      "f1_micro (emb):  0.258339798293\n",
      "Experiment  BC3003   blogcatalog3\n",
      "f1_macro (emb):  0.140325718933\n",
      "f1_micro (emb):  0.255139643134\n",
      "Experiment  BC3003   blogcatalog3\n",
      "f1_macro (emb):  0.134998919531\n",
      "f1_micro (emb):  0.254751745539\n",
      "Experiment  BC3003   blogcatalog3\n",
      "f1_macro (emb):  0.139766097233\n",
      "f1_micro (emb):  0.256691233514\n",
      "Experiment  BC3003   blogcatalog3\n",
      "f1_macro (emb):  0.136630917426\n",
      "f1_micro (emb):  0.253297129558\n",
      "Experiment  BC3003   blogcatalog3\n",
      "f1_macro (emb):  0.135236987492\n",
      "f1_micro (emb):  0.251842513576\n",
      "Experiment  BC3003   blogcatalog3\n",
      "f1_macro (emb):  0.137346870654\n",
      "f1_micro (emb):  0.254266873545\n",
      "Experiment  BC3003   blogcatalog3\n",
      "f1_macro (emb):  0.134263648314\n",
      "f1_micro (emb):  0.252618308766\n",
      "Experiment  BC3003   blogcatalog3\n",
      "f1_macro (emb):  0.144334557\n",
      "f1_micro (emb):  0.259018619085\n"
     ]
    }
   ],
   "source": [
    "# Without normalize\n",
    "for _ in range(10):\n",
    "    lg_embeddings('BC3003', 'blogcatalog3')"
   ]
  },
  {
   "cell_type": "code",
   "execution_count": 29,
   "metadata": {
    "collapsed": false
   },
   "outputs": [
    {
     "name": "stdout",
     "output_type": "stream",
     "text": [
      "Experiment  BC3003   blogcatalog3\n",
      "f1_macro (avg):  0.178192558597\n",
      "f1_micro (avg):  0.265224980605\n"
     ]
    },
    {
     "name": "stderr",
     "output_type": "stream",
     "text": [
      "/home/hoangnt/anaconda3/lib/python3.5/site-packages/sklearn/metrics/classification.py:1074: UndefinedMetricWarning: F-score is ill-defined and being set to 0.0 in labels with no predicted samples.\n",
      "  'precision', 'predicted', average, warn_for)\n"
     ]
    },
    {
     "name": "stdout",
     "output_type": "stream",
     "text": [
      "Experiment  BC3003   blogcatalog3\n",
      "f1_macro (avg):  0.178745002153\n",
      "f1_micro (avg):  0.266679596587\n",
      "Experiment  BC3003   blogcatalog3\n",
      "f1_macro (avg):  0.17956735355\n",
      "f1_micro (avg):  0.263964313421\n",
      "Experiment  BC3003   blogcatalog3\n",
      "f1_macro (avg):  0.179860266833\n",
      "f1_micro (avg):  0.265515903801\n",
      "Experiment  BC3003   blogcatalog3\n",
      "f1_macro (avg):  0.190254386978\n",
      "f1_micro (avg):  0.272304111715\n",
      "Experiment  BC3003   blogcatalog3\n",
      "f1_macro (avg):  0.183516715114\n",
      "f1_micro (avg):  0.263188518231\n",
      "Experiment  BC3003   blogcatalog3\n",
      "f1_macro (avg):  0.180198587671\n",
      "f1_micro (avg):  0.264352211016\n",
      "Experiment  BC3003   blogcatalog3\n",
      "f1_macro (avg):  0.183452056769\n",
      "f1_micro (avg):  0.270752521334\n",
      "Experiment  BC3003   blogcatalog3\n",
      "f1_macro (avg):  0.177059570202\n",
      "f1_micro (avg):  0.269588828549\n",
      "Experiment  BC3003   blogcatalog3\n",
      "f1_macro (avg):  0.183716793887\n",
      "f1_micro (avg):  0.270655546936\n"
     ]
    }
   ],
   "source": [
    "# Without normalize\n",
    "for _ in range(10):\n",
    "    lg_average('BC3003', 'blogcatalog3')"
   ]
  },
  {
   "cell_type": "code",
   "execution_count": 31,
   "metadata": {
    "collapsed": false
   },
   "outputs": [
    {
     "name": "stdout",
     "output_type": "stream",
     "text": [
      "Experiment  BC3_deepwalk   blogcatalog3\n",
      "f1_macro (emb):  0.133393155358\n",
      "f1_micro (emb):  0.18202094647\n"
     ]
    },
    {
     "name": "stderr",
     "output_type": "stream",
     "text": [
      "/home/hoangnt/anaconda3/lib/python3.5/site-packages/sklearn/metrics/classification.py:1074: UndefinedMetricWarning: F-score is ill-defined and being set to 0.0 in labels with no predicted samples.\n",
      "  'precision', 'predicted', average, warn_for)\n"
     ]
    },
    {
     "name": "stdout",
     "output_type": "stream",
     "text": [
      "Experiment  BC3_deepwalk   blogcatalog3\n",
      "f1_macro (emb):  0.132795793602\n",
      "f1_micro (emb):  0.174941815361\n",
      "Experiment  BC3_deepwalk   blogcatalog3\n",
      "f1_macro (emb):  0.142408788018\n",
      "f1_micro (emb):  0.184154383243\n",
      "Experiment  BC3_deepwalk   blogcatalog3\n",
      "f1_macro (emb):  0.136570854176\n",
      "f1_micro (emb):  0.18434833204\n",
      "Experiment  BC3_deepwalk   blogcatalog3\n",
      "f1_macro (emb):  0.134709775616\n",
      "f1_micro (emb):  0.18589992242\n",
      "Experiment  BC3_deepwalk   blogcatalog3\n",
      "f1_macro (emb):  0.139331118753\n",
      "f1_micro (emb):  0.180275407292\n",
      "Experiment  BC3_deepwalk   blogcatalog3\n",
      "f1_macro (emb):  0.138096065305\n",
      "f1_micro (emb):  0.182893716059\n",
      "Experiment  BC3_deepwalk   blogcatalog3\n",
      "f1_macro (emb):  0.144102511059\n",
      "f1_micro (emb):  0.18434833204\n",
      "Experiment  BC3_deepwalk   blogcatalog3\n",
      "f1_macro (emb):  0.129880650721\n",
      "f1_micro (emb):  0.178044996121\n",
      "Experiment  BC3_deepwalk   blogcatalog3\n",
      "f1_macro (emb):  0.14928928421\n",
      "f1_micro (emb):  0.182214895268\n"
     ]
    }
   ],
   "source": [
    "# Without normalize - Check deepwalk\n",
    "for _ in range(10):\n",
    "    lg_embeddings('BC3_deepwalk', 'blogcatalog3')"
   ]
  },
  {
   "cell_type": "code",
   "execution_count": 37,
   "metadata": {
    "collapsed": false
   },
   "outputs": [
    {
     "name": "stdout",
     "output_type": "stream",
     "text": [
      "Experiment  BC3_node2vec   blogcatalog3\n",
      "f1_macro (avg):  0.00612179038282\n",
      "f1_micro (avg):  0.104247478666\n"
     ]
    },
    {
     "name": "stderr",
     "output_type": "stream",
     "text": [
      "/home/hoangnt/anaconda3/lib/python3.5/site-packages/sklearn/metrics/classification.py:1074: UndefinedMetricWarning: F-score is ill-defined and being set to 0.0 in labels with no predicted samples.\n",
      "  'precision', 'predicted', average, warn_for)\n"
     ]
    }
   ],
   "source": [
    "# Test embedding from node2vec without normalize\n",
    "\n",
    "exp_id = 'BC3_node2vec'\n",
    "graph_name = 'blogcatalog3'\n",
    "max_iter = 1000\n",
    "portition = 0.5\n",
    "weightfile = '../src/mane/prototype/embeddings/' + exp_id + '.weights'\n",
    "graphfile = '../src/mane/data/' + graph_name\n",
    "with open(weightfile, 'rb') as f:\n",
    "    w = p.load(f)\n",
    "graph = g.graph_from_pickle(graphfile+'.graph', graphfile+'.community')\n",
    "wl = np.ndarray(shape=(10313,128), dtype=np.float32)\n",
    "for i in graph.nodes():\n",
    "    wl[i][:] = w[i]\n",
    "e_norm = wl\n",
    "xids, y_train = graph.gen_community(portition)\n",
    "X = [e_norm[i] for i in xids]\n",
    "#predictor = LogisticRegression(max_iter=max_iter, n_jobs=2).fit(X, y_train)\n",
    "predictor = LogisticRegression(max_iter=max_iter, n_jobs=2).fit(X, y_train)\n",
    "y_true = [graph._communities[i] for i in graph.nodes()]\n",
    "y_pred = [predictor.predict(e_norm[i].reshape(1,-1))[0] for i in graph.nodes()]\n",
    "print('Experiment ', exp_id, ' ', graph_name)\n",
    "print('f1_macro (avg): ', f1_score(y_true, y_pred, average='macro'))\n",
    "print('f1_micro (avg): ', f1_score(y_true, y_pred, average='micro'))"
   ]
  },
  {
   "cell_type": "code",
   "execution_count": null,
   "metadata": {
    "collapsed": true
   },
   "outputs": [],
   "source": []
  }
 ],
 "metadata": {
  "kernelspec": {
   "display_name": "Python [Root]",
   "language": "python",
   "name": "Python [Root]"
  },
  "language_info": {
   "codemirror_mode": {
    "name": "ipython",
    "version": 3
   },
   "file_extension": ".py",
   "mimetype": "text/x-python",
   "name": "python",
   "nbconvert_exporter": "python",
   "pygments_lexer": "ipython3",
   "version": "3.5.2"
  }
 },
 "nbformat": 4,
 "nbformat_minor": 0
}
