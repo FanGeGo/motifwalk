{
 "cells": [
  {
   "cell_type": "markdown",
   "metadata": {},
   "source": [
    "# Blogcatalog friendship network"
   ]
  },
  {
   "cell_type": "code",
   "execution_count": 1,
   "metadata": {
    "collapsed": false
   },
   "outputs": [],
   "source": [
    "import networkx as nx\n",
    "import numpy as np\n",
    "import pickle as p\n",
    "from os import path\n",
    "from scipy.sparse import csr_matrix, lil_matrix\n",
    "from matplotlib import pyplot as plt\n",
    "%matplotlib inline\n",
    "\n",
    "data_loc = './../data/raw/BlogCatalog-dataset/data/'"
   ]
  },
  {
   "cell_type": "markdown",
   "metadata": {},
   "source": [
    "BlogCatalog is the social blog directory which manages the bloggers and their blogs. There are 10,312 bloggers with unique ids starting from 1 to 10,312 and 333,983 friendship pairs in this dataset. Each blogger belongs to multiple groups. There are 39 groups with indices ranging from 1 to 39. "
   ]
  },
  {
   "cell_type": "markdown",
   "metadata": {},
   "source": [
    "## Load data from edge list"
   ]
  },
  {
   "cell_type": "code",
   "execution_count": 2,
   "metadata": {
    "collapsed": false
   },
   "outputs": [
    {
     "name": "stdout",
     "output_type": "stream",
     "text": [
      "Dataset is found. Skip reading...\n"
     ]
    }
   ],
   "source": [
    "def maybe_load_data(data='./../data/blogcatalog.data'):\n",
    "    if path.exists(data):\n",
    "        print(\"Dataset is found. Skip reading...\")\n",
    "        with open(data, 'rb') as f:\n",
    "            return p.load(f)\n",
    "    else:\n",
    "        iid = {}\n",
    "        idx = 0\n",
    "        edgelist = []\n",
    "\n",
    "        # Read edges pairs\n",
    "        with open(data_loc+'edges.csv', 'r') as f:\n",
    "            for line in f.readlines():\n",
    "                i, j = line.strip().split(',')  # csv\n",
    "                if i not in iid:\n",
    "                    iid[i] = idx; idx += 1\n",
    "                if j not in iid:\n",
    "                    iid[j] = idx; idx += 1\n",
    "                edgelist.append((iid[i], iid[j]))\n",
    "\n",
    "        # Create an nx undirected network\n",
    "        bc = nx.Graph(edgelist)\n",
    "\n",
    "        print(\"Number of nodes: \", len(bc))\n",
    "        print(\"Number of edges: \", bc.size())\n",
    "    \n",
    "        # Read labels\n",
    "        lil_labels = lil_matrix((len(bc), 39), dtype=int)\n",
    "        # Read (node_id, label) file\n",
    "        with open(data_loc+'group-edges.csv', 'r') as f:\n",
    "            for line in f.readlines():\n",
    "                node, group = line.strip().split(',') \n",
    "                lil_labels[iid[node], int(group) - 1] = 1  # range(0,39)\n",
    "        \n",
    "        # Pack data\n",
    "        bc_dataset = {'NXGraph': bc, 'LILLabels': lil_labels}\n",
    "        with open('./../data/blogcatalog.data', 'wb') as f:\n",
    "            p.dump(bc_dataset, f)\n",
    "        return bc_dataset\n",
    "\n",
    "bc_dataset = maybe_load_data()"
   ]
  },
  {
   "cell_type": "markdown",
   "metadata": {},
   "source": [
    "## Load labels as a sparse matrix\n",
    "\n",
    "In the original dataset, the group index is in range 1 to 39. For computational convenient, I will convert the group ids to range 0-38."
   ]
  },
  {
   "cell_type": "code",
   "execution_count": 3,
   "metadata": {
    "collapsed": true
   },
   "outputs": [],
   "source": [
    "labels = bc_dataset['LILLabels']"
   ]
  },
  {
   "cell_type": "markdown",
   "metadata": {},
   "source": [
    "## Dump as edgelist\n",
    "\n",
    "Graph with new ids is needed for other algorithms."
   ]
  },
  {
   "cell_type": "code",
   "execution_count": 4,
   "metadata": {
    "collapsed": false
   },
   "outputs": [
    {
     "name": "stdout",
     "output_type": "stream",
     "text": [
      "Edge list file is found. Skip writing...\n"
     ]
    }
   ],
   "source": [
    "if not path.exists('./../data/blogcatalog.edges'):\n",
    "    nx.write_edgelist(bc, path='./../data/blogcatalog.edges', data=False)\n",
    "else:\n",
    "    print(\"Edge list file is found. Skip writing...\")"
   ]
  },
  {
   "cell_type": "markdown",
   "metadata": {},
   "source": [
    "## Graph analysis\n",
    "\n",
    "### Degree distribution"
   ]
  },
  {
   "cell_type": "code",
   "execution_count": 5,
   "metadata": {
    "collapsed": true
   },
   "outputs": [],
   "source": [
    "b = bc_dataset['NXGraph']"
   ]
  },
  {
   "cell_type": "code",
   "execution_count": 6,
   "metadata": {
    "collapsed": false
   },
   "outputs": [],
   "source": [
    "degree_list = sorted([b.degree(i) for i in b], reverse=True)"
   ]
  },
  {
   "cell_type": "markdown",
   "metadata": {},
   "source": [
    "Degree statistics:"
   ]
  },
  {
   "cell_type": "code",
   "execution_count": 7,
   "metadata": {
    "collapsed": false
   },
   "outputs": [
    {
     "name": "stdout",
     "output_type": "stream",
     "text": [
      "Maximum degree: 3992\n",
      "Minimum degree: 1\n",
      "Mean of degree distribution: 64.7756012412723\n",
      "Std variation of degree distribution: 177.6973696826509\n"
     ]
    }
   ],
   "source": [
    "print(\"Maximum degree: {}\".format(degree_list[0]))\n",
    "print(\"Minimum degree: {}\".format(degree_list[-1]))\n",
    "print(\"Mean of degree distribution: {}\".format(np.mean(degree_list)))\n",
    "print(\"Std variation of degree distribution: {}\".format(np.std(degree_list)))"
   ]
  },
  {
   "cell_type": "markdown",
   "metadata": {},
   "source": [
    "Degree distribution plot:"
   ]
  },
  {
   "cell_type": "code",
   "execution_count": 8,
   "metadata": {
    "collapsed": false
   },
   "outputs": [
    {
     "data": {
      "text/plain": [
       "<matplotlib.legend.Legend at 0x7f7961b687f0>"
      ]
     },
     "execution_count": 8,
     "metadata": {},
     "output_type": "execute_result"
    },
    {
     "data": {
      "image/png": "[encoded data removed]",
      "text/plain": [
       "<matplotlib.figure.Figure at 0x7f7961c09e10>"
      ]
     },
     "metadata": {},
     "output_type": "display_data"
    }
   ],
   "source": [
    "plt.subplot(111)\n",
    "plt.semilogy(degree_list)\n",
    "plt.title(\"BlogCatalog network degree distribution\")\n",
    "plt.ylabel(\"Log degree\")\n",
    "plt.xlabel(\"Nodes\")\n",
    "plt.legend([\"Log-scale degree\"])"
   ]
  },
  {
   "cell_type": "markdown",
   "metadata": {},
   "source": [
    "## Random walk plot"
   ]
  },
  {
   "cell_type": "code",
   "execution_count": 11,
   "metadata": {
    "collapsed": false
   },
   "outputs": [],
   "source": [
    "from sys import path\n",
    "path.append('./../src/')\n",
    "from walks import WalkGenerator\n",
    "from constrains import R, UTriangle, UWedge"
   ]
  },
  {
   "cell_type": "code",
   "execution_count": 10,
   "metadata": {
    "collapsed": false
   },
   "outputs": [
    {
     "ename": "NameError",
     "evalue": "name 'WalkGenerator' is not defined",
     "output_type": "error",
     "traceback": [
      "\u001b[0;31m---------------------------------------------------------------------------\u001b[0m",
      "\u001b[0;31mNameError\u001b[0m                                 Traceback (most recent call last)",
      "\u001b[0;32m<ipython-input-10-48c20050c0d6>\u001b[0m in \u001b[0;36m<module>\u001b[0;34m()\u001b[0m\n\u001b[0;32m----> 1\u001b[0;31m \u001b[0mrandom_walker\u001b[0m \u001b[0;34m=\u001b[0m \u001b[0mWalkGenerator\u001b[0m\u001b[0;34m(\u001b[0m\u001b[0mgraph\u001b[0m\u001b[0;34m=\u001b[0m\u001b[0mb\u001b[0m\u001b[0;34m,\u001b[0m \u001b[0mconstrain\u001b[0m\u001b[0;34m=\u001b[0m\u001b[0mR\u001b[0m\u001b[0;34m(\u001b[0m\u001b[0;34m)\u001b[0m\u001b[0;34m)\u001b[0m\u001b[0;34m\u001b[0m\u001b[0m\n\u001b[0m\u001b[1;32m      2\u001b[0m \u001b[0mbc_context\u001b[0m \u001b[0;34m=\u001b[0m \u001b[0;34m[\u001b[0m\u001b[0mi\u001b[0m \u001b[0;32mfor\u001b[0m \u001b[0mi\u001b[0m \u001b[0;32min\u001b[0m \u001b[0mrandom_walker\u001b[0m\u001b[0;34m(\u001b[0m\u001b[0mwalk_length\u001b[0m\u001b[0;34m=\u001b[0m\u001b[0;36m80\u001b[0m\u001b[0;34m,\u001b[0m \u001b[0mnum_walk\u001b[0m\u001b[0;34m=\u001b[0m\u001b[0;36m10\u001b[0m\u001b[0;34m)\u001b[0m\u001b[0;34m]\u001b[0m\u001b[0;34m\u001b[0m\u001b[0m\n",
      "\u001b[0;31mNameError\u001b[0m: name 'WalkGenerator' is not defined"
     ]
    }
   ],
   "source": [
    "random_walker = WalkGenerator(graph=b, constrain=R())\n",
    "bc_context = [i for i in random_walker(walk_length=80, num_walk=10)]"
   ]
  },
  {
   "cell_type": "code",
   "execution_count": 32,
   "metadata": {
    "collapsed": false
   },
   "outputs": [],
   "source": [
    "from collections import defaultdict as dd\n",
    "\n",
    "random_walk_node_freqs = dd(int)\n",
    "\n",
    "for node in bc_context[0]:  # random context\n",
    "    random_walk_node_freqs[node] += 1"
   ]
  },
  {
   "cell_type": "code",
   "execution_count": 33,
   "metadata": {
    "collapsed": false
   },
   "outputs": [
    {
     "data": {
      "text/plain": [
       "<matplotlib.text.Text at 0x7f8e02777a58>"
      ]
     },
     "execution_count": 33,
     "metadata": {},
     "output_type": "execute_result"
    },
    {
     "data": {
      "image/png": "[encoded data removed]",
      "text/plain": [
       "<matplotlib.figure.Figure at 0x7f8df68af860>"
      ]
     },
     "metadata": {},
     "output_type": "display_data"
    }
   ],
   "source": [
    "random_walk_node_hist = sorted(random_walk_node_freqs.values(), reverse=True)\n",
    "plt.subplot(111)\n",
    "plt.semilogy(random_walk_node_hist)\n",
    "plt.title(\"Blogcatalog random walk node frequency distribution\")\n",
    "plt.ylabel(\"Log node count\")\n",
    "plt.xlabel(\"Nodes\")"
   ]
  },
  {
   "cell_type": "code",
   "execution_count": 34,
   "metadata": {
    "collapsed": false
   },
   "outputs": [
    {
     "name": "stdout",
     "output_type": "stream",
     "text": [
      "Maximum frequency: 48922\n",
      "Minimum frequency: 10\n",
      "Mean of frequency distribution: 800.0\n",
      "Std variation of frequency distribution: 2184.091607937247\n"
     ]
    }
   ],
   "source": [
    "print(\"Maximum frequency: {}\".format(random_walk_node_hist[0]))\n",
    "print(\"Minimum frequency: {}\".format(random_walk_node_hist[-1]))\n",
    "print(\"Mean of frequency distribution: {}\".format(np.mean(random_walk_node_hist)))\n",
    "print(\"Std variation of frequency distribution: {}\".format(np.std(random_walk_node_hist)))"
   ]
  },
  {
   "cell_type": "code",
   "execution_count": 39,
   "metadata": {
    "collapsed": false
   },
   "outputs": [],
   "source": [
    "with open('../data/blogcatalog.random_context', 'w') as f:\n",
    "    for i in bc_context[0].reshape(-1, 80):\n",
    "        f.write(' '.join(map(str, i)) + '\\n')"
   ]
  },
  {
   "cell_type": "markdown",
   "metadata": {},
   "source": [
    "## Triangle motif walk plot"
   ]
  },
  {
   "cell_type": "code",
   "execution_count": 12,
   "metadata": {
    "collapsed": false
   },
   "outputs": [],
   "source": [
    "import time\n",
    "triangle_walker = WalkGenerator(graph=b, constrain=UTriangle())"
   ]
  },
  {
   "cell_type": "code",
   "execution_count": 16,
   "metadata": {
    "collapsed": false
   },
   "outputs": [
    {
     "name": "stdout",
     "output_type": "stream",
     "text": [
      "Walking total of 103120 walks, will yield every 8249600 nodes...\n"
     ]
    }
   ],
   "source": [
    "bc_triangle_context = [i for i in triangle_walker(walk_length=80, num_walk=10)]"
   ]
  },
  {
   "cell_type": "code",
   "execution_count": 17,
   "metadata": {
    "collapsed": true
   },
   "outputs": [],
   "source": [
    "from collections import defaultdict as dd\n",
    "\n",
    "triangle_walk_node_freqs = dd(int)\n",
    "\n",
    "for node in bc_triangle_context[0]:  # random context\n",
    "    triangle_walk_node_freqs[node] += 1"
   ]
  },
  {
   "cell_type": "code",
   "execution_count": 18,
   "metadata": {
    "collapsed": false
   },
   "outputs": [
    {
     "data": {
      "text/plain": [
       "<matplotlib.text.Text at 0x7f795c7e8dd8>"
      ]
     },
     "execution_count": 18,
     "metadata": {},
     "output_type": "execute_result"
    },
    {
     "data": {
      "image/png": "[encoded data removed]",
      "text/plain": [
       "<matplotlib.figure.Figure at 0x7f795c8593c8>"
      ]
     },
     "metadata": {},
     "output_type": "display_data"
    }
   ],
   "source": [
    "triangle_walk_node_hist = sorted(triangle_walk_node_freqs.values(), reverse=True)\n",
    "plt.subplot(111)\n",
    "plt.semilogy(triangle_walk_node_hist)\n",
    "plt.title(\"Blogcatalog triangle walk node frequency distribution\")\n",
    "plt.ylabel(\"Log node count\")\n",
    "plt.xlabel(\"Nodes\")"
   ]
  },
  {
   "cell_type": "code",
   "execution_count": 20,
   "metadata": {
    "collapsed": false
   },
   "outputs": [],
   "source": [
    "with open('../data/blogcatalog.triangle_context', 'w') as f:\n",
    "    for i in bc_triangle_context[0].reshape(-1, 80):\n",
    "        f.write(' '.join(map(str, i)) + '\\n')"
   ]
  },
  {
   "cell_type": "code",
   "execution_count": null,
   "metadata": {
    "collapsed": true
   },
   "outputs": [],
   "source": []
  }
 ],
 "metadata": {
  "anaconda-cloud": {},
  "kernelspec": {
   "display_name": "Python [conda env:network]",
   "language": "python",
   "name": "conda-env-network-py"
  },
  "language_info": {
   "codemirror_mode": {
    "name": "ipython",
    "version": 3
   },
   "file_extension": ".py",
   "mimetype": "text/x-python",
   "name": "python",
   "nbconvert_exporter": "python",
   "pygments_lexer": "ipython3",
   "version": "3.5.2"
  }
 },
 "nbformat": 4,
 "nbformat_minor": 2
}
