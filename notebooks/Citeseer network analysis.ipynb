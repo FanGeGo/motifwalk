{
 "cells": [
  {
   "cell_type": "markdown",
   "metadata": {},
   "source": [
    "# Citeseer citation network"
   ]
  },
  {
   "cell_type": "code",
   "execution_count": 1,
   "metadata": {
    "collapsed": false
   },
   "outputs": [],
   "source": [
    "import networkx as nx\n",
    "import numpy as np\n",
    "import pickle as p\n",
    "from matplotlib import pyplot as plt\n",
    "%matplotlib inline\n",
    "\n",
    "data_loc = './../data/raw/citeseer/'  # 'citeseer.cites', 'citeseer.content'"
   ]
  },
  {
   "cell_type": "markdown",
   "metadata": {},
   "source": [
    "Cora is a directed citation network of 3327 papers with link as citation (citing paper points to cited paper, the order in the edgelist is reversed). Each paper has one label (6 types of label in total). The labels are:\n",
    "\n",
    "- Agents\n",
    "- AI\n",
    "- DB\n",
    "- IR\n",
    "- ML\n",
    "- HCI\n",
    "\n",
    "Also, each papers has a binary feature vector of 3703 elements (word existance indicator) describing the content of the node. The end of each feature vector is the string label of the paper (e.g. AI or DB, etc.)."
   ]
  },
  {
   "cell_type": "markdown",
   "metadata": {},
   "source": [
    "## Load data from edge list"
   ]
  },
  {
   "cell_type": "code",
   "execution_count": 2,
   "metadata": {
    "collapsed": true
   },
   "outputs": [],
   "source": [
    "graph_file = open(data_loc+'citeseer.cites', 'r')"
   ]
  },
  {
   "cell_type": "markdown",
   "metadata": {},
   "source": [
    "Print the first 5 lines of the graph file:"
   ]
  },
  {
   "cell_type": "code",
   "execution_count": 3,
   "metadata": {
    "collapsed": false
   },
   "outputs": [
    {
     "name": "stdout",
     "output_type": "stream",
     "text": [
      "'100157\\t100157\\n'\n",
      "'100157\\t364207\\n'\n",
      "'100157\\t38848\\n'\n",
      "'100157\\tbradshaw97introduction\\n'\n",
      "'100157\\tbylund99coordinating\\n'\n"
     ]
    }
   ],
   "source": [
    "for _ in range(5): print(repr(graph_file.readline()))"
   ]
  },
  {
   "cell_type": "markdown",
   "metadata": {},
   "source": [
    "Since the identifiers of nodes are strings, I would like to convert them to a range of integers ranging from 0 to 3311."
   ]
  },
  {
   "cell_type": "code",
   "execution_count": 4,
   "metadata": {
    "collapsed": false
   },
   "outputs": [],
   "source": [
    "graph_file.seek(0)\n",
    "iid = {}  # Integer id conversion dict\n",
    "idx = 0\n",
    "citeseer_edgelist = []\n",
    "for line in graph_file.readlines():\n",
    "    i, j = line.split()\n",
    "    if i not in iid:\n",
    "        iid[i] = idx\n",
    "        idx += 1\n",
    "    if j not in iid:\n",
    "        iid[j] = idx\n",
    "        idx += 1\n",
    "    citeseer_edgelist.append((iid[j],iid[i]))  # Correct direction of links"
   ]
  },
  {
   "cell_type": "code",
   "execution_count": 5,
   "metadata": {
    "collapsed": false
   },
   "outputs": [
    {
     "name": "stdout",
     "output_type": "stream",
     "text": [
      "Number of edges: 4732\n"
     ]
    }
   ],
   "source": [
    "print(\"Number of edges:\", len(citeseer_edgelist))"
   ]
  },
  {
   "cell_type": "code",
   "execution_count": 6,
   "metadata": {
    "collapsed": true
   },
   "outputs": [],
   "source": [
    "citeseer = nx.DiGraph(citeseer_edgelist)"
   ]
  },
  {
   "cell_type": "code",
   "execution_count": 7,
   "metadata": {
    "collapsed": false
   },
   "outputs": [
    {
     "name": "stdout",
     "output_type": "stream",
     "text": [
      "Number of nodes: 3327\n"
     ]
    }
   ],
   "source": [
    "print(\"Number of nodes:\", len(citeseer))"
   ]
  },
  {
   "cell_type": "code",
   "execution_count": 8,
   "metadata": {
    "collapsed": false
   },
   "outputs": [
    {
     "data": {
      "text/plain": [
       "3327"
      ]
     },
     "execution_count": 8,
     "metadata": {},
     "output_type": "execute_result"
    }
   ],
   "source": [
    "len(iid)"
   ]
  },
  {
   "cell_type": "code",
   "execution_count": 9,
   "metadata": {
    "collapsed": true
   },
   "outputs": [],
   "source": [
    "graph_file.close()"
   ]
  },
  {
   "cell_type": "markdown",
   "metadata": {},
   "source": [
    "## Load labels and features"
   ]
  },
  {
   "cell_type": "code",
   "execution_count": 15,
   "metadata": {
    "collapsed": false
   },
   "outputs": [
    {
     "name": "stdout",
     "output_type": "stream",
     "text": [
      "Validation for `citeseer_labels` and `citeseer_features` passes.\n"
     ]
    }
   ],
   "source": [
    "# Prepare data arrays and labels lookup table\n",
    "citeseer_labels = np.ndarray(shape=(len(iid)), dtype=int)\n",
    "citeseer_features = np.ndarray(shape=(len(iid), 3703), dtype=int)\n",
    "labels = {'Agents': 0, 'AI': 1, 'DB': 2, 'IR': 3, 'ML': 4, 'HCI': 5}\n",
    "\n",
    "# Read data\n",
    "with open(data_loc+'citeseer.content', 'r') as f:\n",
    "    for line in f.readlines():\n",
    "        oid, *data, label = line.split()\n",
    "        citeseer_labels[iid[oid]] = labels[label]\n",
    "        citeseer_features[iid[oid],:] = list(map(int, data))\n",
    "    \n",
    "# Validation\n",
    "with open(data_loc+'citeseer.content', 'r') as f:\n",
    "    for line in f.readlines():\n",
    "        oid, *data, label = line.split()\n",
    "        assert citeseer_labels[iid[oid]] == labels[label]\n",
    "        assert sum(citeseer_features[iid[oid]]) == sum(map(int, data))\n",
    "    print(\"Validation for `citeseer_labels` and `citeseer_features` passes.\")\n",
    "        "
   ]
  },
  {
   "cell_type": "code",
   "execution_count": 16,
   "metadata": {
    "collapsed": false
   },
   "outputs": [
    {
     "name": "stdout",
     "output_type": "stream",
     "text": [
      "Feature shape:  (3327, 3703)\n",
      "Label shape:  (3327,)\n"
     ]
    }
   ],
   "source": [
    "print(\"Feature shape: \", citeseer_features.shape)\n",
    "print(\"Label shape: \", citeseer_labels.shape)"
   ]
  },
  {
   "cell_type": "markdown",
   "metadata": {},
   "source": [
    "Convert features to sparse format and dump the data as pickle file:"
   ]
  },
  {
   "cell_type": "code",
   "execution_count": 17,
   "metadata": {
    "collapsed": true
   },
   "outputs": [],
   "source": [
    "from scipy.sparse import csr_matrix\n",
    "citeseer_csr_features = csr_matrix(citeseer_features)\n",
    "citeseer_dataset = {'NXGraph': citeseer, 'Labels': citeseer_labels, \n",
    "                    'CSRFeatures': citeseer_csr_features}\n",
    "with open('./../data/citeseer.data', 'wb') as f:\n",
    "    p.dump(citeseer_dataset, f)"
   ]
  },
  {
   "cell_type": "code",
   "execution_count": null,
   "metadata": {
    "collapsed": true
   },
   "outputs": [],
   "source": []
  }
 ],
 "metadata": {
  "anaconda-cloud": {},
  "kernelspec": {
   "display_name": "Python [conda env:network]",
   "language": "python",
   "name": "conda-env-network-py"
  },
  "language_info": {
   "codemirror_mode": {
    "name": "ipython",
    "version": 3
   },
   "file_extension": ".py",
   "mimetype": "text/x-python",
   "name": "python",
   "nbconvert_exporter": "python",
   "pygments_lexer": "ipython3",
   "version": "3.5.2"
  }
 },
 "nbformat": 4,
 "nbformat_minor": 2
}
